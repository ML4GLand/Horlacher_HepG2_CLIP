{
 "cells": [
  {
   "cell_type": "markdown",
   "id": "2b6fb070-2c4a-4bc7-a537-90400b551c8a",
   "metadata": {},
   "source": [
    "# Set-up"
   ]
  },
  {
   "cell_type": "code",
   "execution_count": 1,
   "id": "779afecd-2201-40d0-80a5-dda295254f02",
   "metadata": {
    "execution": {
     "iopub.execute_input": "2023-12-28T18:05:02.330807Z",
     "iopub.status.busy": "2023-12-28T18:05:02.330506Z",
     "iopub.status.idle": "2023-12-28T18:05:33.800276Z",
     "shell.execute_reply": "2023-12-28T18:05:33.799831Z",
     "shell.execute_reply.started": "2023-12-28T18:05:02.330779Z"
    },
    "tags": []
   },
   "outputs": [
    {
     "name": "stdout",
     "output_type": "stream",
     "text": [
      "The history saving thread hit an unexpected error (DatabaseError('database disk image is malformed')).History will not be written to the database.\n"
     ]
    }
   ],
   "source": [
    "import os\n",
    "import sys\n",
    "import torch\n",
    "import numpy as np\n",
    "\n",
    "sys.path.append(\"/cellar/users/aklie/data/datasets/Horlacher_HepG2_CLIP/bin/model_training\")\n",
    "from RBPNet import RBPNet\n",
    "from losses import rbpnet_loss\n",
    "from metrics import rbpnet_metrics\n",
    "from module import Module\n",
    "from dataload import DataloaderWrapper\n",
    "\n",
    "import seqpro as sp\n",
    "import seqdata as sd\n",
    "from eugene import preprocess as pp"
   ]
  },
  {
   "cell_type": "code",
   "execution_count": 2,
   "id": "a95c65e8-4573-40b6-b87c-2aa6638c2f90",
   "metadata": {
    "execution": {
     "iopub.execute_input": "2023-12-28T18:05:33.806409Z",
     "iopub.status.busy": "2023-12-28T18:05:33.806235Z",
     "iopub.status.idle": "2023-12-28T18:05:33.808700Z",
     "shell.execute_reply": "2023-12-28T18:05:33.808263Z",
     "shell.execute_reply.started": "2023-12-28T18:05:33.806392Z"
    },
    "tags": []
   },
   "outputs": [],
   "source": [
    "# Paths\n",
    "data_dir = \"/cellar/users/aklie/data/datasets/Horlacher_HepG2_CLIP/training/2024_07_19/HepG2/AGGF1/\"\n",
    "log_dir = \"/cellar/users/aklie/data/datasets/Horlacher_HepG2_CLIP/models/2024_07_19/AGGF1/v1\""
   ]
  },
  {
   "cell_type": "markdown",
   "id": "93ad5df1-14d7-49e5-a198-ade38f556522",
   "metadata": {},
   "source": [
    "# Data"
   ]
  },
  {
   "cell_type": "code",
   "execution_count": 3,
   "id": "098fa74a-7c32-4743-9d0f-7e88cc7a1fae",
   "metadata": {
    "execution": {
     "iopub.execute_input": "2023-12-28T18:05:33.809580Z",
     "iopub.status.busy": "2023-12-28T18:05:33.809296Z",
     "iopub.status.idle": "2023-12-28T18:05:34.604125Z",
     "shell.execute_reply": "2023-12-28T18:05:34.603682Z",
     "shell.execute_reply.started": "2023-12-28T18:05:33.809559Z"
    },
    "tags": []
   },
   "outputs": [],
   "source": [
    "# Data\n",
    "train_sdata = sd.open_zarr(os.path.join(data_dir, 'train.zarr')).load()\n",
    "valid_sdata = sd.open_zarr(os.path.join(data_dir, 'valid.zarr')).load()"
   ]
  },
  {
   "cell_type": "code",
   "execution_count": 4,
   "id": "42c1d5aa",
   "metadata": {},
   "outputs": [
    {
     "data": {
      "text/html": [
       "<div><svg style=\"position: absolute; width: 0; height: 0; overflow: hidden\">\n",
       "<defs>\n",
       "<symbol id=\"icon-database\" viewBox=\"0 0 32 32\">\n",
       "<path d=\"M16 0c-8.837 0-16 2.239-16 5v4c0 2.761 7.163 5 16 5s16-2.239 16-5v-4c0-2.761-7.163-5-16-5z\"></path>\n",
       "<path d=\"M16 17c-8.837 0-16-2.239-16-5v6c0 2.761 7.163 5 16 5s16-2.239 16-5v-6c0 2.761-7.163 5-16 5z\"></path>\n",
       "<path d=\"M16 26c-8.837 0-16-2.239-16-5v6c0 2.761 7.163 5 16 5s16-2.239 16-5v-6c0 2.761-7.163 5-16 5z\"></path>\n",
       "</symbol>\n",
       "<symbol id=\"icon-file-text2\" viewBox=\"0 0 32 32\">\n",
       "<path d=\"M28.681 7.159c-0.694-0.947-1.662-2.053-2.724-3.116s-2.169-2.030-3.116-2.724c-1.612-1.182-2.393-1.319-2.841-1.319h-15.5c-1.378 0-2.5 1.121-2.5 2.5v27c0 1.378 1.122 2.5 2.5 2.5h23c1.378 0 2.5-1.122 2.5-2.5v-19.5c0-0.448-0.137-1.23-1.319-2.841zM24.543 5.457c0.959 0.959 1.712 1.825 2.268 2.543h-4.811v-4.811c0.718 0.556 1.584 1.309 2.543 2.268zM28 29.5c0 0.271-0.229 0.5-0.5 0.5h-23c-0.271 0-0.5-0.229-0.5-0.5v-27c0-0.271 0.229-0.5 0.5-0.5 0 0 15.499-0 15.5 0v7c0 0.552 0.448 1 1 1h7v19.5z\"></path>\n",
       "<path d=\"M23 26h-14c-0.552 0-1-0.448-1-1s0.448-1 1-1h14c0.552 0 1 0.448 1 1s-0.448 1-1 1z\"></path>\n",
       "<path d=\"M23 22h-14c-0.552 0-1-0.448-1-1s0.448-1 1-1h14c0.552 0 1 0.448 1 1s-0.448 1-1 1z\"></path>\n",
       "<path d=\"M23 18h-14c-0.552 0-1-0.448-1-1s0.448-1 1-1h14c0.552 0 1 0.448 1 1s-0.448 1-1 1z\"></path>\n",
       "</symbol>\n",
       "</defs>\n",
       "</svg>\n",
       "<style>/* CSS stylesheet for displaying xarray objects in jupyterlab.\n",
       " *\n",
       " */\n",
       "\n",
       ":root {\n",
       "  --xr-font-color0: var(--jp-content-font-color0, rgba(0, 0, 0, 1));\n",
       "  --xr-font-color2: var(--jp-content-font-color2, rgba(0, 0, 0, 0.54));\n",
       "  --xr-font-color3: var(--jp-content-font-color3, rgba(0, 0, 0, 0.38));\n",
       "  --xr-border-color: var(--jp-border-color2, #e0e0e0);\n",
       "  --xr-disabled-color: var(--jp-layout-color3, #bdbdbd);\n",
       "  --xr-background-color: var(--jp-layout-color0, white);\n",
       "  --xr-background-color-row-even: var(--jp-layout-color1, white);\n",
       "  --xr-background-color-row-odd: var(--jp-layout-color2, #eeeeee);\n",
       "}\n",
       "\n",
       "html[theme=dark],\n",
       "body[data-theme=dark],\n",
       "body.vscode-dark {\n",
       "  --xr-font-color0: rgba(255, 255, 255, 1);\n",
       "  --xr-font-color2: rgba(255, 255, 255, 0.54);\n",
       "  --xr-font-color3: rgba(255, 255, 255, 0.38);\n",
       "  --xr-border-color: #1F1F1F;\n",
       "  --xr-disabled-color: #515151;\n",
       "  --xr-background-color: #111111;\n",
       "  --xr-background-color-row-even: #111111;\n",
       "  --xr-background-color-row-odd: #313131;\n",
       "}\n",
       "\n",
       ".xr-wrap {\n",
       "  display: block !important;\n",
       "  min-width: 300px;\n",
       "  max-width: 700px;\n",
       "}\n",
       "\n",
       ".xr-text-repr-fallback {\n",
       "  /* fallback to plain text repr when CSS is not injected (untrusted notebook) */\n",
       "  display: none;\n",
       "}\n",
       "\n",
       ".xr-header {\n",
       "  padding-top: 6px;\n",
       "  padding-bottom: 6px;\n",
       "  margin-bottom: 4px;\n",
       "  border-bottom: solid 1px var(--xr-border-color);\n",
       "}\n",
       "\n",
       ".xr-header > div,\n",
       ".xr-header > ul {\n",
       "  display: inline;\n",
       "  margin-top: 0;\n",
       "  margin-bottom: 0;\n",
       "}\n",
       "\n",
       ".xr-obj-type,\n",
       ".xr-array-name {\n",
       "  margin-left: 2px;\n",
       "  margin-right: 10px;\n",
       "}\n",
       "\n",
       ".xr-obj-type {\n",
       "  color: var(--xr-font-color2);\n",
       "}\n",
       "\n",
       ".xr-sections {\n",
       "  padding-left: 0 !important;\n",
       "  display: grid;\n",
       "  grid-template-columns: 150px auto auto 1fr 20px 20px;\n",
       "}\n",
       "\n",
       ".xr-section-item {\n",
       "  display: contents;\n",
       "}\n",
       "\n",
       ".xr-section-item input {\n",
       "  display: none;\n",
       "}\n",
       "\n",
       ".xr-section-item input + label {\n",
       "  color: var(--xr-disabled-color);\n",
       "}\n",
       "\n",
       ".xr-section-item input:enabled + label {\n",
       "  cursor: pointer;\n",
       "  color: var(--xr-font-color2);\n",
       "}\n",
       "\n",
       ".xr-section-item input:enabled + label:hover {\n",
       "  color: var(--xr-font-color0);\n",
       "}\n",
       "\n",
       ".xr-section-summary {\n",
       "  grid-column: 1;\n",
       "  color: var(--xr-font-color2);\n",
       "  font-weight: 500;\n",
       "}\n",
       "\n",
       ".xr-section-summary > span {\n",
       "  display: inline-block;\n",
       "  padding-left: 0.5em;\n",
       "}\n",
       "\n",
       ".xr-section-summary-in:disabled + label {\n",
       "  color: var(--xr-font-color2);\n",
       "}\n",
       "\n",
       ".xr-section-summary-in + label:before {\n",
       "  display: inline-block;\n",
       "  content: '►';\n",
       "  font-size: 11px;\n",
       "  width: 15px;\n",
       "  text-align: center;\n",
       "}\n",
       "\n",
       ".xr-section-summary-in:disabled + label:before {\n",
       "  color: var(--xr-disabled-color);\n",
       "}\n",
       "\n",
       ".xr-section-summary-in:checked + label:before {\n",
       "  content: '▼';\n",
       "}\n",
       "\n",
       ".xr-section-summary-in:checked + label > span {\n",
       "  display: none;\n",
       "}\n",
       "\n",
       ".xr-section-summary,\n",
       ".xr-section-inline-details {\n",
       "  padding-top: 4px;\n",
       "  padding-bottom: 4px;\n",
       "}\n",
       "\n",
       ".xr-section-inline-details {\n",
       "  grid-column: 2 / -1;\n",
       "}\n",
       "\n",
       ".xr-section-details {\n",
       "  display: none;\n",
       "  grid-column: 1 / -1;\n",
       "  margin-bottom: 5px;\n",
       "}\n",
       "\n",
       ".xr-section-summary-in:checked ~ .xr-section-details {\n",
       "  display: contents;\n",
       "}\n",
       "\n",
       ".xr-array-wrap {\n",
       "  grid-column: 1 / -1;\n",
       "  display: grid;\n",
       "  grid-template-columns: 20px auto;\n",
       "}\n",
       "\n",
       ".xr-array-wrap > label {\n",
       "  grid-column: 1;\n",
       "  vertical-align: top;\n",
       "}\n",
       "\n",
       ".xr-preview {\n",
       "  color: var(--xr-font-color3);\n",
       "}\n",
       "\n",
       ".xr-array-preview,\n",
       ".xr-array-data {\n",
       "  padding: 0 5px !important;\n",
       "  grid-column: 2;\n",
       "}\n",
       "\n",
       ".xr-array-data,\n",
       ".xr-array-in:checked ~ .xr-array-preview {\n",
       "  display: none;\n",
       "}\n",
       "\n",
       ".xr-array-in:checked ~ .xr-array-data,\n",
       ".xr-array-preview {\n",
       "  display: inline-block;\n",
       "}\n",
       "\n",
       ".xr-dim-list {\n",
       "  display: inline-block !important;\n",
       "  list-style: none;\n",
       "  padding: 0 !important;\n",
       "  margin: 0;\n",
       "}\n",
       "\n",
       ".xr-dim-list li {\n",
       "  display: inline-block;\n",
       "  padding: 0;\n",
       "  margin: 0;\n",
       "}\n",
       "\n",
       ".xr-dim-list:before {\n",
       "  content: '(';\n",
       "}\n",
       "\n",
       ".xr-dim-list:after {\n",
       "  content: ')';\n",
       "}\n",
       "\n",
       ".xr-dim-list li:not(:last-child):after {\n",
       "  content: ',';\n",
       "  padding-right: 5px;\n",
       "}\n",
       "\n",
       ".xr-has-index {\n",
       "  font-weight: bold;\n",
       "}\n",
       "\n",
       ".xr-var-list,\n",
       ".xr-var-item {\n",
       "  display: contents;\n",
       "}\n",
       "\n",
       ".xr-var-item > div,\n",
       ".xr-var-item label,\n",
       ".xr-var-item > .xr-var-name span {\n",
       "  background-color: var(--xr-background-color-row-even);\n",
       "  margin-bottom: 0;\n",
       "}\n",
       "\n",
       ".xr-var-item > .xr-var-name:hover span {\n",
       "  padding-right: 5px;\n",
       "}\n",
       "\n",
       ".xr-var-list > li:nth-child(odd) > div,\n",
       ".xr-var-list > li:nth-child(odd) > label,\n",
       ".xr-var-list > li:nth-child(odd) > .xr-var-name span {\n",
       "  background-color: var(--xr-background-color-row-odd);\n",
       "}\n",
       "\n",
       ".xr-var-name {\n",
       "  grid-column: 1;\n",
       "}\n",
       "\n",
       ".xr-var-dims {\n",
       "  grid-column: 2;\n",
       "}\n",
       "\n",
       ".xr-var-dtype {\n",
       "  grid-column: 3;\n",
       "  text-align: right;\n",
       "  color: var(--xr-font-color2);\n",
       "}\n",
       "\n",
       ".xr-var-preview {\n",
       "  grid-column: 4;\n",
       "}\n",
       "\n",
       ".xr-index-preview {\n",
       "  grid-column: 2 / 5;\n",
       "  color: var(--xr-font-color2);\n",
       "}\n",
       "\n",
       ".xr-var-name,\n",
       ".xr-var-dims,\n",
       ".xr-var-dtype,\n",
       ".xr-preview,\n",
       ".xr-attrs dt {\n",
       "  white-space: nowrap;\n",
       "  overflow: hidden;\n",
       "  text-overflow: ellipsis;\n",
       "  padding-right: 10px;\n",
       "}\n",
       "\n",
       ".xr-var-name:hover,\n",
       ".xr-var-dims:hover,\n",
       ".xr-var-dtype:hover,\n",
       ".xr-attrs dt:hover {\n",
       "  overflow: visible;\n",
       "  width: auto;\n",
       "  z-index: 1;\n",
       "}\n",
       "\n",
       ".xr-var-attrs,\n",
       ".xr-var-data,\n",
       ".xr-index-data {\n",
       "  display: none;\n",
       "  background-color: var(--xr-background-color) !important;\n",
       "  padding-bottom: 5px !important;\n",
       "}\n",
       "\n",
       ".xr-var-attrs-in:checked ~ .xr-var-attrs,\n",
       ".xr-var-data-in:checked ~ .xr-var-data,\n",
       ".xr-index-data-in:checked ~ .xr-index-data {\n",
       "  display: block;\n",
       "}\n",
       "\n",
       ".xr-var-data > table {\n",
       "  float: right;\n",
       "}\n",
       "\n",
       ".xr-var-name span,\n",
       ".xr-var-data,\n",
       ".xr-index-name div,\n",
       ".xr-index-data,\n",
       ".xr-attrs {\n",
       "  padding-left: 25px !important;\n",
       "}\n",
       "\n",
       ".xr-attrs,\n",
       ".xr-var-attrs,\n",
       ".xr-var-data,\n",
       ".xr-index-data {\n",
       "  grid-column: 1 / -1;\n",
       "}\n",
       "\n",
       "dl.xr-attrs {\n",
       "  padding: 0;\n",
       "  margin: 0;\n",
       "  display: grid;\n",
       "  grid-template-columns: 125px auto;\n",
       "}\n",
       "\n",
       ".xr-attrs dt,\n",
       ".xr-attrs dd {\n",
       "  padding: 0;\n",
       "  margin: 0;\n",
       "  float: left;\n",
       "  padding-right: 10px;\n",
       "  width: auto;\n",
       "}\n",
       "\n",
       ".xr-attrs dt {\n",
       "  font-weight: normal;\n",
       "  grid-column: 1;\n",
       "}\n",
       "\n",
       ".xr-attrs dt:hover span {\n",
       "  display: inline-block;\n",
       "  background: var(--xr-background-color);\n",
       "  padding-right: 10px;\n",
       "}\n",
       "\n",
       ".xr-attrs dd {\n",
       "  grid-column: 2;\n",
       "  white-space: pre-wrap;\n",
       "  word-break: break-all;\n",
       "}\n",
       "\n",
       ".xr-icon-database,\n",
       ".xr-icon-file-text2,\n",
       ".xr-no-icon {\n",
       "  display: inline-block;\n",
       "  vertical-align: middle;\n",
       "  width: 1em;\n",
       "  height: 1.5em !important;\n",
       "  stroke-width: 0;\n",
       "  stroke: currentColor;\n",
       "  fill: currentColor;\n",
       "}\n",
       "</style><pre class='xr-text-repr-fallback'>&lt;xarray.Dataset&gt;\n",
       "Dimensions:     (_sequence: 31211, _length: 364)\n",
       "Dimensions without coordinates: _sequence, _length\n",
       "Data variables: (12/13)\n",
       "    chrom       (_sequence) object &#x27;chr3&#x27; &#x27;chr3&#x27; &#x27;chr3&#x27; ... &#x27;chr22&#x27; &#x27;chr22&#x27;\n",
       "    chromEnd    (_sequence) int64 4980186 4980248 9434670 ... 50463547 50463597\n",
       "    chromStart  (_sequence) int64 4979822 4979884 9434306 ... 50463183 50463233\n",
       "    control     (_sequence, _length) float32 0.0 0.0 0.0 0.0 ... 0.0 0.0 0.0 0.0\n",
       "    name        (_sequence) object &#x27;ENSG00000134107.5&#x27; ... &#x27;ENSG00000100241.22&#x27;\n",
       "    score       (_sequence) float64 2.0 2.0 1.0 1.0 1.0 ... 2.0 2.0 2.0 2.0 2.0\n",
       "    ...          ...\n",
       "    signal      (_sequence, _length) float32 1.0 0.0 0.0 0.0 ... 0.0 0.0 0.0 0.0\n",
       "    strand      (_sequence) object &#x27;+&#x27; &#x27;+&#x27; &#x27;+&#x27; &#x27;+&#x27; &#x27;+&#x27; ... &#x27;-&#x27; &#x27;-&#x27; &#x27;-&#x27; &#x27;-&#x27; &#x27;-&#x27;\n",
       "    thickEnd    (_sequence) int64 0 0 0 0 0 0 0 0 0 0 0 ... 0 0 0 0 0 0 0 0 0 0\n",
       "    thickStart  (_sequence) int64 19 19 48 38 16 55 77 ... 29 18 37 18 29 15 20\n",
       "    train_test  (_sequence) bool True True True True ... True True True True\n",
       "    train_val   (_sequence) bool True True True True ... True True True True\n",
       "Attributes:\n",
       "    length_dim:    _length\n",
       "    max_jitter:    32\n",
       "    sequence_dim:  _sequence</pre><div class='xr-wrap' style='display:none'><div class='xr-header'><div class='xr-obj-type'>xarray.Dataset</div></div><ul class='xr-sections'><li class='xr-section-item'><input id='section-576d77c9-1007-4bc4-abba-5a9ee3ae7e12' class='xr-section-summary-in' type='checkbox' disabled ><label for='section-576d77c9-1007-4bc4-abba-5a9ee3ae7e12' class='xr-section-summary'  title='Expand/collapse section'>Dimensions:</label><div class='xr-section-inline-details'><ul class='xr-dim-list'><li><span>_sequence</span>: 31211</li><li><span>_length</span>: 364</li></ul></div><div class='xr-section-details'></div></li><li class='xr-section-item'><input id='section-78dc50f3-27ef-4f9b-8acc-92146f8877d8' class='xr-section-summary-in' type='checkbox' disabled ><label for='section-78dc50f3-27ef-4f9b-8acc-92146f8877d8' class='xr-section-summary'  title='Expand/collapse section'>Coordinates: <span>(0)</span></label><div class='xr-section-inline-details'></div><div class='xr-section-details'><ul class='xr-var-list'></ul></div></li><li class='xr-section-item'><input id='section-758941eb-1efc-4ea5-8358-f1b87ffd08d4' class='xr-section-summary-in' type='checkbox'  checked><label for='section-758941eb-1efc-4ea5-8358-f1b87ffd08d4' class='xr-section-summary' >Data variables: <span>(13)</span></label><div class='xr-section-inline-details'></div><div class='xr-section-details'><ul class='xr-var-list'><li class='xr-var-item'><div class='xr-var-name'><span>chrom</span></div><div class='xr-var-dims'>(_sequence)</div><div class='xr-var-dtype'>object</div><div class='xr-var-preview xr-preview'>&#x27;chr3&#x27; &#x27;chr3&#x27; ... &#x27;chr22&#x27; &#x27;chr22&#x27;</div><input id='attrs-94dc0f44-9b0d-4623-a556-0ade9cfa16a1' class='xr-var-attrs-in' type='checkbox' disabled><label for='attrs-94dc0f44-9b0d-4623-a556-0ade9cfa16a1' title='Show/Hide attributes'><svg class='icon xr-icon-file-text2'><use xlink:href='#icon-file-text2'></use></svg></label><input id='data-99b8abd1-14b4-4f2c-ab90-4aff653e67ad' class='xr-var-data-in' type='checkbox'><label for='data-99b8abd1-14b4-4f2c-ab90-4aff653e67ad' title='Show/Hide data repr'><svg class='icon xr-icon-database'><use xlink:href='#icon-database'></use></svg></label><div class='xr-var-attrs'><dl class='xr-attrs'></dl></div><div class='xr-var-data'><pre>array([&#x27;chr3&#x27;, &#x27;chr3&#x27;, &#x27;chr3&#x27;, ..., &#x27;chr22&#x27;, &#x27;chr22&#x27;, &#x27;chr22&#x27;],\n",
       "      dtype=object)</pre></div></li><li class='xr-var-item'><div class='xr-var-name'><span>chromEnd</span></div><div class='xr-var-dims'>(_sequence)</div><div class='xr-var-dtype'>int64</div><div class='xr-var-preview xr-preview'>4980186 4980248 ... 50463597</div><input id='attrs-5f2eb50f-d04f-4010-8956-c42e025f2a95' class='xr-var-attrs-in' type='checkbox' disabled><label for='attrs-5f2eb50f-d04f-4010-8956-c42e025f2a95' title='Show/Hide attributes'><svg class='icon xr-icon-file-text2'><use xlink:href='#icon-file-text2'></use></svg></label><input id='data-264d2db5-43aa-4f92-b0b6-e37624951f39' class='xr-var-data-in' type='checkbox'><label for='data-264d2db5-43aa-4f92-b0b6-e37624951f39' title='Show/Hide data repr'><svg class='icon xr-icon-database'><use xlink:href='#icon-database'></use></svg></label><div class='xr-var-attrs'><dl class='xr-attrs'></dl></div><div class='xr-var-data'><pre>array([ 4980186,  4980248,  9434670, ..., 50281326, 50463547, 50463597])</pre></div></li><li class='xr-var-item'><div class='xr-var-name'><span>chromStart</span></div><div class='xr-var-dims'>(_sequence)</div><div class='xr-var-dtype'>int64</div><div class='xr-var-preview xr-preview'>4979822 4979884 ... 50463233</div><input id='attrs-59d593c3-046c-48d9-9214-2da44d576f87' class='xr-var-attrs-in' type='checkbox' disabled><label for='attrs-59d593c3-046c-48d9-9214-2da44d576f87' title='Show/Hide attributes'><svg class='icon xr-icon-file-text2'><use xlink:href='#icon-file-text2'></use></svg></label><input id='data-bb44b17f-689c-4831-917d-47c46275a92e' class='xr-var-data-in' type='checkbox'><label for='data-bb44b17f-689c-4831-917d-47c46275a92e' title='Show/Hide data repr'><svg class='icon xr-icon-database'><use xlink:href='#icon-database'></use></svg></label><div class='xr-var-attrs'><dl class='xr-attrs'></dl></div><div class='xr-var-data'><pre>array([ 4979822,  4979884,  9434306, ..., 50280962, 50463183, 50463233])</pre></div></li><li class='xr-var-item'><div class='xr-var-name'><span>control</span></div><div class='xr-var-dims'>(_sequence, _length)</div><div class='xr-var-dtype'>float32</div><div class='xr-var-preview xr-preview'>0.0 0.0 0.0 0.0 ... 0.0 0.0 0.0 0.0</div><input id='attrs-e0dec539-c245-464a-b178-4275aab201d5' class='xr-var-attrs-in' type='checkbox' ><label for='attrs-e0dec539-c245-464a-b178-4275aab201d5' title='Show/Hide attributes'><svg class='icon xr-icon-file-text2'><use xlink:href='#icon-file-text2'></use></svg></label><input id='data-55312ef9-6973-4503-93d4-f876ea8b3446' class='xr-var-data-in' type='checkbox'><label for='data-55312ef9-6973-4503-93d4-f876ea8b3446' title='Show/Hide data repr'><svg class='icon xr-icon-database'><use xlink:href='#icon-database'></use></svg></label><div class='xr-var-attrs'><dl class='xr-attrs'><dt><span>_FillValue :</span></dt><dd>nan</dd></dl></div><div class='xr-var-data'><pre>array([[0., 0., 0., ..., 0., 0., 0.],\n",
       "       [0., 0., 0., ..., 0., 0., 0.],\n",
       "       [0., 0., 0., ..., 0., 0., 0.],\n",
       "       ...,\n",
       "       [0., 0., 0., ..., 0., 1., 0.],\n",
       "       [0., 0., 0., ..., 0., 0., 0.],\n",
       "       [0., 0., 0., ..., 0., 0., 0.]], dtype=float32)</pre></div></li><li class='xr-var-item'><div class='xr-var-name'><span>name</span></div><div class='xr-var-dims'>(_sequence)</div><div class='xr-var-dtype'>object</div><div class='xr-var-preview xr-preview'>&#x27;ENSG00000134107.5&#x27; ... &#x27;ENSG000...</div><input id='attrs-9d2afa16-95ee-4b7c-8d34-6e787cf22df4' class='xr-var-attrs-in' type='checkbox' disabled><label for='attrs-9d2afa16-95ee-4b7c-8d34-6e787cf22df4' title='Show/Hide attributes'><svg class='icon xr-icon-file-text2'><use xlink:href='#icon-file-text2'></use></svg></label><input id='data-d76c4707-84aa-4538-91a4-7e30223d502e' class='xr-var-data-in' type='checkbox'><label for='data-d76c4707-84aa-4538-91a4-7e30223d502e' title='Show/Hide data repr'><svg class='icon xr-icon-database'><use xlink:href='#icon-database'></use></svg></label><div class='xr-var-attrs'><dl class='xr-attrs'></dl></div><div class='xr-var-data'><pre>array([&#x27;ENSG00000134107.5&#x27;, &#x27;ENSG00000134107.5&#x27;, &#x27;ENSG00000168137.20&#x27;,\n",
       "       ..., &#x27;ENSG00000196576.16&#x27;, &#x27;ENSG00000100241.22&#x27;,\n",
       "       &#x27;ENSG00000100241.22&#x27;], dtype=object)</pre></div></li><li class='xr-var-item'><div class='xr-var-name'><span>score</span></div><div class='xr-var-dims'>(_sequence)</div><div class='xr-var-dtype'>float64</div><div class='xr-var-preview xr-preview'>2.0 2.0 1.0 1.0 ... 2.0 2.0 2.0 2.0</div><input id='attrs-5c787dee-8552-4c01-967a-e944dfee79c6' class='xr-var-attrs-in' type='checkbox' ><label for='attrs-5c787dee-8552-4c01-967a-e944dfee79c6' title='Show/Hide attributes'><svg class='icon xr-icon-file-text2'><use xlink:href='#icon-file-text2'></use></svg></label><input id='data-49b6af0d-2181-4c8a-bc7e-b4de2ec3811c' class='xr-var-data-in' type='checkbox'><label for='data-49b6af0d-2181-4c8a-bc7e-b4de2ec3811c' title='Show/Hide data repr'><svg class='icon xr-icon-database'><use xlink:href='#icon-database'></use></svg></label><div class='xr-var-attrs'><dl class='xr-attrs'><dt><span>_FillValue :</span></dt><dd>nan</dd></dl></div><div class='xr-var-data'><pre>array([2., 2., 1., ..., 2., 2., 2.])</pre></div></li><li class='xr-var-item'><div class='xr-var-name'><span>seq</span></div><div class='xr-var-dims'>(_sequence, _length)</div><div class='xr-var-dtype'>|S1</div><div class='xr-var-preview xr-preview'>b&#x27;C&#x27; b&#x27;A&#x27; b&#x27;A&#x27; ... b&#x27;G&#x27; b&#x27;G&#x27; b&#x27;G&#x27;</div><input id='attrs-4ebbfe80-91e6-45c3-af11-dcc9942fbd77' class='xr-var-attrs-in' type='checkbox' disabled><label for='attrs-4ebbfe80-91e6-45c3-af11-dcc9942fbd77' title='Show/Hide attributes'><svg class='icon xr-icon-file-text2'><use xlink:href='#icon-file-text2'></use></svg></label><input id='data-b706cabe-4b27-45a6-8fc0-69f36f380b76' class='xr-var-data-in' type='checkbox'><label for='data-b706cabe-4b27-45a6-8fc0-69f36f380b76' title='Show/Hide data repr'><svg class='icon xr-icon-database'><use xlink:href='#icon-database'></use></svg></label><div class='xr-var-attrs'><dl class='xr-attrs'></dl></div><div class='xr-var-data'><pre>array([[b&#x27;C&#x27;, b&#x27;A&#x27;, b&#x27;A&#x27;, ..., b&#x27;G&#x27;, b&#x27;G&#x27;, b&#x27;T&#x27;],\n",
       "       [b&#x27;C&#x27;, b&#x27;G&#x27;, b&#x27;G&#x27;, ..., b&#x27;A&#x27;, b&#x27;T&#x27;, b&#x27;A&#x27;],\n",
       "       [b&#x27;A&#x27;, b&#x27;C&#x27;, b&#x27;A&#x27;, ..., b&#x27;T&#x27;, b&#x27;T&#x27;, b&#x27;A&#x27;],\n",
       "       ...,\n",
       "       [b&#x27;A&#x27;, b&#x27;G&#x27;, b&#x27;C&#x27;, ..., b&#x27;A&#x27;, b&#x27;T&#x27;, b&#x27;C&#x27;],\n",
       "       [b&#x27;G&#x27;, b&#x27;C&#x27;, b&#x27;A&#x27;, ..., b&#x27;C&#x27;, b&#x27;A&#x27;, b&#x27;A&#x27;],\n",
       "       [b&#x27;G&#x27;, b&#x27;G&#x27;, b&#x27;C&#x27;, ..., b&#x27;G&#x27;, b&#x27;G&#x27;, b&#x27;G&#x27;]], dtype=&#x27;|S1&#x27;)</pre></div></li><li class='xr-var-item'><div class='xr-var-name'><span>signal</span></div><div class='xr-var-dims'>(_sequence, _length)</div><div class='xr-var-dtype'>float32</div><div class='xr-var-preview xr-preview'>1.0 0.0 0.0 0.0 ... 0.0 0.0 0.0 0.0</div><input id='attrs-d976569f-d52e-4be3-a24c-f1354cfafcc7' class='xr-var-attrs-in' type='checkbox' ><label for='attrs-d976569f-d52e-4be3-a24c-f1354cfafcc7' title='Show/Hide attributes'><svg class='icon xr-icon-file-text2'><use xlink:href='#icon-file-text2'></use></svg></label><input id='data-8cbec332-5d1d-4325-a0a4-875063fdeb7b' class='xr-var-data-in' type='checkbox'><label for='data-8cbec332-5d1d-4325-a0a4-875063fdeb7b' title='Show/Hide data repr'><svg class='icon xr-icon-database'><use xlink:href='#icon-database'></use></svg></label><div class='xr-var-attrs'><dl class='xr-attrs'><dt><span>_FillValue :</span></dt><dd>nan</dd></dl></div><div class='xr-var-data'><pre>array([[1., 0., 0., ..., 0., 0., 0.],\n",
       "       [0., 0., 1., ..., 0., 0., 0.],\n",
       "       [0., 1., 0., ..., 0., 0., 0.],\n",
       "       ...,\n",
       "       [0., 0., 0., ..., 3., 1., 0.],\n",
       "       [0., 0., 0., ..., 0., 0., 0.],\n",
       "       [0., 0., 0., ..., 0., 0., 0.]], dtype=float32)</pre></div></li><li class='xr-var-item'><div class='xr-var-name'><span>strand</span></div><div class='xr-var-dims'>(_sequence)</div><div class='xr-var-dtype'>object</div><div class='xr-var-preview xr-preview'>&#x27;+&#x27; &#x27;+&#x27; &#x27;+&#x27; &#x27;+&#x27; ... &#x27;-&#x27; &#x27;-&#x27; &#x27;-&#x27; &#x27;-&#x27;</div><input id='attrs-b376ef46-a2b1-4d3a-9968-9f32ec8cf480' class='xr-var-attrs-in' type='checkbox' disabled><label for='attrs-b376ef46-a2b1-4d3a-9968-9f32ec8cf480' title='Show/Hide attributes'><svg class='icon xr-icon-file-text2'><use xlink:href='#icon-file-text2'></use></svg></label><input id='data-f31b70cf-60d9-4aab-8209-80873d028190' class='xr-var-data-in' type='checkbox'><label for='data-f31b70cf-60d9-4aab-8209-80873d028190' title='Show/Hide data repr'><svg class='icon xr-icon-database'><use xlink:href='#icon-database'></use></svg></label><div class='xr-var-attrs'><dl class='xr-attrs'></dl></div><div class='xr-var-data'><pre>array([&#x27;+&#x27;, &#x27;+&#x27;, &#x27;+&#x27;, ..., &#x27;-&#x27;, &#x27;-&#x27;, &#x27;-&#x27;], dtype=object)</pre></div></li><li class='xr-var-item'><div class='xr-var-name'><span>thickEnd</span></div><div class='xr-var-dims'>(_sequence)</div><div class='xr-var-dtype'>int64</div><div class='xr-var-preview xr-preview'>0 0 0 0 0 0 0 0 ... 0 0 0 0 0 0 0 0</div><input id='attrs-d35dcbeb-4ecc-4099-b53b-617145607230' class='xr-var-attrs-in' type='checkbox' disabled><label for='attrs-d35dcbeb-4ecc-4099-b53b-617145607230' title='Show/Hide attributes'><svg class='icon xr-icon-file-text2'><use xlink:href='#icon-file-text2'></use></svg></label><input id='data-fff1d505-9368-40ca-a7fb-ebd65a5be85b' class='xr-var-data-in' type='checkbox'><label for='data-fff1d505-9368-40ca-a7fb-ebd65a5be85b' title='Show/Hide data repr'><svg class='icon xr-icon-database'><use xlink:href='#icon-database'></use></svg></label><div class='xr-var-attrs'><dl class='xr-attrs'></dl></div><div class='xr-var-data'><pre>array([0, 0, 0, ..., 0, 0, 0])</pre></div></li><li class='xr-var-item'><div class='xr-var-name'><span>thickStart</span></div><div class='xr-var-dims'>(_sequence)</div><div class='xr-var-dtype'>int64</div><div class='xr-var-preview xr-preview'>19 19 48 38 16 ... 37 18 29 15 20</div><input id='attrs-40fcc717-8439-4c6f-b909-9cb1f1b7e6e0' class='xr-var-attrs-in' type='checkbox' disabled><label for='attrs-40fcc717-8439-4c6f-b909-9cb1f1b7e6e0' title='Show/Hide attributes'><svg class='icon xr-icon-file-text2'><use xlink:href='#icon-file-text2'></use></svg></label><input id='data-fd5a4183-a668-40dd-afee-ee01ad3b2232' class='xr-var-data-in' type='checkbox'><label for='data-fd5a4183-a668-40dd-afee-ee01ad3b2232' title='Show/Hide data repr'><svg class='icon xr-icon-database'><use xlink:href='#icon-database'></use></svg></label><div class='xr-var-attrs'><dl class='xr-attrs'></dl></div><div class='xr-var-data'><pre>array([19, 19, 48, ..., 29, 15, 20])</pre></div></li><li class='xr-var-item'><div class='xr-var-name'><span>train_test</span></div><div class='xr-var-dims'>(_sequence)</div><div class='xr-var-dtype'>bool</div><div class='xr-var-preview xr-preview'>True True True ... True True True</div><input id='attrs-82de8c32-048e-4239-9b7c-a95c7324ceab' class='xr-var-attrs-in' type='checkbox' disabled><label for='attrs-82de8c32-048e-4239-9b7c-a95c7324ceab' title='Show/Hide attributes'><svg class='icon xr-icon-file-text2'><use xlink:href='#icon-file-text2'></use></svg></label><input id='data-15c2d2ae-4544-47bc-9a6c-9ab4a1eba813' class='xr-var-data-in' type='checkbox'><label for='data-15c2d2ae-4544-47bc-9a6c-9ab4a1eba813' title='Show/Hide data repr'><svg class='icon xr-icon-database'><use xlink:href='#icon-database'></use></svg></label><div class='xr-var-attrs'><dl class='xr-attrs'></dl></div><div class='xr-var-data'><pre>array([ True,  True,  True, ...,  True,  True,  True])</pre></div></li><li class='xr-var-item'><div class='xr-var-name'><span>train_val</span></div><div class='xr-var-dims'>(_sequence)</div><div class='xr-var-dtype'>bool</div><div class='xr-var-preview xr-preview'>True True True ... True True True</div><input id='attrs-374f50a4-168c-44d7-a130-e072b7d9a8a2' class='xr-var-attrs-in' type='checkbox' disabled><label for='attrs-374f50a4-168c-44d7-a130-e072b7d9a8a2' title='Show/Hide attributes'><svg class='icon xr-icon-file-text2'><use xlink:href='#icon-file-text2'></use></svg></label><input id='data-8155c374-79c9-4ef0-816f-ce3221fda9b6' class='xr-var-data-in' type='checkbox'><label for='data-8155c374-79c9-4ef0-816f-ce3221fda9b6' title='Show/Hide data repr'><svg class='icon xr-icon-database'><use xlink:href='#icon-database'></use></svg></label><div class='xr-var-attrs'><dl class='xr-attrs'></dl></div><div class='xr-var-data'><pre>array([ True,  True,  True, ...,  True,  True,  True])</pre></div></li></ul></div></li><li class='xr-section-item'><input id='section-cefa6bcd-acc2-418a-b4fb-0add64ab225c' class='xr-section-summary-in' type='checkbox' disabled ><label for='section-cefa6bcd-acc2-418a-b4fb-0add64ab225c' class='xr-section-summary'  title='Expand/collapse section'>Indexes: <span>(0)</span></label><div class='xr-section-inline-details'></div><div class='xr-section-details'><ul class='xr-var-list'></ul></div></li><li class='xr-section-item'><input id='section-dde0494d-14f9-4050-9c72-e3e1ee7162a1' class='xr-section-summary-in' type='checkbox'  checked><label for='section-dde0494d-14f9-4050-9c72-e3e1ee7162a1' class='xr-section-summary' >Attributes: <span>(3)</span></label><div class='xr-section-inline-details'></div><div class='xr-section-details'><dl class='xr-attrs'><dt><span>length_dim :</span></dt><dd>_length</dd><dt><span>max_jitter :</span></dt><dd>32</dd><dt><span>sequence_dim :</span></dt><dd>_sequence</dd></dl></div></li></ul></div></div>"
      ],
      "text/plain": [
       "<xarray.Dataset>\n",
       "Dimensions:     (_sequence: 31211, _length: 364)\n",
       "Dimensions without coordinates: _sequence, _length\n",
       "Data variables: (12/13)\n",
       "    chrom       (_sequence) object 'chr3' 'chr3' 'chr3' ... 'chr22' 'chr22'\n",
       "    chromEnd    (_sequence) int64 4980186 4980248 9434670 ... 50463547 50463597\n",
       "    chromStart  (_sequence) int64 4979822 4979884 9434306 ... 50463183 50463233\n",
       "    control     (_sequence, _length) float32 0.0 0.0 0.0 0.0 ... 0.0 0.0 0.0 0.0\n",
       "    name        (_sequence) object 'ENSG00000134107.5' ... 'ENSG00000100241.22'\n",
       "    score       (_sequence) float64 2.0 2.0 1.0 1.0 1.0 ... 2.0 2.0 2.0 2.0 2.0\n",
       "    ...          ...\n",
       "    signal      (_sequence, _length) float32 1.0 0.0 0.0 0.0 ... 0.0 0.0 0.0 0.0\n",
       "    strand      (_sequence) object '+' '+' '+' '+' '+' ... '-' '-' '-' '-' '-'\n",
       "    thickEnd    (_sequence) int64 0 0 0 0 0 0 0 0 0 0 0 ... 0 0 0 0 0 0 0 0 0 0\n",
       "    thickStart  (_sequence) int64 19 19 48 38 16 55 77 ... 29 18 37 18 29 15 20\n",
       "    train_test  (_sequence) bool True True True True ... True True True True\n",
       "    train_val   (_sequence) bool True True True True ... True True True True\n",
       "Attributes:\n",
       "    length_dim:    _length\n",
       "    max_jitter:    32\n",
       "    sequence_dim:  _sequence"
      ]
     },
     "execution_count": 4,
     "metadata": {},
     "output_type": "execute_result"
    }
   ],
   "source": [
    "train_sdata"
   ]
  },
  {
   "cell_type": "code",
   "execution_count": 5,
   "id": "88a5d802",
   "metadata": {},
   "outputs": [
    {
     "data": {
      "text/html": [
       "<div><svg style=\"position: absolute; width: 0; height: 0; overflow: hidden\">\n",
       "<defs>\n",
       "<symbol id=\"icon-database\" viewBox=\"0 0 32 32\">\n",
       "<path d=\"M16 0c-8.837 0-16 2.239-16 5v4c0 2.761 7.163 5 16 5s16-2.239 16-5v-4c0-2.761-7.163-5-16-5z\"></path>\n",
       "<path d=\"M16 17c-8.837 0-16-2.239-16-5v6c0 2.761 7.163 5 16 5s16-2.239 16-5v-6c0 2.761-7.163 5-16 5z\"></path>\n",
       "<path d=\"M16 26c-8.837 0-16-2.239-16-5v6c0 2.761 7.163 5 16 5s16-2.239 16-5v-6c0 2.761-7.163 5-16 5z\"></path>\n",
       "</symbol>\n",
       "<symbol id=\"icon-file-text2\" viewBox=\"0 0 32 32\">\n",
       "<path d=\"M28.681 7.159c-0.694-0.947-1.662-2.053-2.724-3.116s-2.169-2.030-3.116-2.724c-1.612-1.182-2.393-1.319-2.841-1.319h-15.5c-1.378 0-2.5 1.121-2.5 2.5v27c0 1.378 1.122 2.5 2.5 2.5h23c1.378 0 2.5-1.122 2.5-2.5v-19.5c0-0.448-0.137-1.23-1.319-2.841zM24.543 5.457c0.959 0.959 1.712 1.825 2.268 2.543h-4.811v-4.811c0.718 0.556 1.584 1.309 2.543 2.268zM28 29.5c0 0.271-0.229 0.5-0.5 0.5h-23c-0.271 0-0.5-0.229-0.5-0.5v-27c0-0.271 0.229-0.5 0.5-0.5 0 0 15.499-0 15.5 0v7c0 0.552 0.448 1 1 1h7v19.5z\"></path>\n",
       "<path d=\"M23 26h-14c-0.552 0-1-0.448-1-1s0.448-1 1-1h14c0.552 0 1 0.448 1 1s-0.448 1-1 1z\"></path>\n",
       "<path d=\"M23 22h-14c-0.552 0-1-0.448-1-1s0.448-1 1-1h14c0.552 0 1 0.448 1 1s-0.448 1-1 1z\"></path>\n",
       "<path d=\"M23 18h-14c-0.552 0-1-0.448-1-1s0.448-1 1-1h14c0.552 0 1 0.448 1 1s-0.448 1-1 1z\"></path>\n",
       "</symbol>\n",
       "</defs>\n",
       "</svg>\n",
       "<style>/* CSS stylesheet for displaying xarray objects in jupyterlab.\n",
       " *\n",
       " */\n",
       "\n",
       ":root {\n",
       "  --xr-font-color0: var(--jp-content-font-color0, rgba(0, 0, 0, 1));\n",
       "  --xr-font-color2: var(--jp-content-font-color2, rgba(0, 0, 0, 0.54));\n",
       "  --xr-font-color3: var(--jp-content-font-color3, rgba(0, 0, 0, 0.38));\n",
       "  --xr-border-color: var(--jp-border-color2, #e0e0e0);\n",
       "  --xr-disabled-color: var(--jp-layout-color3, #bdbdbd);\n",
       "  --xr-background-color: var(--jp-layout-color0, white);\n",
       "  --xr-background-color-row-even: var(--jp-layout-color1, white);\n",
       "  --xr-background-color-row-odd: var(--jp-layout-color2, #eeeeee);\n",
       "}\n",
       "\n",
       "html[theme=dark],\n",
       "body[data-theme=dark],\n",
       "body.vscode-dark {\n",
       "  --xr-font-color0: rgba(255, 255, 255, 1);\n",
       "  --xr-font-color2: rgba(255, 255, 255, 0.54);\n",
       "  --xr-font-color3: rgba(255, 255, 255, 0.38);\n",
       "  --xr-border-color: #1F1F1F;\n",
       "  --xr-disabled-color: #515151;\n",
       "  --xr-background-color: #111111;\n",
       "  --xr-background-color-row-even: #111111;\n",
       "  --xr-background-color-row-odd: #313131;\n",
       "}\n",
       "\n",
       ".xr-wrap {\n",
       "  display: block !important;\n",
       "  min-width: 300px;\n",
       "  max-width: 700px;\n",
       "}\n",
       "\n",
       ".xr-text-repr-fallback {\n",
       "  /* fallback to plain text repr when CSS is not injected (untrusted notebook) */\n",
       "  display: none;\n",
       "}\n",
       "\n",
       ".xr-header {\n",
       "  padding-top: 6px;\n",
       "  padding-bottom: 6px;\n",
       "  margin-bottom: 4px;\n",
       "  border-bottom: solid 1px var(--xr-border-color);\n",
       "}\n",
       "\n",
       ".xr-header > div,\n",
       ".xr-header > ul {\n",
       "  display: inline;\n",
       "  margin-top: 0;\n",
       "  margin-bottom: 0;\n",
       "}\n",
       "\n",
       ".xr-obj-type,\n",
       ".xr-array-name {\n",
       "  margin-left: 2px;\n",
       "  margin-right: 10px;\n",
       "}\n",
       "\n",
       ".xr-obj-type {\n",
       "  color: var(--xr-font-color2);\n",
       "}\n",
       "\n",
       ".xr-sections {\n",
       "  padding-left: 0 !important;\n",
       "  display: grid;\n",
       "  grid-template-columns: 150px auto auto 1fr 20px 20px;\n",
       "}\n",
       "\n",
       ".xr-section-item {\n",
       "  display: contents;\n",
       "}\n",
       "\n",
       ".xr-section-item input {\n",
       "  display: none;\n",
       "}\n",
       "\n",
       ".xr-section-item input + label {\n",
       "  color: var(--xr-disabled-color);\n",
       "}\n",
       "\n",
       ".xr-section-item input:enabled + label {\n",
       "  cursor: pointer;\n",
       "  color: var(--xr-font-color2);\n",
       "}\n",
       "\n",
       ".xr-section-item input:enabled + label:hover {\n",
       "  color: var(--xr-font-color0);\n",
       "}\n",
       "\n",
       ".xr-section-summary {\n",
       "  grid-column: 1;\n",
       "  color: var(--xr-font-color2);\n",
       "  font-weight: 500;\n",
       "}\n",
       "\n",
       ".xr-section-summary > span {\n",
       "  display: inline-block;\n",
       "  padding-left: 0.5em;\n",
       "}\n",
       "\n",
       ".xr-section-summary-in:disabled + label {\n",
       "  color: var(--xr-font-color2);\n",
       "}\n",
       "\n",
       ".xr-section-summary-in + label:before {\n",
       "  display: inline-block;\n",
       "  content: '►';\n",
       "  font-size: 11px;\n",
       "  width: 15px;\n",
       "  text-align: center;\n",
       "}\n",
       "\n",
       ".xr-section-summary-in:disabled + label:before {\n",
       "  color: var(--xr-disabled-color);\n",
       "}\n",
       "\n",
       ".xr-section-summary-in:checked + label:before {\n",
       "  content: '▼';\n",
       "}\n",
       "\n",
       ".xr-section-summary-in:checked + label > span {\n",
       "  display: none;\n",
       "}\n",
       "\n",
       ".xr-section-summary,\n",
       ".xr-section-inline-details {\n",
       "  padding-top: 4px;\n",
       "  padding-bottom: 4px;\n",
       "}\n",
       "\n",
       ".xr-section-inline-details {\n",
       "  grid-column: 2 / -1;\n",
       "}\n",
       "\n",
       ".xr-section-details {\n",
       "  display: none;\n",
       "  grid-column: 1 / -1;\n",
       "  margin-bottom: 5px;\n",
       "}\n",
       "\n",
       ".xr-section-summary-in:checked ~ .xr-section-details {\n",
       "  display: contents;\n",
       "}\n",
       "\n",
       ".xr-array-wrap {\n",
       "  grid-column: 1 / -1;\n",
       "  display: grid;\n",
       "  grid-template-columns: 20px auto;\n",
       "}\n",
       "\n",
       ".xr-array-wrap > label {\n",
       "  grid-column: 1;\n",
       "  vertical-align: top;\n",
       "}\n",
       "\n",
       ".xr-preview {\n",
       "  color: var(--xr-font-color3);\n",
       "}\n",
       "\n",
       ".xr-array-preview,\n",
       ".xr-array-data {\n",
       "  padding: 0 5px !important;\n",
       "  grid-column: 2;\n",
       "}\n",
       "\n",
       ".xr-array-data,\n",
       ".xr-array-in:checked ~ .xr-array-preview {\n",
       "  display: none;\n",
       "}\n",
       "\n",
       ".xr-array-in:checked ~ .xr-array-data,\n",
       ".xr-array-preview {\n",
       "  display: inline-block;\n",
       "}\n",
       "\n",
       ".xr-dim-list {\n",
       "  display: inline-block !important;\n",
       "  list-style: none;\n",
       "  padding: 0 !important;\n",
       "  margin: 0;\n",
       "}\n",
       "\n",
       ".xr-dim-list li {\n",
       "  display: inline-block;\n",
       "  padding: 0;\n",
       "  margin: 0;\n",
       "}\n",
       "\n",
       ".xr-dim-list:before {\n",
       "  content: '(';\n",
       "}\n",
       "\n",
       ".xr-dim-list:after {\n",
       "  content: ')';\n",
       "}\n",
       "\n",
       ".xr-dim-list li:not(:last-child):after {\n",
       "  content: ',';\n",
       "  padding-right: 5px;\n",
       "}\n",
       "\n",
       ".xr-has-index {\n",
       "  font-weight: bold;\n",
       "}\n",
       "\n",
       ".xr-var-list,\n",
       ".xr-var-item {\n",
       "  display: contents;\n",
       "}\n",
       "\n",
       ".xr-var-item > div,\n",
       ".xr-var-item label,\n",
       ".xr-var-item > .xr-var-name span {\n",
       "  background-color: var(--xr-background-color-row-even);\n",
       "  margin-bottom: 0;\n",
       "}\n",
       "\n",
       ".xr-var-item > .xr-var-name:hover span {\n",
       "  padding-right: 5px;\n",
       "}\n",
       "\n",
       ".xr-var-list > li:nth-child(odd) > div,\n",
       ".xr-var-list > li:nth-child(odd) > label,\n",
       ".xr-var-list > li:nth-child(odd) > .xr-var-name span {\n",
       "  background-color: var(--xr-background-color-row-odd);\n",
       "}\n",
       "\n",
       ".xr-var-name {\n",
       "  grid-column: 1;\n",
       "}\n",
       "\n",
       ".xr-var-dims {\n",
       "  grid-column: 2;\n",
       "}\n",
       "\n",
       ".xr-var-dtype {\n",
       "  grid-column: 3;\n",
       "  text-align: right;\n",
       "  color: var(--xr-font-color2);\n",
       "}\n",
       "\n",
       ".xr-var-preview {\n",
       "  grid-column: 4;\n",
       "}\n",
       "\n",
       ".xr-index-preview {\n",
       "  grid-column: 2 / 5;\n",
       "  color: var(--xr-font-color2);\n",
       "}\n",
       "\n",
       ".xr-var-name,\n",
       ".xr-var-dims,\n",
       ".xr-var-dtype,\n",
       ".xr-preview,\n",
       ".xr-attrs dt {\n",
       "  white-space: nowrap;\n",
       "  overflow: hidden;\n",
       "  text-overflow: ellipsis;\n",
       "  padding-right: 10px;\n",
       "}\n",
       "\n",
       ".xr-var-name:hover,\n",
       ".xr-var-dims:hover,\n",
       ".xr-var-dtype:hover,\n",
       ".xr-attrs dt:hover {\n",
       "  overflow: visible;\n",
       "  width: auto;\n",
       "  z-index: 1;\n",
       "}\n",
       "\n",
       ".xr-var-attrs,\n",
       ".xr-var-data,\n",
       ".xr-index-data {\n",
       "  display: none;\n",
       "  background-color: var(--xr-background-color) !important;\n",
       "  padding-bottom: 5px !important;\n",
       "}\n",
       "\n",
       ".xr-var-attrs-in:checked ~ .xr-var-attrs,\n",
       ".xr-var-data-in:checked ~ .xr-var-data,\n",
       ".xr-index-data-in:checked ~ .xr-index-data {\n",
       "  display: block;\n",
       "}\n",
       "\n",
       ".xr-var-data > table {\n",
       "  float: right;\n",
       "}\n",
       "\n",
       ".xr-var-name span,\n",
       ".xr-var-data,\n",
       ".xr-index-name div,\n",
       ".xr-index-data,\n",
       ".xr-attrs {\n",
       "  padding-left: 25px !important;\n",
       "}\n",
       "\n",
       ".xr-attrs,\n",
       ".xr-var-attrs,\n",
       ".xr-var-data,\n",
       ".xr-index-data {\n",
       "  grid-column: 1 / -1;\n",
       "}\n",
       "\n",
       "dl.xr-attrs {\n",
       "  padding: 0;\n",
       "  margin: 0;\n",
       "  display: grid;\n",
       "  grid-template-columns: 125px auto;\n",
       "}\n",
       "\n",
       ".xr-attrs dt,\n",
       ".xr-attrs dd {\n",
       "  padding: 0;\n",
       "  margin: 0;\n",
       "  float: left;\n",
       "  padding-right: 10px;\n",
       "  width: auto;\n",
       "}\n",
       "\n",
       ".xr-attrs dt {\n",
       "  font-weight: normal;\n",
       "  grid-column: 1;\n",
       "}\n",
       "\n",
       ".xr-attrs dt:hover span {\n",
       "  display: inline-block;\n",
       "  background: var(--xr-background-color);\n",
       "  padding-right: 10px;\n",
       "}\n",
       "\n",
       ".xr-attrs dd {\n",
       "  grid-column: 2;\n",
       "  white-space: pre-wrap;\n",
       "  word-break: break-all;\n",
       "}\n",
       "\n",
       ".xr-icon-database,\n",
       ".xr-icon-file-text2,\n",
       ".xr-no-icon {\n",
       "  display: inline-block;\n",
       "  vertical-align: middle;\n",
       "  width: 1em;\n",
       "  height: 1.5em !important;\n",
       "  stroke-width: 0;\n",
       "  stroke: currentColor;\n",
       "  fill: currentColor;\n",
       "}\n",
       "</style><pre class='xr-text-repr-fallback'>&lt;xarray.Dataset&gt;\n",
       "Dimensions:     (_sequence: 10482, _length: 364)\n",
       "Dimensions without coordinates: _sequence, _length\n",
       "Data variables: (12/13)\n",
       "    chrom       (_sequence) object &#x27;chr2&#x27; &#x27;chr2&#x27; &#x27;chr2&#x27; ... &#x27;chr16&#x27; &#x27;chr16&#x27;\n",
       "    chromEnd    (_sequence) int64 3464380 3464430 3464514 ... 89471325 89481757\n",
       "    chromStart  (_sequence) int64 3464016 3464066 3464150 ... 89470961 89481393\n",
       "    control     (_sequence, _length) float32 0.0 0.0 0.0 0.0 ... 0.0 0.0 0.0 0.0\n",
       "    name        (_sequence) object &#x27;ENSG00000171853.16&#x27; ... &#x27;ENSG00000167522.17&#x27;\n",
       "    score       (_sequence) float64 1.0 1.0 1.0 1.0 1.0 ... 1.0 1.0 1.0 1.0 1.0\n",
       "    ...          ...\n",
       "    signal      (_sequence, _length) float32 0.0 0.0 0.0 0.0 ... 0.0 1.0 1.0 0.0\n",
       "    strand      (_sequence) object &#x27;+&#x27; &#x27;+&#x27; &#x27;+&#x27; &#x27;+&#x27; &#x27;+&#x27; ... &#x27;-&#x27; &#x27;-&#x27; &#x27;-&#x27; &#x27;-&#x27; &#x27;-&#x27;\n",
       "    thickEnd    (_sequence) int64 0 0 0 0 0 0 0 0 0 0 0 ... 0 0 0 0 0 0 0 0 0 0\n",
       "    thickStart  (_sequence) int64 38 38 18 33 28 21 22 ... 33 16 15 17 19 15 15\n",
       "    train_test  (_sequence) bool True True True True ... True True True True\n",
       "    train_val   (_sequence) bool False False False False ... False False False\n",
       "Attributes:\n",
       "    length_dim:    _length\n",
       "    max_jitter:    32\n",
       "    sequence_dim:  _sequence</pre><div class='xr-wrap' style='display:none'><div class='xr-header'><div class='xr-obj-type'>xarray.Dataset</div></div><ul class='xr-sections'><li class='xr-section-item'><input id='section-67af594f-6dd5-4779-b368-0511dd3b897a' class='xr-section-summary-in' type='checkbox' disabled ><label for='section-67af594f-6dd5-4779-b368-0511dd3b897a' class='xr-section-summary'  title='Expand/collapse section'>Dimensions:</label><div class='xr-section-inline-details'><ul class='xr-dim-list'><li><span>_sequence</span>: 10482</li><li><span>_length</span>: 364</li></ul></div><div class='xr-section-details'></div></li><li class='xr-section-item'><input id='section-49b48371-88e1-4470-b29a-920441328cab' class='xr-section-summary-in' type='checkbox' disabled ><label for='section-49b48371-88e1-4470-b29a-920441328cab' class='xr-section-summary'  title='Expand/collapse section'>Coordinates: <span>(0)</span></label><div class='xr-section-inline-details'></div><div class='xr-section-details'><ul class='xr-var-list'></ul></div></li><li class='xr-section-item'><input id='section-e0b5d673-a7f8-4e63-a752-79eb35f68487' class='xr-section-summary-in' type='checkbox'  checked><label for='section-e0b5d673-a7f8-4e63-a752-79eb35f68487' class='xr-section-summary' >Data variables: <span>(13)</span></label><div class='xr-section-inline-details'></div><div class='xr-section-details'><ul class='xr-var-list'><li class='xr-var-item'><div class='xr-var-name'><span>chrom</span></div><div class='xr-var-dims'>(_sequence)</div><div class='xr-var-dtype'>object</div><div class='xr-var-preview xr-preview'>&#x27;chr2&#x27; &#x27;chr2&#x27; ... &#x27;chr16&#x27; &#x27;chr16&#x27;</div><input id='attrs-35aeed1a-f53e-4cbd-a29b-8c9af23febc3' class='xr-var-attrs-in' type='checkbox' disabled><label for='attrs-35aeed1a-f53e-4cbd-a29b-8c9af23febc3' title='Show/Hide attributes'><svg class='icon xr-icon-file-text2'><use xlink:href='#icon-file-text2'></use></svg></label><input id='data-8ea55461-f4c9-43f9-b321-15a5e216327c' class='xr-var-data-in' type='checkbox'><label for='data-8ea55461-f4c9-43f9-b321-15a5e216327c' title='Show/Hide data repr'><svg class='icon xr-icon-database'><use xlink:href='#icon-database'></use></svg></label><div class='xr-var-attrs'><dl class='xr-attrs'></dl></div><div class='xr-var-data'><pre>array([&#x27;chr2&#x27;, &#x27;chr2&#x27;, &#x27;chr2&#x27;, ..., &#x27;chr16&#x27;, &#x27;chr16&#x27;, &#x27;chr16&#x27;],\n",
       "      dtype=object)</pre></div></li><li class='xr-var-item'><div class='xr-var-name'><span>chromEnd</span></div><div class='xr-var-dims'>(_sequence)</div><div class='xr-var-dtype'>int64</div><div class='xr-var-preview xr-preview'>3464380 3464430 ... 89481757</div><input id='attrs-5784db11-0882-468a-9846-449d03a63742' class='xr-var-attrs-in' type='checkbox' disabled><label for='attrs-5784db11-0882-468a-9846-449d03a63742' title='Show/Hide attributes'><svg class='icon xr-icon-file-text2'><use xlink:href='#icon-file-text2'></use></svg></label><input id='data-a3f3e650-a7a6-4235-8027-81c23973c803' class='xr-var-data-in' type='checkbox'><label for='data-a3f3e650-a7a6-4235-8027-81c23973c803' title='Show/Hide data repr'><svg class='icon xr-icon-database'><use xlink:href='#icon-database'></use></svg></label><div class='xr-var-attrs'><dl class='xr-attrs'></dl></div><div class='xr-var-data'><pre>array([ 3464380,  3464430,  3464514, ..., 89469363, 89471325, 89481757])</pre></div></li><li class='xr-var-item'><div class='xr-var-name'><span>chromStart</span></div><div class='xr-var-dims'>(_sequence)</div><div class='xr-var-dtype'>int64</div><div class='xr-var-preview xr-preview'>3464016 3464066 ... 89481393</div><input id='attrs-a4a97e45-4273-4aa4-92ae-0bc4205df040' class='xr-var-attrs-in' type='checkbox' disabled><label for='attrs-a4a97e45-4273-4aa4-92ae-0bc4205df040' title='Show/Hide attributes'><svg class='icon xr-icon-file-text2'><use xlink:href='#icon-file-text2'></use></svg></label><input id='data-6e77679c-7520-46c4-b6fb-9cc93dcd958c' class='xr-var-data-in' type='checkbox'><label for='data-6e77679c-7520-46c4-b6fb-9cc93dcd958c' title='Show/Hide data repr'><svg class='icon xr-icon-database'><use xlink:href='#icon-database'></use></svg></label><div class='xr-var-attrs'><dl class='xr-attrs'></dl></div><div class='xr-var-data'><pre>array([ 3464016,  3464066,  3464150, ..., 89468999, 89470961, 89481393])</pre></div></li><li class='xr-var-item'><div class='xr-var-name'><span>control</span></div><div class='xr-var-dims'>(_sequence, _length)</div><div class='xr-var-dtype'>float32</div><div class='xr-var-preview xr-preview'>0.0 0.0 0.0 0.0 ... 0.0 0.0 0.0 0.0</div><input id='attrs-ec2173ad-89f8-4141-8250-87984ce95395' class='xr-var-attrs-in' type='checkbox' ><label for='attrs-ec2173ad-89f8-4141-8250-87984ce95395' title='Show/Hide attributes'><svg class='icon xr-icon-file-text2'><use xlink:href='#icon-file-text2'></use></svg></label><input id='data-083354ef-cd70-4a06-8595-9ffb4c9e97fc' class='xr-var-data-in' type='checkbox'><label for='data-083354ef-cd70-4a06-8595-9ffb4c9e97fc' title='Show/Hide data repr'><svg class='icon xr-icon-database'><use xlink:href='#icon-database'></use></svg></label><div class='xr-var-attrs'><dl class='xr-attrs'><dt><span>_FillValue :</span></dt><dd>nan</dd></dl></div><div class='xr-var-data'><pre>array([[0., 0., 0., ..., 0., 0., 0.],\n",
       "       [0., 0., 0., ..., 0., 0., 0.],\n",
       "       [0., 0., 0., ..., 0., 0., 0.],\n",
       "       ...,\n",
       "       [0., 0., 0., ..., 0., 0., 0.],\n",
       "       [0., 0., 0., ..., 0., 0., 0.],\n",
       "       [0., 0., 0., ..., 0., 0., 0.]], dtype=float32)</pre></div></li><li class='xr-var-item'><div class='xr-var-name'><span>name</span></div><div class='xr-var-dims'>(_sequence)</div><div class='xr-var-dtype'>object</div><div class='xr-var-preview xr-preview'>&#x27;ENSG00000171853.16&#x27; ... &#x27;ENSG00...</div><input id='attrs-35106292-4994-4216-8f0f-c821286467e3' class='xr-var-attrs-in' type='checkbox' disabled><label for='attrs-35106292-4994-4216-8f0f-c821286467e3' title='Show/Hide attributes'><svg class='icon xr-icon-file-text2'><use xlink:href='#icon-file-text2'></use></svg></label><input id='data-d5747a48-19d6-480b-b3e2-87bf14f19cc9' class='xr-var-data-in' type='checkbox'><label for='data-d5747a48-19d6-480b-b3e2-87bf14f19cc9' title='Show/Hide data repr'><svg class='icon xr-icon-database'><use xlink:href='#icon-database'></use></svg></label><div class='xr-var-attrs'><dl class='xr-attrs'></dl></div><div class='xr-var-data'><pre>array([&#x27;ENSG00000171853.16&#x27;, &#x27;ENSG00000171853.16&#x27;, &#x27;ENSG00000171853.16&#x27;,\n",
       "       ..., &#x27;ENSG00000167522.17&#x27;, &#x27;ENSG00000167522.17&#x27;,\n",
       "       &#x27;ENSG00000167522.17&#x27;], dtype=object)</pre></div></li><li class='xr-var-item'><div class='xr-var-name'><span>score</span></div><div class='xr-var-dims'>(_sequence)</div><div class='xr-var-dtype'>float64</div><div class='xr-var-preview xr-preview'>1.0 1.0 1.0 1.0 ... 1.0 1.0 1.0 1.0</div><input id='attrs-da27d077-acd8-48f8-a0e4-e3389de1e128' class='xr-var-attrs-in' type='checkbox' ><label for='attrs-da27d077-acd8-48f8-a0e4-e3389de1e128' title='Show/Hide attributes'><svg class='icon xr-icon-file-text2'><use xlink:href='#icon-file-text2'></use></svg></label><input id='data-ce47f6af-130e-4fc7-90bf-58d125f23a4c' class='xr-var-data-in' type='checkbox'><label for='data-ce47f6af-130e-4fc7-90bf-58d125f23a4c' title='Show/Hide data repr'><svg class='icon xr-icon-database'><use xlink:href='#icon-database'></use></svg></label><div class='xr-var-attrs'><dl class='xr-attrs'><dt><span>_FillValue :</span></dt><dd>nan</dd></dl></div><div class='xr-var-data'><pre>array([1., 1., 1., ..., 1., 1., 1.])</pre></div></li><li class='xr-var-item'><div class='xr-var-name'><span>seq</span></div><div class='xr-var-dims'>(_sequence, _length)</div><div class='xr-var-dtype'>|S1</div><div class='xr-var-preview xr-preview'>b&#x27;C&#x27; b&#x27;A&#x27; b&#x27;G&#x27; ... b&#x27;G&#x27; b&#x27;G&#x27; b&#x27;G&#x27;</div><input id='attrs-362b2385-1d11-4448-8905-0f916db9a56d' class='xr-var-attrs-in' type='checkbox' disabled><label for='attrs-362b2385-1d11-4448-8905-0f916db9a56d' title='Show/Hide attributes'><svg class='icon xr-icon-file-text2'><use xlink:href='#icon-file-text2'></use></svg></label><input id='data-8c48903e-ef8f-48f6-9fd1-d55690456a9d' class='xr-var-data-in' type='checkbox'><label for='data-8c48903e-ef8f-48f6-9fd1-d55690456a9d' title='Show/Hide data repr'><svg class='icon xr-icon-database'><use xlink:href='#icon-database'></use></svg></label><div class='xr-var-attrs'><dl class='xr-attrs'></dl></div><div class='xr-var-data'><pre>array([[b&#x27;C&#x27;, b&#x27;A&#x27;, b&#x27;G&#x27;, ..., b&#x27;G&#x27;, b&#x27;T&#x27;, b&#x27;T&#x27;],\n",
       "       [b&#x27;C&#x27;, b&#x27;A&#x27;, b&#x27;G&#x27;, ..., b&#x27;A&#x27;, b&#x27;A&#x27;, b&#x27;C&#x27;],\n",
       "       [b&#x27;T&#x27;, b&#x27;G&#x27;, b&#x27;C&#x27;, ..., b&#x27;C&#x27;, b&#x27;T&#x27;, b&#x27;G&#x27;],\n",
       "       ...,\n",
       "       [b&#x27;T&#x27;, b&#x27;C&#x27;, b&#x27;T&#x27;, ..., b&#x27;T&#x27;, b&#x27;C&#x27;, b&#x27;T&#x27;],\n",
       "       [b&#x27;G&#x27;, b&#x27;G&#x27;, b&#x27;G&#x27;, ..., b&#x27;C&#x27;, b&#x27;T&#x27;, b&#x27;G&#x27;],\n",
       "       [b&#x27;C&#x27;, b&#x27;C&#x27;, b&#x27;A&#x27;, ..., b&#x27;G&#x27;, b&#x27;G&#x27;, b&#x27;G&#x27;]], dtype=&#x27;|S1&#x27;)</pre></div></li><li class='xr-var-item'><div class='xr-var-name'><span>signal</span></div><div class='xr-var-dims'>(_sequence, _length)</div><div class='xr-var-dtype'>float32</div><div class='xr-var-preview xr-preview'>0.0 0.0 0.0 0.0 ... 0.0 1.0 1.0 0.0</div><input id='attrs-db841713-5924-4568-9835-0419f06238fd' class='xr-var-attrs-in' type='checkbox' ><label for='attrs-db841713-5924-4568-9835-0419f06238fd' title='Show/Hide attributes'><svg class='icon xr-icon-file-text2'><use xlink:href='#icon-file-text2'></use></svg></label><input id='data-242be223-ac0b-4be1-9649-dae439d46550' class='xr-var-data-in' type='checkbox'><label for='data-242be223-ac0b-4be1-9649-dae439d46550' title='Show/Hide data repr'><svg class='icon xr-icon-database'><use xlink:href='#icon-database'></use></svg></label><div class='xr-var-attrs'><dl class='xr-attrs'><dt><span>_FillValue :</span></dt><dd>nan</dd></dl></div><div class='xr-var-data'><pre>array([[0., 0., 0., ..., 0., 0., 0.],\n",
       "       [0., 0., 0., ..., 1., 0., 0.],\n",
       "       [0., 1., 0., ..., 0., 0., 1.],\n",
       "       ...,\n",
       "       [0., 0., 0., ..., 0., 0., 0.],\n",
       "       [0., 0., 0., ..., 0., 0., 0.],\n",
       "       [1., 1., 0., ..., 1., 1., 0.]], dtype=float32)</pre></div></li><li class='xr-var-item'><div class='xr-var-name'><span>strand</span></div><div class='xr-var-dims'>(_sequence)</div><div class='xr-var-dtype'>object</div><div class='xr-var-preview xr-preview'>&#x27;+&#x27; &#x27;+&#x27; &#x27;+&#x27; &#x27;+&#x27; ... &#x27;-&#x27; &#x27;-&#x27; &#x27;-&#x27; &#x27;-&#x27;</div><input id='attrs-6c210ca8-8412-471a-8ba2-68e12241e9e8' class='xr-var-attrs-in' type='checkbox' disabled><label for='attrs-6c210ca8-8412-471a-8ba2-68e12241e9e8' title='Show/Hide attributes'><svg class='icon xr-icon-file-text2'><use xlink:href='#icon-file-text2'></use></svg></label><input id='data-ba22b904-22e8-47aa-9bb3-59b8db0af533' class='xr-var-data-in' type='checkbox'><label for='data-ba22b904-22e8-47aa-9bb3-59b8db0af533' title='Show/Hide data repr'><svg class='icon xr-icon-database'><use xlink:href='#icon-database'></use></svg></label><div class='xr-var-attrs'><dl class='xr-attrs'></dl></div><div class='xr-var-data'><pre>array([&#x27;+&#x27;, &#x27;+&#x27;, &#x27;+&#x27;, ..., &#x27;-&#x27;, &#x27;-&#x27;, &#x27;-&#x27;], dtype=object)</pre></div></li><li class='xr-var-item'><div class='xr-var-name'><span>thickEnd</span></div><div class='xr-var-dims'>(_sequence)</div><div class='xr-var-dtype'>int64</div><div class='xr-var-preview xr-preview'>0 0 0 0 0 0 0 0 ... 0 0 0 0 0 0 0 0</div><input id='attrs-a503de4d-c835-4a85-a9f8-56c34f5636ff' class='xr-var-attrs-in' type='checkbox' disabled><label for='attrs-a503de4d-c835-4a85-a9f8-56c34f5636ff' title='Show/Hide attributes'><svg class='icon xr-icon-file-text2'><use xlink:href='#icon-file-text2'></use></svg></label><input id='data-c4d813ab-edaa-41e0-94d4-c73126bcd7da' class='xr-var-data-in' type='checkbox'><label for='data-c4d813ab-edaa-41e0-94d4-c73126bcd7da' title='Show/Hide data repr'><svg class='icon xr-icon-database'><use xlink:href='#icon-database'></use></svg></label><div class='xr-var-attrs'><dl class='xr-attrs'></dl></div><div class='xr-var-data'><pre>array([0, 0, 0, ..., 0, 0, 0])</pre></div></li><li class='xr-var-item'><div class='xr-var-name'><span>thickStart</span></div><div class='xr-var-dims'>(_sequence)</div><div class='xr-var-dtype'>int64</div><div class='xr-var-preview xr-preview'>38 38 18 33 28 ... 15 17 19 15 15</div><input id='attrs-38e59d50-4d9c-400d-8910-e7dad82ba93d' class='xr-var-attrs-in' type='checkbox' disabled><label for='attrs-38e59d50-4d9c-400d-8910-e7dad82ba93d' title='Show/Hide attributes'><svg class='icon xr-icon-file-text2'><use xlink:href='#icon-file-text2'></use></svg></label><input id='data-a176f5cf-64eb-4e59-ab0b-5f52d3cff6c1' class='xr-var-data-in' type='checkbox'><label for='data-a176f5cf-64eb-4e59-ab0b-5f52d3cff6c1' title='Show/Hide data repr'><svg class='icon xr-icon-database'><use xlink:href='#icon-database'></use></svg></label><div class='xr-var-attrs'><dl class='xr-attrs'></dl></div><div class='xr-var-data'><pre>array([38, 38, 18, ..., 19, 15, 15])</pre></div></li><li class='xr-var-item'><div class='xr-var-name'><span>train_test</span></div><div class='xr-var-dims'>(_sequence)</div><div class='xr-var-dtype'>bool</div><div class='xr-var-preview xr-preview'>True True True ... True True True</div><input id='attrs-c1248449-2251-44ea-954d-67b49889977f' class='xr-var-attrs-in' type='checkbox' disabled><label for='attrs-c1248449-2251-44ea-954d-67b49889977f' title='Show/Hide attributes'><svg class='icon xr-icon-file-text2'><use xlink:href='#icon-file-text2'></use></svg></label><input id='data-623984b7-0472-4da2-b09d-1153e4c9fb94' class='xr-var-data-in' type='checkbox'><label for='data-623984b7-0472-4da2-b09d-1153e4c9fb94' title='Show/Hide data repr'><svg class='icon xr-icon-database'><use xlink:href='#icon-database'></use></svg></label><div class='xr-var-attrs'><dl class='xr-attrs'></dl></div><div class='xr-var-data'><pre>array([ True,  True,  True, ...,  True,  True,  True])</pre></div></li><li class='xr-var-item'><div class='xr-var-name'><span>train_val</span></div><div class='xr-var-dims'>(_sequence)</div><div class='xr-var-dtype'>bool</div><div class='xr-var-preview xr-preview'>False False False ... False False</div><input id='attrs-1e875db3-0ec4-4f8d-8b4d-7a5bd106197f' class='xr-var-attrs-in' type='checkbox' disabled><label for='attrs-1e875db3-0ec4-4f8d-8b4d-7a5bd106197f' title='Show/Hide attributes'><svg class='icon xr-icon-file-text2'><use xlink:href='#icon-file-text2'></use></svg></label><input id='data-9acee397-0ba2-4ccb-b10b-fbb4d25a88f8' class='xr-var-data-in' type='checkbox'><label for='data-9acee397-0ba2-4ccb-b10b-fbb4d25a88f8' title='Show/Hide data repr'><svg class='icon xr-icon-database'><use xlink:href='#icon-database'></use></svg></label><div class='xr-var-attrs'><dl class='xr-attrs'></dl></div><div class='xr-var-data'><pre>array([False, False, False, ..., False, False, False])</pre></div></li></ul></div></li><li class='xr-section-item'><input id='section-8927d1de-34c3-4860-89a4-4db5b4c0af21' class='xr-section-summary-in' type='checkbox' disabled ><label for='section-8927d1de-34c3-4860-89a4-4db5b4c0af21' class='xr-section-summary'  title='Expand/collapse section'>Indexes: <span>(0)</span></label><div class='xr-section-inline-details'></div><div class='xr-section-details'><ul class='xr-var-list'></ul></div></li><li class='xr-section-item'><input id='section-a8ec4162-5178-4fa0-9bd7-e7c7f8db0801' class='xr-section-summary-in' type='checkbox'  checked><label for='section-a8ec4162-5178-4fa0-9bd7-e7c7f8db0801' class='xr-section-summary' >Attributes: <span>(3)</span></label><div class='xr-section-inline-details'></div><div class='xr-section-details'><dl class='xr-attrs'><dt><span>length_dim :</span></dt><dd>_length</dd><dt><span>max_jitter :</span></dt><dd>32</dd><dt><span>sequence_dim :</span></dt><dd>_sequence</dd></dl></div></li></ul></div></div>"
      ],
      "text/plain": [
       "<xarray.Dataset>\n",
       "Dimensions:     (_sequence: 10482, _length: 364)\n",
       "Dimensions without coordinates: _sequence, _length\n",
       "Data variables: (12/13)\n",
       "    chrom       (_sequence) object 'chr2' 'chr2' 'chr2' ... 'chr16' 'chr16'\n",
       "    chromEnd    (_sequence) int64 3464380 3464430 3464514 ... 89471325 89481757\n",
       "    chromStart  (_sequence) int64 3464016 3464066 3464150 ... 89470961 89481393\n",
       "    control     (_sequence, _length) float32 0.0 0.0 0.0 0.0 ... 0.0 0.0 0.0 0.0\n",
       "    name        (_sequence) object 'ENSG00000171853.16' ... 'ENSG00000167522.17'\n",
       "    score       (_sequence) float64 1.0 1.0 1.0 1.0 1.0 ... 1.0 1.0 1.0 1.0 1.0\n",
       "    ...          ...\n",
       "    signal      (_sequence, _length) float32 0.0 0.0 0.0 0.0 ... 0.0 1.0 1.0 0.0\n",
       "    strand      (_sequence) object '+' '+' '+' '+' '+' ... '-' '-' '-' '-' '-'\n",
       "    thickEnd    (_sequence) int64 0 0 0 0 0 0 0 0 0 0 0 ... 0 0 0 0 0 0 0 0 0 0\n",
       "    thickStart  (_sequence) int64 38 38 18 33 28 21 22 ... 33 16 15 17 19 15 15\n",
       "    train_test  (_sequence) bool True True True True ... True True True True\n",
       "    train_val   (_sequence) bool False False False False ... False False False\n",
       "Attributes:\n",
       "    length_dim:    _length\n",
       "    max_jitter:    32\n",
       "    sequence_dim:  _sequence"
      ]
     },
     "execution_count": 5,
     "metadata": {},
     "output_type": "execute_result"
    }
   ],
   "source": [
    "valid_sdata"
   ]
  },
  {
   "cell_type": "markdown",
   "id": "58323c73-1488-4f24-a1cb-3c8083ffa774",
   "metadata": {},
   "source": [
    "# Model"
   ]
  },
  {
   "cell_type": "code",
   "execution_count": 6,
   "id": "d2bcc3f5-7cc4-489b-8016-b70e42bce13a",
   "metadata": {
    "execution": {
     "iopub.execute_input": "2023-12-28T18:05:34.605172Z",
     "iopub.status.busy": "2023-12-28T18:05:34.604778Z",
     "iopub.status.idle": "2023-12-28T18:05:34.635011Z",
     "shell.execute_reply": "2023-12-28T18:05:34.634692Z",
     "shell.execute_reply.started": "2023-12-28T18:05:34.605150Z"
    },
    "tags": []
   },
   "outputs": [],
   "source": [
    "# Model\n",
    "arch = RBPNet()"
   ]
  },
  {
   "cell_type": "code",
   "execution_count": 7,
   "id": "74635b35-ef1e-4291-9a4d-0773e384d6c2",
   "metadata": {
    "execution": {
     "iopub.execute_input": "2023-12-28T18:05:34.636853Z",
     "iopub.status.busy": "2023-12-28T18:05:34.636716Z",
     "iopub.status.idle": "2023-12-28T18:05:34.639651Z",
     "shell.execute_reply": "2023-12-28T18:05:34.639290Z",
     "shell.execute_reply.started": "2023-12-28T18:05:34.636840Z"
    },
    "tags": []
   },
   "outputs": [],
   "source": [
    "# LightningModule\n",
    "module = Module(\n",
    "    arch=arch,\n",
    "    input_variables=[\"seq\"],\n",
    "    output_variables=[\"eCLIP_profile\", \"signal_profile\", \"control_profile\", \"mixing_coefficient\"],\n",
    "    target_variables=[\"signal\", \"control\"],\n",
    "    loss_fxn=rbpnet_loss,\n",
    "    metrics_fxn=rbpnet_metrics\n",
    ")"
   ]
  },
  {
   "cell_type": "markdown",
   "id": "4ebb74d5-e87b-40af-ae8a-ea602f1a986b",
   "metadata": {},
   "source": [
    "# Training data"
   ]
  },
  {
   "cell_type": "code",
   "execution_count": 8,
   "id": "888c0886-9302-4fa6-9052-d4190a01a34e",
   "metadata": {
    "execution": {
     "iopub.execute_input": "2023-12-28T18:05:34.641869Z",
     "iopub.status.busy": "2023-12-28T18:05:34.641481Z",
     "iopub.status.idle": "2023-12-28T18:05:34.654574Z",
     "shell.execute_reply": "2023-12-28T18:05:34.654200Z",
     "shell.execute_reply.started": "2023-12-28T18:05:34.641849Z"
    },
    "tags": []
   },
   "outputs": [
    {
     "name": "stderr",
     "output_type": "stream",
     "text": [
      "/cellar/users/aklie/opt/miniconda3/envs/ml4gland/lib/python3.9/site-packages/xarray/core/utils.py:494: FutureWarning: The return type of `Dataset.dims` will be changed to return a set of dimension names in future, in order to be more consistent with `DataArray.dims`. To access a mapping from dimension names to lengths, please use `Dataset.sizes`.\n",
      "  warnings.warn(\n"
     ]
    }
   ],
   "source": [
    "# Training transforms\n",
    "def seq_trans(x):\n",
    "    x = np.char.upper(x)\n",
    "    x = sp.ohe(x, sp.alphabets.DNA)\n",
    "    x = x.swapaxes(1, 2)\n",
    "    return x\n",
    "\n",
    "def cov_dtype(x):\n",
    "    return tuple(arr.astype('f4') for arr in x)\n",
    "\n",
    "def jitter(x):\n",
    "    return sp.jitter(*x, max_jitter=32, length_axis=-1, jitter_axes=0)\n",
    "\n",
    "def to_tensor(x):\n",
    "    return tuple(torch.tensor(arr, dtype=torch.float32) for arr in x)\n",
    "\n",
    "# Get the train dataloader\n",
    "train_dl = sd.get_torch_dataloader(\n",
    "    train_sdata,\n",
    "    sample_dims=['_sequence'],\n",
    "    variables=['seq', 'control', 'signal'],\n",
    "    num_workers=0,\n",
    "    prefetch_factor=None,\n",
    "    batch_size=128,\n",
    "    transforms={\n",
    "        ('seq', 'control', 'signal'): jitter,\n",
    "        'seq': seq_trans,\n",
    "        ('control', 'signal'): cov_dtype,\n",
    "        ('control', 'seq', 'signal'): to_tensor,\n",
    "    },\n",
    "    return_tuples=False,\n",
    "    shuffle=True,\n",
    ")\n",
    "train_dl = DataloaderWrapper(train_dl, batch_per_epoch=1000)"
   ]
  },
  {
   "cell_type": "code",
   "execution_count": 9,
   "id": "880ee94f-1bdc-496a-8b13-0af9eed1c250",
   "metadata": {
    "execution": {
     "iopub.execute_input": "2023-12-28T18:05:34.655220Z",
     "iopub.status.busy": "2023-12-28T18:05:34.655083Z",
     "iopub.status.idle": "2023-12-28T18:05:34.740752Z",
     "shell.execute_reply": "2023-12-28T18:05:34.740403Z",
     "shell.execute_reply.started": "2023-12-28T18:05:34.655208Z"
    },
    "tags": []
   },
   "outputs": [
    {
     "data": {
      "text/plain": [
       "(torch.Size([128, 4, 300]), torch.Size([128, 300]), torch.Size([128, 300]))"
      ]
     },
     "execution_count": 9,
     "metadata": {},
     "output_type": "execute_result"
    }
   ],
   "source": [
    "# Test out batch\n",
    "inputs = next(iter(train_dl))\n",
    "inputs[\"seq\"].shape, inputs[\"control\"].shape, inputs[\"signal\"].shape"
   ]
  },
  {
   "cell_type": "code",
   "execution_count": 10,
   "id": "370a1183-15b5-46f8-9cc7-774c88d0ab4d",
   "metadata": {
    "execution": {
     "iopub.execute_input": "2023-12-28T18:05:34.742758Z",
     "iopub.status.busy": "2023-12-28T18:05:34.742584Z",
     "iopub.status.idle": "2023-12-28T18:05:35.313702Z",
     "shell.execute_reply": "2023-12-28T18:05:35.313304Z",
     "shell.execute_reply.started": "2023-12-28T18:05:34.742744Z"
    },
    "tags": []
   },
   "outputs": [
    {
     "name": "stderr",
     "output_type": "stream",
     "text": [
      "/cellar/users/aklie/opt/miniconda3/envs/ml4gland/lib/python3.9/site-packages/torch/nn/modules/conv.py:309: UserWarning: Using padding='same' with even kernel lengths and odd dilation may require a zero-padded copy of the input be created (Triggered internally at /opt/conda/conda-bld/pytorch_1678402412426/work/aten/src/ATen/native/Convolution.cpp:1003.)\n",
      "  return F.conv1d(input, weight, bias, self.stride,\n"
     ]
    },
    {
     "data": {
      "text/plain": [
       "(torch.Size([128, 300]), torch.Size([128, 300]))"
      ]
     },
     "execution_count": 10,
     "metadata": {},
     "output_type": "execute_result"
    }
   ],
   "source": [
    "# Predict a batch\n",
    "outputs = arch(inputs[\"seq\"])\n",
    "outputs_dict = {\"eCLIP_profile\": outputs[0], \"control_profile\": outputs[2]}\n",
    "outputs[0].shape, outputs[1].shape"
   ]
  },
  {
   "cell_type": "code",
   "execution_count": 11,
   "id": "3575cae5-520b-49bc-9970-184e97f812a4",
   "metadata": {
    "execution": {
     "iopub.execute_input": "2023-12-28T18:05:35.314681Z",
     "iopub.status.busy": "2023-12-28T18:05:35.314419Z",
     "iopub.status.idle": "2023-12-28T18:05:35.321692Z",
     "shell.execute_reply": "2023-12-28T18:05:35.321340Z",
     "shell.execute_reply.started": "2023-12-28T18:05:35.314665Z"
    },
    "tags": []
   },
   "outputs": [
    {
     "data": {
      "text/plain": [
       "tensor(41541.3359, grad_fn=<MeanBackward0>)"
      ]
     },
     "execution_count": 11,
     "metadata": {},
     "output_type": "execute_result"
    }
   ],
   "source": [
    "rbpnet_loss(\n",
    "    outputs=outputs_dict,\n",
    "    targets=inputs\n",
    ")[\"loss\"].mean()"
   ]
  },
  {
   "cell_type": "code",
   "execution_count": 12,
   "id": "91febe38-a4c2-42c3-bc70-ea7f0677658d",
   "metadata": {
    "execution": {
     "iopub.execute_input": "2023-12-28T18:05:35.322615Z",
     "iopub.status.busy": "2023-12-28T18:05:35.322356Z",
     "iopub.status.idle": "2023-12-28T18:05:35.338663Z",
     "shell.execute_reply": "2023-12-28T18:05:35.338318Z",
     "shell.execute_reply.started": "2023-12-28T18:05:35.322600Z"
    },
    "tags": []
   },
   "outputs": [
    {
     "data": {
      "text/plain": [
       "tensor(-0.0005, grad_fn=<MeanBackward0>)"
      ]
     },
     "execution_count": 12,
     "metadata": {},
     "output_type": "execute_result"
    }
   ],
   "source": [
    "rbpnet_metrics(\n",
    "    outputs=outputs_dict,\n",
    "    targets=inputs\n",
    ")[\"eCLIP_profile_pearson\"].mean()"
   ]
  },
  {
   "cell_type": "code",
   "execution_count": 13,
   "id": "4dc68891-e0ed-4769-97f8-e2d9d2322dfe",
   "metadata": {
    "execution": {
     "iopub.execute_input": "2023-12-28T18:05:35.347738Z",
     "iopub.status.busy": "2023-12-28T18:05:35.347417Z",
     "iopub.status.idle": "2023-12-28T18:05:35.358562Z",
     "shell.execute_reply": "2023-12-28T18:05:35.358129Z",
     "shell.execute_reply.started": "2023-12-28T18:05:35.347718Z"
    },
    "tags": []
   },
   "outputs": [],
   "source": [
    "# Functions\n",
    "def seq_trans(x):\n",
    "    x = np.char.upper(x)\n",
    "    x = sp.ohe(x, sp.alphabets.DNA)\n",
    "    x = x.swapaxes(1, 2)\n",
    "    x = x[..., 32:-32]\n",
    "    return x\n",
    "\n",
    "def cov_trans(x):\n",
    "    x = x[..., 32:-32]\n",
    "    return torch.as_tensor(x.astype('f4'))\n",
    "\n",
    "valid_dl = sd.get_torch_dataloader(\n",
    "    valid_sdata,\n",
    "    sample_dims=['_sequence'],\n",
    "    variables=['seq', 'control', 'signal'],\n",
    "    num_workers=0,\n",
    "    prefetch_factor=None,\n",
    "    batch_size=128,\n",
    "    transforms={\n",
    "        'seq': seq_trans,\n",
    "        'control': cov_trans,\n",
    "        'signal': cov_trans,\n",
    "    },\n",
    "    return_tuples=False,\n",
    "    shuffle=False,\n",
    ")"
   ]
  },
  {
   "cell_type": "code",
   "execution_count": 14,
   "id": "4823a24f-9557-4339-827c-de809438d937",
   "metadata": {
    "execution": {
     "iopub.execute_input": "2023-12-28T18:05:35.359570Z",
     "iopub.status.busy": "2023-12-28T18:05:35.359192Z",
     "iopub.status.idle": "2023-12-28T18:05:35.427648Z",
     "shell.execute_reply": "2023-12-28T18:05:35.427308Z",
     "shell.execute_reply.started": "2023-12-28T18:05:35.359549Z"
    },
    "tags": []
   },
   "outputs": [
    {
     "data": {
      "text/plain": [
       "(torch.Size([128, 4, 300]), torch.Size([128, 300]), torch.Size([128, 300]))"
      ]
     },
     "execution_count": 14,
     "metadata": {},
     "output_type": "execute_result"
    }
   ],
   "source": [
    "# Test a batch\n",
    "batch = next(iter(valid_dl))\n",
    "batch[\"seq\"].shape, batch[\"control\"].shape, batch[\"signal\"].shape"
   ]
  },
  {
   "cell_type": "markdown",
   "id": "a1545d98-ba6f-41ff-80de-ac9a4e4f101d",
   "metadata": {},
   "source": [
    "# Training"
   ]
  },
  {
   "cell_type": "code",
   "execution_count": 36,
   "id": "fc8b94e3-1dd3-4064-b661-8d9aa19a554f",
   "metadata": {
    "execution": {
     "iopub.execute_input": "2023-12-28T18:05:36.900625Z",
     "iopub.status.busy": "2023-12-28T18:05:36.900318Z",
     "iopub.status.idle": "2023-12-28T18:05:36.903212Z",
     "shell.execute_reply": "2023-12-28T18:05:36.902783Z",
     "shell.execute_reply.started": "2023-12-28T18:05:36.900610Z"
    },
    "tags": []
   },
   "outputs": [],
   "source": [
    "# Logger\n",
    "from pytorch_lightning.loggers import CSVLogger\n",
    "logger = CSVLogger(save_dir=log_dir, name=\"\", version=\"\")"
   ]
  },
  {
   "cell_type": "code",
   "execution_count": 40,
   "id": "633cd631-1918-45a2-8b56-36e5239cdbba",
   "metadata": {
    "execution": {
     "iopub.execute_input": "2023-12-28T18:05:37.474003Z",
     "iopub.status.busy": "2023-12-28T18:05:37.473648Z",
     "iopub.status.idle": "2023-12-28T18:05:37.484088Z",
     "shell.execute_reply": "2023-12-28T18:05:37.483697Z",
     "shell.execute_reply.started": "2023-12-28T18:05:37.473984Z"
    },
    "tags": []
   },
   "outputs": [
    {
     "data": {
      "text/plain": [
       "[<pytorch_lightning.callbacks.model_checkpoint.ModelCheckpoint at 0x155428129f40>,\n",
       " <pytorch_lightning.callbacks.lr_monitor.LearningRateMonitor at 0x1554287db160>]"
      ]
     },
     "execution_count": 40,
     "metadata": {},
     "output_type": "execute_result"
    }
   ],
   "source": [
    "# Set-up callbacks\n",
    "from pytorch_lightning.callbacks import ModelCheckpoint\n",
    "from pytorch_lightning.callbacks.early_stopping import EarlyStopping\n",
    "from pytorch_lightning.callbacks.lr_monitor import LearningRateMonitor\n",
    "callbacks = []\n",
    "model_checkpoint_callback = ModelCheckpoint(\n",
    "    dirpath=os.path.join(\n",
    "        logger.save_dir, \n",
    "        logger.name, \n",
    "        logger.version, \n",
    "        \"checkpoints\"\n",
    "    ),\n",
    "    save_top_k=5,\n",
    "    monitor=\"val_loss_epoch\",\n",
    ")\n",
    "callbacks.append(model_checkpoint_callback)\n",
    "early_stopping_callback = EarlyStopping(\n",
    "    monitor=\"val_loss_epoch\",\n",
    "    patience=10,\n",
    "    mode=\"min\",\n",
    "    verbose=False,\n",
    ")\n",
    "#callbacks.append(early_stopping_callback)\n",
    "callbacks.append(LearningRateMonitor())\n",
    "callbacks"
   ]
  },
  {
   "cell_type": "code",
   "execution_count": 41,
   "id": "886dddaf-def4-4313-bc57-cb4ffc655062",
   "metadata": {
    "execution": {
     "iopub.execute_input": "2023-12-28T18:05:38.042646Z",
     "iopub.status.busy": "2023-12-28T18:05:38.042380Z",
     "iopub.status.idle": "2023-12-28T18:05:40.179871Z",
     "shell.execute_reply": "2023-12-28T18:05:40.179401Z",
     "shell.execute_reply.started": "2023-12-28T18:05:38.042629Z"
    },
    "tags": []
   },
   "outputs": [
    {
     "name": "stderr",
     "output_type": "stream",
     "text": [
      "GPU available: True (cuda), used: True\n",
      "TPU available: False, using: 0 TPU cores\n",
      "IPU available: False, using: 0 IPUs\n",
      "HPU available: False, using: 0 HPUs\n"
     ]
    }
   ],
   "source": [
    "# Trainer\n",
    "from pytorch_lightning import Trainer\n",
    "trainer = Trainer(\n",
    "    max_epochs=100,\n",
    "    logger=logger,\n",
    "    devices=\"auto\",\n",
    "    accelerator=\"auto\",\n",
    "    callbacks=callbacks,\n",
    ")"
   ]
  },
  {
   "cell_type": "code",
   "execution_count": 42,
   "id": "28cede0a-aad5-4928-b84e-bcfd75ccfc97",
   "metadata": {
    "execution": {
     "iopub.execute_input": "2023-12-28T18:05:52.060009Z",
     "iopub.status.busy": "2023-12-28T18:05:52.059771Z",
     "iopub.status.idle": "2023-12-28T18:14:08.484953Z",
     "shell.execute_reply": "2023-12-28T18:14:08.484545Z",
     "shell.execute_reply.started": "2023-12-28T18:05:52.059994Z"
    },
    "tags": []
   },
   "outputs": [
    {
     "name": "stderr",
     "output_type": "stream",
     "text": [
      "You are using a CUDA device ('NVIDIA A30') that has Tensor Cores. To properly utilize them, you should set `torch.set_float32_matmul_precision('medium' | 'high')` which will trade-off precision for performance. For more details, read https://pytorch.org/docs/stable/generated/torch.set_float32_matmul_precision.html#torch.set_float32_matmul_precision\n",
      "LOCAL_RANK: 0 - CUDA_VISIBLE_DEVICES: [0]\n",
      "\n",
      "  | Name | Type   | Params\n",
      "--------------------------------\n",
      "0 | arch | RBPNet | 899 K \n",
      "--------------------------------\n",
      "899 K     Trainable params\n",
      "0         Non-trainable params\n",
      "899 K     Total params\n",
      "3.599     Total estimated model params size (MB)\n"
     ]
    },
    {
     "data": {
      "application/vnd.jupyter.widget-view+json": {
       "model_id": "afb6fcf439c8444e92b78624311dd19b",
       "version_major": 2,
       "version_minor": 0
      },
      "text/plain": [
       "Sanity Checking: 0it [00:00, ?it/s]"
      ]
     },
     "metadata": {},
     "output_type": "display_data"
    },
    {
     "data": {
      "application/vnd.jupyter.widget-view+json": {
       "model_id": "4fa963e855144552973103f10bfce9cf",
       "version_major": 2,
       "version_minor": 0
      },
      "text/plain": [
       "Training: 0it [00:00, ?it/s]"
      ]
     },
     "metadata": {},
     "output_type": "display_data"
    },
    {
     "name": "stderr",
     "output_type": "stream",
     "text": [
      "/cellar/users/aklie/opt/miniconda3/envs/ml4gland/lib/python3.9/site-packages/pytorch_lightning/callbacks/model_checkpoint.py:359: UserWarning: `ModelCheckpoint(monitor='val_loss_epoch')` could not find the monitored key in the returned metrics: ['train_loss', 'train_loss_epoch', 'train_eCLIP_loss_epoch', 'train_control_loss_epoch', 'train_eCLIP_profile_pearson_epoch', 'train_control_prolile_pearson_epoch', 'epoch', 'step']. HINT: Did you call `log('val_loss_epoch', value)` in the `LightningModule`?\n",
      "  warning_cache.warn(m)\n",
      "/cellar/users/aklie/opt/miniconda3/envs/ml4gland/lib/python3.9/site-packages/pytorch_lightning/trainer/call.py:54: UserWarning: Detected KeyboardInterrupt, attempting graceful shutdown...\n",
      "  rank_zero_warn(\"Detected KeyboardInterrupt, attempting graceful shutdown...\")\n"
     ]
    }
   ],
   "source": [
    "# Fit\n",
    "trainer.fit(\n",
    "    module, \n",
    "    train_dataloaders=train_dl, \n",
    "    val_dataloaders=valid_dl,\n",
    ")"
   ]
  },
  {
   "cell_type": "markdown",
   "id": "3b511c8b-fbcd-4888-9bb1-45122fb9a6f6",
   "metadata": {},
   "source": [
    "# DONE!"
   ]
  },
  {
   "cell_type": "markdown",
   "id": "39243828-f361-4246-a723-712da700c4d3",
   "metadata": {},
   "source": [
    "---"
   ]
  },
  {
   "cell_type": "markdown",
   "id": "0ed30b88-b2b4-4f51-8e6c-9b618c1d5bef",
   "metadata": {
    "execution": {
     "iopub.execute_input": "2023-12-28T14:41:13.753866Z",
     "iopub.status.busy": "2023-12-28T14:41:13.753619Z",
     "iopub.status.idle": "2023-12-28T14:41:15.369174Z",
     "shell.execute_reply": "2023-12-28T14:41:15.368784Z",
     "shell.execute_reply.started": "2023-12-28T14:41:13.753848Z"
    }
   },
   "source": [
    "# Scratch"
   ]
  },
  {
   "cell_type": "markdown",
   "id": "f4ff8bc5-c0ad-4f5b-a966-90913355a741",
   "metadata": {},
   "source": [
    "## Test predict"
   ]
  },
  {
   "cell_type": "code",
   "execution_count": 43,
   "id": "99080f2a-ab5e-4f75-8b15-386ecfd11c61",
   "metadata": {
    "execution": {
     "iopub.execute_input": "2023-12-28T18:18:11.267379Z",
     "iopub.status.busy": "2023-12-28T18:18:11.267118Z",
     "iopub.status.idle": "2023-12-28T18:18:11.269986Z",
     "shell.execute_reply": "2023-12-28T18:18:11.269534Z",
     "shell.execute_reply.started": "2023-12-28T18:18:11.267362Z"
    }
   },
   "outputs": [],
   "source": [
    "from metrics import pearson_corr"
   ]
  },
  {
   "cell_type": "code",
   "execution_count": 44,
   "id": "1f89f31a-9fcb-4ec9-9623-fa021985debc",
   "metadata": {
    "execution": {
     "iopub.execute_input": "2023-12-28T18:14:30.458508Z",
     "iopub.status.busy": "2023-12-28T18:14:30.458241Z",
     "iopub.status.idle": "2023-12-28T18:14:30.507347Z",
     "shell.execute_reply": "2023-12-28T18:14:30.506964Z",
     "shell.execute_reply.started": "2023-12-28T18:14:30.458491Z"
    }
   },
   "outputs": [],
   "source": [
    "test_sdata = sd.open_zarr(os.path.join(data_dir, 'test.zarr')).load()"
   ]
  },
  {
   "cell_type": "code",
   "execution_count": 45,
   "id": "175fd7d3-7a5e-43cd-bcea-de6cedf487ac",
   "metadata": {
    "execution": {
     "iopub.execute_input": "2023-12-28T18:16:25.674306Z",
     "iopub.status.busy": "2023-12-28T18:16:25.673893Z",
     "iopub.status.idle": "2023-12-28T18:16:25.934921Z",
     "shell.execute_reply": "2023-12-28T18:16:25.934438Z",
     "shell.execute_reply.started": "2023-12-28T18:16:25.674289Z"
    },
    "tags": []
   },
   "outputs": [],
   "source": [
    "X = sp.ohe(valid_sdata[\"seq\"].values[..., 32:-32], alphabet=sp.alphabets.DNA).transpose(0, 2, 1)"
   ]
  },
  {
   "cell_type": "code",
   "execution_count": 46,
   "id": "1bf1cfe1-efe7-4e5d-8ce5-201a14d39f30",
   "metadata": {
    "execution": {
     "iopub.execute_input": "2023-12-28T18:17:20.660493Z",
     "iopub.status.busy": "2023-12-28T18:17:20.660235Z",
     "iopub.status.idle": "2023-12-28T18:17:20.664464Z",
     "shell.execute_reply": "2023-12-28T18:17:20.664010Z",
     "shell.execute_reply.started": "2023-12-28T18:17:20.660477Z"
    },
    "tags": []
   },
   "outputs": [],
   "source": [
    "from tqdm import tqdm\n",
    "def predict(model, x, batch_size=128, verbose=True):\n",
    "    with torch.no_grad():\n",
    "        device = model.device\n",
    "        model.eval()\n",
    "        if isinstance(x, np.ndarray):\n",
    "            x = torch.from_numpy(x.astype(np.float32))\n",
    "        outs = []\n",
    "        for _, i in tqdm(\n",
    "            enumerate(range(0, len(x), batch_size)),\n",
    "            desc=\"Predicting on batches\",\n",
    "            total=len(x) // batch_size,\n",
    "            disable=not verbose,\n",
    "        ):\n",
    "            batch = x[i : i + batch_size].to(device)\n",
    "            out = model.arch(batch)[0].detach().cpu()\n",
    "            outs.append(out)\n",
    "        return torch.cat(outs)"
   ]
  },
  {
   "cell_type": "code",
   "execution_count": 47,
   "id": "7c6651c5",
   "metadata": {},
   "outputs": [
    {
     "data": {
      "text/plain": [
       "Module(\n",
       "  (arch): RBPNet(\n",
       "    (first_layer_conv): FirstLayerConv(\n",
       "      (layer): Conv1d(4, 128, kernel_size=(12,), stride=(1,), padding=same, bias=False)\n",
       "      (activation): ReLU()\n",
       "    )\n",
       "    (body_convs): ModuleList(\n",
       "      (0): BodyConv(\n",
       "        (conv1d_layer): Conv1d(128, 128, kernel_size=(6,), stride=(1,), padding=same, dilation=(2,))\n",
       "        (batch_norm): BatchNorm1d(128, eps=1e-05, momentum=0.1, affine=True, track_running_stats=True)\n",
       "        (activation): ReLU()\n",
       "        (dropout_layer): Dropout(p=0.25, inplace=False)\n",
       "      )\n",
       "      (1): BodyConv(\n",
       "        (conv1d_layer): Conv1d(128, 128, kernel_size=(6,), stride=(1,), padding=same, dilation=(4,))\n",
       "        (batch_norm): BatchNorm1d(128, eps=1e-05, momentum=0.1, affine=True, track_running_stats=True)\n",
       "        (activation): ReLU()\n",
       "        (dropout_layer): Dropout(p=0.25, inplace=False)\n",
       "      )\n",
       "      (2): BodyConv(\n",
       "        (conv1d_layer): Conv1d(128, 128, kernel_size=(6,), stride=(1,), padding=same, dilation=(8,))\n",
       "        (batch_norm): BatchNorm1d(128, eps=1e-05, momentum=0.1, affine=True, track_running_stats=True)\n",
       "        (activation): ReLU()\n",
       "        (dropout_layer): Dropout(p=0.25, inplace=False)\n",
       "      )\n",
       "      (3): BodyConv(\n",
       "        (conv1d_layer): Conv1d(128, 128, kernel_size=(6,), stride=(1,), padding=same, dilation=(16,))\n",
       "        (batch_norm): BatchNorm1d(128, eps=1e-05, momentum=0.1, affine=True, track_running_stats=True)\n",
       "        (activation): ReLU()\n",
       "        (dropout_layer): Dropout(p=0.25, inplace=False)\n",
       "      )\n",
       "      (4): BodyConv(\n",
       "        (conv1d_layer): Conv1d(128, 128, kernel_size=(6,), stride=(1,), padding=same, dilation=(32,))\n",
       "        (batch_norm): BatchNorm1d(128, eps=1e-05, momentum=0.1, affine=True, track_running_stats=True)\n",
       "        (activation): ReLU()\n",
       "        (dropout_layer): Dropout(p=0.25, inplace=False)\n",
       "      )\n",
       "      (5): BodyConv(\n",
       "        (conv1d_layer): Conv1d(128, 128, kernel_size=(6,), stride=(1,), padding=same, dilation=(64,))\n",
       "        (batch_norm): BatchNorm1d(128, eps=1e-05, momentum=0.1, affine=True, track_running_stats=True)\n",
       "        (activation): ReLU()\n",
       "        (dropout_layer): Dropout(p=0.25, inplace=False)\n",
       "      )\n",
       "      (6): BodyConv(\n",
       "        (conv1d_layer): Conv1d(128, 128, kernel_size=(6,), stride=(1,), padding=same, dilation=(128,))\n",
       "        (batch_norm): BatchNorm1d(128, eps=1e-05, momentum=0.1, affine=True, track_running_stats=True)\n",
       "        (activation): ReLU()\n",
       "        (dropout_layer): Dropout(p=0.25, inplace=False)\n",
       "      )\n",
       "      (7): BodyConv(\n",
       "        (conv1d_layer): Conv1d(128, 128, kernel_size=(6,), stride=(1,), padding=same, dilation=(256,))\n",
       "        (batch_norm): BatchNorm1d(128, eps=1e-05, momentum=0.1, affine=True, track_running_stats=True)\n",
       "        (activation): ReLU()\n",
       "        (dropout_layer): Dropout(p=0.25, inplace=False)\n",
       "      )\n",
       "      (8): BodyConv(\n",
       "        (conv1d_layer): Conv1d(128, 128, kernel_size=(6,), stride=(1,), padding=same, dilation=(512,))\n",
       "        (batch_norm): BatchNorm1d(128, eps=1e-05, momentum=0.1, affine=True, track_running_stats=True)\n",
       "        (activation): ReLU()\n",
       "        (dropout_layer): Dropout(p=0.25, inplace=False)\n",
       "      )\n",
       "    )\n",
       "    (mixing_coefficient): SequenceAdditiveMixingCoefficient(\n",
       "      (global_average_pooling): AdaptiveAvgPool1d(output_size=1)\n",
       "      (dense): Linear(in_features=128, out_features=1, bias=True)\n",
       "    )\n",
       "    (signal_head): ProfileHead(\n",
       "      (layer): ConvTranspose1d(128, 1, kernel_size=(21,), stride=(1,), padding=(10,))\n",
       "    )\n",
       "    (ctl_head): ProfileHead(\n",
       "      (layer): ConvTranspose1d(128, 1, kernel_size=(21,), stride=(1,), padding=(10,))\n",
       "    )\n",
       "    (target_bias_layer): AdditiveTargetBias()\n",
       "  )\n",
       ")"
      ]
     },
     "execution_count": 47,
     "metadata": {},
     "output_type": "execute_result"
    }
   ],
   "source": [
    "module.to(\"cuda\")"
   ]
  },
  {
   "cell_type": "code",
   "execution_count": 48,
   "id": "dd4eff70-fd68-4768-965a-b57a74af917e",
   "metadata": {
    "execution": {
     "iopub.execute_input": "2023-12-28T18:17:48.822638Z",
     "iopub.status.busy": "2023-12-28T18:17:48.822366Z",
     "iopub.status.idle": "2023-12-28T18:17:52.340507Z",
     "shell.execute_reply": "2023-12-28T18:17:52.340122Z",
     "shell.execute_reply.started": "2023-12-28T18:17:48.822623Z"
    },
    "tags": []
   },
   "outputs": [
    {
     "name": "stderr",
     "output_type": "stream",
     "text": [
      "Predicting on batches: 82it [00:00, 191.62it/s]                        \n"
     ]
    },
    {
     "data": {
      "text/plain": [
       "torch.Size([10482, 300])"
      ]
     },
     "execution_count": 48,
     "metadata": {},
     "output_type": "execute_result"
    }
   ],
   "source": [
    "y_pred = predict(module, X)\n",
    "y_pred.shape"
   ]
  },
  {
   "cell_type": "code",
   "execution_count": 49,
   "id": "14d7a0e3-c5a1-4fd6-9ba6-d4043f1360dd",
   "metadata": {
    "execution": {
     "iopub.execute_input": "2023-12-28T18:17:54.886330Z",
     "iopub.status.busy": "2023-12-28T18:17:54.886009Z",
     "iopub.status.idle": "2023-12-28T18:17:54.909104Z",
     "shell.execute_reply": "2023-12-28T18:17:54.908719Z",
     "shell.execute_reply.started": "2023-12-28T18:17:54.886314Z"
    },
    "tags": []
   },
   "outputs": [
    {
     "data": {
      "text/plain": [
       "torch.Size([10482, 300])"
      ]
     },
     "execution_count": 49,
     "metadata": {},
     "output_type": "execute_result"
    }
   ],
   "source": [
    "y_clip = torch.tensor(valid_sdata[\"signal\"].values[..., 32:-32].astype(\"float32\"), dtype=torch.float32)\n",
    "y_clip.shape"
   ]
  },
  {
   "cell_type": "code",
   "execution_count": 50,
   "id": "00c0b930-ecd7-4368-8c18-6f4d9a7e6073",
   "metadata": {
    "execution": {
     "iopub.execute_input": "2023-12-28T18:17:58.822928Z",
     "iopub.status.busy": "2023-12-28T18:17:58.822703Z",
     "iopub.status.idle": "2023-12-28T18:17:58.829822Z",
     "shell.execute_reply": "2023-12-28T18:17:58.829378Z",
     "shell.execute_reply.started": "2023-12-28T18:17:58.822913Z"
    },
    "tags": []
   },
   "outputs": [
    {
     "data": {
      "text/plain": [
       "torch.Size([10482, 1])"
      ]
     },
     "execution_count": 50,
     "metadata": {},
     "output_type": "execute_result"
    }
   ],
   "source": [
    "# sum along sequence axis (to get total counts)\n",
    "y_total = torch.sum(y_clip, axis=1)\n",
    "y_total = y_total.unsqueeze(1)\n",
    "y_total.shape"
   ]
  },
  {
   "cell_type": "code",
   "execution_count": 51,
   "id": "9d1664bd-e22b-4d79-b458-c1cccde3d5b9",
   "metadata": {
    "execution": {
     "iopub.execute_input": "2023-12-28T18:18:00.913176Z",
     "iopub.status.busy": "2023-12-28T18:18:00.912925Z",
     "iopub.status.idle": "2023-12-28T18:18:00.931804Z",
     "shell.execute_reply": "2023-12-28T18:18:00.931365Z",
     "shell.execute_reply.started": "2023-12-28T18:18:00.913159Z"
    },
    "tags": []
   },
   "outputs": [],
   "source": [
    "# compute softmax of logits along sequence axis\n",
    "probs = torch.nn.functional.softmax(y_pred, dim=1)"
   ]
  },
  {
   "cell_type": "code",
   "execution_count": 52,
   "id": "c1eeb5d6-9d1f-44a9-8326-7d73df76be14",
   "metadata": {
    "execution": {
     "iopub.execute_input": "2023-12-28T18:18:04.459718Z",
     "iopub.status.busy": "2023-12-28T18:18:04.459517Z",
     "iopub.status.idle": "2023-12-28T18:18:04.469044Z",
     "shell.execute_reply": "2023-12-28T18:18:04.468548Z",
     "shell.execute_reply.started": "2023-12-28T18:18:04.459704Z"
    },
    "tags": []
   },
   "outputs": [],
   "source": [
    "# return expected counts, i.e. probs * total_counts\n",
    "expected_counts = probs * y_total"
   ]
  },
  {
   "cell_type": "code",
   "execution_count": 53,
   "id": "d21e80ee-76bb-4103-a76e-d4a32be4a3d4",
   "metadata": {
    "execution": {
     "iopub.execute_input": "2023-12-28T18:24:38.575589Z",
     "iopub.status.busy": "2023-12-28T18:24:38.575156Z",
     "iopub.status.idle": "2023-12-28T18:24:38.633803Z",
     "shell.execute_reply": "2023-12-28T18:24:38.633322Z",
     "shell.execute_reply.started": "2023-12-28T18:24:38.575573Z"
    },
    "tags": []
   },
   "outputs": [
    {
     "data": {
      "text/plain": [
       "0.4757815"
      ]
     },
     "execution_count": 53,
     "metadata": {},
     "output_type": "execute_result"
    }
   ],
   "source": [
    "pearsons = pearson_corr(expected_counts, y_clip).detach().numpy()\n",
    "pearsons.mean()"
   ]
  },
  {
   "cell_type": "code",
   "execution_count": 31,
   "id": "f0b65d88-ce2d-4686-99d3-633cd10a82fa",
   "metadata": {
    "execution": {
     "iopub.execute_input": "2023-12-28T18:20:44.189413Z",
     "iopub.status.busy": "2023-12-28T18:20:44.189192Z",
     "iopub.status.idle": "2023-12-28T18:20:44.198290Z",
     "shell.execute_reply": "2023-12-28T18:20:44.197925Z",
     "shell.execute_reply.started": "2023-12-28T18:20:44.189398Z"
    },
    "tags": []
   },
   "outputs": [],
   "source": [
    "ordered_inds = np.argsort(pearsons)[::-1]"
   ]
  },
  {
   "cell_type": "code",
   "execution_count": 32,
   "id": "9977da59-0df8-4ffa-b919-a00a7b983f1f",
   "metadata": {
    "execution": {
     "iopub.execute_input": "2023-12-28T18:20:44.874386Z",
     "iopub.status.busy": "2023-12-28T18:20:44.874239Z",
     "iopub.status.idle": "2023-12-28T18:20:44.877443Z",
     "shell.execute_reply": "2023-12-28T18:20:44.877090Z",
     "shell.execute_reply.started": "2023-12-28T18:20:44.874373Z"
    },
    "tags": []
   },
   "outputs": [
    {
     "data": {
      "text/plain": [
       "array([0.9075208 , 0.858621  , 0.84974086, 0.8418054 , 0.84164447],\n",
       "      dtype=float32)"
      ]
     },
     "execution_count": 32,
     "metadata": {},
     "output_type": "execute_result"
    }
   ],
   "source": [
    "pearsons[ordered_inds[:5]]"
   ]
  },
  {
   "cell_type": "code",
   "execution_count": 33,
   "id": "0a0663e2-26eb-4b58-a26c-19ba2eb39d82",
   "metadata": {
    "execution": {
     "iopub.execute_input": "2023-12-28T18:26:45.036445Z",
     "iopub.status.busy": "2023-12-28T18:26:45.036084Z",
     "iopub.status.idle": "2023-12-28T18:26:45.039646Z",
     "shell.execute_reply": "2023-12-28T18:26:45.039282Z",
     "shell.execute_reply.started": "2023-12-28T18:26:45.036426Z"
    },
    "tags": []
   },
   "outputs": [
    {
     "data": {
      "text/plain": [
       "array([ 8581,  4040,     4,  4893,  4039,  4892,  2121,  4838,  4837,\n",
       "        3729,  8078,  5940,   296,   297,  4391,  3789,     3,  8582,\n",
       "        3788,   295,  3728,  3131,  8583,  5210,  3129,  8584,  4389,\n",
       "        4388,  8077,  3726,  3917,  3914,  9773,  3130, 10479,     2,\n",
       "        8572,   398,  3727,  1652,  4659,  6965,  6970,    58,    59,\n",
       "         460, 10478,  3132,  9670,  2467,  2459,  8079, 10480,   459,\n",
       "        5211,  3760,  3916,  3919,  2466,  2458,  6330,     1,  3915,\n",
       "        3918,  4233,  5712,  9647,  9509,  4390,  3871,  8076,  5710,\n",
       "        1697,  4960,  4387,  3761,  8080,  5191,  7662,  1978,  7661,\n",
       "        6335,  5212,  6753,  9693,  5193,  4386,  8742,  1699,  2808,\n",
       "        9671,  6824,  6856,  5192,  9672,  8589,  3868,  5711,  5709,\n",
       "        8081])"
      ]
     },
     "execution_count": 33,
     "metadata": {},
     "output_type": "execute_result"
    }
   ],
   "source": [
    "ordered_inds[:100]"
   ]
  },
  {
   "cell_type": "code",
   "execution_count": 34,
   "id": "017fe9d1-82c8-40b9-a06f-8eb61a3d7cbc",
   "metadata": {
    "execution": {
     "iopub.execute_input": "2023-12-28T18:18:24.458037Z",
     "iopub.status.busy": "2023-12-28T18:18:24.457866Z",
     "iopub.status.idle": "2023-12-28T18:18:25.138300Z",
     "shell.execute_reply": "2023-12-28T18:18:25.137867Z",
     "shell.execute_reply.started": "2023-12-28T18:18:24.458024Z"
    },
    "tags": []
   },
   "outputs": [],
   "source": [
    "import matplotlib.pyplot as plt"
   ]
  },
  {
   "cell_type": "code",
   "execution_count": 35,
   "id": "47c04553-7d12-4d3c-871e-6122484227c2",
   "metadata": {
    "execution": {
     "iopub.execute_input": "2023-12-28T18:26:58.292067Z",
     "iopub.status.busy": "2023-12-28T18:26:58.291804Z",
     "iopub.status.idle": "2023-12-28T18:26:58.868021Z",
     "shell.execute_reply": "2023-12-28T18:26:58.867520Z",
     "shell.execute_reply.started": "2023-12-28T18:26:58.292050Z"
    },
    "tags": []
   },
   "outputs": [
    {
     "data": {
      "text/plain": [
       "<matplotlib.legend.Legend at 0x15542870f7f0>"
      ]
     },
     "execution_count": 35,
     "metadata": {},
     "output_type": "execute_result"
    },
    {
     "data": {
      "image/png": "[encoded data removed]",
      "text/plain": [
       "<Figure size 640x480 with 1 Axes>"
      ]
     },
     "metadata": {},
     "output_type": "display_data"
    }
   ],
   "source": [
    "seq_num = 2444\n",
    "plt.title(f\"Pearson r: {pearsons[seq_num]}\")\n",
    "plt.plot(y_clip[seq_num].detach().numpy(), label=\"observed\")\n",
    "plt.plot(expected_counts[seq_num].detach().numpy(), label=\"predicted\")\n",
    "plt.legend()"
   ]
  }
 ],
 "metadata": {
  "kernelspec": {
   "display_name": "Python 3.9 ml4gland",
   "language": "python",
   "name": "ml4gland"
  }
 },
 "nbformat": 4,
 "nbformat_minor": 5
}
