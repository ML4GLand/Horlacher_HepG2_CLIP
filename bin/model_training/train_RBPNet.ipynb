{
 "cells": [
  {
   "cell_type": "markdown",
   "id": "2b6fb070-2c4a-4bc7-a537-90400b551c8a",
   "metadata": {},
   "source": [
    "# Set-up"
   ]
  },
  {
   "cell_type": "code",
   "execution_count": 1,
   "id": "779afecd-2201-40d0-80a5-dda295254f02",
   "metadata": {
    "execution": {
     "iopub.execute_input": "2023-12-28T18:05:02.330807Z",
     "iopub.status.busy": "2023-12-28T18:05:02.330506Z",
     "iopub.status.idle": "2023-12-28T18:05:33.800276Z",
     "shell.execute_reply": "2023-12-28T18:05:33.799831Z",
     "shell.execute_reply.started": "2023-12-28T18:05:02.330779Z"
    },
    "tags": []
   },
   "outputs": [],
   "source": [
    "import os\n",
    "import torch\n",
    "import numpy as np\n",
    "\n",
    "from RBPNet import RBPNet\n",
    "from losses import rbpnet_loss\n",
    "from metrics import rbpnet_metrics\n",
    "from module import Module\n",
    "from dataload import DataloaderWrapper\n",
    "\n",
    "import seqpro as sp\n",
    "import seqdata as sd\n",
    "from eugene import preprocess as pp"
   ]
  },
  {
   "cell_type": "code",
   "execution_count": 2,
   "id": "a95c65e8-4573-40b6-b87c-2aa6638c2f90",
   "metadata": {
    "execution": {
     "iopub.execute_input": "2023-12-28T18:05:33.806409Z",
     "iopub.status.busy": "2023-12-28T18:05:33.806235Z",
     "iopub.status.idle": "2023-12-28T18:05:33.808700Z",
     "shell.execute_reply": "2023-12-28T18:05:33.808263Z",
     "shell.execute_reply.started": "2023-12-28T18:05:33.806392Z"
    },
    "tags": []
   },
   "outputs": [],
   "source": [
    "# Paths\n",
    "data_dir = \"/cellar/users/aklie/data/datasets/Horlacher_HepG2_CLIP/training/2023_12_27/HepG2/U2AF2/\"\n",
    "log_dir = \"/cellar/users/aklie/data/datasets/Horlacher_HepG2_CLIP/models/2023_12_28/RBNet/rbpnet_chr19_U2AF2/v5/\""
   ]
  },
  {
   "cell_type": "markdown",
   "id": "93ad5df1-14d7-49e5-a198-ade38f556522",
   "metadata": {},
   "source": [
    "# Data"
   ]
  },
  {
   "cell_type": "code",
   "execution_count": 3,
   "id": "098fa74a-7c32-4743-9d0f-7e88cc7a1fae",
   "metadata": {
    "execution": {
     "iopub.execute_input": "2023-12-28T18:05:33.809580Z",
     "iopub.status.busy": "2023-12-28T18:05:33.809296Z",
     "iopub.status.idle": "2023-12-28T18:05:34.604125Z",
     "shell.execute_reply": "2023-12-28T18:05:34.603682Z",
     "shell.execute_reply.started": "2023-12-28T18:05:33.809559Z"
    },
    "tags": []
   },
   "outputs": [],
   "source": [
    "# Data\n",
    "train_sdata = sd.open_zarr(os.path.join(data_dir, 'train.zarr')).load()\n",
    "valid_sdata = sd.open_zarr(os.path.join(data_dir, 'valid.zarr')).load()"
   ]
  },
  {
   "cell_type": "markdown",
   "id": "58323c73-1488-4f24-a1cb-3c8083ffa774",
   "metadata": {},
   "source": [
    "# Model"
   ]
  },
  {
   "cell_type": "code",
   "execution_count": 4,
   "id": "d2bcc3f5-7cc4-489b-8016-b70e42bce13a",
   "metadata": {
    "execution": {
     "iopub.execute_input": "2023-12-28T18:05:34.605172Z",
     "iopub.status.busy": "2023-12-28T18:05:34.604778Z",
     "iopub.status.idle": "2023-12-28T18:05:34.635011Z",
     "shell.execute_reply": "2023-12-28T18:05:34.634692Z",
     "shell.execute_reply.started": "2023-12-28T18:05:34.605150Z"
    },
    "tags": []
   },
   "outputs": [],
   "source": [
    "# Model\n",
    "arch = RBPNet()"
   ]
  },
  {
   "cell_type": "code",
   "execution_count": 5,
   "id": "74635b35-ef1e-4291-9a4d-0773e384d6c2",
   "metadata": {
    "execution": {
     "iopub.execute_input": "2023-12-28T18:05:34.636853Z",
     "iopub.status.busy": "2023-12-28T18:05:34.636716Z",
     "iopub.status.idle": "2023-12-28T18:05:34.639651Z",
     "shell.execute_reply": "2023-12-28T18:05:34.639290Z",
     "shell.execute_reply.started": "2023-12-28T18:05:34.636840Z"
    },
    "tags": []
   },
   "outputs": [],
   "source": [
    "# LightningModule\n",
    "module = Module(\n",
    "    arch=arch,\n",
    "    input_variables=[\"seq\"],\n",
    "    output_variables=[\"eCLIP_profile\", \"signal_profile\", \"control_profile\", \"mixing_coefficient\"],\n",
    "    target_variables=[\"signal\", \"control\"],\n",
    "    loss_fxn=rbpnet_loss,\n",
    "    metrics_fxn=rbpnet_metrics\n",
    ")"
   ]
  },
  {
   "cell_type": "markdown",
   "id": "4ebb74d5-e87b-40af-ae8a-ea602f1a986b",
   "metadata": {},
   "source": [
    "# Training data"
   ]
  },
  {
   "cell_type": "code",
   "execution_count": 6,
   "id": "888c0886-9302-4fa6-9052-d4190a01a34e",
   "metadata": {
    "execution": {
     "iopub.execute_input": "2023-12-28T18:05:34.641869Z",
     "iopub.status.busy": "2023-12-28T18:05:34.641481Z",
     "iopub.status.idle": "2023-12-28T18:05:34.654574Z",
     "shell.execute_reply": "2023-12-28T18:05:34.654200Z",
     "shell.execute_reply.started": "2023-12-28T18:05:34.641849Z"
    },
    "tags": []
   },
   "outputs": [],
   "source": [
    "# Training transforms\n",
    "def seq_trans(x):\n",
    "    x = np.char.upper(x)\n",
    "    x = sp.ohe(x, sp.alphabets.DNA)\n",
    "    x = x.swapaxes(1, 2)\n",
    "    return x\n",
    "\n",
    "def cov_dtype(x):\n",
    "    return tuple(arr.astype('f4') for arr in x)\n",
    "\n",
    "def jitter(x):\n",
    "    return sp.jitter(*x, max_jitter=32, length_axis=-1, jitter_axes=0)\n",
    "\n",
    "def to_tensor(x):\n",
    "    return tuple(torch.tensor(arr, dtype=torch.float32) for arr in x)\n",
    "\n",
    "# Get the train dataloader\n",
    "train_dl = sd.get_torch_dataloader(\n",
    "    train_sdata,\n",
    "    sample_dims=['_sequence'],\n",
    "    variables=['seq', 'control', 'signal'],\n",
    "    num_workers=0,\n",
    "    prefetch_factor=None,\n",
    "    batch_size=128,\n",
    "    transforms={\n",
    "        ('seq', 'control', 'signal'): jitter,\n",
    "        'seq': seq_trans,\n",
    "        ('control', 'signal'): cov_dtype,\n",
    "        ('control', 'seq', 'signal'): to_tensor,\n",
    "    },\n",
    "    return_tuples=False,\n",
    "    shuffle=True,\n",
    ")\n",
    "train_dl = DataloaderWrapper(train_dl, batch_per_epoch=1000)"
   ]
  },
  {
   "cell_type": "code",
   "execution_count": 7,
   "id": "880ee94f-1bdc-496a-8b13-0af9eed1c250",
   "metadata": {
    "execution": {
     "iopub.execute_input": "2023-12-28T18:05:34.655220Z",
     "iopub.status.busy": "2023-12-28T18:05:34.655083Z",
     "iopub.status.idle": "2023-12-28T18:05:34.740752Z",
     "shell.execute_reply": "2023-12-28T18:05:34.740403Z",
     "shell.execute_reply.started": "2023-12-28T18:05:34.655208Z"
    },
    "tags": []
   },
   "outputs": [
    {
     "data": {
      "text/plain": [
       "(torch.Size([128, 4, 300]), torch.Size([128, 300]), torch.Size([128, 300]))"
      ]
     },
     "execution_count": 7,
     "metadata": {},
     "output_type": "execute_result"
    }
   ],
   "source": [
    "# Test out batch\n",
    "inputs = next(iter(train_dl))\n",
    "inputs[\"seq\"].shape, inputs[\"control\"].shape, inputs[\"signal\"].shape"
   ]
  },
  {
   "cell_type": "code",
   "execution_count": 8,
   "id": "370a1183-15b5-46f8-9cc7-774c88d0ab4d",
   "metadata": {
    "execution": {
     "iopub.execute_input": "2023-12-28T18:05:34.742758Z",
     "iopub.status.busy": "2023-12-28T18:05:34.742584Z",
     "iopub.status.idle": "2023-12-28T18:05:35.313702Z",
     "shell.execute_reply": "2023-12-28T18:05:35.313304Z",
     "shell.execute_reply.started": "2023-12-28T18:05:34.742744Z"
    },
    "tags": []
   },
   "outputs": [
    {
     "name": "stderr",
     "output_type": "stream",
     "text": [
      "/cellar/users/aklie/opt/miniconda3/envs/ml4gland/lib/python3.9/site-packages/torch/nn/modules/conv.py:309: UserWarning: Using padding='same' with even kernel lengths and odd dilation may require a zero-padded copy of the input be created (Triggered internally at /opt/conda/conda-bld/pytorch_1678402412426/work/aten/src/ATen/native/Convolution.cpp:1003.)\n",
      "  return F.conv1d(input, weight, bias, self.stride,\n"
     ]
    },
    {
     "data": {
      "text/plain": [
       "(torch.Size([128, 300]), torch.Size([128, 300]))"
      ]
     },
     "execution_count": 8,
     "metadata": {},
     "output_type": "execute_result"
    }
   ],
   "source": [
    "# Predict a batch\n",
    "outputs = arch(inputs[\"seq\"])\n",
    "outputs_dict = {\"eCLIP_profile\": outputs[0], \"control_profile\": outputs[2]}\n",
    "outputs[0].shape, outputs[1].shape"
   ]
  },
  {
   "cell_type": "code",
   "execution_count": 9,
   "id": "3575cae5-520b-49bc-9970-184e97f812a4",
   "metadata": {
    "execution": {
     "iopub.execute_input": "2023-12-28T18:05:35.314681Z",
     "iopub.status.busy": "2023-12-28T18:05:35.314419Z",
     "iopub.status.idle": "2023-12-28T18:05:35.321692Z",
     "shell.execute_reply": "2023-12-28T18:05:35.321340Z",
     "shell.execute_reply.started": "2023-12-28T18:05:35.314665Z"
    },
    "tags": []
   },
   "outputs": [
    {
     "data": {
      "text/plain": [
       "tensor(2916.9089, grad_fn=<MeanBackward0>)"
      ]
     },
     "execution_count": 9,
     "metadata": {},
     "output_type": "execute_result"
    }
   ],
   "source": [
    "rbpnet_loss(\n",
    "    outputs=outputs_dict,\n",
    "    targets=inputs\n",
    ")[\"loss\"].mean()"
   ]
  },
  {
   "cell_type": "code",
   "execution_count": 10,
   "id": "91febe38-a4c2-42c3-bc70-ea7f0677658d",
   "metadata": {
    "execution": {
     "iopub.execute_input": "2023-12-28T18:05:35.322615Z",
     "iopub.status.busy": "2023-12-28T18:05:35.322356Z",
     "iopub.status.idle": "2023-12-28T18:05:35.338663Z",
     "shell.execute_reply": "2023-12-28T18:05:35.338318Z",
     "shell.execute_reply.started": "2023-12-28T18:05:35.322600Z"
    },
    "tags": []
   },
   "outputs": [
    {
     "data": {
      "text/plain": [
       "tensor(-0.0026, grad_fn=<MeanBackward0>)"
      ]
     },
     "execution_count": 10,
     "metadata": {},
     "output_type": "execute_result"
    }
   ],
   "source": [
    "rbpnet_metrics(\n",
    "    outputs=outputs_dict,\n",
    "    targets=inputs\n",
    ")[\"eCLIP_profile_pearson\"].mean()"
   ]
  },
  {
   "cell_type": "code",
   "execution_count": 12,
   "id": "4dc68891-e0ed-4769-97f8-e2d9d2322dfe",
   "metadata": {
    "execution": {
     "iopub.execute_input": "2023-12-28T18:05:35.347738Z",
     "iopub.status.busy": "2023-12-28T18:05:35.347417Z",
     "iopub.status.idle": "2023-12-28T18:05:35.358562Z",
     "shell.execute_reply": "2023-12-28T18:05:35.358129Z",
     "shell.execute_reply.started": "2023-12-28T18:05:35.347718Z"
    },
    "tags": []
   },
   "outputs": [],
   "source": [
    "# Functions\n",
    "def seq_trans(x):\n",
    "    x = np.char.upper(x)\n",
    "    x = sp.ohe(x, sp.alphabets.DNA)\n",
    "    x = x.swapaxes(1, 2)\n",
    "    x = x[..., 32:-32]\n",
    "    return x\n",
    "\n",
    "def cov_trans(x):\n",
    "    x = x[..., 32:-32]\n",
    "    return torch.as_tensor(x.astype('f4'))\n",
    "\n",
    "valid_dl = sd.get_torch_dataloader(\n",
    "    valid_sdata,\n",
    "    sample_dims=['_sequence'],\n",
    "    variables=['seq', 'control', 'signal'],\n",
    "    num_workers=0,\n",
    "    prefetch_factor=None,\n",
    "    batch_size=128,\n",
    "    transforms={\n",
    "        'seq': seq_trans,\n",
    "        'control': cov_trans,\n",
    "        'signal': cov_trans,\n",
    "    },\n",
    "    return_tuples=False,\n",
    "    shuffle=False,\n",
    ")"
   ]
  },
  {
   "cell_type": "code",
   "execution_count": 13,
   "id": "4823a24f-9557-4339-827c-de809438d937",
   "metadata": {
    "execution": {
     "iopub.execute_input": "2023-12-28T18:05:35.359570Z",
     "iopub.status.busy": "2023-12-28T18:05:35.359192Z",
     "iopub.status.idle": "2023-12-28T18:05:35.427648Z",
     "shell.execute_reply": "2023-12-28T18:05:35.427308Z",
     "shell.execute_reply.started": "2023-12-28T18:05:35.359549Z"
    },
    "tags": []
   },
   "outputs": [
    {
     "data": {
      "text/plain": [
       "(torch.Size([128, 4, 300]), torch.Size([128, 300]), torch.Size([128, 300]))"
      ]
     },
     "execution_count": 13,
     "metadata": {},
     "output_type": "execute_result"
    }
   ],
   "source": [
    "# Test a batch\n",
    "batch = next(iter(valid_dl))\n",
    "batch[\"seq\"].shape, batch[\"control\"].shape, batch[\"signal\"].shape"
   ]
  },
  {
   "cell_type": "markdown",
   "id": "a1545d98-ba6f-41ff-80de-ac9a4e4f101d",
   "metadata": {},
   "source": [
    "# Training"
   ]
  },
  {
   "cell_type": "code",
   "execution_count": 14,
   "id": "fc8b94e3-1dd3-4064-b661-8d9aa19a554f",
   "metadata": {
    "execution": {
     "iopub.execute_input": "2023-12-28T18:05:36.900625Z",
     "iopub.status.busy": "2023-12-28T18:05:36.900318Z",
     "iopub.status.idle": "2023-12-28T18:05:36.903212Z",
     "shell.execute_reply": "2023-12-28T18:05:36.902783Z",
     "shell.execute_reply.started": "2023-12-28T18:05:36.900610Z"
    },
    "tags": []
   },
   "outputs": [],
   "source": [
    "# Logger\n",
    "from pytorch_lightning.loggers import CSVLogger\n",
    "logger = CSVLogger(save_dir=log_dir, name=\"\", version=\"\")"
   ]
  },
  {
   "cell_type": "code",
   "execution_count": 15,
   "id": "633cd631-1918-45a2-8b56-36e5239cdbba",
   "metadata": {
    "execution": {
     "iopub.execute_input": "2023-12-28T18:05:37.474003Z",
     "iopub.status.busy": "2023-12-28T18:05:37.473648Z",
     "iopub.status.idle": "2023-12-28T18:05:37.484088Z",
     "shell.execute_reply": "2023-12-28T18:05:37.483697Z",
     "shell.execute_reply.started": "2023-12-28T18:05:37.473984Z"
    },
    "tags": []
   },
   "outputs": [
    {
     "data": {
      "text/plain": [
       "[<pytorch_lightning.callbacks.model_checkpoint.ModelCheckpoint at 0x15541c2c0af0>,\n",
       " <pytorch_lightning.callbacks.early_stopping.EarlyStopping at 0x15541c2c0c10>,\n",
       " <pytorch_lightning.callbacks.lr_monitor.LearningRateMonitor at 0x15544edbad60>]"
      ]
     },
     "execution_count": 15,
     "metadata": {},
     "output_type": "execute_result"
    }
   ],
   "source": [
    "# Set-up callbacks\n",
    "from pytorch_lightning.callbacks import ModelCheckpoint\n",
    "from pytorch_lightning.callbacks.early_stopping import EarlyStopping\n",
    "from pytorch_lightning.callbacks.lr_monitor import LearningRateMonitor\n",
    "callbacks = []\n",
    "model_checkpoint_callback = ModelCheckpoint(\n",
    "    dirpath=os.path.join(\n",
    "        logger.save_dir, \n",
    "        logger.name, \n",
    "        logger.version, \n",
    "        \"checkpoints\"\n",
    "    ),\n",
    "    save_top_k=5,\n",
    "    monitor=\"val_loss_epoch\",\n",
    ")\n",
    "callbacks.append(model_checkpoint_callback)\n",
    "early_stopping_callback = EarlyStopping(\n",
    "    monitor=\"val_loss_epoch\",\n",
    "    patience=10,\n",
    "    mode=\"min\",\n",
    "    verbose=False,\n",
    ")\n",
    "callbacks.append(early_stopping_callback)\n",
    "callbacks.append(LearningRateMonitor())\n",
    "callbacks"
   ]
  },
  {
   "cell_type": "code",
   "execution_count": 16,
   "id": "886dddaf-def4-4313-bc57-cb4ffc655062",
   "metadata": {
    "execution": {
     "iopub.execute_input": "2023-12-28T18:05:38.042646Z",
     "iopub.status.busy": "2023-12-28T18:05:38.042380Z",
     "iopub.status.idle": "2023-12-28T18:05:40.179871Z",
     "shell.execute_reply": "2023-12-28T18:05:40.179401Z",
     "shell.execute_reply.started": "2023-12-28T18:05:38.042629Z"
    },
    "tags": []
   },
   "outputs": [
    {
     "name": "stderr",
     "output_type": "stream",
     "text": [
      "/cellar/users/aklie/opt/miniconda3/envs/ml4gland/lib/python3.9/site-packages/lightning_fabric/plugins/environments/slurm.py:165: PossibleUserWarning: The `srun` command is available on your system but is not used. HINT: If your intention is to run Lightning on SLURM, prepend your python command with `srun` like so: srun python /cellar/users/aklie/opt/miniconda3/envs/ml4gland/lib ...\n",
      "  rank_zero_warn(\n",
      "GPU available: True (cuda), used: True\n",
      "TPU available: False, using: 0 TPU cores\n",
      "IPU available: False, using: 0 IPUs\n",
      "HPU available: False, using: 0 HPUs\n"
     ]
    }
   ],
   "source": [
    "# Trainer\n",
    "from pytorch_lightning import Trainer\n",
    "trainer = Trainer(\n",
    "    max_epochs=100,\n",
    "    logger=logger,\n",
    "    devices=\"auto\",\n",
    "    accelerator=\"auto\",\n",
    "    callbacks=callbacks,\n",
    ")"
   ]
  },
  {
   "cell_type": "code",
   "execution_count": 17,
   "id": "28cede0a-aad5-4928-b84e-bcfd75ccfc97",
   "metadata": {
    "execution": {
     "iopub.execute_input": "2023-12-28T18:05:52.060009Z",
     "iopub.status.busy": "2023-12-28T18:05:52.059771Z",
     "iopub.status.idle": "2023-12-28T18:14:08.484953Z",
     "shell.execute_reply": "2023-12-28T18:14:08.484545Z",
     "shell.execute_reply.started": "2023-12-28T18:05:52.059994Z"
    },
    "tags": []
   },
   "outputs": [
    {
     "name": "stderr",
     "output_type": "stream",
     "text": [
      "/cellar/users/aklie/opt/miniconda3/envs/ml4gland/lib/python3.9/site-packages/lightning_fabric/plugins/environments/slurm.py:165: PossibleUserWarning: The `srun` command is available on your system but is not used. HINT: If your intention is to run Lightning on SLURM, prepend your python command with `srun` like so: srun python /cellar/users/aklie/opt/miniconda3/envs/ml4gland/lib ...\n",
      "  rank_zero_warn(\n",
      "You are using a CUDA device ('NVIDIA A30') that has Tensor Cores. To properly utilize them, you should set `torch.set_float32_matmul_precision('medium' | 'high')` which will trade-off precision for performance. For more details, read https://pytorch.org/docs/stable/generated/torch.set_float32_matmul_precision.html#torch.set_float32_matmul_precision\n",
      "LOCAL_RANK: 0 - CUDA_VISIBLE_DEVICES: [0]\n",
      "\n",
      "  | Name | Type   | Params\n",
      "--------------------------------\n",
      "0 | arch | RBPNet | 899 K \n",
      "--------------------------------\n",
      "899 K     Trainable params\n",
      "0         Non-trainable params\n",
      "899 K     Total params\n",
      "3.599     Total estimated model params size (MB)\n"
     ]
    },
    {
     "data": {
      "application/vnd.jupyter.widget-view+json": {
       "model_id": "",
       "version_major": 2,
       "version_minor": 0
      },
      "text/plain": [
       "Sanity Checking: 0it [00:00, ?it/s]"
      ]
     },
     "metadata": {},
     "output_type": "display_data"
    },
    {
     "name": "stderr",
     "output_type": "stream",
     "text": [
      "/cellar/users/aklie/opt/miniconda3/envs/ml4gland/lib/python3.9/site-packages/pytorch_lightning/trainer/connectors/data_connector.py:430: PossibleUserWarning: The dataloader, val_dataloader, does not have many workers which may be a bottleneck. Consider increasing the value of the `num_workers` argument` (try 64 which is the number of cpus on this machine) in the `DataLoader` init to improve performance.\n",
      "  rank_zero_warn(\n"
     ]
    },
    {
     "data": {
      "application/vnd.jupyter.widget-view+json": {
       "model_id": "1e41c9710f024df1a3808246faa2062e",
       "version_major": 2,
       "version_minor": 0
      },
      "text/plain": [
       "Training: 0it [00:00, ?it/s]"
      ]
     },
     "metadata": {},
     "output_type": "display_data"
    },
    {
     "data": {
      "application/vnd.jupyter.widget-view+json": {
       "model_id": "",
       "version_major": 2,
       "version_minor": 0
      },
      "text/plain": [
       "Validation: 0it [00:00, ?it/s]"
      ]
     },
     "metadata": {},
     "output_type": "display_data"
    },
    {
     "data": {
      "application/vnd.jupyter.widget-view+json": {
       "model_id": "",
       "version_major": 2,
       "version_minor": 0
      },
      "text/plain": [
       "Validation: 0it [00:00, ?it/s]"
      ]
     },
     "metadata": {},
     "output_type": "display_data"
    },
    {
     "data": {
      "application/vnd.jupyter.widget-view+json": {
       "model_id": "",
       "version_major": 2,
       "version_minor": 0
      },
      "text/plain": [
       "Validation: 0it [00:00, ?it/s]"
      ]
     },
     "metadata": {},
     "output_type": "display_data"
    },
    {
     "name": "stderr",
     "output_type": "stream",
     "text": [
      "/cellar/users/aklie/opt/miniconda3/envs/ml4gland/lib/python3.9/site-packages/pytorch_lightning/trainer/call.py:54: UserWarning: Detected KeyboardInterrupt, attempting graceful shutdown...\n",
      "  rank_zero_warn(\"Detected KeyboardInterrupt, attempting graceful shutdown...\")\n"
     ]
    }
   ],
   "source": [
    "# Fit\n",
    "trainer.fit(\n",
    "    module, \n",
    "    train_dataloaders=train_dl, \n",
    "    val_dataloaders=valid_dl,\n",
    ")"
   ]
  },
  {
   "cell_type": "markdown",
   "id": "3b511c8b-fbcd-4888-9bb1-45122fb9a6f6",
   "metadata": {},
   "source": [
    "## DONE!"
   ]
  },
  {
   "cell_type": "markdown",
   "id": "39243828-f361-4246-a723-712da700c4d3",
   "metadata": {},
   "source": [
    "---"
   ]
  },
  {
   "cell_type": "markdown",
   "id": "0ed30b88-b2b4-4f51-8e6c-9b618c1d5bef",
   "metadata": {
    "execution": {
     "iopub.execute_input": "2023-12-28T14:41:13.753866Z",
     "iopub.status.busy": "2023-12-28T14:41:13.753619Z",
     "iopub.status.idle": "2023-12-28T14:41:15.369174Z",
     "shell.execute_reply": "2023-12-28T14:41:15.368784Z",
     "shell.execute_reply.started": "2023-12-28T14:41:13.753848Z"
    }
   },
   "source": [
    "# Scratch"
   ]
  },
  {
   "cell_type": "markdown",
   "id": "f4ff8bc5-c0ad-4f5b-a966-90913355a741",
   "metadata": {},
   "source": [
    "## Test predict"
   ]
  },
  {
   "cell_type": "code",
   "execution_count": 41,
   "id": "99080f2a-ab5e-4f75-8b15-386ecfd11c61",
   "metadata": {
    "execution": {
     "iopub.execute_input": "2023-12-28T18:18:11.267379Z",
     "iopub.status.busy": "2023-12-28T18:18:11.267118Z",
     "iopub.status.idle": "2023-12-28T18:18:11.269986Z",
     "shell.execute_reply": "2023-12-28T18:18:11.269534Z",
     "shell.execute_reply.started": "2023-12-28T18:18:11.267362Z"
    }
   },
   "outputs": [],
   "source": [
    "from metrics import pearson_corr"
   ]
  },
  {
   "cell_type": "code",
   "execution_count": 18,
   "id": "1f89f31a-9fcb-4ec9-9623-fa021985debc",
   "metadata": {
    "execution": {
     "iopub.execute_input": "2023-12-28T18:14:30.458508Z",
     "iopub.status.busy": "2023-12-28T18:14:30.458241Z",
     "iopub.status.idle": "2023-12-28T18:14:30.507347Z",
     "shell.execute_reply": "2023-12-28T18:14:30.506964Z",
     "shell.execute_reply.started": "2023-12-28T18:14:30.458491Z"
    }
   },
   "outputs": [],
   "source": [
    "test_sdata = sd.open_zarr(os.path.join(data_dir, 'test.zarr')).load()"
   ]
  },
  {
   "cell_type": "code",
   "execution_count": 23,
   "id": "175fd7d3-7a5e-43cd-bcea-de6cedf487ac",
   "metadata": {
    "execution": {
     "iopub.execute_input": "2023-12-28T18:16:25.674306Z",
     "iopub.status.busy": "2023-12-28T18:16:25.673893Z",
     "iopub.status.idle": "2023-12-28T18:16:25.934921Z",
     "shell.execute_reply": "2023-12-28T18:16:25.934438Z",
     "shell.execute_reply.started": "2023-12-28T18:16:25.674289Z"
    },
    "tags": []
   },
   "outputs": [],
   "source": [
    "X = sp.ohe(valid_sdata[\"seq\"].values[..., 32:-32], alphabet=sp.alphabets.DNA).transpose(0, 2, 1)"
   ]
  },
  {
   "cell_type": "code",
   "execution_count": 30,
   "id": "1bf1cfe1-efe7-4e5d-8ce5-201a14d39f30",
   "metadata": {
    "execution": {
     "iopub.execute_input": "2023-12-28T18:17:20.660493Z",
     "iopub.status.busy": "2023-12-28T18:17:20.660235Z",
     "iopub.status.idle": "2023-12-28T18:17:20.664464Z",
     "shell.execute_reply": "2023-12-28T18:17:20.664010Z",
     "shell.execute_reply.started": "2023-12-28T18:17:20.660477Z"
    },
    "tags": []
   },
   "outputs": [],
   "source": [
    "from tqdm import tqdm\n",
    "def predict(model, x, batch_size=128, verbose=True):\n",
    "    with torch.no_grad():\n",
    "        device = model.device\n",
    "        model.eval()\n",
    "        if isinstance(x, np.ndarray):\n",
    "            x = torch.from_numpy(x.astype(np.float32))\n",
    "        outs = []\n",
    "        for _, i in tqdm(\n",
    "            enumerate(range(0, len(x), batch_size)),\n",
    "            desc=\"Predicting on batches\",\n",
    "            total=len(x) // batch_size,\n",
    "            disable=not verbose,\n",
    "        ):\n",
    "            batch = x[i : i + batch_size].to(device)\n",
    "            out = model.arch(batch)[0].detach().cpu()\n",
    "            outs.append(out)\n",
    "        return torch.cat(outs)"
   ]
  },
  {
   "cell_type": "code",
   "execution_count": 34,
   "id": "dd4eff70-fd68-4768-965a-b57a74af917e",
   "metadata": {
    "execution": {
     "iopub.execute_input": "2023-12-28T18:17:48.822638Z",
     "iopub.status.busy": "2023-12-28T18:17:48.822366Z",
     "iopub.status.idle": "2023-12-28T18:17:52.340507Z",
     "shell.execute_reply": "2023-12-28T18:17:52.340122Z",
     "shell.execute_reply.started": "2023-12-28T18:17:48.822623Z"
    },
    "tags": []
   },
   "outputs": [
    {
     "name": "stderr",
     "output_type": "stream",
     "text": [
      "\n",
      "Predicting on batches:   0%|          | 0/718 [00:00<?, ?it/s]\u001b[A\n",
      "Predicting on batches:   2%|▏         | 17/718 [00:00<00:04, 168.84it/s]\u001b[A\n",
      "Predicting on batches:   5%|▌         | 37/718 [00:00<00:03, 183.15it/s]\u001b[A\n",
      "Predicting on batches:   8%|▊         | 59/718 [00:00<00:03, 195.83it/s]\u001b[A\n",
      "Predicting on batches:  11%|█▏        | 81/718 [00:00<00:03, 201.58it/s]\u001b[A\n",
      "Predicting on batches:  14%|█▍        | 102/718 [00:00<00:03, 204.39it/s]\u001b[A\n",
      "Predicting on batches:  17%|█▋        | 124/718 [00:00<00:02, 206.48it/s]\u001b[A\n",
      "Predicting on batches:  20%|██        | 146/718 [00:00<00:02, 207.81it/s]\u001b[A\n",
      "Predicting on batches:  23%|██▎       | 168/718 [00:00<00:02, 208.55it/s]\u001b[A\n",
      "Predicting on batches:  26%|██▋       | 189/718 [00:00<00:02, 208.97it/s]\u001b[A\n",
      "Predicting on batches:  29%|██▉       | 210/718 [00:01<00:02, 209.16it/s]\u001b[A\n",
      "Predicting on batches:  32%|███▏      | 231/718 [00:01<00:02, 208.49it/s]\u001b[A\n",
      "Predicting on batches:  35%|███▌      | 252/718 [00:01<00:02, 208.05it/s]\u001b[A\n",
      "Predicting on batches:  38%|███▊      | 273/718 [00:01<00:02, 208.38it/s]\u001b[A\n",
      "Predicting on batches:  41%|████      | 294/718 [00:01<00:02, 208.70it/s]\u001b[A\n",
      "Predicting on batches:  44%|████▍     | 315/718 [00:01<00:01, 208.85it/s]\u001b[A\n",
      "Predicting on batches:  47%|████▋     | 337/718 [00:01<00:01, 209.30it/s]\u001b[A\n",
      "Predicting on batches:  50%|█████     | 359/718 [00:01<00:01, 209.69it/s]\u001b[A\n",
      "Predicting on batches:  53%|█████▎    | 381/718 [00:01<00:01, 209.89it/s]\u001b[A\n",
      "Predicting on batches:  56%|█████▌    | 403/718 [00:01<00:01, 210.09it/s]\u001b[A\n",
      "Predicting on batches:  59%|█████▉    | 425/718 [00:02<00:01, 209.75it/s]\u001b[A\n",
      "Predicting on batches:  62%|██████▏   | 446/718 [00:02<00:01, 209.60it/s]\u001b[A\n",
      "Predicting on batches:  65%|██████▌   | 467/718 [00:02<00:01, 209.23it/s]\u001b[A\n",
      "Predicting on batches:  68%|██████▊   | 488/718 [00:02<00:01, 209.23it/s]\u001b[A\n",
      "Predicting on batches:  71%|███████   | 509/718 [00:02<00:00, 209.28it/s]\u001b[A\n",
      "Predicting on batches:  74%|███████▍  | 530/718 [00:02<00:00, 209.48it/s]\u001b[A\n",
      "Predicting on batches:  77%|███████▋  | 551/718 [00:02<00:00, 209.57it/s]\u001b[A\n",
      "Predicting on batches:  80%|███████▉  | 572/718 [00:02<00:00, 209.37it/s]\u001b[A\n",
      "Predicting on batches:  83%|████████▎ | 593/718 [00:02<00:00, 209.31it/s]\u001b[A\n",
      "Predicting on batches:  86%|████████▌ | 614/718 [00:02<00:00, 209.33it/s]\u001b[A\n",
      "Predicting on batches:  88%|████████▊ | 635/718 [00:03<00:00, 209.38it/s]\u001b[A\n",
      "Predicting on batches:  91%|█████████▏| 656/718 [00:03<00:00, 209.55it/s]\u001b[A\n",
      "Predicting on batches:  94%|█████████▍| 677/718 [00:03<00:00, 209.50it/s]\u001b[A\n",
      "Predicting on batches: 719it [00:03, 208.02it/s]                         \u001b[A\n"
     ]
    },
    {
     "data": {
      "text/plain": [
       "torch.Size([91955, 300])"
      ]
     },
     "execution_count": 34,
     "metadata": {},
     "output_type": "execute_result"
    }
   ],
   "source": [
    "y_pred = predict(module, X)\n",
    "y_pred.shape"
   ]
  },
  {
   "cell_type": "code",
   "execution_count": 35,
   "id": "14d7a0e3-c5a1-4fd6-9ba6-d4043f1360dd",
   "metadata": {
    "execution": {
     "iopub.execute_input": "2023-12-28T18:17:54.886330Z",
     "iopub.status.busy": "2023-12-28T18:17:54.886009Z",
     "iopub.status.idle": "2023-12-28T18:17:54.909104Z",
     "shell.execute_reply": "2023-12-28T18:17:54.908719Z",
     "shell.execute_reply.started": "2023-12-28T18:17:54.886314Z"
    },
    "tags": []
   },
   "outputs": [
    {
     "data": {
      "text/plain": [
       "torch.Size([91955, 300])"
      ]
     },
     "execution_count": 35,
     "metadata": {},
     "output_type": "execute_result"
    }
   ],
   "source": [
    "y_clip = torch.tensor(valid_sdata[\"signal\"].values[..., 32:-32].astype(\"float32\"), dtype=torch.float32)\n",
    "y_clip.shape"
   ]
  },
  {
   "cell_type": "code",
   "execution_count": 36,
   "id": "00c0b930-ecd7-4368-8c18-6f4d9a7e6073",
   "metadata": {
    "execution": {
     "iopub.execute_input": "2023-12-28T18:17:58.822928Z",
     "iopub.status.busy": "2023-12-28T18:17:58.822703Z",
     "iopub.status.idle": "2023-12-28T18:17:58.829822Z",
     "shell.execute_reply": "2023-12-28T18:17:58.829378Z",
     "shell.execute_reply.started": "2023-12-28T18:17:58.822913Z"
    },
    "tags": []
   },
   "outputs": [
    {
     "data": {
      "text/plain": [
       "torch.Size([91955, 1])"
      ]
     },
     "execution_count": 36,
     "metadata": {},
     "output_type": "execute_result"
    }
   ],
   "source": [
    "# sum along sequence axis (to get total counts)\n",
    "y_total = torch.sum(y_clip, axis=1)\n",
    "y_total = y_total.unsqueeze(1)\n",
    "y_total.shape"
   ]
  },
  {
   "cell_type": "code",
   "execution_count": 37,
   "id": "9d1664bd-e22b-4d79-b458-c1cccde3d5b9",
   "metadata": {
    "execution": {
     "iopub.execute_input": "2023-12-28T18:18:00.913176Z",
     "iopub.status.busy": "2023-12-28T18:18:00.912925Z",
     "iopub.status.idle": "2023-12-28T18:18:00.931804Z",
     "shell.execute_reply": "2023-12-28T18:18:00.931365Z",
     "shell.execute_reply.started": "2023-12-28T18:18:00.913159Z"
    },
    "tags": []
   },
   "outputs": [],
   "source": [
    "# compute softmax of logits along sequence axis\n",
    "probs = torch.nn.functional.softmax(y_pred, dim=1)"
   ]
  },
  {
   "cell_type": "code",
   "execution_count": 39,
   "id": "c1eeb5d6-9d1f-44a9-8326-7d73df76be14",
   "metadata": {
    "execution": {
     "iopub.execute_input": "2023-12-28T18:18:04.459718Z",
     "iopub.status.busy": "2023-12-28T18:18:04.459517Z",
     "iopub.status.idle": "2023-12-28T18:18:04.469044Z",
     "shell.execute_reply": "2023-12-28T18:18:04.468548Z",
     "shell.execute_reply.started": "2023-12-28T18:18:04.459704Z"
    },
    "tags": []
   },
   "outputs": [],
   "source": [
    "# return expected counts, i.e. probs * total_counts\n",
    "expected_counts = probs * y_total"
   ]
  },
  {
   "cell_type": "code",
   "execution_count": 72,
   "id": "d21e80ee-76bb-4103-a76e-d4a32be4a3d4",
   "metadata": {
    "execution": {
     "iopub.execute_input": "2023-12-28T18:24:38.575589Z",
     "iopub.status.busy": "2023-12-28T18:24:38.575156Z",
     "iopub.status.idle": "2023-12-28T18:24:38.633803Z",
     "shell.execute_reply": "2023-12-28T18:24:38.633322Z",
     "shell.execute_reply.started": "2023-12-28T18:24:38.575573Z"
    },
    "tags": []
   },
   "outputs": [
    {
     "data": {
      "text/plain": [
       "0.48304167"
      ]
     },
     "execution_count": 72,
     "metadata": {},
     "output_type": "execute_result"
    }
   ],
   "source": [
    "pearsons = pearson_corr(expected_counts, y_clip).detach().numpy()\n",
    "pearsons.mean()"
   ]
  },
  {
   "cell_type": "code",
   "execution_count": 62,
   "id": "f0b65d88-ce2d-4686-99d3-633cd10a82fa",
   "metadata": {
    "execution": {
     "iopub.execute_input": "2023-12-28T18:20:44.189413Z",
     "iopub.status.busy": "2023-12-28T18:20:44.189192Z",
     "iopub.status.idle": "2023-12-28T18:20:44.198290Z",
     "shell.execute_reply": "2023-12-28T18:20:44.197925Z",
     "shell.execute_reply.started": "2023-12-28T18:20:44.189398Z"
    },
    "tags": []
   },
   "outputs": [],
   "source": [
    "ordered_inds = np.argsort(pearsons)[::-1]"
   ]
  },
  {
   "cell_type": "code",
   "execution_count": 63,
   "id": "9977da59-0df8-4ffa-b919-a00a7b983f1f",
   "metadata": {
    "execution": {
     "iopub.execute_input": "2023-12-28T18:20:44.874386Z",
     "iopub.status.busy": "2023-12-28T18:20:44.874239Z",
     "iopub.status.idle": "2023-12-28T18:20:44.877443Z",
     "shell.execute_reply": "2023-12-28T18:20:44.877090Z",
     "shell.execute_reply.started": "2023-12-28T18:20:44.874373Z"
    },
    "tags": []
   },
   "outputs": [
    {
     "data": {
      "text/plain": [
       "array([0.97823644, 0.9773787 , 0.9772054 , 0.9770811 , 0.97644335],\n",
       "      dtype=float32)"
      ]
     },
     "execution_count": 63,
     "metadata": {},
     "output_type": "execute_result"
    }
   ],
   "source": [
    "pearsons[ordered_inds[:5]]"
   ]
  },
  {
   "cell_type": "code",
   "execution_count": 75,
   "id": "0a0663e2-26eb-4b58-a26c-19ba2eb39d82",
   "metadata": {
    "execution": {
     "iopub.execute_input": "2023-12-28T18:26:45.036445Z",
     "iopub.status.busy": "2023-12-28T18:26:45.036084Z",
     "iopub.status.idle": "2023-12-28T18:26:45.039646Z",
     "shell.execute_reply": "2023-12-28T18:26:45.039282Z",
     "shell.execute_reply.started": "2023-12-28T18:26:45.036426Z"
    },
    "tags": []
   },
   "outputs": [
    {
     "data": {
      "text/plain": [
       "array([72460, 72458, 72459, 72457, 72456, 72455, 72461, 72462, 52244,\n",
       "       52243, 52245, 72454, 72453, 36955, 36956, 38004, 38003, 72452,\n",
       "       36957, 38005, 64671, 64670, 52241, 14559, 52242, 19647, 64668,\n",
       "       46046,  9400, 19645, 64667, 64666, 64669, 64665, 64663, 64672,\n",
       "       64664, 46004, 42907, 42747, 14558, 38006, 38007, 70531, 52240,\n",
       "       45850, 22424, 70530, 45853, 45852, 46003, 89942, 89961, 90019,\n",
       "       90020, 89943, 89962, 42908, 42748, 45854, 89944, 89963, 90021,\n",
       "       22425,  2446, 45851, 14557, 45855, 70529, 42909, 42749, 22423,\n",
       "       45856, 42910, 42750, 45849, 85671, 70528, 70527, 21138,  2444,\n",
       "       38700, 21139,  2445, 46331, 90563, 20788, 90560, 46332, 85581,\n",
       "       90562, 84970, 70526, 42751, 42911, 48936, 90561, 46002, 84969,\n",
       "       35604])"
      ]
     },
     "execution_count": 75,
     "metadata": {},
     "output_type": "execute_result"
    }
   ],
   "source": [
    "ordered_inds[:100]"
   ]
  },
  {
   "cell_type": "code",
   "execution_count": 46,
   "id": "017fe9d1-82c8-40b9-a06f-8eb61a3d7cbc",
   "metadata": {
    "execution": {
     "iopub.execute_input": "2023-12-28T18:18:24.458037Z",
     "iopub.status.busy": "2023-12-28T18:18:24.457866Z",
     "iopub.status.idle": "2023-12-28T18:18:25.138300Z",
     "shell.execute_reply": "2023-12-28T18:18:25.137867Z",
     "shell.execute_reply.started": "2023-12-28T18:18:24.458024Z"
    },
    "tags": []
   },
   "outputs": [],
   "source": [
    "import matplotlib.pyplot as plt"
   ]
  },
  {
   "cell_type": "code",
   "execution_count": 77,
   "id": "47c04553-7d12-4d3c-871e-6122484227c2",
   "metadata": {
    "execution": {
     "iopub.execute_input": "2023-12-28T18:26:58.292067Z",
     "iopub.status.busy": "2023-12-28T18:26:58.291804Z",
     "iopub.status.idle": "2023-12-28T18:26:58.868021Z",
     "shell.execute_reply": "2023-12-28T18:26:58.867520Z",
     "shell.execute_reply.started": "2023-12-28T18:26:58.292050Z"
    },
    "tags": []
   },
   "outputs": [
    {
     "data": {
      "text/plain": [
       "<matplotlib.legend.Legend at 0x15534da46460>"
      ]
     },
     "execution_count": 77,
     "metadata": {},
     "output_type": "execute_result"
    },
    {
     "data": {
      "image/png": "[encoded data removed]",
      "text/plain": [
       "<Figure size 640x480 with 1 Axes>"
      ]
     },
     "metadata": {},
     "output_type": "display_data"
    }
   ],
   "source": [
    "seq_num = 2444\n",
    "plt.title(f\"Pearson r: {pearsons[seq_num]}\")\n",
    "plt.plot(y_clip[seq_num].detach().numpy(), label=\"observed\")\n",
    "plt.plot(expected_counts[seq_num].detach().numpy(), label=\"predicted\")\n",
    "plt.legend()"
   ]
  },
  {
   "cell_type": "code",
   "execution_count": null,
   "id": "a9a78d50-cfc5-4f92-9cb3-64895bb4c36d",
   "metadata": {},
   "outputs": [],
   "source": []
  }
 ],
 "metadata": {
  "kernelspec": {
   "display_name": "Python 3.9 ml4gland",
   "language": "python",
   "name": "ml4gland"
  },
  "language_info": {
   "codemirror_mode": {
    "name": "ipython",
    "version": 3
   },
   "file_extension": ".py",
   "mimetype": "text/x-python",
   "name": "python",
   "nbconvert_exporter": "python",
   "pygments_lexer": "ipython3",
   "version": "3.9.16"
  }
 },
 "nbformat": 4,
 "nbformat_minor": 5
}
