{
 "cells": [
  {
   "cell_type": "markdown",
   "id": "b79a1b40-ae8f-4874-84ad-7f0f12ce8a12",
   "metadata": {},
   "source": [
    "# Process each RBP"
   ]
  },
  {
   "cell_type": "code",
   "execution_count": 1,
   "id": "36e13036-00bd-42cb-aa5c-4bc0db69db5d",
   "metadata": {
    "execution": {
     "iopub.execute_input": "2023-12-29T15:50:19.331431Z",
     "iopub.status.busy": "2023-12-29T15:50:19.331216Z",
     "iopub.status.idle": "2023-12-29T15:50:19.339448Z",
     "shell.execute_reply": "2023-12-29T15:50:19.339090Z",
     "shell.execute_reply.started": "2023-12-29T15:50:19.331370Z"
    },
    "tags": []
   },
   "outputs": [],
   "source": [
    "data_dir = \"/cellar/users/aklie/data/datasets/Horlacher_HepG2_CLIP/processed/2023_12_29/encode/U2AF2/chr19\""
   ]
  },
  {
   "cell_type": "code",
   "execution_count": null,
   "id": "c21cd2f6-7d81-45aa-92ec-4861c934a6d8",
   "metadata": {},
   "outputs": [],
   "source": [
    "# RBP of interest, change this to the RBP you're currently processing\n",
    "rbp = \"U2AF2\""
   ]
  },
  {
   "cell_type": "markdown",
   "id": "1c8fa48f-d186-4d77-b32f-94779f76602e",
   "metadata": {
    "tags": []
   },
   "source": [
    "# Extract only R2"
   ]
  },
  {
   "cell_type": "code",
   "execution_count": 7,
   "id": "4bc88a51-9ad3-4e13-93cd-761486b02326",
   "metadata": {
    "execution": {
     "iopub.execute_input": "2023-12-27T15:25:12.219340Z",
     "iopub.status.busy": "2023-12-27T15:25:12.219181Z",
     "iopub.status.idle": "2023-12-27T15:26:50.234187Z",
     "shell.execute_reply": "2023-12-27T15:26:50.233630Z",
     "shell.execute_reply.started": "2023-12-27T15:25:12.219323Z"
    },
    "tags": []
   },
   "outputs": [],
   "source": [
    "%%bash -s \"$data_dir\" \"$rbp\"\n",
    "source activate rbpnet\n",
    "\n",
    "# Change to the directory\n",
    "cd $1 || { echo \"Directory not found\"; exit 1; }\n",
    "\n",
    "# RBP of interest, change this to the RBP you're currently processing\n",
    "rbp=$2\n",
    "\n",
    "# File prefix patterns for the RBP\n",
    "prefixes=(\"${rbp}_control\" \"${rbp}_eCLIP\")\n",
    "\n",
    "# Arrays to hold sorted BAM files for later merging\n",
    "declare -a control_sorted_bams\n",
    "declare -a eclip_sorted_bams\n",
    "\n",
    "# Process files for each prefix\n",
    "for prefix in \"${prefixes[@]}\"; do\n",
    "\n",
    "    # Find files matching the prefix\n",
    "    files=($(ls ${prefix}*.bam 2> /dev/null))\n",
    "\n",
    "    # Check if files were found\n",
    "    if [ ${#files[@]} -eq 0 ]; then\n",
    "        echo \"No files found for ${prefix}\"\n",
    "        continue\n",
    "    fi\n",
    "\n",
    "    # Process each BAM file\n",
    "    for file in \"${files[@]}\"; do\n",
    "        \n",
    "        # Define the output filenames\n",
    "        r2_bam=\"${file%.bam}.R2.bam\"\n",
    "        sorted_bam=\"${file%.bam}.R2.sorted.bam\"\n",
    "\n",
    "        # Extract R2 reads, sort, and index\n",
    "        echo \"Processing $file for R2 reads, sorting, and indexing...\"\n",
    "        samtools view -b -f 0x80 -F 0x4 \"$file\" > \"$r2_bam\"\n",
    "        samtools sort \"$r2_bam\" -o \"$sorted_bam\"\n",
    "        samtools index \"$sorted_bam\"\n",
    "\n",
    "        # Clean up (optional): Remove intermediate R2 BAM if desired\n",
    "        rm -f \"$r2_bam\"\n",
    "        \n",
    "        # Add sorted BAM to the respective array for later merging\n",
    "        if [[ \"$prefix\" == \"${rbp}_control\" ]]; then\n",
    "            control_sorted_bams+=(\"$sorted_bam\")\n",
    "        else\n",
    "            eclip_sorted_bams+=(\"$sorted_bam\")\n",
    "        fi\n",
    "    done\n",
    "done"
   ]
  },
  {
   "cell_type": "markdown",
   "id": "75a2718e-91c2-4094-aef3-f8bc8541fc2e",
   "metadata": {
    "tags": []
   },
   "source": [
    "# Merge replicates"
   ]
  },
  {
   "cell_type": "code",
   "execution_count": 8,
   "id": "b756b06e-f978-4ffd-beb8-30c1c726bce1",
   "metadata": {
    "execution": {
     "iopub.execute_input": "2023-12-27T15:28:45.628785Z",
     "iopub.status.busy": "2023-12-27T15:28:45.628281Z",
     "iopub.status.idle": "2023-12-27T15:29:43.531351Z",
     "shell.execute_reply": "2023-12-27T15:29:43.530798Z",
     "shell.execute_reply.started": "2023-12-27T15:28:45.628763Z"
    },
    "tags": []
   },
   "outputs": [],
   "source": [
    "%%bash -s \"$data_dir\" \"$rbp\"\n",
    "source activate rbpnet\n",
    "\n",
    "# Change to the directory\n",
    "cd $1 || { echo \"Directory not found\"; exit 1; }\n",
    "\n",
    "# RBP of interest, change this to the RBP you're currently processing\n",
    "rbp=$2\n",
    "\n",
    "# Merge control replicates\n",
    "if [ ${#control_sorted_bams[@]} -gt 1 ]; then\n",
    "    echo \"Merging control replicates...\"\n",
    "    samtools merge \"${rbp}_control_merged.bam\" \"${control_sorted_bams[@]}\"\n",
    "    samtools sort \"${rbp}_control_merged.bam\" -o \"${rbp}_control_merged.sorted.bam\"\n",
    "    samtools index \"${rbp}_control_merged.sorted.bam\"\n",
    "    rm -f \"${rbp}_control_merged.bam\"\n",
    "fi\n",
    "\n",
    "# Merge eCLIP replicates\n",
    "if [ ${#eclip_sorted_bams[@]} -gt 1 ]; then\n",
    "    echo \"Merging eCLIP replicates...\"\n",
    "    samtools merge \"${rbp}_eCLIP_merged.bam\" \"${eclip_sorted_bams[@]}\"\n",
    "    samtools sort \"${rbp}_eCLIP_merged.bam\" -o \"${rbp}_eCLIP_merged.sorted.bam\"\n",
    "    samtools index \"${rbp}_eCLIP_merged.sorted.bam\"\n",
    "    rm -f \"${rbp}_eCLIP_merged.bam\"\n",
    "fi"
   ]
  },
  {
   "cell_type": "markdown",
   "id": "9078d696-28e4-49f0-b1e1-ecda6ad01968",
   "metadata": {},
   "source": [
    "# Extract 5′ read-start coverage for both plus and minus strands"
   ]
  },
  {
   "cell_type": "code",
   "execution_count": null,
   "id": "8224ea0d-1bd1-4dc2-b0f8-f96a9149d556",
   "metadata": {},
   "outputs": [],
   "source": [
    "%%bash -s \"$data_dir\" \"$rbp\"\n",
    "source activate rbpnet\n",
    "\n",
    "# Change to the directory\n",
    "cd $1 || { echo \"Directory not found\"; exit 1; }\n",
    "\n",
    "# RBP of interest, change this to the RBP you're currently processing\n",
    "rbp=$2\n",
    "\n",
    "# Function to extract 5' read-start coverage for plus and minus strands\n",
    "extract_coverage() {\n",
    "    local bam_file=\"$1\"\n",
    "    local prefix=\"${bam_file%.bam}\"\n",
    "\n",
    "    # Assuming genome file is named \"genome.txt\" and located in the same directory\n",
    "    local genome_file=\"genome.txt\"\n",
    "\n",
    "    # Extract 5' read-start coverage for plus strand\n",
    "    bedtools genomecov -ibam \"$bam_file\" -bg -5 -strand + > \"${prefix}.pos.bedGraph\"\n",
    "\n",
    "    # Extract 5' read-start coverage for minus strand\n",
    "    bedtools genomecov -ibam \"$bam_file\" -bg -5 -strand - > \"${prefix}.neg.bedGraph\"\n",
    "}\n",
    "\n",
    "# After processing each individual BAM file and merged BAM files\n",
    "for bam_file in \"${control_sorted_bams[@]}\" \"${eclip_sorted_bams[@]}\"; do\n",
    "\n",
    "    # Check if the BAM file exists (important for merged files which might not be created)\n",
    "    if [[ -f \"$bam_file\" ]]; then\n",
    "        echo \"Extracting 5' read-start coverage for $bam_file\"\n",
    "        extract_coverage \"$bam_file\"\n",
    "    else\n",
    "        echo \"File $bam_file not found, skipping coverage extraction.\"\n",
    "    fi\n",
    "done\n",
    "\n",
    "# Extract coverage for merged control, if it exists\n",
    "if [[ -f \"${rbp}_control_merged.sorted.bam\" ]]; then\n",
    "    extract_coverage \"${rbp}_control_merged.sorted.bam\"\n",
    "fi\n",
    "\n",
    "# Extract coverage for merged eCLIP, if it exists\n",
    "if [[ -f \"${rbp}_eCLIP_merged.sorted.bam\" ]]; then\n",
    "    extract_coverage \"${rbp}_eCLIP_merged.sorted.bam\"\n",
    "fi"
   ]
  },
  {
   "cell_type": "markdown",
   "id": "a5d038ac-012f-4780-8c71-7f2798d74521",
   "metadata": {},
   "source": [
    "# Convert to BigWig"
   ]
  },
  {
   "cell_type": "code",
   "execution_count": null,
   "id": "fc614c15-15b4-48a3-b743-a5e3c20e68df",
   "metadata": {},
   "outputs": [],
   "source": [
    "%%bash -s \"$data_dir\" \"$rbp\"\n",
    "source activate rbpnet\n",
    "\n",
    "# Change to the directory\n",
    "cd $1 || { echo \"Directory not found\"; exit 1; }\n",
    "\n",
    "# RBP of interest, change this to the RBP you're currently processing\n",
    "rbp=$2\n",
    "\n",
    "# Chromsizes\n",
    "chrom_sizes=/cellar/users/aklie/data/ref/genomes/hg38/GRCh38_EBV.chrom.sizes\n",
    "\n",
    "# Function to convert bedGraph to bigWig\n",
    "convert_to_bigwig() {\n",
    "    local bedgraph_file=\"$1\"\n",
    "    local bigwig_file=\"${bedgraph_file%.bedGraph}.bw\"\n",
    "\n",
    "    # Rename 'plus' to 'pos' and 'minus' to 'neg' in the output filename\n",
    "    bigwig_file=$(echo \"$bigwig_file\" | sed 's/plus/pos/' | sed 's/minus/neg/')\n",
    "\n",
    "    echo \"Converting $bedgraph_file to $bigwig_file\"\n",
    "    bedGraphToBigWig \"$bedgraph_file\" \"$chrom_sizes\" \"$bigwig_file\"\n",
    "}\n",
    "\n",
    "# Convert bedGraph files to bigWig\n",
    "for bedgraph_file in *.bedGraph; do\n",
    "    if [[ -f \"$bedgraph_file\" ]]; then\n",
    "        convert_to_bigwig \"$bedgraph_file\"\n",
    "    else\n",
    "        echo \"File $bedgraph_file not found, skipping conversion.\"\n",
    "    fi\n",
    "done"
   ]
  },
  {
   "cell_type": "markdown",
   "id": "741995e5-6176-4467-a80d-52b474871aee",
   "metadata": {},
   "source": [
    "# Get candidate training regions"
   ]
  },
  {
   "cell_type": "code",
   "execution_count": null,
   "id": "83fd6e32-b0b4-4b60-b002-27ec4f72bb1d",
   "metadata": {},
   "outputs": [],
   "source": [
    "%%bash -s \"$data_dir\" \"$rbp\"\n",
    "source activate rbpnet\n",
    "\n",
    "# Change to the directory\n",
    "cd $1 || { echo \"Directory not found\"; exit 1; }\n",
    "\n",
    "# RBP of interest, change this to the RBP you're currently processing\n",
    "rbp=$2\n",
    "\n",
    "# Define variables for the enriched windows script\n",
    "script=\"/cellar/users/aklie/opt/rbpnet/scripts/enriched-windows.py\"\n",
    "annotation=\"/cellar/users/aklie/data/ref/genomes/hg38/gencode.v40.basic.annotation.chr19.bed\"\n",
    "\n",
    "# Function to find enriched windows\n",
    "find_enriched_windows() {\n",
    "    local pos_bw=\"$1\"\n",
    "    local neg_bw=\"$2\"\n",
    "    local output_file=\"${pos_bw%.pos.bw}.crosslink.bed\"\n",
    "\n",
    "    # Construct and run the command\n",
    "    cmd=\"python $script $annotation \\\n",
    "--tile-size 100 \\\n",
    "--min-pval 0.01 \\\n",
    "--min-count 15 \\\n",
    "--min-height 5 \\\n",
    "--bigWigPlus $pos_bw \\\n",
    "--bigWigMinus $neg_bw \\\n",
    "--output $output_file \\\n",
    "--threads 32\"\n",
    "    \n",
    "    echo \"Running: $cmd\"\n",
    "    eval $cmd\n",
    "}\n",
    "\n",
    "# Run enriched windows finding for eCLIP replicates and merged files\n",
    "for bw_file in *eCLIP*.pos.bw; do\n",
    "    # Construct corresponding negative strand BigWig filename\n",
    "    neg_bw=\"${bw_file%.pos.bw}.neg.bw\"\n",
    "\n",
    "    # Check if the corresponding negative strand file exists\n",
    "    if [[ -f \"$neg_bw\" ]]; then\n",
    "        echo \"Finding enriched windows for $bw_file and $neg_bw\"\n",
    "        find_enriched_windows \"$bw_file\" \"$neg_bw\"\n",
    "    else\n",
    "        echo \"Corresponding negative strand BigWig $neg_bw not found for $bw_file, skipping.\"\n",
    "    fi\n",
    "done"
   ]
  },
  {
   "cell_type": "markdown",
   "id": "a851fd15-9831-402b-8c37-792832de2255",
   "metadata": {},
   "source": [
    "# Clean up"
   ]
  },
  {
   "cell_type": "code",
   "execution_count": null,
   "id": "c31d4166-8fb3-4645-a72a-cb73428e2b6f",
   "metadata": {},
   "outputs": [],
   "source": [
    "%%bash -s \"$data_dir\"\n",
    "cd $1\n",
    "\n",
    "# Get rid of everything not named signal.pos.bw, signal.neg.bw, control.pos.bw, control.neg.bw, peaks.crosslink.bed, metadata.tsv\n",
    "# Array of filenames to keep\n",
    "keep_files=(\"signal.pos.bw\" \"signal.neg.bw\" \"control.pos.bw\" \"control.neg.bw\" \"peaks.crosslink.bed\" \"metadata.tsv\", \"files.txt\")\n",
    "\n",
    "# Construct the find command\n",
    "find_command=\"find . -maxdepth 1 -type f\"\n",
    "for file in \"${keep_files[@]}\"; do\n",
    "    find_command+=\" ! -name '$file'\"\n",
    "done\n",
    "\n",
    "# Append the action to perform\n",
    "find_command+=\" -exec rm {} +\"\n",
    "\n",
    "# Execute the command\n",
    "echo \"Executing: $find_command\"\n",
    "#eval $find_command"
   ]
  },
  {
   "cell_type": "markdown",
   "id": "7394266d-dfd6-40df-9d07-ea086f04fea7",
   "metadata": {},
   "source": [
    "# DONE!"
   ]
  },
  {
   "cell_type": "markdown",
   "id": "4ae4b3f8-0854-4ae1-bea2-9f8049295d73",
   "metadata": {},
   "source": [
    "---"
   ]
  },
  {
   "cell_type": "markdown",
   "id": "75918ea6-abde-47ba-8fe5-8cab64105a05",
   "metadata": {},
   "source": [
    "# Scratch"
   ]
  },
  {
   "cell_type": "code",
   "execution_count": null,
   "id": "60575e41-e1ab-460e-b0c6-23317aaa99e3",
   "metadata": {},
   "outputs": [],
   "source": [
    "%%bash -s \"$data_dir\" \"$rbp\"\n",
    "source activate rbpnet\n",
    "cd /cellar/users/aklie/data/datasets/Horlacher_HepG2_CLIP/processed/2023_12_29/encode/U2AF2\n",
    "mkdir chr19\n",
    "samtools index U2AF2_control_1.bam\n",
    "samtools view -b U2AF2_control_1.bam chr19 > U2AF2_control_1.chr19.bam\n",
    "mv *chr19* chr19"
   ]
  }
 ],
 "metadata": {
  "kernelspec": {
   "display_name": "Python 3.7 get_data",
   "language": "python",
   "name": "get_data"
  },
  "language_info": {
   "codemirror_mode": {
    "name": "ipython",
    "version": 3
   },
   "file_extension": ".py",
   "mimetype": "text/x-python",
   "name": "python",
   "nbconvert_exporter": "python",
   "pygments_lexer": "ipython3",
   "version": "3.7.12"
  }
 },
 "nbformat": 4,
 "nbformat_minor": 5
}
