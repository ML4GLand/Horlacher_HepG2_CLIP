{
 "cells": [
  {
   "cell_type": "markdown",
   "id": "1628fd3e-3e81-4a5a-ada8-fa3c8442a767",
   "metadata": {},
   "source": [
    "# Create SeqData"
   ]
  },
  {
   "cell_type": "code",
   "execution_count": 14,
   "id": "9ea95cdf-a51c-4d88-ab03-d262b8921097",
   "metadata": {
    "execution": {
     "iopub.execute_input": "2023-12-25T21:53:16.013060Z",
     "iopub.status.busy": "2023-12-25T21:53:16.012698Z",
     "iopub.status.idle": "2023-12-25T21:53:16.015378Z",
     "shell.execute_reply": "2023-12-25T21:53:16.015013Z",
     "shell.execute_reply.started": "2023-12-25T21:53:16.013043Z"
    },
    "tags": []
   },
   "outputs": [],
   "source": [
    "# Imports\n",
    "from pathlib import Path\n",
    "import seqdata as sd\n",
    "import matplotlib.pyplot as plt\n",
    "from eugene import preprocess as pp"
   ]
  },
  {
   "cell_type": "code",
   "execution_count": 15,
   "id": "b69d45c0-b201-45af-a9e1-dbbc4a59b055",
   "metadata": {
    "execution": {
     "iopub.execute_input": "2023-12-25T21:53:16.254111Z",
     "iopub.status.busy": "2023-12-25T21:53:16.253969Z",
     "iopub.status.idle": "2023-12-25T21:53:16.258195Z",
     "shell.execute_reply": "2023-12-25T21:53:16.257774Z",
     "shell.execute_reply.started": "2023-12-25T21:53:16.254098Z"
    },
    "tags": []
   },
   "outputs": [
    {
     "data": {
      "text/plain": [
       "([PosixPath('/cellar/users/aklie/opt/rbpnet/examples/data/signal/U2AF2_HepG2/eCLIP/counts.pos.bw'),\n",
       "  PosixPath('/cellar/users/aklie/opt/rbpnet/examples/data/signal/U2AF2_HepG2/eCLIP/counts.neg.bw'),\n",
       "  PosixPath('/cellar/users/aklie/opt/rbpnet/examples/data/signal/U2AF2_HepG2/control/counts.pos.bw'),\n",
       "  PosixPath('/cellar/users/aklie/opt/rbpnet/examples/data/signal/U2AF2_HepG2/control/counts.neg.bw')],\n",
       " ['signal+', 'signal-', 'control+', 'control-'])"
      ]
     },
     "execution_count": 15,
     "metadata": {},
     "output_type": "execute_result"
    }
   ],
   "source": [
    "# TODO: change to your paths\n",
    "data_dir = Path(\"/cellar/users/aklie/opt/rbpnet/examples/data\")\n",
    "fasta = Path(\"/cellar/users/aklie/opt/rbpnet/examples/data/meta/grch38.chr19.fasta\")\n",
    "peaks = data_dir / \"peaks/U2AF2_HepG2/peaks.crosslink.chr19.bed\"\n",
    "signals = [data_dir / \"signal/U2AF2_HepG2/eCLIP/counts.pos.bw\", data_dir / \"signal/U2AF2_HepG2/eCLIP/counts.neg.bw\"]\n",
    "controls = [data_dir / \"signal/U2AF2_HepG2/control/counts.pos.bw\", data_dir / \"signal/U2AF2_HepG2/control/counts.neg.bw\"]\n",
    "control_samples = ['pos', 'neg']\n",
    "bigwigs = signals + controls\n",
    "sample_names = ['signal+', 'signal-', 'control+', 'control-']\n",
    "out = '/cellar/users/aklie/data/datasets/Horlacher_HepG2_CLIP/training/2023_12_25/chr19_HepG2/U2AF2.zarr'\n",
    "bigwigs, sample_names"
   ]
  },
  {
   "cell_type": "code",
   "execution_count": 16,
   "id": "a92c1ffb-c8c2-4fd9-a9d9-9bfa4bfc0912",
   "metadata": {
    "execution": {
     "iopub.execute_input": "2023-12-25T21:53:16.760261Z",
     "iopub.status.busy": "2023-12-25T21:53:16.760000Z",
     "iopub.status.idle": "2023-12-25T21:53:18.054738Z",
     "shell.execute_reply": "2023-12-25T21:53:18.054292Z",
     "shell.execute_reply.started": "2023-12-25T21:53:16.760248Z"
    },
    "tags": []
   },
   "outputs": [
    {
     "name": "stderr",
     "output_type": "stream",
     "text": [
      "100%|██████████| 1788/1788 [00:00<00:00, 6162.87it/s]\n",
      "100%|██████████| 1788/1788 [00:00<00:00, 9131.91it/s]\n",
      "100%|██████████| 1788/1788 [00:00<00:00, 7402.51it/s]\n",
      "100%|██████████| 1788/1788 [00:00<00:00, 5729.35it/s]\n",
      "100%|██████████| 1788/1788 [00:00<00:00, 3411.47it/s]\n"
     ]
    },
    {
     "data": {
      "text/html": [
       "<div><svg style=\"position: absolute; width: 0; height: 0; overflow: hidden\">\n",
       "<defs>\n",
       "<symbol id=\"icon-database\" viewBox=\"0 0 32 32\">\n",
       "<path d=\"M16 0c-8.837 0-16 2.239-16 5v4c0 2.761 7.163 5 16 5s16-2.239 16-5v-4c0-2.761-7.163-5-16-5z\"></path>\n",
       "<path d=\"M16 17c-8.837 0-16-2.239-16-5v6c0 2.761 7.163 5 16 5s16-2.239 16-5v-6c0 2.761-7.163 5-16 5z\"></path>\n",
       "<path d=\"M16 26c-8.837 0-16-2.239-16-5v6c0 2.761 7.163 5 16 5s16-2.239 16-5v-6c0 2.761-7.163 5-16 5z\"></path>\n",
       "</symbol>\n",
       "<symbol id=\"icon-file-text2\" viewBox=\"0 0 32 32\">\n",
       "<path d=\"M28.681 7.159c-0.694-0.947-1.662-2.053-2.724-3.116s-2.169-2.030-3.116-2.724c-1.612-1.182-2.393-1.319-2.841-1.319h-15.5c-1.378 0-2.5 1.121-2.5 2.5v27c0 1.378 1.122 2.5 2.5 2.5h23c1.378 0 2.5-1.122 2.5-2.5v-19.5c0-0.448-0.137-1.23-1.319-2.841zM24.543 5.457c0.959 0.959 1.712 1.825 2.268 2.543h-4.811v-4.811c0.718 0.556 1.584 1.309 2.543 2.268zM28 29.5c0 0.271-0.229 0.5-0.5 0.5h-23c-0.271 0-0.5-0.229-0.5-0.5v-27c0-0.271 0.229-0.5 0.5-0.5 0 0 15.499-0 15.5 0v7c0 0.552 0.448 1 1 1h7v19.5z\"></path>\n",
       "<path d=\"M23 26h-14c-0.552 0-1-0.448-1-1s0.448-1 1-1h14c0.552 0 1 0.448 1 1s-0.448 1-1 1z\"></path>\n",
       "<path d=\"M23 22h-14c-0.552 0-1-0.448-1-1s0.448-1 1-1h14c0.552 0 1 0.448 1 1s-0.448 1-1 1z\"></path>\n",
       "<path d=\"M23 18h-14c-0.552 0-1-0.448-1-1s0.448-1 1-1h14c0.552 0 1 0.448 1 1s-0.448 1-1 1z\"></path>\n",
       "</symbol>\n",
       "</defs>\n",
       "</svg>\n",
       "<style>/* CSS stylesheet for displaying xarray objects in jupyterlab.\n",
       " *\n",
       " */\n",
       "\n",
       ":root {\n",
       "  --xr-font-color0: var(--jp-content-font-color0, rgba(0, 0, 0, 1));\n",
       "  --xr-font-color2: var(--jp-content-font-color2, rgba(0, 0, 0, 0.54));\n",
       "  --xr-font-color3: var(--jp-content-font-color3, rgba(0, 0, 0, 0.38));\n",
       "  --xr-border-color: var(--jp-border-color2, #e0e0e0);\n",
       "  --xr-disabled-color: var(--jp-layout-color3, #bdbdbd);\n",
       "  --xr-background-color: var(--jp-layout-color0, white);\n",
       "  --xr-background-color-row-even: var(--jp-layout-color1, white);\n",
       "  --xr-background-color-row-odd: var(--jp-layout-color2, #eeeeee);\n",
       "}\n",
       "\n",
       "html[theme=dark],\n",
       "body[data-theme=dark],\n",
       "body.vscode-dark {\n",
       "  --xr-font-color0: rgba(255, 255, 255, 1);\n",
       "  --xr-font-color2: rgba(255, 255, 255, 0.54);\n",
       "  --xr-font-color3: rgba(255, 255, 255, 0.38);\n",
       "  --xr-border-color: #1F1F1F;\n",
       "  --xr-disabled-color: #515151;\n",
       "  --xr-background-color: #111111;\n",
       "  --xr-background-color-row-even: #111111;\n",
       "  --xr-background-color-row-odd: #313131;\n",
       "}\n",
       "\n",
       ".xr-wrap {\n",
       "  display: block !important;\n",
       "  min-width: 300px;\n",
       "  max-width: 700px;\n",
       "}\n",
       "\n",
       ".xr-text-repr-fallback {\n",
       "  /* fallback to plain text repr when CSS is not injected (untrusted notebook) */\n",
       "  display: none;\n",
       "}\n",
       "\n",
       ".xr-header {\n",
       "  padding-top: 6px;\n",
       "  padding-bottom: 6px;\n",
       "  margin-bottom: 4px;\n",
       "  border-bottom: solid 1px var(--xr-border-color);\n",
       "}\n",
       "\n",
       ".xr-header > div,\n",
       ".xr-header > ul {\n",
       "  display: inline;\n",
       "  margin-top: 0;\n",
       "  margin-bottom: 0;\n",
       "}\n",
       "\n",
       ".xr-obj-type,\n",
       ".xr-array-name {\n",
       "  margin-left: 2px;\n",
       "  margin-right: 10px;\n",
       "}\n",
       "\n",
       ".xr-obj-type {\n",
       "  color: var(--xr-font-color2);\n",
       "}\n",
       "\n",
       ".xr-sections {\n",
       "  padding-left: 0 !important;\n",
       "  display: grid;\n",
       "  grid-template-columns: 150px auto auto 1fr 20px 20px;\n",
       "}\n",
       "\n",
       ".xr-section-item {\n",
       "  display: contents;\n",
       "}\n",
       "\n",
       ".xr-section-item input {\n",
       "  display: none;\n",
       "}\n",
       "\n",
       ".xr-section-item input + label {\n",
       "  color: var(--xr-disabled-color);\n",
       "}\n",
       "\n",
       ".xr-section-item input:enabled + label {\n",
       "  cursor: pointer;\n",
       "  color: var(--xr-font-color2);\n",
       "}\n",
       "\n",
       ".xr-section-item input:enabled + label:hover {\n",
       "  color: var(--xr-font-color0);\n",
       "}\n",
       "\n",
       ".xr-section-summary {\n",
       "  grid-column: 1;\n",
       "  color: var(--xr-font-color2);\n",
       "  font-weight: 500;\n",
       "}\n",
       "\n",
       ".xr-section-summary > span {\n",
       "  display: inline-block;\n",
       "  padding-left: 0.5em;\n",
       "}\n",
       "\n",
       ".xr-section-summary-in:disabled + label {\n",
       "  color: var(--xr-font-color2);\n",
       "}\n",
       "\n",
       ".xr-section-summary-in + label:before {\n",
       "  display: inline-block;\n",
       "  content: '►';\n",
       "  font-size: 11px;\n",
       "  width: 15px;\n",
       "  text-align: center;\n",
       "}\n",
       "\n",
       ".xr-section-summary-in:disabled + label:before {\n",
       "  color: var(--xr-disabled-color);\n",
       "}\n",
       "\n",
       ".xr-section-summary-in:checked + label:before {\n",
       "  content: '▼';\n",
       "}\n",
       "\n",
       ".xr-section-summary-in:checked + label > span {\n",
       "  display: none;\n",
       "}\n",
       "\n",
       ".xr-section-summary,\n",
       ".xr-section-inline-details {\n",
       "  padding-top: 4px;\n",
       "  padding-bottom: 4px;\n",
       "}\n",
       "\n",
       ".xr-section-inline-details {\n",
       "  grid-column: 2 / -1;\n",
       "}\n",
       "\n",
       ".xr-section-details {\n",
       "  display: none;\n",
       "  grid-column: 1 / -1;\n",
       "  margin-bottom: 5px;\n",
       "}\n",
       "\n",
       ".xr-section-summary-in:checked ~ .xr-section-details {\n",
       "  display: contents;\n",
       "}\n",
       "\n",
       ".xr-array-wrap {\n",
       "  grid-column: 1 / -1;\n",
       "  display: grid;\n",
       "  grid-template-columns: 20px auto;\n",
       "}\n",
       "\n",
       ".xr-array-wrap > label {\n",
       "  grid-column: 1;\n",
       "  vertical-align: top;\n",
       "}\n",
       "\n",
       ".xr-preview {\n",
       "  color: var(--xr-font-color3);\n",
       "}\n",
       "\n",
       ".xr-array-preview,\n",
       ".xr-array-data {\n",
       "  padding: 0 5px !important;\n",
       "  grid-column: 2;\n",
       "}\n",
       "\n",
       ".xr-array-data,\n",
       ".xr-array-in:checked ~ .xr-array-preview {\n",
       "  display: none;\n",
       "}\n",
       "\n",
       ".xr-array-in:checked ~ .xr-array-data,\n",
       ".xr-array-preview {\n",
       "  display: inline-block;\n",
       "}\n",
       "\n",
       ".xr-dim-list {\n",
       "  display: inline-block !important;\n",
       "  list-style: none;\n",
       "  padding: 0 !important;\n",
       "  margin: 0;\n",
       "}\n",
       "\n",
       ".xr-dim-list li {\n",
       "  display: inline-block;\n",
       "  padding: 0;\n",
       "  margin: 0;\n",
       "}\n",
       "\n",
       ".xr-dim-list:before {\n",
       "  content: '(';\n",
       "}\n",
       "\n",
       ".xr-dim-list:after {\n",
       "  content: ')';\n",
       "}\n",
       "\n",
       ".xr-dim-list li:not(:last-child):after {\n",
       "  content: ',';\n",
       "  padding-right: 5px;\n",
       "}\n",
       "\n",
       ".xr-has-index {\n",
       "  font-weight: bold;\n",
       "}\n",
       "\n",
       ".xr-var-list,\n",
       ".xr-var-item {\n",
       "  display: contents;\n",
       "}\n",
       "\n",
       ".xr-var-item > div,\n",
       ".xr-var-item label,\n",
       ".xr-var-item > .xr-var-name span {\n",
       "  background-color: var(--xr-background-color-row-even);\n",
       "  margin-bottom: 0;\n",
       "}\n",
       "\n",
       ".xr-var-item > .xr-var-name:hover span {\n",
       "  padding-right: 5px;\n",
       "}\n",
       "\n",
       ".xr-var-list > li:nth-child(odd) > div,\n",
       ".xr-var-list > li:nth-child(odd) > label,\n",
       ".xr-var-list > li:nth-child(odd) > .xr-var-name span {\n",
       "  background-color: var(--xr-background-color-row-odd);\n",
       "}\n",
       "\n",
       ".xr-var-name {\n",
       "  grid-column: 1;\n",
       "}\n",
       "\n",
       ".xr-var-dims {\n",
       "  grid-column: 2;\n",
       "}\n",
       "\n",
       ".xr-var-dtype {\n",
       "  grid-column: 3;\n",
       "  text-align: right;\n",
       "  color: var(--xr-font-color2);\n",
       "}\n",
       "\n",
       ".xr-var-preview {\n",
       "  grid-column: 4;\n",
       "}\n",
       "\n",
       ".xr-index-preview {\n",
       "  grid-column: 2 / 5;\n",
       "  color: var(--xr-font-color2);\n",
       "}\n",
       "\n",
       ".xr-var-name,\n",
       ".xr-var-dims,\n",
       ".xr-var-dtype,\n",
       ".xr-preview,\n",
       ".xr-attrs dt {\n",
       "  white-space: nowrap;\n",
       "  overflow: hidden;\n",
       "  text-overflow: ellipsis;\n",
       "  padding-right: 10px;\n",
       "}\n",
       "\n",
       ".xr-var-name:hover,\n",
       ".xr-var-dims:hover,\n",
       ".xr-var-dtype:hover,\n",
       ".xr-attrs dt:hover {\n",
       "  overflow: visible;\n",
       "  width: auto;\n",
       "  z-index: 1;\n",
       "}\n",
       "\n",
       ".xr-var-attrs,\n",
       ".xr-var-data,\n",
       ".xr-index-data {\n",
       "  display: none;\n",
       "  background-color: var(--xr-background-color) !important;\n",
       "  padding-bottom: 5px !important;\n",
       "}\n",
       "\n",
       ".xr-var-attrs-in:checked ~ .xr-var-attrs,\n",
       ".xr-var-data-in:checked ~ .xr-var-data,\n",
       ".xr-index-data-in:checked ~ .xr-index-data {\n",
       "  display: block;\n",
       "}\n",
       "\n",
       ".xr-var-data > table {\n",
       "  float: right;\n",
       "}\n",
       "\n",
       ".xr-var-name span,\n",
       ".xr-var-data,\n",
       ".xr-index-name div,\n",
       ".xr-index-data,\n",
       ".xr-attrs {\n",
       "  padding-left: 25px !important;\n",
       "}\n",
       "\n",
       ".xr-attrs,\n",
       ".xr-var-attrs,\n",
       ".xr-var-data,\n",
       ".xr-index-data {\n",
       "  grid-column: 1 / -1;\n",
       "}\n",
       "\n",
       "dl.xr-attrs {\n",
       "  padding: 0;\n",
       "  margin: 0;\n",
       "  display: grid;\n",
       "  grid-template-columns: 125px auto;\n",
       "}\n",
       "\n",
       ".xr-attrs dt,\n",
       ".xr-attrs dd {\n",
       "  padding: 0;\n",
       "  margin: 0;\n",
       "  float: left;\n",
       "  padding-right: 10px;\n",
       "  width: auto;\n",
       "}\n",
       "\n",
       ".xr-attrs dt {\n",
       "  font-weight: normal;\n",
       "  grid-column: 1;\n",
       "}\n",
       "\n",
       ".xr-attrs dt:hover span {\n",
       "  display: inline-block;\n",
       "  background: var(--xr-background-color);\n",
       "  padding-right: 10px;\n",
       "}\n",
       "\n",
       ".xr-attrs dd {\n",
       "  grid-column: 2;\n",
       "  white-space: pre-wrap;\n",
       "  word-break: break-all;\n",
       "}\n",
       "\n",
       ".xr-icon-database,\n",
       ".xr-icon-file-text2,\n",
       ".xr-no-icon {\n",
       "  display: inline-block;\n",
       "  vertical-align: middle;\n",
       "  width: 1em;\n",
       "  height: 1.5em !important;\n",
       "  stroke-width: 0;\n",
       "  stroke: currentColor;\n",
       "  fill: currentColor;\n",
       "}\n",
       "</style><pre class='xr-text-repr-fallback'>&lt;xarray.Dataset&gt;\n",
       "Dimensions:     (_sequence: 1788, cov_sample: 4, _length: 564)\n",
       "Coordinates:\n",
       "  * cov_sample  (cov_sample) object &#x27;signal+&#x27; &#x27;signal-&#x27; &#x27;control+&#x27; &#x27;control-&#x27;\n",
       "Dimensions without coordinates: _sequence, _length\n",
       "Data variables:\n",
       "    chrom       (_sequence) object &#x27;chr19&#x27; &#x27;chr19&#x27; &#x27;chr19&#x27; ... &#x27;chr19&#x27; &#x27;chr19&#x27;\n",
       "    chromEnd    (_sequence) int64 1373740 13920100 29986552 ... 38709660 6414032\n",
       "    chromStart  (_sequence) int64 1373176 13919536 29985988 ... 38709096 6413468\n",
       "    cov         (_sequence, cov_sample, _length) uint16 0 0 0 1 0 ... 0 0 0 1 1\n",
       "    name        (_sequence) object &#x27;U2AF2_HepG2_rep02&#x27; ... &#x27;U2AF2_HepG2_rep02&#x27;\n",
       "    score       (_sequence) float64 6.189 6.111 5.795 ... 2.008 2.006 2.006\n",
       "    seq         (_sequence, _length) |S1 b&#x27;G&#x27; b&#x27;C&#x27; b&#x27;T&#x27; b&#x27;A&#x27; ... b&#x27;T&#x27; b&#x27;T&#x27; b&#x27;T&#x27;\n",
       "    strand      (_sequence) object &#x27;+&#x27; &#x27;+&#x27; &#x27;+&#x27; &#x27;+&#x27; &#x27;+&#x27; ... &#x27;+&#x27; &#x27;+&#x27; &#x27;-&#x27; &#x27;+&#x27; &#x27;-&#x27;\n",
       "Attributes:\n",
       "    length_dim:    _length\n",
       "    max_jitter:    32\n",
       "    sequence_dim:  _sequence</pre><div class='xr-wrap' style='display:none'><div class='xr-header'><div class='xr-obj-type'>xarray.Dataset</div></div><ul class='xr-sections'><li class='xr-section-item'><input id='section-c4752021-1df0-4858-8598-5487c71956a3' class='xr-section-summary-in' type='checkbox' disabled ><label for='section-c4752021-1df0-4858-8598-5487c71956a3' class='xr-section-summary'  title='Expand/collapse section'>Dimensions:</label><div class='xr-section-inline-details'><ul class='xr-dim-list'><li><span>_sequence</span>: 1788</li><li><span class='xr-has-index'>cov_sample</span>: 4</li><li><span>_length</span>: 564</li></ul></div><div class='xr-section-details'></div></li><li class='xr-section-item'><input id='section-6a9c25bc-f3d0-4f0e-a211-c97684e3ae70' class='xr-section-summary-in' type='checkbox'  checked><label for='section-6a9c25bc-f3d0-4f0e-a211-c97684e3ae70' class='xr-section-summary' >Coordinates: <span>(1)</span></label><div class='xr-section-inline-details'></div><div class='xr-section-details'><ul class='xr-var-list'><li class='xr-var-item'><div class='xr-var-name'><span class='xr-has-index'>cov_sample</span></div><div class='xr-var-dims'>(cov_sample)</div><div class='xr-var-dtype'>object</div><div class='xr-var-preview xr-preview'>&#x27;signal+&#x27; &#x27;signal-&#x27; ... &#x27;control-&#x27;</div><input id='attrs-a2debbee-5bb2-4258-8f02-87a24b3ca1d3' class='xr-var-attrs-in' type='checkbox' ><label for='attrs-a2debbee-5bb2-4258-8f02-87a24b3ca1d3' title='Show/Hide attributes'><svg class='icon xr-icon-file-text2'><use xlink:href='#icon-file-text2'></use></svg></label><input id='data-8640d396-1b3c-439d-8389-418d0f3c857a' class='xr-var-data-in' type='checkbox'><label for='data-8640d396-1b3c-439d-8389-418d0f3c857a' title='Show/Hide data repr'><svg class='icon xr-icon-database'><use xlink:href='#icon-database'></use></svg></label><div class='xr-var-attrs'><dl class='xr-attrs'><dt><span>_FillValue :</span></dt><dd>0</dd></dl></div><div class='xr-var-data'><pre>array([&#x27;signal+&#x27;, &#x27;signal-&#x27;, &#x27;control+&#x27;, &#x27;control-&#x27;], dtype=object)</pre></div></li></ul></div></li><li class='xr-section-item'><input id='section-848d84df-6ef4-4a92-b612-1499a8ea6dbf' class='xr-section-summary-in' type='checkbox'  checked><label for='section-848d84df-6ef4-4a92-b612-1499a8ea6dbf' class='xr-section-summary' >Data variables: <span>(8)</span></label><div class='xr-section-inline-details'></div><div class='xr-section-details'><ul class='xr-var-list'><li class='xr-var-item'><div class='xr-var-name'><span>chrom</span></div><div class='xr-var-dims'>(_sequence)</div><div class='xr-var-dtype'>object</div><div class='xr-var-preview xr-preview'>&#x27;chr19&#x27; &#x27;chr19&#x27; ... &#x27;chr19&#x27; &#x27;chr19&#x27;</div><input id='attrs-49169fb4-94ea-4021-9069-74f619c080ee' class='xr-var-attrs-in' type='checkbox' ><label for='attrs-49169fb4-94ea-4021-9069-74f619c080ee' title='Show/Hide attributes'><svg class='icon xr-icon-file-text2'><use xlink:href='#icon-file-text2'></use></svg></label><input id='data-99a0f859-812f-4523-9080-8dc4a627999c' class='xr-var-data-in' type='checkbox'><label for='data-99a0f859-812f-4523-9080-8dc4a627999c' title='Show/Hide data repr'><svg class='icon xr-icon-database'><use xlink:href='#icon-database'></use></svg></label><div class='xr-var-attrs'><dl class='xr-attrs'><dt><span>_FillValue :</span></dt><dd>0</dd></dl></div><div class='xr-var-data'><pre>array([&#x27;chr19&#x27;, &#x27;chr19&#x27;, &#x27;chr19&#x27;, ..., &#x27;chr19&#x27;, &#x27;chr19&#x27;, &#x27;chr19&#x27;],\n",
       "      dtype=object)</pre></div></li><li class='xr-var-item'><div class='xr-var-name'><span>chromEnd</span></div><div class='xr-var-dims'>(_sequence)</div><div class='xr-var-dtype'>int64</div><div class='xr-var-preview xr-preview'>1373740 13920100 ... 6414032</div><input id='attrs-7b0df6eb-94b9-40e2-bfb2-f914d92f522a' class='xr-var-attrs-in' type='checkbox' ><label for='attrs-7b0df6eb-94b9-40e2-bfb2-f914d92f522a' title='Show/Hide attributes'><svg class='icon xr-icon-file-text2'><use xlink:href='#icon-file-text2'></use></svg></label><input id='data-d346e1d5-bd9f-4dca-bbab-6c9a6b531f8d' class='xr-var-data-in' type='checkbox'><label for='data-d346e1d5-bd9f-4dca-bbab-6c9a6b531f8d' title='Show/Hide data repr'><svg class='icon xr-icon-database'><use xlink:href='#icon-database'></use></svg></label><div class='xr-var-attrs'><dl class='xr-attrs'><dt><span>_FillValue :</span></dt><dd>0</dd></dl></div><div class='xr-var-data'><pre>array([ 1373740, 13920100, 29986552, ..., 56833372, 38709660,  6414032])</pre></div></li><li class='xr-var-item'><div class='xr-var-name'><span>chromStart</span></div><div class='xr-var-dims'>(_sequence)</div><div class='xr-var-dtype'>int64</div><div class='xr-var-preview xr-preview'>1373176 13919536 ... 6413468</div><input id='attrs-e0fed0e7-9a28-41d5-9c24-2d43aac8ae10' class='xr-var-attrs-in' type='checkbox' ><label for='attrs-e0fed0e7-9a28-41d5-9c24-2d43aac8ae10' title='Show/Hide attributes'><svg class='icon xr-icon-file-text2'><use xlink:href='#icon-file-text2'></use></svg></label><input id='data-ba02f9db-6c1e-465e-889b-2d14f9b41673' class='xr-var-data-in' type='checkbox'><label for='data-ba02f9db-6c1e-465e-889b-2d14f9b41673' title='Show/Hide data repr'><svg class='icon xr-icon-database'><use xlink:href='#icon-database'></use></svg></label><div class='xr-var-attrs'><dl class='xr-attrs'><dt><span>_FillValue :</span></dt><dd>0</dd></dl></div><div class='xr-var-data'><pre>array([ 1373176, 13919536, 29985988, ..., 56832808, 38709096,  6413468])</pre></div></li><li class='xr-var-item'><div class='xr-var-name'><span>cov</span></div><div class='xr-var-dims'>(_sequence, cov_sample, _length)</div><div class='xr-var-dtype'>uint16</div><div class='xr-var-preview xr-preview'>0 0 0 1 0 0 0 0 ... 0 0 0 0 0 0 1 1</div><input id='attrs-b9d9d23b-dd39-460a-8633-b45f7aae0cee' class='xr-var-attrs-in' type='checkbox' ><label for='attrs-b9d9d23b-dd39-460a-8633-b45f7aae0cee' title='Show/Hide attributes'><svg class='icon xr-icon-file-text2'><use xlink:href='#icon-file-text2'></use></svg></label><input id='data-12d20855-d4db-4a1c-bea6-ff01f06ae258' class='xr-var-data-in' type='checkbox'><label for='data-12d20855-d4db-4a1c-bea6-ff01f06ae258' title='Show/Hide data repr'><svg class='icon xr-icon-database'><use xlink:href='#icon-database'></use></svg></label><div class='xr-var-attrs'><dl class='xr-attrs'><dt><span>_FillValue :</span></dt><dd>0</dd></dl></div><div class='xr-var-data'><pre>array([[[0, 0, 0, ..., 0, 0, 0],\n",
       "        [0, 0, 0, ..., 0, 0, 0],\n",
       "        [0, 0, 0, ..., 0, 0, 0],\n",
       "        [0, 0, 0, ..., 0, 0, 0]],\n",
       "\n",
       "       [[0, 0, 0, ..., 1, 0, 0],\n",
       "        [0, 0, 0, ..., 0, 0, 0],\n",
       "        [0, 0, 0, ..., 1, 0, 1],\n",
       "        [0, 0, 0, ..., 0, 0, 0]],\n",
       "\n",
       "       [[0, 0, 0, ..., 0, 1, 0],\n",
       "        [0, 0, 0, ..., 0, 0, 0],\n",
       "        [0, 0, 0, ..., 0, 0, 0],\n",
       "        [0, 0, 0, ..., 0, 0, 0]],\n",
       "\n",
       "       ...,\n",
       "\n",
       "       [[0, 0, 0, ..., 0, 0, 0],\n",
       "        [1, 0, 1, ..., 0, 0, 0],\n",
       "        [0, 0, 0, ..., 0, 0, 0],\n",
       "        [1, 0, 0, ..., 0, 0, 0]],\n",
       "\n",
       "       [[0, 0, 0, ..., 0, 0, 1],\n",
       "        [0, 0, 0, ..., 0, 0, 0],\n",
       "        [0, 0, 0, ..., 0, 0, 0],\n",
       "        [0, 0, 0, ..., 0, 0, 0]],\n",
       "\n",
       "       [[0, 0, 0, ..., 0, 0, 0],\n",
       "        [0, 2, 1, ..., 0, 0, 0],\n",
       "        [0, 0, 0, ..., 0, 0, 0],\n",
       "        [0, 1, 0, ..., 0, 1, 1]]], dtype=uint16)</pre></div></li><li class='xr-var-item'><div class='xr-var-name'><span>name</span></div><div class='xr-var-dims'>(_sequence)</div><div class='xr-var-dtype'>object</div><div class='xr-var-preview xr-preview'>&#x27;U2AF2_HepG2_rep02&#x27; ... &#x27;U2AF2_H...</div><input id='attrs-4e52c240-1c4d-4f85-9798-1732f7e7126f' class='xr-var-attrs-in' type='checkbox' ><label for='attrs-4e52c240-1c4d-4f85-9798-1732f7e7126f' title='Show/Hide attributes'><svg class='icon xr-icon-file-text2'><use xlink:href='#icon-file-text2'></use></svg></label><input id='data-262159ff-25aa-4bb4-88f4-394f298b69ca' class='xr-var-data-in' type='checkbox'><label for='data-262159ff-25aa-4bb4-88f4-394f298b69ca' title='Show/Hide data repr'><svg class='icon xr-icon-database'><use xlink:href='#icon-database'></use></svg></label><div class='xr-var-attrs'><dl class='xr-attrs'><dt><span>_FillValue :</span></dt><dd>0</dd></dl></div><div class='xr-var-data'><pre>array([&#x27;U2AF2_HepG2_rep02&#x27;, &#x27;U2AF2_HepG2_rep02&#x27;, &#x27;U2AF2_HepG2_rep01&#x27;, ...,\n",
       "       &#x27;U2AF2_HepG2_rep01&#x27;, &#x27;U2AF2_HepG2_rep02&#x27;, &#x27;U2AF2_HepG2_rep02&#x27;],\n",
       "      dtype=object)</pre></div></li><li class='xr-var-item'><div class='xr-var-name'><span>score</span></div><div class='xr-var-dims'>(_sequence)</div><div class='xr-var-dtype'>float64</div><div class='xr-var-preview xr-preview'>6.189 6.111 5.795 ... 2.006 2.006</div><input id='attrs-3ad46ebb-c8f2-477f-982d-60bd29a70223' class='xr-var-attrs-in' type='checkbox' ><label for='attrs-3ad46ebb-c8f2-477f-982d-60bd29a70223' title='Show/Hide attributes'><svg class='icon xr-icon-file-text2'><use xlink:href='#icon-file-text2'></use></svg></label><input id='data-79dda653-3516-409f-8f1f-8ad723d57c53' class='xr-var-data-in' type='checkbox'><label for='data-79dda653-3516-409f-8f1f-8ad723d57c53' title='Show/Hide data repr'><svg class='icon xr-icon-database'><use xlink:href='#icon-database'></use></svg></label><div class='xr-var-attrs'><dl class='xr-attrs'><dt><span>_FillValue :</span></dt><dd>0.0</dd></dl></div><div class='xr-var-data'><pre>array([6.18939149, 6.11138898, 5.79501885, ..., 2.00842249, 2.00559431,\n",
       "       2.00559431])</pre></div></li><li class='xr-var-item'><div class='xr-var-name'><span>seq</span></div><div class='xr-var-dims'>(_sequence, _length)</div><div class='xr-var-dtype'>|S1</div><div class='xr-var-preview xr-preview'>b&#x27;G&#x27; b&#x27;C&#x27; b&#x27;T&#x27; ... b&#x27;T&#x27; b&#x27;T&#x27; b&#x27;T&#x27;</div><input id='attrs-64add8a9-bb52-4347-85ad-8d6525991330' class='xr-var-attrs-in' type='checkbox' disabled><label for='attrs-64add8a9-bb52-4347-85ad-8d6525991330' title='Show/Hide attributes'><svg class='icon xr-icon-file-text2'><use xlink:href='#icon-file-text2'></use></svg></label><input id='data-b5f3a540-ca2b-4773-8dcd-c39d273a2103' class='xr-var-data-in' type='checkbox'><label for='data-b5f3a540-ca2b-4773-8dcd-c39d273a2103' title='Show/Hide data repr'><svg class='icon xr-icon-database'><use xlink:href='#icon-database'></use></svg></label><div class='xr-var-attrs'><dl class='xr-attrs'></dl></div><div class='xr-var-data'><pre>array([[b&#x27;G&#x27;, b&#x27;C&#x27;, b&#x27;T&#x27;, ..., b&#x27;A&#x27;, b&#x27;G&#x27;, b&#x27;G&#x27;],\n",
       "       [b&#x27;A&#x27;, b&#x27;G&#x27;, b&#x27;A&#x27;, ..., b&#x27;A&#x27;, b&#x27;A&#x27;, b&#x27;A&#x27;],\n",
       "       [b&#x27;A&#x27;, b&#x27;A&#x27;, b&#x27;A&#x27;, ..., b&#x27;A&#x27;, b&#x27;T&#x27;, b&#x27;T&#x27;],\n",
       "       ...,\n",
       "       [b&#x27;C&#x27;, b&#x27;C&#x27;, b&#x27;A&#x27;, ..., b&#x27;A&#x27;, b&#x27;G&#x27;, b&#x27;G&#x27;],\n",
       "       [b&#x27;G&#x27;, b&#x27;C&#x27;, b&#x27;T&#x27;, ..., b&#x27;A&#x27;, b&#x27;G&#x27;, b&#x27;A&#x27;],\n",
       "       [b&#x27;T&#x27;, b&#x27;T&#x27;, b&#x27;T&#x27;, ..., b&#x27;T&#x27;, b&#x27;T&#x27;, b&#x27;T&#x27;]], dtype=&#x27;|S1&#x27;)</pre></div></li><li class='xr-var-item'><div class='xr-var-name'><span>strand</span></div><div class='xr-var-dims'>(_sequence)</div><div class='xr-var-dtype'>object</div><div class='xr-var-preview xr-preview'>&#x27;+&#x27; &#x27;+&#x27; &#x27;+&#x27; &#x27;+&#x27; ... &#x27;+&#x27; &#x27;-&#x27; &#x27;+&#x27; &#x27;-&#x27;</div><input id='attrs-ef751a41-bd2c-46ba-b8db-a22e7929cab9' class='xr-var-attrs-in' type='checkbox' ><label for='attrs-ef751a41-bd2c-46ba-b8db-a22e7929cab9' title='Show/Hide attributes'><svg class='icon xr-icon-file-text2'><use xlink:href='#icon-file-text2'></use></svg></label><input id='data-c2343dbc-00b7-4dd3-98ae-729876467b76' class='xr-var-data-in' type='checkbox'><label for='data-c2343dbc-00b7-4dd3-98ae-729876467b76' title='Show/Hide data repr'><svg class='icon xr-icon-database'><use xlink:href='#icon-database'></use></svg></label><div class='xr-var-attrs'><dl class='xr-attrs'><dt><span>_FillValue :</span></dt><dd>0</dd></dl></div><div class='xr-var-data'><pre>array([&#x27;+&#x27;, &#x27;+&#x27;, &#x27;+&#x27;, ..., &#x27;-&#x27;, &#x27;+&#x27;, &#x27;-&#x27;], dtype=object)</pre></div></li></ul></div></li><li class='xr-section-item'><input id='section-2c625d1a-0822-4a9b-87aa-aeef77de6ebc' class='xr-section-summary-in' type='checkbox'  ><label for='section-2c625d1a-0822-4a9b-87aa-aeef77de6ebc' class='xr-section-summary' >Indexes: <span>(1)</span></label><div class='xr-section-inline-details'></div><div class='xr-section-details'><ul class='xr-var-list'><li class='xr-var-item'><div class='xr-index-name'><div>cov_sample</div></div><div class='xr-index-preview'>PandasIndex</div><div></div><input id='index-45c5596f-705d-4a06-b170-1c34b0f19e73' class='xr-index-data-in' type='checkbox'/><label for='index-45c5596f-705d-4a06-b170-1c34b0f19e73' title='Show/Hide index repr'><svg class='icon xr-icon-database'><use xlink:href='#icon-database'></use></svg></label><div class='xr-index-data'><pre>PandasIndex(Index([&#x27;signal+&#x27;, &#x27;signal-&#x27;, &#x27;control+&#x27;, &#x27;control-&#x27;], dtype=&#x27;object&#x27;, name=&#x27;cov_sample&#x27;))</pre></div></li></ul></div></li><li class='xr-section-item'><input id='section-d0ffd408-d8c9-49d8-a8b1-c660082454dd' class='xr-section-summary-in' type='checkbox'  checked><label for='section-d0ffd408-d8c9-49d8-a8b1-c660082454dd' class='xr-section-summary' >Attributes: <span>(3)</span></label><div class='xr-section-inline-details'></div><div class='xr-section-details'><dl class='xr-attrs'><dt><span>length_dim :</span></dt><dd>_length</dd><dt><span>max_jitter :</span></dt><dd>32</dd><dt><span>sequence_dim :</span></dt><dd>_sequence</dd></dl></div></li></ul></div></div>"
      ],
      "text/plain": [
       "<xarray.Dataset>\n",
       "Dimensions:     (_sequence: 1788, cov_sample: 4, _length: 564)\n",
       "Coordinates:\n",
       "  * cov_sample  (cov_sample) object 'signal+' 'signal-' 'control+' 'control-'\n",
       "Dimensions without coordinates: _sequence, _length\n",
       "Data variables:\n",
       "    chrom       (_sequence) object 'chr19' 'chr19' 'chr19' ... 'chr19' 'chr19'\n",
       "    chromEnd    (_sequence) int64 1373740 13920100 29986552 ... 38709660 6414032\n",
       "    chromStart  (_sequence) int64 1373176 13919536 29985988 ... 38709096 6413468\n",
       "    cov         (_sequence, cov_sample, _length) uint16 0 0 0 1 0 ... 0 0 0 1 1\n",
       "    name        (_sequence) object 'U2AF2_HepG2_rep02' ... 'U2AF2_HepG2_rep02'\n",
       "    score       (_sequence) float64 6.189 6.111 5.795 ... 2.008 2.006 2.006\n",
       "    seq         (_sequence, _length) |S1 b'G' b'C' b'T' b'A' ... b'T' b'T' b'T'\n",
       "    strand      (_sequence) object '+' '+' '+' '+' '+' ... '+' '+' '-' '+' '-'\n",
       "Attributes:\n",
       "    length_dim:    _length\n",
       "    max_jitter:    32\n",
       "    sequence_dim:  _sequence"
      ]
     },
     "execution_count": 16,
     "metadata": {},
     "output_type": "execute_result"
    }
   ],
   "source": [
    "# Compose a SeqData from a set of files - only run this once!\n",
    "sdata = sd.from_region_files(\n",
    "    sd.GenomeFASTA(\n",
    "        'seq',\n",
    "        fasta,\n",
    "        batch_size=2048,\n",
    "        n_threads=4,\n",
    "    ),\n",
    "    sd.BigWig(\n",
    "        'cov',\n",
    "        bigwigs,\n",
    "        sample_names,\n",
    "        batch_size=2048,\n",
    "        n_jobs=4,\n",
    "        threads_per_job=2,\n",
    "    ),\n",
    "    path=out,\n",
    "    fixed_length=500,\n",
    "    bed=peaks,\n",
    "    overwrite=True,\n",
    "    max_jitter=32\n",
    ")\n",
    "sdata.load()"
   ]
  },
  {
   "cell_type": "code",
   "execution_count": 17,
   "id": "1c75075f-fe80-4d3f-ad5b-e3e9bfdf7b64",
   "metadata": {
    "execution": {
     "iopub.execute_input": "2023-12-25T21:53:18.055675Z",
     "iopub.status.busy": "2023-12-25T21:53:18.055500Z",
     "iopub.status.idle": "2023-12-25T21:53:18.063453Z",
     "shell.execute_reply": "2023-12-25T21:53:18.063094Z",
     "shell.execute_reply.started": "2023-12-25T21:53:18.055661Z"
    },
    "tags": []
   },
   "outputs": [],
   "source": [
    "# Split cov into control and signal\n",
    "sdata['control'] = (\n",
    "    sdata.cov.sel(cov_sample=['control+', 'control-'])\n",
    "    .rename({'cov_sample': 'cov_strand'})\n",
    "    .assign_coords({'cov_strand': ['+', '-']})\n",
    ")\n",
    "sdata['signal'] = (\n",
    "    sdata.cov.sel(cov_sample=['signal+', 'signal-'])\n",
    "    .rename({'cov_sample': 'cov_strand'})\n",
    "    .assign_coords({'cov_strand': ['+', '-']})\n",
    ")\n",
    "sdata = sdata.drop_vars(['cov', 'cov_sample'])"
   ]
  },
  {
   "cell_type": "code",
   "execution_count": 18,
   "id": "9b8c3164-1f61-40fd-808b-37af1740c2ad",
   "metadata": {
    "execution": {
     "iopub.execute_input": "2023-12-25T21:53:18.064134Z",
     "iopub.status.busy": "2023-12-25T21:53:18.064004Z",
     "iopub.status.idle": "2023-12-25T21:53:18.582292Z",
     "shell.execute_reply": "2023-12-25T21:53:18.581908Z",
     "shell.execute_reply.started": "2023-12-25T21:53:18.064122Z"
    },
    "tags": []
   },
   "outputs": [
    {
     "data": {
      "text/plain": [
       "<matplotlib.legend.Legend at 0x1553eec6fbe0>"
      ]
     },
     "execution_count": 18,
     "metadata": {},
     "output_type": "execute_result"
    },
    {
     "data": {
      "image/png": "[encoded data removed]",
      "text/plain": [
       "<Figure size 1200x200 with 1 Axes>"
      ]
     },
     "metadata": {},
     "output_type": "display_data"
    }
   ],
   "source": [
    "# Plot signal and control\n",
    "seq_num = 15\n",
    "fig, ax = plt.subplots(figsize=(12,2))\n",
    "plt.plot(sdata[\"signal\"][seq_num][0].values, label=\"+ signal\")\n",
    "plt.plot(sdata[\"signal\"][seq_num][1].values, label=\"- signal\")\n",
    "plt.plot(sdata[\"control\"][seq_num][0].values, label=\"+ control\")\n",
    "plt.plot(sdata[\"control\"][seq_num][1].values, label=\"- control\")\n",
    "plt.legend()"
   ]
  },
  {
   "cell_type": "code",
   "execution_count": 19,
   "id": "f3f121d2-73ef-4825-80ff-ec56e3c81ac7",
   "metadata": {
    "execution": {
     "iopub.execute_input": "2023-12-25T21:53:18.776306Z",
     "iopub.status.busy": "2023-12-25T21:53:18.776141Z",
     "iopub.status.idle": "2023-12-25T21:53:18.781052Z",
     "shell.execute_reply": "2023-12-25T21:53:18.780698Z",
     "shell.execute_reply.started": "2023-12-25T21:53:18.776292Z"
    },
    "tags": []
   },
   "outputs": [],
   "source": [
    "pp.train_test_random_split(sdata, dim=\"_sequence\")"
   ]
  },
  {
   "cell_type": "code",
   "execution_count": 20,
   "id": "b8e47a8c-7da8-4cde-b0a5-9212dc2312d2",
   "metadata": {
    "execution": {
     "iopub.execute_input": "2023-12-25T21:53:18.818746Z",
     "iopub.status.busy": "2023-12-25T21:53:18.818151Z",
     "iopub.status.idle": "2023-12-25T21:53:18.825168Z",
     "shell.execute_reply": "2023-12-25T21:53:18.824807Z",
     "shell.execute_reply.started": "2023-12-25T21:53:18.818727Z"
    },
    "tags": []
   },
   "outputs": [],
   "source": [
    "train_sdata = sdata.sel(_sequence=sdata[\"train_val\"])\n",
    "valid_sdata = sdata.sel(_sequence=~sdata[\"train_val\"])"
   ]
  },
  {
   "cell_type": "markdown",
   "id": "750474aa-b7c7-4de7-a6d9-13ab70a64be5",
   "metadata": {},
   "source": [
    "# Training data"
   ]
  },
  {
   "cell_type": "code",
   "execution_count": 23,
   "id": "e4da9ae7-6a9c-4cb6-8de6-288ac48aa854",
   "metadata": {
    "execution": {
     "iopub.execute_input": "2023-12-25T21:53:38.264300Z",
     "iopub.status.busy": "2023-12-25T21:53:38.264047Z",
     "iopub.status.idle": "2023-12-25T21:53:38.266800Z",
     "shell.execute_reply": "2023-12-25T21:53:38.266343Z",
     "shell.execute_reply.started": "2023-12-25T21:53:38.264281Z"
    }
   },
   "outputs": [],
   "source": [
    "import seqpro as sp"
   ]
  },
  {
   "cell_type": "code",
   "execution_count": 24,
   "id": "99efeed0-5e89-4e64-af63-41fc7d73dd97",
   "metadata": {
    "execution": {
     "iopub.execute_input": "2023-12-25T21:53:38.827384Z",
     "iopub.status.busy": "2023-12-25T21:53:38.827213Z",
     "iopub.status.idle": "2023-12-25T21:53:38.832236Z",
     "shell.execute_reply": "2023-12-25T21:53:38.831808Z",
     "shell.execute_reply.started": "2023-12-25T21:53:38.827368Z"
    },
    "tags": []
   },
   "outputs": [],
   "source": [
    "# Define training transformations\n",
    "from eugene.dataload._augment import RandomRC\n",
    "\n",
    "def seq_trans(x):\n",
    "    x = np.char.upper(x)\n",
    "    x = sp.ohe(x, sp.alphabets.DNA)\n",
    "    x = x.swapaxes(1, 2)\n",
    "    return x\n",
    "\n",
    "def cov_dtype(x):\n",
    "    return tuple(arr.astype('f4') for arr in x)\n",
    "\n",
    "def jitter(x):\n",
    "    return sp.jitter(*x, max_jitter=32, length_axis=-1, jitter_axes=0)\n",
    "\n",
    "def to_tensor(x):\n",
    "    return tuple(torch.tensor(arr, dtype=torch.float32) for arr in x)\n",
    "\n",
    "def random_rc(x):\n",
    "    return RandomRC(rc_prob=0.5)(*x)\n",
    "\n",
    "# Get the train dataloader\n",
    "train_dl = sd.get_torch_dataloader(\n",
    "    train_sdata,\n",
    "    sample_dims=['_sequence'],\n",
    "    variables=['seq', 'control', 'signal'],\n",
    "    prefetch_factor=None,\n",
    "    batch_size=32,\n",
    "    transforms={\n",
    "        ('seq', 'control', 'signal'): jitter,\n",
    "        'seq': seq_trans,\n",
    "        'signal': lambda x: x[..., 100:-100],\n",
    "        ('control', 'signal'): cov_dtype,\n",
    "        ('control', 'seq', 'signal'): to_tensor,\n",
    "        ('signal', 'control', 'seq'): random_rc\n",
    "    },\n",
    "    return_tuples=True,\n",
    "    shuffle=True,\n",
    ")"
   ]
  },
  {
   "cell_type": "code",
   "execution_count": 33,
   "id": "f3c2c0ec-3d80-415f-9284-585eefe129b5",
   "metadata": {
    "execution": {
     "iopub.execute_input": "2023-12-25T21:55:07.133320Z",
     "iopub.status.busy": "2023-12-25T21:55:07.133096Z",
     "iopub.status.idle": "2023-12-25T21:55:07.229639Z",
     "shell.execute_reply": "2023-12-25T21:55:07.229140Z",
     "shell.execute_reply.started": "2023-12-25T21:55:07.133305Z"
    },
    "tags": []
   },
   "outputs": [
    {
     "data": {
      "text/plain": [
       "(torch.Size([32, 4, 500]),\n",
       " torch.Size([32, 2, 500]),\n",
       " torch.Size([32, 2, 300]),\n",
       " torch.Size([32, 2, 300]),\n",
       " torch.Size([32, 1]))"
      ]
     },
     "execution_count": 33,
     "metadata": {},
     "output_type": "execute_result"
    }
   ],
   "source": [
    "# Test out a prediction batch\n",
    "batch = next(iter(train_dl))\n",
    "pred_ctl = model.forward(*batch[:2])\n",
    "batch[0].shape, batch[1].shape, batch[2].shape, pred_ctl[0].shape, pred_ctl[1].shape"
   ]
  },
  {
   "cell_type": "markdown",
   "id": "9bad453c-8372-437f-ad70-2da1c50e286c",
   "metadata": {},
   "source": [
    "# Validation data"
   ]
  },
  {
   "cell_type": "code",
   "execution_count": 34,
   "id": "a64365dd-ad22-4d7a-86b0-9e4db71a03dd",
   "metadata": {
    "execution": {
     "iopub.execute_input": "2023-12-25T21:55:25.102927Z",
     "iopub.status.busy": "2023-12-25T21:55:25.102695Z",
     "iopub.status.idle": "2023-12-25T21:55:25.116202Z",
     "shell.execute_reply": "2023-12-25T21:55:25.115788Z",
     "shell.execute_reply.started": "2023-12-25T21:55:25.102911Z"
    },
    "tags": []
   },
   "outputs": [
    {
     "data": {
      "text/plain": [
       "(torch.Size([179, 4, 500]),\n",
       " torch.Size([179, 2, 500]),\n",
       " torch.Size([179, 2, 300]))"
      ]
     },
     "execution_count": 34,
     "metadata": {},
     "output_type": "execute_result"
    }
   ],
   "source": [
    "# Get the validation data\n",
    "def seq_trans(x):\n",
    "    x = x[..., 32:-32]\n",
    "    np.char.upper(x)\n",
    "    x = sp.ohe(x, sp.alphabets.DNA)\n",
    "    x = x.swapaxes(1, 2)\n",
    "    return torch.as_tensor(x.astype('f4'))\n",
    "\n",
    "def ctl_trans(x):\n",
    "    x = x[..., 32:-32]\n",
    "    return torch.as_tensor(x.astype('f4'))\n",
    "\n",
    "def cov_trans(x):\n",
    "    x = x[..., 32+100:-32-100]\n",
    "    return torch.as_tensor(x.astype('f4'))\n",
    "\n",
    "X_valid = seq_trans(valid_sdata[\"seq\"].values)\n",
    "X_ctl_valid = ctl_trans(valid_sdata[\"control\"].values)\n",
    "y_valid = cov_trans(valid_sdata[\"signal\"].values)\n",
    "X_valid.shape, X_ctl_valid.shape, y_valid.shape"
   ]
  },
  {
   "cell_type": "code",
   "execution_count": 37,
   "id": "2292fa39-d51c-42ec-9081-d2663e6936e0",
   "metadata": {
    "execution": {
     "iopub.execute_input": "2023-12-25T21:56:04.199734Z",
     "iopub.status.busy": "2023-12-25T21:56:04.199471Z",
     "iopub.status.idle": "2023-12-25T21:56:04.496501Z",
     "shell.execute_reply": "2023-12-25T21:56:04.496077Z",
     "shell.execute_reply.started": "2023-12-25T21:56:04.199718Z"
    }
   },
   "outputs": [
    {
     "data": {
      "text/plain": [
       "(torch.Size([179, 2, 300]), torch.Size([179, 1]))"
      ]
     },
     "execution_count": 37,
     "metadata": {},
     "output_type": "execute_result"
    }
   ],
   "source": [
    "# Test out a prediction batch\n",
    "pred_ctl = model.forward(X=X_valid, X_ctl=X_ctl_valid)\n",
    "pred_ctl[0].shape, pred_ctl[1].shape"
   ]
  },
  {
   "cell_type": "markdown",
   "id": "7e3fa8fe-f697-4497-a073-0d3895dbf2c8",
   "metadata": {},
   "source": [
    "# Instantiate model"
   ]
  },
  {
   "cell_type": "code",
   "execution_count": 43,
   "id": "e25f5d68-ca4f-4e50-8732-729eefc2d169",
   "metadata": {
    "execution": {
     "iopub.execute_input": "2023-12-25T22:43:39.710142Z",
     "iopub.status.busy": "2023-12-25T22:43:39.709966Z",
     "iopub.status.idle": "2023-12-25T22:43:39.712570Z",
     "shell.execute_reply": "2023-12-25T22:43:39.712143Z",
     "shell.execute_reply.started": "2023-12-25T22:43:39.710128Z"
    },
    "tags": []
   },
   "outputs": [],
   "source": [
    "import torch\n",
    "import numpy as np\n",
    "from bpnetlite import BPNet"
   ]
  },
  {
   "cell_type": "code",
   "execution_count": 44,
   "id": "a6c2d3de-03a4-4f01-9e4f-6591b9784bc9",
   "metadata": {
    "execution": {
     "iopub.execute_input": "2023-12-25T22:43:39.877269Z",
     "iopub.status.busy": "2023-12-25T22:43:39.877102Z",
     "iopub.status.idle": "2023-12-25T22:43:39.880892Z",
     "shell.execute_reply": "2023-12-25T22:43:39.880548Z",
     "shell.execute_reply.started": "2023-12-25T22:43:39.877255Z"
    },
    "tags": []
   },
   "outputs": [],
   "source": [
    "# Create the model, we need 2 channels for the control tracks, 2 channels for the signal tracks, and to trim to 1000 bp of input\n",
    "model = BPNet(n_outputs=2, n_control_tracks=2, trimming=100)"
   ]
  },
  {
   "cell_type": "code",
   "execution_count": 45,
   "id": "1b697861-a5b6-443a-a9b4-ce358a5501ef",
   "metadata": {
    "execution": {
     "iopub.execute_input": "2023-12-25T22:43:40.058630Z",
     "iopub.status.busy": "2023-12-25T22:43:40.058268Z",
     "iopub.status.idle": "2023-12-25T22:43:40.061875Z",
     "shell.execute_reply": "2023-12-25T22:43:40.061537Z",
     "shell.execute_reply.started": "2023-12-25T22:43:40.058617Z"
    },
    "tags": []
   },
   "outputs": [
    {
     "data": {
      "text/plain": [
       "BPNet(\n",
       "  (iconv): Conv1d(4, 64, kernel_size=(21,), stride=(1,), padding=(10,))\n",
       "  (irelu): ReLU()\n",
       "  (rconvs): ModuleList(\n",
       "    (0): Conv1d(64, 64, kernel_size=(3,), stride=(1,), padding=(2,), dilation=(2,))\n",
       "    (1): Conv1d(64, 64, kernel_size=(3,), stride=(1,), padding=(4,), dilation=(4,))\n",
       "    (2): Conv1d(64, 64, kernel_size=(3,), stride=(1,), padding=(8,), dilation=(8,))\n",
       "    (3): Conv1d(64, 64, kernel_size=(3,), stride=(1,), padding=(16,), dilation=(16,))\n",
       "    (4): Conv1d(64, 64, kernel_size=(3,), stride=(1,), padding=(32,), dilation=(32,))\n",
       "    (5): Conv1d(64, 64, kernel_size=(3,), stride=(1,), padding=(64,), dilation=(64,))\n",
       "    (6): Conv1d(64, 64, kernel_size=(3,), stride=(1,), padding=(128,), dilation=(128,))\n",
       "    (7): Conv1d(64, 64, kernel_size=(3,), stride=(1,), padding=(256,), dilation=(256,))\n",
       "  )\n",
       "  (rrelus): ModuleList(\n",
       "    (0-7): 8 x ReLU()\n",
       "  )\n",
       "  (fconv): Conv1d(66, 2, kernel_size=(75,), stride=(1,), padding=(37,))\n",
       "  (linear): Linear(in_features=65, out_features=1, bias=True)\n",
       ")"
      ]
     },
     "execution_count": 45,
     "metadata": {},
     "output_type": "execute_result"
    }
   ],
   "source": [
    "# Send the model to the GPU\n",
    "model.cuda()"
   ]
  },
  {
   "cell_type": "markdown",
   "id": "5940bee8-ce0f-4c97-bafb-5fc9f2696697",
   "metadata": {},
   "source": [
    "# Training"
   ]
  },
  {
   "cell_type": "code",
   "execution_count": 46,
   "id": "e06db9a6-06bd-46c1-987d-48a33ce1a914",
   "metadata": {
    "execution": {
     "iopub.execute_input": "2023-12-25T22:43:40.720991Z",
     "iopub.status.busy": "2023-12-25T22:43:40.720728Z",
     "iopub.status.idle": "2023-12-25T22:43:40.723535Z",
     "shell.execute_reply": "2023-12-25T22:43:40.723183Z",
     "shell.execute_reply.started": "2023-12-25T22:43:40.720977Z"
    },
    "tags": []
   },
   "outputs": [],
   "source": [
    "# Quickly define your optimizer\n",
    "optimizer = torch.optim.Adam(model.parameters(), lr=0.001)"
   ]
  },
  {
   "cell_type": "code",
   "execution_count": 48,
   "id": "48ba1836-f6b6-41f0-acb6-51e3cc6972db",
   "metadata": {
    "execution": {
     "iopub.execute_input": "2023-12-25T22:54:30.585845Z",
     "iopub.status.busy": "2023-12-25T22:54:30.585626Z",
     "iopub.status.idle": "2023-12-25T23:00:36.599201Z",
     "shell.execute_reply": "2023-12-25T23:00:36.598755Z",
     "shell.execute_reply.started": "2023-12-25T22:54:30.585830Z"
    },
    "tags": []
   },
   "outputs": [
    {
     "name": "stdout",
     "output_type": "stream",
     "text": [
      "Epoch\tIteration\tTraining Time\tValidation Time\tTraining MNLL\tTraining Count MSE\tValidation MNLL\tValidation Profile Pearson\tValidation Count Pearson\tValidation Count MSE\tSaved?\n",
      "0\t0\t0.0566\t0.0073\t117.7861\t0.4543\t54.5381\t0.25989097\t0.1777473\t6.6419\tTrue\n",
      "1\t100\t3.0394\t0.0075\t85.6443\t0.3778\t57.1393\t0.23701872\t0.17814831\t6.5777\tFalse\n",
      "3\t200\t2.7348\t0.0074\t105.8444\t0.2422\t53.031\t0.2592809\t0.17638567\t6.1578\tTrue\n",
      "5\t300\t2.7283\t0.0074\t101.3638\t0.2635\t54.4052\t0.24784613\t0.17662522\t7.0939\tFalse\n",
      "7\t400\t2.6947\t0.0074\t127.6452\t0.5192\t52.96\t0.25361755\t0.17711803\t6.5531\tFalse\n",
      "9\t500\t2.5006\t0.0074\t96.8297\t0.4225\t51.5207\t0.26843047\t0.1786023\t6.2399\tTrue\n",
      "11\t600\t2.3632\t0.0074\t92.39\t0.252\t53.413\t0.25099048\t0.17781615\t5.9751\tFalse\n",
      "13\t700\t2.2567\t0.0074\t118.1437\t0.3426\t51.6583\t0.266935\t0.17859334\t6.6699\tFalse\n",
      "15\t800\t2.1937\t0.0074\t101.8249\t0.3335\t51.4455\t0.26967335\t0.1779829\t6.9701\tFalse\n",
      "17\t900\t2.0176\t0.0074\t88.2451\t0.2466\t50.8048\t0.26511374\t0.17903472\t6.4646\tTrue\n",
      "19\t1000\t1.8575\t0.0074\t92.9302\t0.2962\t53.3707\t0.2584275\t0.17853566\t6.4961\tFalse\n",
      "21\t1100\t1.8212\t0.0074\t80.0504\t0.2729\t52.2186\t0.26741272\t0.17711872\t6.7205\tFalse\n",
      "23\t1200\t1.6694\t0.0074\t100.0265\t0.2568\t52.1016\t0.26728135\t0.17869313\t6.4006\tFalse\n",
      "25\t1300\t1.4797\t0.0074\t85.5677\t0.2882\t50.8198\t0.270833\t0.17864724\t6.3255\tTrue\n",
      "27\t1400\t1.3582\t0.0074\t77.1398\t0.3121\t49.8937\t0.2672614\t0.17914276\t6.7321\tTrue\n",
      "29\t1500\t1.2857\t0.0074\t89.9314\t0.3171\t51.6205\t0.2706436\t0.17917411\t6.8086\tFalse\n",
      "31\t1600\t1.1626\t0.0074\t88.3955\t0.2933\t50.0653\t0.2698392\t0.17803803\t6.2954\tTrue\n",
      "33\t1700\t0.9844\t0.0074\t96.2278\t0.3736\t51.2579\t0.2703917\t0.17803572\t6.5051\tFalse\n",
      "35\t1800\t0.9545\t0.0074\t83.893\t0.2919\t49.2382\t0.27242714\t0.17855573\t6.5823\tTrue\n",
      "37\t1900\t0.8269\t0.0074\t104.815\t0.3379\t50.3248\t0.26517546\t0.17940807\t6.5383\tFalse\n",
      "39\t2000\t0.6816\t0.0074\t121.4378\t0.4969\t50.0276\t0.2728409\t0.17929511\t6.6717\tFalse\n",
      "41\t2100\t0.5498\t0.0074\t101.9695\t0.3425\t50.5226\t0.26114553\t0.17831075\t6.3013\tFalse\n",
      "43\t2200\t0.4186\t0.0074\t89.4067\t0.3432\t50.5582\t0.2692119\t0.17862639\t6.497\tFalse\n",
      "45\t2300\t0.3361\t0.0074\t76.94\t0.2826\t49.3631\t0.27736402\t0.17873102\t6.5115\tFalse\n",
      "47\t2400\t0.2361\t0.0073\t90.9192\t0.4372\t49.0385\t0.26931387\t0.1790645\t6.3956\tTrue\n",
      "49\t2500\t0.1081\t0.0074\t79.8904\t0.3557\t49.7823\t0.27810553\t0.17991044\t6.5262\tFalse\n",
      "50\t2600\t2.6807\t0.0069\t65.4236\t0.3643\t49.935\t0.2701738\t0.17884782\t6.5369\tFalse\n",
      "52\t2700\t2.4366\t0.0073\t88.0899\t0.4561\t48.799\t0.27723572\t0.17993553\t6.6308\tTrue\n",
      "54\t2800\t2.4402\t0.0074\t74.362\t0.315\t47.9075\t0.2793818\t0.18034337\t6.7242\tTrue\n",
      "56\t2900\t2.4586\t0.0074\t83.7301\t0.2802\t48.117\t0.27925828\t0.17986965\t6.4605\tTrue\n",
      "58\t3000\t2.5219\t0.0074\t102.995\t0.4075\t51.2367\t0.27202126\t0.18021518\t6.7443\tFalse\n",
      "60\t3100\t2.423\t0.0074\t77.3011\t0.2117\t48.1876\t0.27884543\t0.18002759\t6.3123\tTrue\n",
      "62\t3200\t2.3861\t0.0076\t97.7111\t0.4037\t48.4057\t0.27746248\t0.17993833\t6.6381\tFalse\n",
      "64\t3300\t2.2545\t0.0074\t87.7194\t0.2987\t47.9974\t0.27372572\t0.1804789\t6.7195\tFalse\n",
      "66\t3400\t1.9811\t0.0074\t84.1067\t0.3909\t49.4596\t0.27627596\t0.18023112\t6.505\tFalse\n",
      "68\t3500\t1.9452\t0.0074\t80.2319\t0.3297\t48.6831\t0.27132004\t0.18022212\t6.5433\tFalse\n",
      "70\t3600\t1.8235\t0.0074\t100.756\t0.2735\t48.1598\t0.27949575\t0.18096709\t6.5633\tFalse\n",
      "72\t3700\t1.6948\t0.0076\t70.0343\t0.3991\t49.8276\t0.277707\t0.18083513\t6.6231\tFalse\n",
      "74\t3800\t1.5829\t0.0074\t69.2013\t0.2702\t47.0801\t0.28056058\t0.18045814\t6.5992\tTrue\n",
      "76\t3900\t1.3835\t0.0074\t69.2601\t0.2903\t49.1642\t0.26768222\t0.18021739\t6.3913\tFalse\n",
      "78\t4000\t1.2537\t0.0074\t82.3659\t0.2287\t48.4495\t0.27259248\t0.18044546\t6.7771\tFalse\n",
      "80\t4100\t1.1907\t0.0074\t103.0434\t0.3905\t50.7756\t0.2738049\t0.18058884\t6.393\tFalse\n",
      "82\t4200\t1.1218\t0.0074\t82.5031\t0.212\t47.5256\t0.27566987\t0.18007216\t6.4049\tFalse\n",
      "84\t4300\t1.0242\t0.0263\t71.8209\t0.248\t46.8888\t0.27249417\t0.18010378\t6.447\tTrue\n",
      "86\t4400\t0.8694\t0.0074\t73.9864\t0.3329\t48.36\t0.27563363\t0.18056646\t6.6801\tFalse\n",
      "88\t4500\t0.7559\t0.0074\t67.9651\t0.3404\t49.0806\t0.26981953\t0.1798816\t6.7661\tFalse\n",
      "90\t4600\t0.6381\t0.0074\t103.1927\t0.31\t48.1185\t0.27408037\t0.18041039\t6.5778\tFalse\n",
      "92\t4700\t0.5164\t0.0074\t62.0847\t0.3332\t49.4404\t0.27048126\t0.18063456\t6.1579\tFalse\n",
      "94\t4800\t0.4212\t0.0073\t71.977\t0.2277\t47.9114\t0.27584398\t0.18005762\t6.5346\tFalse\n",
      "96\t4900\t0.3084\t0.0074\t81.7646\t0.3687\t50.8556\t0.26840845\t0.18106598\t6.3836\tFalse\n",
      "98\t5000\t0.1951\t0.0074\t87.4627\t0.2758\t48.587\t0.27393562\t0.18133448\t6.3922\tFalse\n",
      "100\t5100\t0.0585\t0.0074\t80.6392\t0.2852\t49.4966\t0.2726059\t0.18131542\t5.9299\tFalse\n",
      "101\t5200\t2.972\t0.0074\t63.9174\t0.2558\t47.7715\t0.2796492\t0.18146294\t6.2584\tFalse\n",
      "103\t5300\t2.8187\t0.0074\t70.4758\t0.2553\t46.4645\t0.27361748\t0.18052155\t6.54\tTrue\n",
      "105\t5400\t2.6896\t0.0074\t70.8024\t0.3956\t47.8877\t0.27636963\t0.17972383\t6.5231\tFalse\n",
      "107\t5500\t2.6473\t0.0074\t84.046\t0.3083\t46.6998\t0.27681154\t0.18071218\t6.4852\tFalse\n",
      "109\t5600\t2.4389\t0.0074\t84.7089\t0.348\t47.8937\t0.27142793\t0.1810218\t6.6608\tFalse\n",
      "111\t5700\t2.2819\t0.0074\t86.3172\t0.3285\t49.9666\t0.2752537\t0.18042038\t6.2352\tFalse\n",
      "113\t5800\t2.2108\t0.0074\t64.79\t0.2257\t51.1385\t0.2705991\t0.18099755\t6.5176\tFalse\n",
      "115\t5900\t2.1683\t0.0074\t95.6249\t0.357\t49.7525\t0.2689529\t0.18003976\t6.4674\tFalse\n",
      "117\t6000\t2.0013\t0.0074\t77.3229\t0.3173\t47.7297\t0.27412257\t0.18017775\t6.5759\tFalse\n",
      "119\t6100\t1.9188\t0.0074\t63.2017\t0.3298\t47.636\t0.27484417\t0.18070266\t6.0762\tFalse\n",
      "121\t6200\t1.8031\t0.0074\t70.4813\t0.3449\t49.7174\t0.27209982\t0.18074341\t6.633\tFalse\n",
      "123\t6300\t1.682\t0.0074\t92.1741\t0.4944\t49.4331\t0.2689202\t0.18112893\t6.8058\tFalse\n"
     ]
    }
   ],
   "source": [
    "# Use the models fit_generator method to train the model\n",
    "res = model.fit(\n",
    "    train_dl,\n",
    "    optimizer,\n",
    "    X_valid=X_valid,\n",
    "    X_ctl_valid=X_ctl_valid,\n",
    "    y_valid=y_valid,\n",
    "    max_epochs=250,\n",
    "    batch_size=128,\n",
    "    early_stopping=10\n",
    ")"
   ]
  },
  {
   "cell_type": "markdown",
   "id": "1d6956bb-ae7a-41b3-9f64-2a343e685959",
   "metadata": {},
   "source": [
    "# DONE!"
   ]
  },
  {
   "cell_type": "markdown",
   "id": "1abdfdc1-4bdd-441c-80e6-043094696e50",
   "metadata": {},
   "source": [
    "----"
   ]
  }
 ],
 "metadata": {
  "kernelspec": {
   "display_name": "Python 3.9 ml4gland",
   "language": "python",
   "name": "ml4gland"
  },
  "language_info": {
   "codemirror_mode": {
    "name": "ipython",
    "version": 3
   },
   "file_extension": ".py",
   "mimetype": "text/x-python",
   "name": "python",
   "nbconvert_exporter": "python",
   "pygments_lexer": "ipython3",
   "version": "3.9.16"
  }
 },
 "nbformat": 4,
 "nbformat_minor": 5
}
