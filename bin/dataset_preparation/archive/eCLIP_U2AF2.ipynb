{
 "cells": [
  {
   "cell_type": "code",
   "execution_count": 1,
   "id": "4f8f8fa0-e55c-4a83-9454-1e0b5a04dbdf",
   "metadata": {
    "execution": {
     "iopub.execute_input": "2023-12-26T19:39:41.860373Z",
     "iopub.status.busy": "2023-12-26T19:39:41.860257Z",
     "iopub.status.idle": "2023-12-26T19:40:02.801382Z",
     "shell.execute_reply": "2023-12-26T19:40:02.800982Z",
     "shell.execute_reply.started": "2023-12-26T19:39:41.860361Z"
    },
    "tags": []
   },
   "outputs": [
    {
     "name": "stderr",
     "output_type": "stream",
     "text": [
      "OMP: Info #276: omp_set_nested routine deprecated, please use omp_set_max_active_levels instead.\n"
     ]
    }
   ],
   "source": [
    "# Imports\n",
    "import os\n",
    "import seqdata as sd\n",
    "import torch\n",
    "import pandas as pd\n",
    "import numpy as np\n",
    "import matplotlib.pyplot as plt\n",
    "from eugene import preprocess as pp"
   ]
  },
  {
   "cell_type": "code",
   "execution_count": 9,
   "id": "f0848f0a-6f60-44ba-9d95-f21c603cefe0",
   "metadata": {
    "execution": {
     "iopub.execute_input": "2023-12-26T19:41:24.761865Z",
     "iopub.status.busy": "2023-12-26T19:41:24.761513Z",
     "iopub.status.idle": "2023-12-26T19:41:24.766108Z",
     "shell.execute_reply": "2023-12-26T19:41:24.765768Z",
     "shell.execute_reply.started": "2023-12-26T19:41:24.761849Z"
    },
    "tags": []
   },
   "outputs": [
    {
     "data": {
      "text/plain": [
       "(['/cellar/users/aklie/data/datasets/Horlacher_HepG2_CLIP/processed/2023_12_25/encode/U2AF2_v2/ENCFF913WRH.bigWig',\n",
       "  '/cellar/users/aklie/data/datasets/Horlacher_HepG2_CLIP/processed/2023_12_25/encode/U2AF2_v2/ENCFF368XEI.bigWig',\n",
       "  '/cellar/users/aklie/data/datasets/Horlacher_HepG2_CLIP/processed/2023_12_25/encode/U2AF2_v2/ENCFF989JBA.bigWig',\n",
       "  '/cellar/users/aklie/data/datasets/Horlacher_HepG2_CLIP/processed/2023_12_25/encode/U2AF2_v2/ENCFF566CFJ.bigWig'],\n",
       " ['signal+', 'signal-', 'control+', 'control-'])"
      ]
     },
     "execution_count": 9,
     "metadata": {},
     "output_type": "execute_result"
    }
   ],
   "source": [
    "# TODO: change to your paths\n",
    "data_dir = \"/cellar/users/aklie/data/datasets/Horlacher_HepG2_CLIP\"\n",
    "fasta = \"/cellar/users/aklie/data/ref/genomes/hg38/hg38.fa\"\n",
    "peaks = os.path.join(data_dir, \"processed/2023_12_25/encode/U2AF2/U2AF2_gene_peaks_1.minimal.bed\")\n",
    "signals = [os.path.join(data_dir, \"processed/2023_12_25/encode/U2AF2_v2/ENCFF913WRH.bigWig\"), os.path.join(data_dir, \"processed/2023_12_25/encode/U2AF2_v2/ENCFF368XEI.bigWig\")]\n",
    "controls = [os.path.join(data_dir,\"processed/2023_12_25/encode/U2AF2_v2/ENCFF989JBA.bigWig\"), os.path.join(data_dir, \"processed/2023_12_25/encode/U2AF2_v2/ENCFF566CFJ.bigWig\")]\n",
    "bigwigs = signals + controls\n",
    "sample_names = ['signal+', 'signal-', 'control+', 'control-']\n",
    "out = '/cellar/users/aklie/data/datasets/Horlacher_HepG2_CLIP/training/2023_12_25/HepG2/U2AF2_test_10.zarr'\n",
    "bigwigs, sample_names"
   ]
  },
  {
   "cell_type": "code",
   "execution_count": 10,
   "id": "46ab8d50-76b2-4460-85f5-2c18437e5156",
   "metadata": {
    "execution": {
     "iopub.execute_input": "2023-12-26T19:41:29.902534Z",
     "iopub.status.busy": "2023-12-26T19:41:29.902200Z",
     "iopub.status.idle": "2023-12-26T19:41:29.906416Z",
     "shell.execute_reply": "2023-12-26T19:41:29.906055Z",
     "shell.execute_reply.started": "2023-12-26T19:41:29.902519Z"
    },
    "tags": []
   },
   "outputs": [
    {
     "data": {
      "text/plain": [
       "(16, 3, 3)"
      ]
     },
     "execution_count": 10,
     "metadata": {},
     "output_type": "execute_result"
    }
   ],
   "source": [
    "# Define training and validation chromosomes\n",
    "training_chroms = ['chr{}'.format(i) for i in [3, 4, 5, 6, 7, 10, 11, 12, 13, 14, 17, 18, 19, 20, 21, 22]]\n",
    "valid_chroms = [\"chr1\", \"chr8\", \"chr15\"]\n",
    "test_chroms = [\"chr2\", \"chr9\", \"chr16\"]\n",
    "len(training_chroms), len(valid_chroms), len(test_chroms)"
   ]
  },
  {
   "cell_type": "code",
   "execution_count": 11,
   "id": "ad17127a-39e7-4101-98dc-eb2f9774ed9f",
   "metadata": {
    "execution": {
     "iopub.execute_input": "2023-12-26T19:41:30.929781Z",
     "iopub.status.busy": "2023-12-26T19:41:30.929618Z",
     "iopub.status.idle": "2023-12-26T19:41:30.932038Z",
     "shell.execute_reply": "2023-12-26T19:41:30.931591Z",
     "shell.execute_reply.started": "2023-12-26T19:41:30.929768Z"
    },
    "tags": []
   },
   "outputs": [],
   "source": [
    "make_sdata = True"
   ]
  },
  {
   "cell_type": "code",
   "execution_count": 13,
   "id": "3c733b10-41b6-49d3-9e1e-294863f489af",
   "metadata": {
    "execution": {
     "iopub.execute_input": "2023-12-26T19:41:43.948229Z",
     "iopub.status.busy": "2023-12-26T19:41:43.947998Z",
     "iopub.status.idle": "2023-12-26T19:42:28.441708Z",
     "shell.execute_reply": "2023-12-26T19:42:28.441283Z",
     "shell.execute_reply.started": "2023-12-26T19:41:43.948215Z"
    },
    "tags": []
   },
   "outputs": [
    {
     "name": "stderr",
     "output_type": "stream",
     "text": [
      "100%|██████████| 64833/64833 [00:02<00:00, 25847.98it/s]\n",
      "OMP: Info #276: omp_set_nested routine deprecated, please use omp_set_max_active_levels instead.\n",
      "100%|██████████| 64833/64833 [00:15<00:00, 4168.36it/s]\n"
     ]
    }
   ],
   "source": [
    "# Compose a SeqData from a set of files - only run this once!\n",
    "if make_sdata:\n",
    "sdata = sd.from_region_files(\n",
    "    sd.GenomeFASTA(\n",
    "        'seq',\n",
    "        fasta,\n",
    "        batch_size=2048,\n",
    "        n_threads=4,\n",
    "    ),\n",
    "    sd.BigWig(\n",
    "        'cov',\n",
    "        [bigwigs[0]],\n",
    "        [sample_names[0]],\n",
    "        batch_size=2048,\n",
    "        n_jobs=4,\n",
    "        threads_per_job=2,\n",
    "        dtype=\"float64\",\n",
    "    ),\n",
    "    path=out,\n",
    "    fixed_length=2000,\n",
    "    bed=peaks,\n",
    "    overwrite=True,\n",
    "    max_jitter=32\n",
    ")\n",
    "    make_sdata = False\n",
    "else:\n",
    "    sdata = sd.open_zarr(out)"
   ]
  },
  {
   "cell_type": "code",
   "execution_count": 14,
   "id": "97d18c59-6f90-43f3-8a7f-498e2040b091",
   "metadata": {
    "execution": {
     "iopub.execute_input": "2023-12-26T19:42:30.957053Z",
     "iopub.status.busy": "2023-12-26T19:42:30.956852Z",
     "iopub.status.idle": "2023-12-26T19:42:31.584061Z",
     "shell.execute_reply": "2023-12-26T19:42:31.583692Z",
     "shell.execute_reply.started": "2023-12-26T19:42:30.957038Z"
    },
    "tags": []
   },
   "outputs": [
    {
     "data": {
      "text/html": [
       "<div><svg style=\"position: absolute; width: 0; height: 0; overflow: hidden\">\n",
       "<defs>\n",
       "<symbol id=\"icon-database\" viewBox=\"0 0 32 32\">\n",
       "<path d=\"M16 0c-8.837 0-16 2.239-16 5v4c0 2.761 7.163 5 16 5s16-2.239 16-5v-4c0-2.761-7.163-5-16-5z\"></path>\n",
       "<path d=\"M16 17c-8.837 0-16-2.239-16-5v6c0 2.761 7.163 5 16 5s16-2.239 16-5v-6c0 2.761-7.163 5-16 5z\"></path>\n",
       "<path d=\"M16 26c-8.837 0-16-2.239-16-5v6c0 2.761 7.163 5 16 5s16-2.239 16-5v-6c0 2.761-7.163 5-16 5z\"></path>\n",
       "</symbol>\n",
       "<symbol id=\"icon-file-text2\" viewBox=\"0 0 32 32\">\n",
       "<path d=\"M28.681 7.159c-0.694-0.947-1.662-2.053-2.724-3.116s-2.169-2.030-3.116-2.724c-1.612-1.182-2.393-1.319-2.841-1.319h-15.5c-1.378 0-2.5 1.121-2.5 2.5v27c0 1.378 1.122 2.5 2.5 2.5h23c1.378 0 2.5-1.122 2.5-2.5v-19.5c0-0.448-0.137-1.23-1.319-2.841zM24.543 5.457c0.959 0.959 1.712 1.825 2.268 2.543h-4.811v-4.811c0.718 0.556 1.584 1.309 2.543 2.268zM28 29.5c0 0.271-0.229 0.5-0.5 0.5h-23c-0.271 0-0.5-0.229-0.5-0.5v-27c0-0.271 0.229-0.5 0.5-0.5 0 0 15.499-0 15.5 0v7c0 0.552 0.448 1 1 1h7v19.5z\"></path>\n",
       "<path d=\"M23 26h-14c-0.552 0-1-0.448-1-1s0.448-1 1-1h14c0.552 0 1 0.448 1 1s-0.448 1-1 1z\"></path>\n",
       "<path d=\"M23 22h-14c-0.552 0-1-0.448-1-1s0.448-1 1-1h14c0.552 0 1 0.448 1 1s-0.448 1-1 1z\"></path>\n",
       "<path d=\"M23 18h-14c-0.552 0-1-0.448-1-1s0.448-1 1-1h14c0.552 0 1 0.448 1 1s-0.448 1-1 1z\"></path>\n",
       "</symbol>\n",
       "</defs>\n",
       "</svg>\n",
       "<style>/* CSS stylesheet for displaying xarray objects in jupyterlab.\n",
       " *\n",
       " */\n",
       "\n",
       ":root {\n",
       "  --xr-font-color0: var(--jp-content-font-color0, rgba(0, 0, 0, 1));\n",
       "  --xr-font-color2: var(--jp-content-font-color2, rgba(0, 0, 0, 0.54));\n",
       "  --xr-font-color3: var(--jp-content-font-color3, rgba(0, 0, 0, 0.38));\n",
       "  --xr-border-color: var(--jp-border-color2, #e0e0e0);\n",
       "  --xr-disabled-color: var(--jp-layout-color3, #bdbdbd);\n",
       "  --xr-background-color: var(--jp-layout-color0, white);\n",
       "  --xr-background-color-row-even: var(--jp-layout-color1, white);\n",
       "  --xr-background-color-row-odd: var(--jp-layout-color2, #eeeeee);\n",
       "}\n",
       "\n",
       "html[theme=dark],\n",
       "body[data-theme=dark],\n",
       "body.vscode-dark {\n",
       "  --xr-font-color0: rgba(255, 255, 255, 1);\n",
       "  --xr-font-color2: rgba(255, 255, 255, 0.54);\n",
       "  --xr-font-color3: rgba(255, 255, 255, 0.38);\n",
       "  --xr-border-color: #1F1F1F;\n",
       "  --xr-disabled-color: #515151;\n",
       "  --xr-background-color: #111111;\n",
       "  --xr-background-color-row-even: #111111;\n",
       "  --xr-background-color-row-odd: #313131;\n",
       "}\n",
       "\n",
       ".xr-wrap {\n",
       "  display: block !important;\n",
       "  min-width: 300px;\n",
       "  max-width: 700px;\n",
       "}\n",
       "\n",
       ".xr-text-repr-fallback {\n",
       "  /* fallback to plain text repr when CSS is not injected (untrusted notebook) */\n",
       "  display: none;\n",
       "}\n",
       "\n",
       ".xr-header {\n",
       "  padding-top: 6px;\n",
       "  padding-bottom: 6px;\n",
       "  margin-bottom: 4px;\n",
       "  border-bottom: solid 1px var(--xr-border-color);\n",
       "}\n",
       "\n",
       ".xr-header > div,\n",
       ".xr-header > ul {\n",
       "  display: inline;\n",
       "  margin-top: 0;\n",
       "  margin-bottom: 0;\n",
       "}\n",
       "\n",
       ".xr-obj-type,\n",
       ".xr-array-name {\n",
       "  margin-left: 2px;\n",
       "  margin-right: 10px;\n",
       "}\n",
       "\n",
       ".xr-obj-type {\n",
       "  color: var(--xr-font-color2);\n",
       "}\n",
       "\n",
       ".xr-sections {\n",
       "  padding-left: 0 !important;\n",
       "  display: grid;\n",
       "  grid-template-columns: 150px auto auto 1fr 20px 20px;\n",
       "}\n",
       "\n",
       ".xr-section-item {\n",
       "  display: contents;\n",
       "}\n",
       "\n",
       ".xr-section-item input {\n",
       "  display: none;\n",
       "}\n",
       "\n",
       ".xr-section-item input + label {\n",
       "  color: var(--xr-disabled-color);\n",
       "}\n",
       "\n",
       ".xr-section-item input:enabled + label {\n",
       "  cursor: pointer;\n",
       "  color: var(--xr-font-color2);\n",
       "}\n",
       "\n",
       ".xr-section-item input:enabled + label:hover {\n",
       "  color: var(--xr-font-color0);\n",
       "}\n",
       "\n",
       ".xr-section-summary {\n",
       "  grid-column: 1;\n",
       "  color: var(--xr-font-color2);\n",
       "  font-weight: 500;\n",
       "}\n",
       "\n",
       ".xr-section-summary > span {\n",
       "  display: inline-block;\n",
       "  padding-left: 0.5em;\n",
       "}\n",
       "\n",
       ".xr-section-summary-in:disabled + label {\n",
       "  color: var(--xr-font-color2);\n",
       "}\n",
       "\n",
       ".xr-section-summary-in + label:before {\n",
       "  display: inline-block;\n",
       "  content: '►';\n",
       "  font-size: 11px;\n",
       "  width: 15px;\n",
       "  text-align: center;\n",
       "}\n",
       "\n",
       ".xr-section-summary-in:disabled + label:before {\n",
       "  color: var(--xr-disabled-color);\n",
       "}\n",
       "\n",
       ".xr-section-summary-in:checked + label:before {\n",
       "  content: '▼';\n",
       "}\n",
       "\n",
       ".xr-section-summary-in:checked + label > span {\n",
       "  display: none;\n",
       "}\n",
       "\n",
       ".xr-section-summary,\n",
       ".xr-section-inline-details {\n",
       "  padding-top: 4px;\n",
       "  padding-bottom: 4px;\n",
       "}\n",
       "\n",
       ".xr-section-inline-details {\n",
       "  grid-column: 2 / -1;\n",
       "}\n",
       "\n",
       ".xr-section-details {\n",
       "  display: none;\n",
       "  grid-column: 1 / -1;\n",
       "  margin-bottom: 5px;\n",
       "}\n",
       "\n",
       ".xr-section-summary-in:checked ~ .xr-section-details {\n",
       "  display: contents;\n",
       "}\n",
       "\n",
       ".xr-array-wrap {\n",
       "  grid-column: 1 / -1;\n",
       "  display: grid;\n",
       "  grid-template-columns: 20px auto;\n",
       "}\n",
       "\n",
       ".xr-array-wrap > label {\n",
       "  grid-column: 1;\n",
       "  vertical-align: top;\n",
       "}\n",
       "\n",
       ".xr-preview {\n",
       "  color: var(--xr-font-color3);\n",
       "}\n",
       "\n",
       ".xr-array-preview,\n",
       ".xr-array-data {\n",
       "  padding: 0 5px !important;\n",
       "  grid-column: 2;\n",
       "}\n",
       "\n",
       ".xr-array-data,\n",
       ".xr-array-in:checked ~ .xr-array-preview {\n",
       "  display: none;\n",
       "}\n",
       "\n",
       ".xr-array-in:checked ~ .xr-array-data,\n",
       ".xr-array-preview {\n",
       "  display: inline-block;\n",
       "}\n",
       "\n",
       ".xr-dim-list {\n",
       "  display: inline-block !important;\n",
       "  list-style: none;\n",
       "  padding: 0 !important;\n",
       "  margin: 0;\n",
       "}\n",
       "\n",
       ".xr-dim-list li {\n",
       "  display: inline-block;\n",
       "  padding: 0;\n",
       "  margin: 0;\n",
       "}\n",
       "\n",
       ".xr-dim-list:before {\n",
       "  content: '(';\n",
       "}\n",
       "\n",
       ".xr-dim-list:after {\n",
       "  content: ')';\n",
       "}\n",
       "\n",
       ".xr-dim-list li:not(:last-child):after {\n",
       "  content: ',';\n",
       "  padding-right: 5px;\n",
       "}\n",
       "\n",
       ".xr-has-index {\n",
       "  font-weight: bold;\n",
       "}\n",
       "\n",
       ".xr-var-list,\n",
       ".xr-var-item {\n",
       "  display: contents;\n",
       "}\n",
       "\n",
       ".xr-var-item > div,\n",
       ".xr-var-item label,\n",
       ".xr-var-item > .xr-var-name span {\n",
       "  background-color: var(--xr-background-color-row-even);\n",
       "  margin-bottom: 0;\n",
       "}\n",
       "\n",
       ".xr-var-item > .xr-var-name:hover span {\n",
       "  padding-right: 5px;\n",
       "}\n",
       "\n",
       ".xr-var-list > li:nth-child(odd) > div,\n",
       ".xr-var-list > li:nth-child(odd) > label,\n",
       ".xr-var-list > li:nth-child(odd) > .xr-var-name span {\n",
       "  background-color: var(--xr-background-color-row-odd);\n",
       "}\n",
       "\n",
       ".xr-var-name {\n",
       "  grid-column: 1;\n",
       "}\n",
       "\n",
       ".xr-var-dims {\n",
       "  grid-column: 2;\n",
       "}\n",
       "\n",
       ".xr-var-dtype {\n",
       "  grid-column: 3;\n",
       "  text-align: right;\n",
       "  color: var(--xr-font-color2);\n",
       "}\n",
       "\n",
       ".xr-var-preview {\n",
       "  grid-column: 4;\n",
       "}\n",
       "\n",
       ".xr-index-preview {\n",
       "  grid-column: 2 / 5;\n",
       "  color: var(--xr-font-color2);\n",
       "}\n",
       "\n",
       ".xr-var-name,\n",
       ".xr-var-dims,\n",
       ".xr-var-dtype,\n",
       ".xr-preview,\n",
       ".xr-attrs dt {\n",
       "  white-space: nowrap;\n",
       "  overflow: hidden;\n",
       "  text-overflow: ellipsis;\n",
       "  padding-right: 10px;\n",
       "}\n",
       "\n",
       ".xr-var-name:hover,\n",
       ".xr-var-dims:hover,\n",
       ".xr-var-dtype:hover,\n",
       ".xr-attrs dt:hover {\n",
       "  overflow: visible;\n",
       "  width: auto;\n",
       "  z-index: 1;\n",
       "}\n",
       "\n",
       ".xr-var-attrs,\n",
       ".xr-var-data,\n",
       ".xr-index-data {\n",
       "  display: none;\n",
       "  background-color: var(--xr-background-color) !important;\n",
       "  padding-bottom: 5px !important;\n",
       "}\n",
       "\n",
       ".xr-var-attrs-in:checked ~ .xr-var-attrs,\n",
       ".xr-var-data-in:checked ~ .xr-var-data,\n",
       ".xr-index-data-in:checked ~ .xr-index-data {\n",
       "  display: block;\n",
       "}\n",
       "\n",
       ".xr-var-data > table {\n",
       "  float: right;\n",
       "}\n",
       "\n",
       ".xr-var-name span,\n",
       ".xr-var-data,\n",
       ".xr-index-name div,\n",
       ".xr-index-data,\n",
       ".xr-attrs {\n",
       "  padding-left: 25px !important;\n",
       "}\n",
       "\n",
       ".xr-attrs,\n",
       ".xr-var-attrs,\n",
       ".xr-var-data,\n",
       ".xr-index-data {\n",
       "  grid-column: 1 / -1;\n",
       "}\n",
       "\n",
       "dl.xr-attrs {\n",
       "  padding: 0;\n",
       "  margin: 0;\n",
       "  display: grid;\n",
       "  grid-template-columns: 125px auto;\n",
       "}\n",
       "\n",
       ".xr-attrs dt,\n",
       ".xr-attrs dd {\n",
       "  padding: 0;\n",
       "  margin: 0;\n",
       "  float: left;\n",
       "  padding-right: 10px;\n",
       "  width: auto;\n",
       "}\n",
       "\n",
       ".xr-attrs dt {\n",
       "  font-weight: normal;\n",
       "  grid-column: 1;\n",
       "}\n",
       "\n",
       ".xr-attrs dt:hover span {\n",
       "  display: inline-block;\n",
       "  background: var(--xr-background-color);\n",
       "  padding-right: 10px;\n",
       "}\n",
       "\n",
       ".xr-attrs dd {\n",
       "  grid-column: 2;\n",
       "  white-space: pre-wrap;\n",
       "  word-break: break-all;\n",
       "}\n",
       "\n",
       ".xr-icon-database,\n",
       ".xr-icon-file-text2,\n",
       ".xr-no-icon {\n",
       "  display: inline-block;\n",
       "  vertical-align: middle;\n",
       "  width: 1em;\n",
       "  height: 1.5em !important;\n",
       "  stroke-width: 0;\n",
       "  stroke: currentColor;\n",
       "  fill: currentColor;\n",
       "}\n",
       "</style><pre class='xr-text-repr-fallback'>&lt;xarray.Dataset&gt;\n",
       "Dimensions:     (_sequence: 64833, cov_sample: 1, _length: 2064)\n",
       "Coordinates:\n",
       "  * cov_sample  (cov_sample) object &#x27;signal+&#x27;\n",
       "Dimensions without coordinates: _sequence, _length\n",
       "Data variables:\n",
       "    chrom       (_sequence) object &#x27;chr1&#x27; &#x27;chr1&#x27; &#x27;chr1&#x27; ... &#x27;chrM&#x27; &#x27;chrM&#x27; &#x27;chrM&#x27;\n",
       "    chromEnd    (_sequence) int64 630925 630950 630975 631000 ... 4172 4197 4222\n",
       "    chromStart  (_sequence) int64 628861 628886 628911 628936 ... 2108 2133 2158\n",
       "    cov         (_sequence, cov_sample, _length) float64 nan nan nan ... nan nan\n",
       "    seq         (_sequence, _length) |S1 b&#x27;G&#x27; b&#x27;A&#x27; b&#x27;T&#x27; b&#x27;T&#x27; ... b&#x27;T&#x27; b&#x27;C&#x27; b&#x27;T&#x27;\n",
       "    strand      (_sequence) object &#x27;+&#x27; &#x27;+&#x27; &#x27;+&#x27; &#x27;+&#x27; &#x27;+&#x27; ... &#x27;+&#x27; &#x27;+&#x27; &#x27;+&#x27; &#x27;+&#x27; &#x27;+&#x27;\n",
       "Attributes:\n",
       "    length_dim:    _length\n",
       "    max_jitter:    32\n",
       "    sequence_dim:  _sequence</pre><div class='xr-wrap' style='display:none'><div class='xr-header'><div class='xr-obj-type'>xarray.Dataset</div></div><ul class='xr-sections'><li class='xr-section-item'><input id='section-e938f0a7-97e8-4b4e-a5bb-3f5f719b3933' class='xr-section-summary-in' type='checkbox' disabled ><label for='section-e938f0a7-97e8-4b4e-a5bb-3f5f719b3933' class='xr-section-summary'  title='Expand/collapse section'>Dimensions:</label><div class='xr-section-inline-details'><ul class='xr-dim-list'><li><span>_sequence</span>: 64833</li><li><span class='xr-has-index'>cov_sample</span>: 1</li><li><span>_length</span>: 2064</li></ul></div><div class='xr-section-details'></div></li><li class='xr-section-item'><input id='section-fe808d39-990b-46de-9034-c6f14c0373e9' class='xr-section-summary-in' type='checkbox'  checked><label for='section-fe808d39-990b-46de-9034-c6f14c0373e9' class='xr-section-summary' >Coordinates: <span>(1)</span></label><div class='xr-section-inline-details'></div><div class='xr-section-details'><ul class='xr-var-list'><li class='xr-var-item'><div class='xr-var-name'><span class='xr-has-index'>cov_sample</span></div><div class='xr-var-dims'>(cov_sample)</div><div class='xr-var-dtype'>object</div><div class='xr-var-preview xr-preview'>&#x27;signal+&#x27;</div><input id='attrs-fd18f07f-fd0e-4ccc-a48d-a07f0eb12266' class='xr-var-attrs-in' type='checkbox' ><label for='attrs-fd18f07f-fd0e-4ccc-a48d-a07f0eb12266' title='Show/Hide attributes'><svg class='icon xr-icon-file-text2'><use xlink:href='#icon-file-text2'></use></svg></label><input id='data-39cc035e-f87a-4466-9d93-b19225318377' class='xr-var-data-in' type='checkbox'><label for='data-39cc035e-f87a-4466-9d93-b19225318377' title='Show/Hide data repr'><svg class='icon xr-icon-database'><use xlink:href='#icon-database'></use></svg></label><div class='xr-var-attrs'><dl class='xr-attrs'><dt><span>_FillValue :</span></dt><dd>0</dd></dl></div><div class='xr-var-data'><pre>array([&#x27;signal+&#x27;], dtype=object)</pre></div></li></ul></div></li><li class='xr-section-item'><input id='section-4cd95aed-c132-44c7-9665-9595516bb326' class='xr-section-summary-in' type='checkbox'  checked><label for='section-4cd95aed-c132-44c7-9665-9595516bb326' class='xr-section-summary' >Data variables: <span>(6)</span></label><div class='xr-section-inline-details'></div><div class='xr-section-details'><ul class='xr-var-list'><li class='xr-var-item'><div class='xr-var-name'><span>chrom</span></div><div class='xr-var-dims'>(_sequence)</div><div class='xr-var-dtype'>object</div><div class='xr-var-preview xr-preview'>&#x27;chr1&#x27; &#x27;chr1&#x27; ... &#x27;chrM&#x27; &#x27;chrM&#x27;</div><input id='attrs-6fa5b70b-dc56-435f-b8e0-fa2263926247' class='xr-var-attrs-in' type='checkbox' ><label for='attrs-6fa5b70b-dc56-435f-b8e0-fa2263926247' title='Show/Hide attributes'><svg class='icon xr-icon-file-text2'><use xlink:href='#icon-file-text2'></use></svg></label><input id='data-c950d10f-afb5-4300-beeb-8870f3f21f8b' class='xr-var-data-in' type='checkbox'><label for='data-c950d10f-afb5-4300-beeb-8870f3f21f8b' title='Show/Hide data repr'><svg class='icon xr-icon-database'><use xlink:href='#icon-database'></use></svg></label><div class='xr-var-attrs'><dl class='xr-attrs'><dt><span>_FillValue :</span></dt><dd>0</dd></dl></div><div class='xr-var-data'><pre>array([&#x27;chr1&#x27;, &#x27;chr1&#x27;, &#x27;chr1&#x27;, ..., &#x27;chrM&#x27;, &#x27;chrM&#x27;, &#x27;chrM&#x27;], dtype=object)</pre></div></li><li class='xr-var-item'><div class='xr-var-name'><span>chromEnd</span></div><div class='xr-var-dims'>(_sequence)</div><div class='xr-var-dtype'>int64</div><div class='xr-var-preview xr-preview'>630925 630950 630975 ... 4197 4222</div><input id='attrs-3e7fbad3-12fe-4e72-82a9-bd97ee93c59b' class='xr-var-attrs-in' type='checkbox' ><label for='attrs-3e7fbad3-12fe-4e72-82a9-bd97ee93c59b' title='Show/Hide attributes'><svg class='icon xr-icon-file-text2'><use xlink:href='#icon-file-text2'></use></svg></label><input id='data-04f3a00c-f5d0-4b83-b584-6c98aaa68308' class='xr-var-data-in' type='checkbox'><label for='data-04f3a00c-f5d0-4b83-b584-6c98aaa68308' title='Show/Hide data repr'><svg class='icon xr-icon-database'><use xlink:href='#icon-database'></use></svg></label><div class='xr-var-attrs'><dl class='xr-attrs'><dt><span>_FillValue :</span></dt><dd>0</dd></dl></div><div class='xr-var-data'><pre>array([630925, 630950, 630975, ...,   4172,   4197,   4222])</pre></div></li><li class='xr-var-item'><div class='xr-var-name'><span>chromStart</span></div><div class='xr-var-dims'>(_sequence)</div><div class='xr-var-dtype'>int64</div><div class='xr-var-preview xr-preview'>628861 628886 628911 ... 2133 2158</div><input id='attrs-013944d4-f9d0-45d0-a820-111664fe90c7' class='xr-var-attrs-in' type='checkbox' ><label for='attrs-013944d4-f9d0-45d0-a820-111664fe90c7' title='Show/Hide attributes'><svg class='icon xr-icon-file-text2'><use xlink:href='#icon-file-text2'></use></svg></label><input id='data-009cc020-985c-4d5c-8ae1-789b7ecd6f11' class='xr-var-data-in' type='checkbox'><label for='data-009cc020-985c-4d5c-8ae1-789b7ecd6f11' title='Show/Hide data repr'><svg class='icon xr-icon-database'><use xlink:href='#icon-database'></use></svg></label><div class='xr-var-attrs'><dl class='xr-attrs'><dt><span>_FillValue :</span></dt><dd>0</dd></dl></div><div class='xr-var-data'><pre>array([628861, 628886, 628911, ...,   2108,   2133,   2158])</pre></div></li><li class='xr-var-item'><div class='xr-var-name'><span>cov</span></div><div class='xr-var-dims'>(_sequence, cov_sample, _length)</div><div class='xr-var-dtype'>float64</div><div class='xr-var-preview xr-preview'>nan nan nan nan ... nan nan nan nan</div><input id='attrs-81591f97-0d52-4bc4-b250-23e833a2f8fb' class='xr-var-attrs-in' type='checkbox' ><label for='attrs-81591f97-0d52-4bc4-b250-23e833a2f8fb' title='Show/Hide attributes'><svg class='icon xr-icon-file-text2'><use xlink:href='#icon-file-text2'></use></svg></label><input id='data-694963ce-f99d-4499-b8f1-7ec7d3433aca' class='xr-var-data-in' type='checkbox'><label for='data-694963ce-f99d-4499-b8f1-7ec7d3433aca' title='Show/Hide data repr'><svg class='icon xr-icon-database'><use xlink:href='#icon-database'></use></svg></label><div class='xr-var-attrs'><dl class='xr-attrs'><dt><span>_FillValue :</span></dt><dd>0.0</dd></dl></div><div class='xr-var-data'><pre>array([[[nan, nan, nan, ..., nan, nan, nan]],\n",
       "\n",
       "       [[nan, nan, nan, ..., nan, nan, nan]],\n",
       "\n",
       "       [[nan, nan, nan, ..., nan, nan, nan]],\n",
       "\n",
       "       ...,\n",
       "\n",
       "       [[nan, nan, nan, ..., nan, nan, nan]],\n",
       "\n",
       "       [[nan, nan, nan, ..., nan, nan, nan]],\n",
       "\n",
       "       [[nan, nan, nan, ..., nan, nan, nan]]])</pre></div></li><li class='xr-var-item'><div class='xr-var-name'><span>seq</span></div><div class='xr-var-dims'>(_sequence, _length)</div><div class='xr-var-dtype'>|S1</div><div class='xr-var-preview xr-preview'>b&#x27;G&#x27; b&#x27;A&#x27; b&#x27;T&#x27; ... b&#x27;T&#x27; b&#x27;C&#x27; b&#x27;T&#x27;</div><input id='attrs-6cd255ed-3176-4521-b8e6-7724afb6f825' class='xr-var-attrs-in' type='checkbox' disabled><label for='attrs-6cd255ed-3176-4521-b8e6-7724afb6f825' title='Show/Hide attributes'><svg class='icon xr-icon-file-text2'><use xlink:href='#icon-file-text2'></use></svg></label><input id='data-bb98674b-9d62-4d6e-a32c-153178f11f96' class='xr-var-data-in' type='checkbox'><label for='data-bb98674b-9d62-4d6e-a32c-153178f11f96' title='Show/Hide data repr'><svg class='icon xr-icon-database'><use xlink:href='#icon-database'></use></svg></label><div class='xr-var-attrs'><dl class='xr-attrs'></dl></div><div class='xr-var-data'><pre>array([[b&#x27;G&#x27;, b&#x27;A&#x27;, b&#x27;T&#x27;, ..., b&#x27;G&#x27;, b&#x27;G&#x27;, b&#x27;C&#x27;],\n",
       "       [b&#x27;T&#x27;, b&#x27;T&#x27;, b&#x27;T&#x27;, ..., b&#x27;A&#x27;, b&#x27;A&#x27;, b&#x27;G&#x27;],\n",
       "       [b&#x27;T&#x27;, b&#x27;A&#x27;, b&#x27;C&#x27;, ..., b&#x27;C&#x27;, b&#x27;A&#x27;, b&#x27;A&#x27;],\n",
       "       ...,\n",
       "       [b&#x27;A&#x27;, b&#x27;A&#x27;, b&#x27;C&#x27;, ..., b&#x27;C&#x27;, b&#x27;C&#x27;, b&#x27;T&#x27;],\n",
       "       [b&#x27;A&#x27;, b&#x27;A&#x27;, b&#x27;C&#x27;, ..., b&#x27;A&#x27;, b&#x27;C&#x27;, b&#x27;C&#x27;],\n",
       "       [b&#x27;T&#x27;, b&#x27;A&#x27;, b&#x27;A&#x27;, ..., b&#x27;T&#x27;, b&#x27;C&#x27;, b&#x27;T&#x27;]], dtype=&#x27;|S1&#x27;)</pre></div></li><li class='xr-var-item'><div class='xr-var-name'><span>strand</span></div><div class='xr-var-dims'>(_sequence)</div><div class='xr-var-dtype'>object</div><div class='xr-var-preview xr-preview'>&#x27;+&#x27; &#x27;+&#x27; &#x27;+&#x27; &#x27;+&#x27; ... &#x27;+&#x27; &#x27;+&#x27; &#x27;+&#x27; &#x27;+&#x27;</div><input id='attrs-b6dcd5a2-3830-445d-9ab6-5d7f64b55000' class='xr-var-attrs-in' type='checkbox' ><label for='attrs-b6dcd5a2-3830-445d-9ab6-5d7f64b55000' title='Show/Hide attributes'><svg class='icon xr-icon-file-text2'><use xlink:href='#icon-file-text2'></use></svg></label><input id='data-a2b5b82a-5007-4bf3-8ee8-e49c4b3bd0a4' class='xr-var-data-in' type='checkbox'><label for='data-a2b5b82a-5007-4bf3-8ee8-e49c4b3bd0a4' title='Show/Hide data repr'><svg class='icon xr-icon-database'><use xlink:href='#icon-database'></use></svg></label><div class='xr-var-attrs'><dl class='xr-attrs'><dt><span>_FillValue :</span></dt><dd>0</dd></dl></div><div class='xr-var-data'><pre>array([&#x27;+&#x27;, &#x27;+&#x27;, &#x27;+&#x27;, ..., &#x27;+&#x27;, &#x27;+&#x27;, &#x27;+&#x27;], dtype=object)</pre></div></li></ul></div></li><li class='xr-section-item'><input id='section-2c8da920-ad06-4273-92ec-42ca5ec1fe65' class='xr-section-summary-in' type='checkbox'  ><label for='section-2c8da920-ad06-4273-92ec-42ca5ec1fe65' class='xr-section-summary' >Indexes: <span>(1)</span></label><div class='xr-section-inline-details'></div><div class='xr-section-details'><ul class='xr-var-list'><li class='xr-var-item'><div class='xr-index-name'><div>cov_sample</div></div><div class='xr-index-preview'>PandasIndex</div><div></div><input id='index-494fd811-cbe7-4bee-8121-86e92bc02eb4' class='xr-index-data-in' type='checkbox'/><label for='index-494fd811-cbe7-4bee-8121-86e92bc02eb4' title='Show/Hide index repr'><svg class='icon xr-icon-database'><use xlink:href='#icon-database'></use></svg></label><div class='xr-index-data'><pre>PandasIndex(Index([&#x27;signal+&#x27;], dtype=&#x27;object&#x27;, name=&#x27;cov_sample&#x27;))</pre></div></li></ul></div></li><li class='xr-section-item'><input id='section-513c7b00-c5a6-4739-b2ba-b52c6116051b' class='xr-section-summary-in' type='checkbox'  checked><label for='section-513c7b00-c5a6-4739-b2ba-b52c6116051b' class='xr-section-summary' >Attributes: <span>(3)</span></label><div class='xr-section-inline-details'></div><div class='xr-section-details'><dl class='xr-attrs'><dt><span>length_dim :</span></dt><dd>_length</dd><dt><span>max_jitter :</span></dt><dd>32</dd><dt><span>sequence_dim :</span></dt><dd>_sequence</dd></dl></div></li></ul></div></div>"
      ],
      "text/plain": [
       "<xarray.Dataset>\n",
       "Dimensions:     (_sequence: 64833, cov_sample: 1, _length: 2064)\n",
       "Coordinates:\n",
       "  * cov_sample  (cov_sample) object 'signal+'\n",
       "Dimensions without coordinates: _sequence, _length\n",
       "Data variables:\n",
       "    chrom       (_sequence) object 'chr1' 'chr1' 'chr1' ... 'chrM' 'chrM' 'chrM'\n",
       "    chromEnd    (_sequence) int64 630925 630950 630975 631000 ... 4172 4197 4222\n",
       "    chromStart  (_sequence) int64 628861 628886 628911 628936 ... 2108 2133 2158\n",
       "    cov         (_sequence, cov_sample, _length) float64 nan nan nan ... nan nan\n",
       "    seq         (_sequence, _length) |S1 b'G' b'A' b'T' b'T' ... b'T' b'C' b'T'\n",
       "    strand      (_sequence) object '+' '+' '+' '+' '+' ... '+' '+' '+' '+' '+'\n",
       "Attributes:\n",
       "    length_dim:    _length\n",
       "    max_jitter:    32\n",
       "    sequence_dim:  _sequence"
      ]
     },
     "execution_count": 14,
     "metadata": {},
     "output_type": "execute_result"
    }
   ],
   "source": [
    "sdata.load()"
   ]
  },
  {
   "cell_type": "code",
   "execution_count": 12,
   "id": "a34e11c4-0e06-47a6-bc3e-8913da651d76",
   "metadata": {
    "execution": {
     "iopub.execute_input": "2023-12-26T19:13:50.539969Z",
     "iopub.status.busy": "2023-12-26T19:13:50.539749Z",
     "iopub.status.idle": "2023-12-26T19:13:51.081931Z",
     "shell.execute_reply": "2023-12-26T19:13:51.081474Z",
     "shell.execute_reply.started": "2023-12-26T19:13:50.539952Z"
    },
    "tags": []
   },
   "outputs": [
    {
     "data": {
      "text/plain": [
       "[<matplotlib.lines.Line2D at 0x1553cf0c5580>]"
      ]
     },
     "execution_count": 12,
     "metadata": {},
     "output_type": "execute_result"
    },
    {
     "data": {
      "image/png": "[encoded data removed]",
      "text/plain": [
       "<Figure size 1200x200 with 1 Axes>"
      ]
     },
     "metadata": {},
     "output_type": "display_data"
    }
   ],
   "source": [
    "# Plot signal and control\n",
    "seq_num = 51680\n",
    "ser = sdata[[\"name\", \"chrom\", \"chromStart\", \"chromEnd\"]].to_dataframe().loc[seq_num]\n",
    "fig, ax = plt.subplots(figsize=(12,2))\n",
    "plt.plot(sdata[\"cov\"][seq_num][0].values, label=\"+ signal\")"
   ]
  },
  {
   "cell_type": "code",
   "execution_count": 172,
   "id": "a8851a82-7413-4eaa-8b78-8fda3ed37dc2",
   "metadata": {
    "execution": {
     "iopub.execute_input": "2023-12-26T19:08:17.912392Z",
     "iopub.status.busy": "2023-12-26T19:08:17.912127Z",
     "iopub.status.idle": "2023-12-26T19:08:18.846643Z",
     "shell.execute_reply": "2023-12-26T19:08:18.846250Z",
     "shell.execute_reply.started": "2023-12-26T19:08:17.912377Z"
    },
    "tags": []
   },
   "outputs": [
    {
     "data": {
      "text/plain": [
       "True"
      ]
     },
     "execution_count": 172,
     "metadata": {},
     "output_type": "execute_result"
    },
    {
     "data": {
      "image/png": "[encoded data removed]",
      "text/plain": [
       "<Figure size 1200x200 with 1 Axes>"
      ]
     },
     "metadata": {},
     "output_type": "display_data"
    }
   ],
   "source": [
    "# Plot signal and control\n",
    "seq_num = 51680\n",
    "ser = sdata[[\"name\", \"chrom\", \"chromStart\", \"chromEnd\"]].to_dataframe().loc[seq_num]\n",
    "fig, ax = plt.subplots(figsize=(12,2))\n",
    "plt.plot(sdata[\"cov\"][seq_num][0].values, label=\"+ signal\")\n",
    "plt.plot(sdata[\"cov\"][seq_num][1].values, label=\"- signal\")\n",
    "plt.plot(sdata[\"cov\"][seq_num][2].values, label=\"+ control\")\n",
    "plt.plot(sdata[\"cov\"][seq_num][3].values, label=\"- control\")\n",
    "plt.title(ser[\"chrom\"] + \":\" + ser[\"chromStart\"].astype(str) + \"-\" + ser[\"chromEnd\"].astype(str))\n",
    "plt.legend()\n",
    "np.isnan(sdata[\"cov\"][seq_num].values[0]).all()"
   ]
  },
  {
   "cell_type": "code",
   "execution_count": 160,
   "id": "53347c96-8f55-435f-9839-b7285f643c66",
   "metadata": {
    "execution": {
     "iopub.execute_input": "2023-12-26T19:06:13.079141Z",
     "iopub.status.busy": "2023-12-26T19:06:13.078922Z",
     "iopub.status.idle": "2023-12-26T19:06:14.366159Z",
     "shell.execute_reply": "2023-12-26T19:06:14.365735Z",
     "shell.execute_reply.started": "2023-12-26T19:06:13.079123Z"
    },
    "tags": []
   },
   "outputs": [
    {
     "data": {
      "text/html": [
       "<div><svg style=\"position: absolute; width: 0; height: 0; overflow: hidden\">\n",
       "<defs>\n",
       "<symbol id=\"icon-database\" viewBox=\"0 0 32 32\">\n",
       "<path d=\"M16 0c-8.837 0-16 2.239-16 5v4c0 2.761 7.163 5 16 5s16-2.239 16-5v-4c0-2.761-7.163-5-16-5z\"></path>\n",
       "<path d=\"M16 17c-8.837 0-16-2.239-16-5v6c0 2.761 7.163 5 16 5s16-2.239 16-5v-6c0 2.761-7.163 5-16 5z\"></path>\n",
       "<path d=\"M16 26c-8.837 0-16-2.239-16-5v6c0 2.761 7.163 5 16 5s16-2.239 16-5v-6c0 2.761-7.163 5-16 5z\"></path>\n",
       "</symbol>\n",
       "<symbol id=\"icon-file-text2\" viewBox=\"0 0 32 32\">\n",
       "<path d=\"M28.681 7.159c-0.694-0.947-1.662-2.053-2.724-3.116s-2.169-2.030-3.116-2.724c-1.612-1.182-2.393-1.319-2.841-1.319h-15.5c-1.378 0-2.5 1.121-2.5 2.5v27c0 1.378 1.122 2.5 2.5 2.5h23c1.378 0 2.5-1.122 2.5-2.5v-19.5c0-0.448-0.137-1.23-1.319-2.841zM24.543 5.457c0.959 0.959 1.712 1.825 2.268 2.543h-4.811v-4.811c0.718 0.556 1.584 1.309 2.543 2.268zM28 29.5c0 0.271-0.229 0.5-0.5 0.5h-23c-0.271 0-0.5-0.229-0.5-0.5v-27c0-0.271 0.229-0.5 0.5-0.5 0 0 15.499-0 15.5 0v7c0 0.552 0.448 1 1 1h7v19.5z\"></path>\n",
       "<path d=\"M23 26h-14c-0.552 0-1-0.448-1-1s0.448-1 1-1h14c0.552 0 1 0.448 1 1s-0.448 1-1 1z\"></path>\n",
       "<path d=\"M23 22h-14c-0.552 0-1-0.448-1-1s0.448-1 1-1h14c0.552 0 1 0.448 1 1s-0.448 1-1 1z\"></path>\n",
       "<path d=\"M23 18h-14c-0.552 0-1-0.448-1-1s0.448-1 1-1h14c0.552 0 1 0.448 1 1s-0.448 1-1 1z\"></path>\n",
       "</symbol>\n",
       "</defs>\n",
       "</svg>\n",
       "<style>/* CSS stylesheet for displaying xarray objects in jupyterlab.\n",
       " *\n",
       " */\n",
       "\n",
       ":root {\n",
       "  --xr-font-color0: var(--jp-content-font-color0, rgba(0, 0, 0, 1));\n",
       "  --xr-font-color2: var(--jp-content-font-color2, rgba(0, 0, 0, 0.54));\n",
       "  --xr-font-color3: var(--jp-content-font-color3, rgba(0, 0, 0, 0.38));\n",
       "  --xr-border-color: var(--jp-border-color2, #e0e0e0);\n",
       "  --xr-disabled-color: var(--jp-layout-color3, #bdbdbd);\n",
       "  --xr-background-color: var(--jp-layout-color0, white);\n",
       "  --xr-background-color-row-even: var(--jp-layout-color1, white);\n",
       "  --xr-background-color-row-odd: var(--jp-layout-color2, #eeeeee);\n",
       "}\n",
       "\n",
       "html[theme=dark],\n",
       "body[data-theme=dark],\n",
       "body.vscode-dark {\n",
       "  --xr-font-color0: rgba(255, 255, 255, 1);\n",
       "  --xr-font-color2: rgba(255, 255, 255, 0.54);\n",
       "  --xr-font-color3: rgba(255, 255, 255, 0.38);\n",
       "  --xr-border-color: #1F1F1F;\n",
       "  --xr-disabled-color: #515151;\n",
       "  --xr-background-color: #111111;\n",
       "  --xr-background-color-row-even: #111111;\n",
       "  --xr-background-color-row-odd: #313131;\n",
       "}\n",
       "\n",
       ".xr-wrap {\n",
       "  display: block !important;\n",
       "  min-width: 300px;\n",
       "  max-width: 700px;\n",
       "}\n",
       "\n",
       ".xr-text-repr-fallback {\n",
       "  /* fallback to plain text repr when CSS is not injected (untrusted notebook) */\n",
       "  display: none;\n",
       "}\n",
       "\n",
       ".xr-header {\n",
       "  padding-top: 6px;\n",
       "  padding-bottom: 6px;\n",
       "  margin-bottom: 4px;\n",
       "  border-bottom: solid 1px var(--xr-border-color);\n",
       "}\n",
       "\n",
       ".xr-header > div,\n",
       ".xr-header > ul {\n",
       "  display: inline;\n",
       "  margin-top: 0;\n",
       "  margin-bottom: 0;\n",
       "}\n",
       "\n",
       ".xr-obj-type,\n",
       ".xr-array-name {\n",
       "  margin-left: 2px;\n",
       "  margin-right: 10px;\n",
       "}\n",
       "\n",
       ".xr-obj-type {\n",
       "  color: var(--xr-font-color2);\n",
       "}\n",
       "\n",
       ".xr-sections {\n",
       "  padding-left: 0 !important;\n",
       "  display: grid;\n",
       "  grid-template-columns: 150px auto auto 1fr 20px 20px;\n",
       "}\n",
       "\n",
       ".xr-section-item {\n",
       "  display: contents;\n",
       "}\n",
       "\n",
       ".xr-section-item input {\n",
       "  display: none;\n",
       "}\n",
       "\n",
       ".xr-section-item input + label {\n",
       "  color: var(--xr-disabled-color);\n",
       "}\n",
       "\n",
       ".xr-section-item input:enabled + label {\n",
       "  cursor: pointer;\n",
       "  color: var(--xr-font-color2);\n",
       "}\n",
       "\n",
       ".xr-section-item input:enabled + label:hover {\n",
       "  color: var(--xr-font-color0);\n",
       "}\n",
       "\n",
       ".xr-section-summary {\n",
       "  grid-column: 1;\n",
       "  color: var(--xr-font-color2);\n",
       "  font-weight: 500;\n",
       "}\n",
       "\n",
       ".xr-section-summary > span {\n",
       "  display: inline-block;\n",
       "  padding-left: 0.5em;\n",
       "}\n",
       "\n",
       ".xr-section-summary-in:disabled + label {\n",
       "  color: var(--xr-font-color2);\n",
       "}\n",
       "\n",
       ".xr-section-summary-in + label:before {\n",
       "  display: inline-block;\n",
       "  content: '►';\n",
       "  font-size: 11px;\n",
       "  width: 15px;\n",
       "  text-align: center;\n",
       "}\n",
       "\n",
       ".xr-section-summary-in:disabled + label:before {\n",
       "  color: var(--xr-disabled-color);\n",
       "}\n",
       "\n",
       ".xr-section-summary-in:checked + label:before {\n",
       "  content: '▼';\n",
       "}\n",
       "\n",
       ".xr-section-summary-in:checked + label > span {\n",
       "  display: none;\n",
       "}\n",
       "\n",
       ".xr-section-summary,\n",
       ".xr-section-inline-details {\n",
       "  padding-top: 4px;\n",
       "  padding-bottom: 4px;\n",
       "}\n",
       "\n",
       ".xr-section-inline-details {\n",
       "  grid-column: 2 / -1;\n",
       "}\n",
       "\n",
       ".xr-section-details {\n",
       "  display: none;\n",
       "  grid-column: 1 / -1;\n",
       "  margin-bottom: 5px;\n",
       "}\n",
       "\n",
       ".xr-section-summary-in:checked ~ .xr-section-details {\n",
       "  display: contents;\n",
       "}\n",
       "\n",
       ".xr-array-wrap {\n",
       "  grid-column: 1 / -1;\n",
       "  display: grid;\n",
       "  grid-template-columns: 20px auto;\n",
       "}\n",
       "\n",
       ".xr-array-wrap > label {\n",
       "  grid-column: 1;\n",
       "  vertical-align: top;\n",
       "}\n",
       "\n",
       ".xr-preview {\n",
       "  color: var(--xr-font-color3);\n",
       "}\n",
       "\n",
       ".xr-array-preview,\n",
       ".xr-array-data {\n",
       "  padding: 0 5px !important;\n",
       "  grid-column: 2;\n",
       "}\n",
       "\n",
       ".xr-array-data,\n",
       ".xr-array-in:checked ~ .xr-array-preview {\n",
       "  display: none;\n",
       "}\n",
       "\n",
       ".xr-array-in:checked ~ .xr-array-data,\n",
       ".xr-array-preview {\n",
       "  display: inline-block;\n",
       "}\n",
       "\n",
       ".xr-dim-list {\n",
       "  display: inline-block !important;\n",
       "  list-style: none;\n",
       "  padding: 0 !important;\n",
       "  margin: 0;\n",
       "}\n",
       "\n",
       ".xr-dim-list li {\n",
       "  display: inline-block;\n",
       "  padding: 0;\n",
       "  margin: 0;\n",
       "}\n",
       "\n",
       ".xr-dim-list:before {\n",
       "  content: '(';\n",
       "}\n",
       "\n",
       ".xr-dim-list:after {\n",
       "  content: ')';\n",
       "}\n",
       "\n",
       ".xr-dim-list li:not(:last-child):after {\n",
       "  content: ',';\n",
       "  padding-right: 5px;\n",
       "}\n",
       "\n",
       ".xr-has-index {\n",
       "  font-weight: bold;\n",
       "}\n",
       "\n",
       ".xr-var-list,\n",
       ".xr-var-item {\n",
       "  display: contents;\n",
       "}\n",
       "\n",
       ".xr-var-item > div,\n",
       ".xr-var-item label,\n",
       ".xr-var-item > .xr-var-name span {\n",
       "  background-color: var(--xr-background-color-row-even);\n",
       "  margin-bottom: 0;\n",
       "}\n",
       "\n",
       ".xr-var-item > .xr-var-name:hover span {\n",
       "  padding-right: 5px;\n",
       "}\n",
       "\n",
       ".xr-var-list > li:nth-child(odd) > div,\n",
       ".xr-var-list > li:nth-child(odd) > label,\n",
       ".xr-var-list > li:nth-child(odd) > .xr-var-name span {\n",
       "  background-color: var(--xr-background-color-row-odd);\n",
       "}\n",
       "\n",
       ".xr-var-name {\n",
       "  grid-column: 1;\n",
       "}\n",
       "\n",
       ".xr-var-dims {\n",
       "  grid-column: 2;\n",
       "}\n",
       "\n",
       ".xr-var-dtype {\n",
       "  grid-column: 3;\n",
       "  text-align: right;\n",
       "  color: var(--xr-font-color2);\n",
       "}\n",
       "\n",
       ".xr-var-preview {\n",
       "  grid-column: 4;\n",
       "}\n",
       "\n",
       ".xr-index-preview {\n",
       "  grid-column: 2 / 5;\n",
       "  color: var(--xr-font-color2);\n",
       "}\n",
       "\n",
       ".xr-var-name,\n",
       ".xr-var-dims,\n",
       ".xr-var-dtype,\n",
       ".xr-preview,\n",
       ".xr-attrs dt {\n",
       "  white-space: nowrap;\n",
       "  overflow: hidden;\n",
       "  text-overflow: ellipsis;\n",
       "  padding-right: 10px;\n",
       "}\n",
       "\n",
       ".xr-var-name:hover,\n",
       ".xr-var-dims:hover,\n",
       ".xr-var-dtype:hover,\n",
       ".xr-attrs dt:hover {\n",
       "  overflow: visible;\n",
       "  width: auto;\n",
       "  z-index: 1;\n",
       "}\n",
       "\n",
       ".xr-var-attrs,\n",
       ".xr-var-data,\n",
       ".xr-index-data {\n",
       "  display: none;\n",
       "  background-color: var(--xr-background-color) !important;\n",
       "  padding-bottom: 5px !important;\n",
       "}\n",
       "\n",
       ".xr-var-attrs-in:checked ~ .xr-var-attrs,\n",
       ".xr-var-data-in:checked ~ .xr-var-data,\n",
       ".xr-index-data-in:checked ~ .xr-index-data {\n",
       "  display: block;\n",
       "}\n",
       "\n",
       ".xr-var-data > table {\n",
       "  float: right;\n",
       "}\n",
       "\n",
       ".xr-var-name span,\n",
       ".xr-var-data,\n",
       ".xr-index-name div,\n",
       ".xr-index-data,\n",
       ".xr-attrs {\n",
       "  padding-left: 25px !important;\n",
       "}\n",
       "\n",
       ".xr-attrs,\n",
       ".xr-var-attrs,\n",
       ".xr-var-data,\n",
       ".xr-index-data {\n",
       "  grid-column: 1 / -1;\n",
       "}\n",
       "\n",
       "dl.xr-attrs {\n",
       "  padding: 0;\n",
       "  margin: 0;\n",
       "  display: grid;\n",
       "  grid-template-columns: 125px auto;\n",
       "}\n",
       "\n",
       ".xr-attrs dt,\n",
       ".xr-attrs dd {\n",
       "  padding: 0;\n",
       "  margin: 0;\n",
       "  float: left;\n",
       "  padding-right: 10px;\n",
       "  width: auto;\n",
       "}\n",
       "\n",
       ".xr-attrs dt {\n",
       "  font-weight: normal;\n",
       "  grid-column: 1;\n",
       "}\n",
       "\n",
       ".xr-attrs dt:hover span {\n",
       "  display: inline-block;\n",
       "  background: var(--xr-background-color);\n",
       "  padding-right: 10px;\n",
       "}\n",
       "\n",
       ".xr-attrs dd {\n",
       "  grid-column: 2;\n",
       "  white-space: pre-wrap;\n",
       "  word-break: break-all;\n",
       "}\n",
       "\n",
       ".xr-icon-database,\n",
       ".xr-icon-file-text2,\n",
       ".xr-no-icon {\n",
       "  display: inline-block;\n",
       "  vertical-align: middle;\n",
       "  width: 1em;\n",
       "  height: 1.5em !important;\n",
       "  stroke-width: 0;\n",
       "  stroke: currentColor;\n",
       "  fill: currentColor;\n",
       "}\n",
       "</style><pre class='xr-text-repr-fallback'>&lt;xarray.Dataset&gt;\n",
       "Dimensions:     (_sequence: 64833, _length: 2064, cov_strand: 2)\n",
       "Coordinates:\n",
       "  * cov_strand  (cov_strand) &lt;U1 &#x27;+&#x27; &#x27;-&#x27;\n",
       "Dimensions without coordinates: _sequence, _length\n",
       "Data variables:\n",
       "    chrom       (_sequence) object &#x27;chr1&#x27; &#x27;chr1&#x27; &#x27;chr1&#x27; ... &#x27;chrM&#x27; &#x27;chrM&#x27; &#x27;chrM&#x27;\n",
       "    chromEnd    (_sequence) int64 630925 630950 630975 631000 ... 4172 4197 4222\n",
       "    chromStart  (_sequence) int64 628861 628886 628911 628936 ... 2108 2133 2158\n",
       "    name        (_sequence) object &#x27;ENSG00000225630.1&#x27; ... &#x27;ENSG00000210082.2&#x27;\n",
       "    score       (_sequence) float64 2.0 2.0 2.0 2.0 2.0 ... 3.0 3.0 3.0 3.0 3.0\n",
       "    seq         (_sequence, _length) |S1 b&#x27;G&#x27; b&#x27;A&#x27; b&#x27;T&#x27; b&#x27;T&#x27; ... b&#x27;T&#x27; b&#x27;C&#x27; b&#x27;T&#x27;\n",
       "    strand      (_sequence) object &#x27;+&#x27; &#x27;+&#x27; &#x27;+&#x27; &#x27;+&#x27; &#x27;+&#x27; ... &#x27;+&#x27; &#x27;+&#x27; &#x27;+&#x27; &#x27;+&#x27; &#x27;+&#x27;\n",
       "    thickEnd    (_sequence) int64 0 0 0 0 0 0 0 0 0 0 0 ... 0 0 0 0 0 0 0 0 0 0\n",
       "    thickStart  (_sequence) int64 20 101 148 77 80 ... 14912 18152 17996 30963\n",
       "    control     (_sequence, cov_strand, _length) float32 nan nan nan ... nan nan\n",
       "    signal      (_sequence, cov_strand, _length) float32 nan nan nan ... nan nan\n",
       "Attributes:\n",
       "    length_dim:    _length\n",
       "    max_jitter:    32\n",
       "    sequence_dim:  _sequence</pre><div class='xr-wrap' style='display:none'><div class='xr-header'><div class='xr-obj-type'>xarray.Dataset</div></div><ul class='xr-sections'><li class='xr-section-item'><input id='section-bc6fb214-dcdf-490f-836d-1233d4ced072' class='xr-section-summary-in' type='checkbox' disabled ><label for='section-bc6fb214-dcdf-490f-836d-1233d4ced072' class='xr-section-summary'  title='Expand/collapse section'>Dimensions:</label><div class='xr-section-inline-details'><ul class='xr-dim-list'><li><span>_sequence</span>: 64833</li><li><span>_length</span>: 2064</li><li><span class='xr-has-index'>cov_strand</span>: 2</li></ul></div><div class='xr-section-details'></div></li><li class='xr-section-item'><input id='section-5ef982f3-4a08-4737-941f-a5129f9dfd2b' class='xr-section-summary-in' type='checkbox'  checked><label for='section-5ef982f3-4a08-4737-941f-a5129f9dfd2b' class='xr-section-summary' >Coordinates: <span>(1)</span></label><div class='xr-section-inline-details'></div><div class='xr-section-details'><ul class='xr-var-list'><li class='xr-var-item'><div class='xr-var-name'><span class='xr-has-index'>cov_strand</span></div><div class='xr-var-dims'>(cov_strand)</div><div class='xr-var-dtype'>&lt;U1</div><div class='xr-var-preview xr-preview'>&#x27;+&#x27; &#x27;-&#x27;</div><input id='attrs-ebbc4bc0-bf3e-42e2-915d-c78182d4bf70' class='xr-var-attrs-in' type='checkbox' disabled><label for='attrs-ebbc4bc0-bf3e-42e2-915d-c78182d4bf70' title='Show/Hide attributes'><svg class='icon xr-icon-file-text2'><use xlink:href='#icon-file-text2'></use></svg></label><input id='data-bd42e1c9-bb1f-4755-aaee-6e630213f0c1' class='xr-var-data-in' type='checkbox'><label for='data-bd42e1c9-bb1f-4755-aaee-6e630213f0c1' title='Show/Hide data repr'><svg class='icon xr-icon-database'><use xlink:href='#icon-database'></use></svg></label><div class='xr-var-attrs'><dl class='xr-attrs'></dl></div><div class='xr-var-data'><pre>array([&#x27;+&#x27;, &#x27;-&#x27;], dtype=&#x27;&lt;U1&#x27;)</pre></div></li></ul></div></li><li class='xr-section-item'><input id='section-dbf4116f-dc8c-4049-9224-579d37f9b97a' class='xr-section-summary-in' type='checkbox'  checked><label for='section-dbf4116f-dc8c-4049-9224-579d37f9b97a' class='xr-section-summary' >Data variables: <span>(11)</span></label><div class='xr-section-inline-details'></div><div class='xr-section-details'><ul class='xr-var-list'><li class='xr-var-item'><div class='xr-var-name'><span>chrom</span></div><div class='xr-var-dims'>(_sequence)</div><div class='xr-var-dtype'>object</div><div class='xr-var-preview xr-preview'>&#x27;chr1&#x27; &#x27;chr1&#x27; ... &#x27;chrM&#x27; &#x27;chrM&#x27;</div><input id='attrs-a96fa2db-aa5c-4b7c-952f-254caa8346d5' class='xr-var-attrs-in' type='checkbox' ><label for='attrs-a96fa2db-aa5c-4b7c-952f-254caa8346d5' title='Show/Hide attributes'><svg class='icon xr-icon-file-text2'><use xlink:href='#icon-file-text2'></use></svg></label><input id='data-f42e5966-bbdb-49a4-9982-ce49faa27e26' class='xr-var-data-in' type='checkbox'><label for='data-f42e5966-bbdb-49a4-9982-ce49faa27e26' title='Show/Hide data repr'><svg class='icon xr-icon-database'><use xlink:href='#icon-database'></use></svg></label><div class='xr-var-attrs'><dl class='xr-attrs'><dt><span>_FillValue :</span></dt><dd>0</dd></dl></div><div class='xr-var-data'><pre>array([&#x27;chr1&#x27;, &#x27;chr1&#x27;, &#x27;chr1&#x27;, ..., &#x27;chrM&#x27;, &#x27;chrM&#x27;, &#x27;chrM&#x27;], dtype=object)</pre></div></li><li class='xr-var-item'><div class='xr-var-name'><span>chromEnd</span></div><div class='xr-var-dims'>(_sequence)</div><div class='xr-var-dtype'>int64</div><div class='xr-var-preview xr-preview'>630925 630950 630975 ... 4197 4222</div><input id='attrs-460979e3-62a3-4d11-872e-b7af6e5a332a' class='xr-var-attrs-in' type='checkbox' ><label for='attrs-460979e3-62a3-4d11-872e-b7af6e5a332a' title='Show/Hide attributes'><svg class='icon xr-icon-file-text2'><use xlink:href='#icon-file-text2'></use></svg></label><input id='data-2574e051-e263-40b5-ae0b-80a1b3f66fa2' class='xr-var-data-in' type='checkbox'><label for='data-2574e051-e263-40b5-ae0b-80a1b3f66fa2' title='Show/Hide data repr'><svg class='icon xr-icon-database'><use xlink:href='#icon-database'></use></svg></label><div class='xr-var-attrs'><dl class='xr-attrs'><dt><span>_FillValue :</span></dt><dd>0</dd></dl></div><div class='xr-var-data'><pre>array([630925, 630950, 630975, ...,   4172,   4197,   4222])</pre></div></li><li class='xr-var-item'><div class='xr-var-name'><span>chromStart</span></div><div class='xr-var-dims'>(_sequence)</div><div class='xr-var-dtype'>int64</div><div class='xr-var-preview xr-preview'>628861 628886 628911 ... 2133 2158</div><input id='attrs-53c9ecac-a607-4e01-9d72-74f28e6a5357' class='xr-var-attrs-in' type='checkbox' ><label for='attrs-53c9ecac-a607-4e01-9d72-74f28e6a5357' title='Show/Hide attributes'><svg class='icon xr-icon-file-text2'><use xlink:href='#icon-file-text2'></use></svg></label><input id='data-6356e09f-759c-48ec-95e4-c392be05c478' class='xr-var-data-in' type='checkbox'><label for='data-6356e09f-759c-48ec-95e4-c392be05c478' title='Show/Hide data repr'><svg class='icon xr-icon-database'><use xlink:href='#icon-database'></use></svg></label><div class='xr-var-attrs'><dl class='xr-attrs'><dt><span>_FillValue :</span></dt><dd>0</dd></dl></div><div class='xr-var-data'><pre>array([628861, 628886, 628911, ...,   2108,   2133,   2158])</pre></div></li><li class='xr-var-item'><div class='xr-var-name'><span>name</span></div><div class='xr-var-dims'>(_sequence)</div><div class='xr-var-dtype'>object</div><div class='xr-var-preview xr-preview'>&#x27;ENSG00000225630.1&#x27; ... &#x27;ENSG000...</div><input id='attrs-a1b7c30a-2085-4101-8132-4f25d0386728' class='xr-var-attrs-in' type='checkbox' ><label for='attrs-a1b7c30a-2085-4101-8132-4f25d0386728' title='Show/Hide attributes'><svg class='icon xr-icon-file-text2'><use xlink:href='#icon-file-text2'></use></svg></label><input id='data-0b974058-5b86-4b08-b0be-cfef468d7851' class='xr-var-data-in' type='checkbox'><label for='data-0b974058-5b86-4b08-b0be-cfef468d7851' title='Show/Hide data repr'><svg class='icon xr-icon-database'><use xlink:href='#icon-database'></use></svg></label><div class='xr-var-attrs'><dl class='xr-attrs'><dt><span>_FillValue :</span></dt><dd>0</dd></dl></div><div class='xr-var-data'><pre>array([&#x27;ENSG00000225630.1&#x27;, &#x27;ENSG00000225630.1&#x27;, &#x27;ENSG00000225630.1&#x27;, ...,\n",
       "       &#x27;ENSG00000210082.2&#x27;, &#x27;ENSG00000210082.2&#x27;, &#x27;ENSG00000210082.2&#x27;],\n",
       "      dtype=object)</pre></div></li><li class='xr-var-item'><div class='xr-var-name'><span>score</span></div><div class='xr-var-dims'>(_sequence)</div><div class='xr-var-dtype'>float64</div><div class='xr-var-preview xr-preview'>2.0 2.0 2.0 2.0 ... 3.0 3.0 3.0 3.0</div><input id='attrs-518c2bf3-28db-45eb-aebb-9f6c2e23eb8c' class='xr-var-attrs-in' type='checkbox' ><label for='attrs-518c2bf3-28db-45eb-aebb-9f6c2e23eb8c' title='Show/Hide attributes'><svg class='icon xr-icon-file-text2'><use xlink:href='#icon-file-text2'></use></svg></label><input id='data-9ff5bff2-fe4e-4625-9dd0-bca285a2c9dd' class='xr-var-data-in' type='checkbox'><label for='data-9ff5bff2-fe4e-4625-9dd0-bca285a2c9dd' title='Show/Hide data repr'><svg class='icon xr-icon-database'><use xlink:href='#icon-database'></use></svg></label><div class='xr-var-attrs'><dl class='xr-attrs'><dt><span>_FillValue :</span></dt><dd>0.0</dd></dl></div><div class='xr-var-data'><pre>array([2., 2., 2., ..., 3., 3., 3.])</pre></div></li><li class='xr-var-item'><div class='xr-var-name'><span>seq</span></div><div class='xr-var-dims'>(_sequence, _length)</div><div class='xr-var-dtype'>|S1</div><div class='xr-var-preview xr-preview'>b&#x27;G&#x27; b&#x27;A&#x27; b&#x27;T&#x27; ... b&#x27;T&#x27; b&#x27;C&#x27; b&#x27;T&#x27;</div><input id='attrs-81e28fae-9ea2-4bcd-aafe-af31b3ebb0b3' class='xr-var-attrs-in' type='checkbox' disabled><label for='attrs-81e28fae-9ea2-4bcd-aafe-af31b3ebb0b3' title='Show/Hide attributes'><svg class='icon xr-icon-file-text2'><use xlink:href='#icon-file-text2'></use></svg></label><input id='data-f1c6ac7d-6d89-4010-a6d3-8d61eaff01dd' class='xr-var-data-in' type='checkbox'><label for='data-f1c6ac7d-6d89-4010-a6d3-8d61eaff01dd' title='Show/Hide data repr'><svg class='icon xr-icon-database'><use xlink:href='#icon-database'></use></svg></label><div class='xr-var-attrs'><dl class='xr-attrs'></dl></div><div class='xr-var-data'><pre>array([[b&#x27;G&#x27;, b&#x27;A&#x27;, b&#x27;T&#x27;, ..., b&#x27;G&#x27;, b&#x27;G&#x27;, b&#x27;C&#x27;],\n",
       "       [b&#x27;T&#x27;, b&#x27;T&#x27;, b&#x27;T&#x27;, ..., b&#x27;A&#x27;, b&#x27;A&#x27;, b&#x27;G&#x27;],\n",
       "       [b&#x27;T&#x27;, b&#x27;A&#x27;, b&#x27;C&#x27;, ..., b&#x27;C&#x27;, b&#x27;A&#x27;, b&#x27;A&#x27;],\n",
       "       ...,\n",
       "       [b&#x27;A&#x27;, b&#x27;A&#x27;, b&#x27;C&#x27;, ..., b&#x27;C&#x27;, b&#x27;C&#x27;, b&#x27;T&#x27;],\n",
       "       [b&#x27;A&#x27;, b&#x27;A&#x27;, b&#x27;C&#x27;, ..., b&#x27;A&#x27;, b&#x27;C&#x27;, b&#x27;C&#x27;],\n",
       "       [b&#x27;T&#x27;, b&#x27;A&#x27;, b&#x27;A&#x27;, ..., b&#x27;T&#x27;, b&#x27;C&#x27;, b&#x27;T&#x27;]], dtype=&#x27;|S1&#x27;)</pre></div></li><li class='xr-var-item'><div class='xr-var-name'><span>strand</span></div><div class='xr-var-dims'>(_sequence)</div><div class='xr-var-dtype'>object</div><div class='xr-var-preview xr-preview'>&#x27;+&#x27; &#x27;+&#x27; &#x27;+&#x27; &#x27;+&#x27; ... &#x27;+&#x27; &#x27;+&#x27; &#x27;+&#x27; &#x27;+&#x27;</div><input id='attrs-9e70b299-c12e-449e-a393-c09960bdcbf9' class='xr-var-attrs-in' type='checkbox' ><label for='attrs-9e70b299-c12e-449e-a393-c09960bdcbf9' title='Show/Hide attributes'><svg class='icon xr-icon-file-text2'><use xlink:href='#icon-file-text2'></use></svg></label><input id='data-e1cc168b-22f7-4986-b869-5d4592c36253' class='xr-var-data-in' type='checkbox'><label for='data-e1cc168b-22f7-4986-b869-5d4592c36253' title='Show/Hide data repr'><svg class='icon xr-icon-database'><use xlink:href='#icon-database'></use></svg></label><div class='xr-var-attrs'><dl class='xr-attrs'><dt><span>_FillValue :</span></dt><dd>0</dd></dl></div><div class='xr-var-data'><pre>array([&#x27;+&#x27;, &#x27;+&#x27;, &#x27;+&#x27;, ..., &#x27;+&#x27;, &#x27;+&#x27;, &#x27;+&#x27;], dtype=object)</pre></div></li><li class='xr-var-item'><div class='xr-var-name'><span>thickEnd</span></div><div class='xr-var-dims'>(_sequence)</div><div class='xr-var-dtype'>int64</div><div class='xr-var-preview xr-preview'>0 0 0 0 0 0 0 0 ... 0 0 0 0 0 0 0 0</div><input id='attrs-4e8fcae4-111e-4819-9719-b841fd4131da' class='xr-var-attrs-in' type='checkbox' ><label for='attrs-4e8fcae4-111e-4819-9719-b841fd4131da' title='Show/Hide attributes'><svg class='icon xr-icon-file-text2'><use xlink:href='#icon-file-text2'></use></svg></label><input id='data-fb928dda-7b43-4e0e-b8fa-65ce1a1896cb' class='xr-var-data-in' type='checkbox'><label for='data-fb928dda-7b43-4e0e-b8fa-65ce1a1896cb' title='Show/Hide data repr'><svg class='icon xr-icon-database'><use xlink:href='#icon-database'></use></svg></label><div class='xr-var-attrs'><dl class='xr-attrs'><dt><span>_FillValue :</span></dt><dd>0</dd></dl></div><div class='xr-var-data'><pre>array([0, 0, 0, ..., 0, 0, 0])</pre></div></li><li class='xr-var-item'><div class='xr-var-name'><span>thickStart</span></div><div class='xr-var-dims'>(_sequence)</div><div class='xr-var-dtype'>int64</div><div class='xr-var-preview xr-preview'>20 101 148 77 ... 18152 17996 30963</div><input id='attrs-5ca19fa9-0289-43f4-a7a6-48ce4f3932ce' class='xr-var-attrs-in' type='checkbox' ><label for='attrs-5ca19fa9-0289-43f4-a7a6-48ce4f3932ce' title='Show/Hide attributes'><svg class='icon xr-icon-file-text2'><use xlink:href='#icon-file-text2'></use></svg></label><input id='data-badc2f23-0f08-401a-969f-54ddfe761e37' class='xr-var-data-in' type='checkbox'><label for='data-badc2f23-0f08-401a-969f-54ddfe761e37' title='Show/Hide data repr'><svg class='icon xr-icon-database'><use xlink:href='#icon-database'></use></svg></label><div class='xr-var-attrs'><dl class='xr-attrs'><dt><span>_FillValue :</span></dt><dd>0</dd></dl></div><div class='xr-var-data'><pre>array([   20,   101,   148, ..., 18152, 17996, 30963])</pre></div></li><li class='xr-var-item'><div class='xr-var-name'><span>control</span></div><div class='xr-var-dims'>(_sequence, cov_strand, _length)</div><div class='xr-var-dtype'>float32</div><div class='xr-var-preview xr-preview'>nan nan nan nan ... nan nan nan nan</div><input id='attrs-a7d01c72-1fc4-4f33-924a-945a6eb9bba6' class='xr-var-attrs-in' type='checkbox' ><label for='attrs-a7d01c72-1fc4-4f33-924a-945a6eb9bba6' title='Show/Hide attributes'><svg class='icon xr-icon-file-text2'><use xlink:href='#icon-file-text2'></use></svg></label><input id='data-a6f65dd2-3bdb-4a2e-b948-fbcc56f0ccbc' class='xr-var-data-in' type='checkbox'><label for='data-a6f65dd2-3bdb-4a2e-b948-fbcc56f0ccbc' title='Show/Hide data repr'><svg class='icon xr-icon-database'><use xlink:href='#icon-database'></use></svg></label><div class='xr-var-attrs'><dl class='xr-attrs'><dt><span>_FillValue :</span></dt><dd>0.0</dd></dl></div><div class='xr-var-data'><pre>array([[[nan, nan, nan, ..., nan, nan, nan],\n",
       "        [nan, nan, nan, ..., nan, nan, nan]],\n",
       "\n",
       "       [[nan, nan, nan, ..., nan, nan, nan],\n",
       "        [nan, nan, nan, ..., nan, nan, nan]],\n",
       "\n",
       "       [[nan, nan, nan, ..., nan, nan, nan],\n",
       "        [nan, nan, nan, ..., nan, nan, nan]],\n",
       "\n",
       "       ...,\n",
       "\n",
       "       [[nan, nan, nan, ..., nan, nan, nan],\n",
       "        [nan, nan, nan, ..., nan, nan, nan]],\n",
       "\n",
       "       [[nan, nan, nan, ..., nan, nan, nan],\n",
       "        [nan, nan, nan, ..., nan, nan, nan]],\n",
       "\n",
       "       [[nan, nan, nan, ..., nan, nan, nan],\n",
       "        [nan, nan, nan, ..., nan, nan, nan]]], dtype=float32)</pre></div></li><li class='xr-var-item'><div class='xr-var-name'><span>signal</span></div><div class='xr-var-dims'>(_sequence, cov_strand, _length)</div><div class='xr-var-dtype'>float32</div><div class='xr-var-preview xr-preview'>nan nan nan nan ... nan nan nan nan</div><input id='attrs-32904b80-c08e-4b66-ada7-ff851b37d623' class='xr-var-attrs-in' type='checkbox' ><label for='attrs-32904b80-c08e-4b66-ada7-ff851b37d623' title='Show/Hide attributes'><svg class='icon xr-icon-file-text2'><use xlink:href='#icon-file-text2'></use></svg></label><input id='data-f8e50a1c-d798-4fc9-801e-0fcad9eed648' class='xr-var-data-in' type='checkbox'><label for='data-f8e50a1c-d798-4fc9-801e-0fcad9eed648' title='Show/Hide data repr'><svg class='icon xr-icon-database'><use xlink:href='#icon-database'></use></svg></label><div class='xr-var-attrs'><dl class='xr-attrs'><dt><span>_FillValue :</span></dt><dd>0.0</dd></dl></div><div class='xr-var-data'><pre>array([[[nan, nan, nan, ..., nan, nan, nan],\n",
       "        [nan, nan, nan, ..., nan, nan, nan]],\n",
       "\n",
       "       [[nan, nan, nan, ..., nan, nan, nan],\n",
       "        [nan, nan, nan, ..., nan, nan, nan]],\n",
       "\n",
       "       [[nan, nan, nan, ..., nan, nan, nan],\n",
       "        [nan, nan, nan, ..., nan, nan, nan]],\n",
       "\n",
       "       ...,\n",
       "\n",
       "       [[nan, nan, nan, ..., nan, nan, nan],\n",
       "        [nan, nan, nan, ..., nan, nan, nan]],\n",
       "\n",
       "       [[nan, nan, nan, ..., nan, nan, nan],\n",
       "        [nan, nan, nan, ..., nan, nan, nan]],\n",
       "\n",
       "       [[nan, nan, nan, ..., nan, nan, nan],\n",
       "        [nan, nan, nan, ..., nan, nan, nan]]], dtype=float32)</pre></div></li></ul></div></li><li class='xr-section-item'><input id='section-c290c2b4-ff77-4e8e-9cbd-a4d4d7ab14ea' class='xr-section-summary-in' type='checkbox'  ><label for='section-c290c2b4-ff77-4e8e-9cbd-a4d4d7ab14ea' class='xr-section-summary' >Indexes: <span>(1)</span></label><div class='xr-section-inline-details'></div><div class='xr-section-details'><ul class='xr-var-list'><li class='xr-var-item'><div class='xr-index-name'><div>cov_strand</div></div><div class='xr-index-preview'>PandasIndex</div><div></div><input id='index-9f52cd99-7e6c-4e71-a192-405ae055e51e' class='xr-index-data-in' type='checkbox'/><label for='index-9f52cd99-7e6c-4e71-a192-405ae055e51e' title='Show/Hide index repr'><svg class='icon xr-icon-database'><use xlink:href='#icon-database'></use></svg></label><div class='xr-index-data'><pre>PandasIndex(Index([&#x27;+&#x27;, &#x27;-&#x27;], dtype=&#x27;object&#x27;, name=&#x27;cov_strand&#x27;))</pre></div></li></ul></div></li><li class='xr-section-item'><input id='section-6f5f468d-d0fc-4d8b-b4df-74453c99a988' class='xr-section-summary-in' type='checkbox'  checked><label for='section-6f5f468d-d0fc-4d8b-b4df-74453c99a988' class='xr-section-summary' >Attributes: <span>(3)</span></label><div class='xr-section-inline-details'></div><div class='xr-section-details'><dl class='xr-attrs'><dt><span>length_dim :</span></dt><dd>_length</dd><dt><span>max_jitter :</span></dt><dd>32</dd><dt><span>sequence_dim :</span></dt><dd>_sequence</dd></dl></div></li></ul></div></div>"
      ],
      "text/plain": [
       "<xarray.Dataset>\n",
       "Dimensions:     (_sequence: 64833, _length: 2064, cov_strand: 2)\n",
       "Coordinates:\n",
       "  * cov_strand  (cov_strand) <U1 '+' '-'\n",
       "Dimensions without coordinates: _sequence, _length\n",
       "Data variables:\n",
       "    chrom       (_sequence) object 'chr1' 'chr1' 'chr1' ... 'chrM' 'chrM' 'chrM'\n",
       "    chromEnd    (_sequence) int64 630925 630950 630975 631000 ... 4172 4197 4222\n",
       "    chromStart  (_sequence) int64 628861 628886 628911 628936 ... 2108 2133 2158\n",
       "    name        (_sequence) object 'ENSG00000225630.1' ... 'ENSG00000210082.2'\n",
       "    score       (_sequence) float64 2.0 2.0 2.0 2.0 2.0 ... 3.0 3.0 3.0 3.0 3.0\n",
       "    seq         (_sequence, _length) |S1 b'G' b'A' b'T' b'T' ... b'T' b'C' b'T'\n",
       "    strand      (_sequence) object '+' '+' '+' '+' '+' ... '+' '+' '+' '+' '+'\n",
       "    thickEnd    (_sequence) int64 0 0 0 0 0 0 0 0 0 0 0 ... 0 0 0 0 0 0 0 0 0 0\n",
       "    thickStart  (_sequence) int64 20 101 148 77 80 ... 14912 18152 17996 30963\n",
       "    control     (_sequence, cov_strand, _length) float32 nan nan nan ... nan nan\n",
       "    signal      (_sequence, cov_strand, _length) float32 nan nan nan ... nan nan\n",
       "Attributes:\n",
       "    length_dim:    _length\n",
       "    max_jitter:    32\n",
       "    sequence_dim:  _sequence"
      ]
     },
     "execution_count": 160,
     "metadata": {},
     "output_type": "execute_result"
    }
   ],
   "source": [
    "# Split cov into control and signal\n",
    "sdata['control'] = (\n",
    "    sdata.cov.sel(cov_sample=['control+', 'control-'])\n",
    "    .rename({'cov_sample': 'cov_strand'})\n",
    "    .assign_coords({'cov_strand': ['+', '-']})\n",
    ")\n",
    "sdata['signal'] = (\n",
    "    sdata.cov.sel(cov_sample=['signal+', 'signal-'])\n",
    "    .rename({'cov_sample': 'cov_strand'})\n",
    "    .assign_coords({'cov_strand': ['+', '-']})\n",
    ")\n",
    "sdata = sdata.drop_vars(['cov', 'cov_sample'])\n",
    "sdata.load()"
   ]
  },
  {
   "cell_type": "code",
   "execution_count": 161,
   "id": "7ae3d7b7-68b8-495b-b2be-bc5a68f292a7",
   "metadata": {
    "execution": {
     "iopub.execute_input": "2023-12-26T19:06:14.366926Z",
     "iopub.status.busy": "2023-12-26T19:06:14.366744Z",
     "iopub.status.idle": "2023-12-26T19:06:14.630870Z",
     "shell.execute_reply": "2023-12-26T19:06:14.630496Z",
     "shell.execute_reply.started": "2023-12-26T19:06:14.366911Z"
    },
    "tags": []
   },
   "outputs": [
    {
     "data": {
      "text/plain": [
       "chr2     8836\n",
       "chr1     4830\n",
       "chr6     4750\n",
       "chr3     4073\n",
       "chr17    3867\n",
       "chr20    3530\n",
       "chr16    3493\n",
       "chr12    3215\n",
       "chr14    2968\n",
       "chr10    2883\n",
       "chr5     2847\n",
       "chr11    2792\n",
       "chr7     2581\n",
       "chr4     2124\n",
       "chr9     1849\n",
       "chr15    1776\n",
       "chr19    1531\n",
       "chr13    1389\n",
       "chr8     1370\n",
       "chr22     992\n",
       "chr18     855\n",
       "chr21     493\n",
       "Name: chrom, dtype: int64"
      ]
     },
     "execution_count": 161,
     "metadata": {},
     "output_type": "execute_result"
    }
   ],
   "source": [
    "# Keep only \n",
    "sdata = sdata.sel(_sequence=((sdata[\"chrom\"].isin(training_chroms + valid_chroms + test_chroms))))\n",
    "sdata[\"chrom\"].to_series().value_counts()"
   ]
  },
  {
   "cell_type": "code",
   "execution_count": 162,
   "id": "034738f8-3663-4f04-8f3b-a87b342a62eb",
   "metadata": {
    "execution": {
     "iopub.execute_input": "2023-12-26T19:06:14.632026Z",
     "iopub.status.busy": "2023-12-26T19:06:14.631704Z",
     "iopub.status.idle": "2023-12-26T19:06:15.450399Z",
     "shell.execute_reply": "2023-12-26T19:06:15.450037Z",
     "shell.execute_reply.started": "2023-12-26T19:06:14.632010Z"
    },
    "tags": []
   },
   "outputs": [
    {
     "data": {
      "text/plain": [
       "(nan, nan, nan, nan)"
      ]
     },
     "execution_count": 162,
     "metadata": {},
     "output_type": "execute_result"
    },
    {
     "data": {
      "image/png": "[encoded data removed]",
      "text/plain": [
       "<Figure size 1200x200 with 1 Axes>"
      ]
     },
     "metadata": {},
     "output_type": "display_data"
    }
   ],
   "source": [
    "# Plot signal and control\n",
    "seq_num = 51680\n",
    "ser = sdata[[\"name\", \"chrom\", \"chromStart\", \"chromEnd\"]].to_dataframe().loc[seq_num]\n",
    "fig, ax = plt.subplots(figsize=(12,2))\n",
    "plt.plot(sdata[\"signal\"][seq_num][0].values, label=\"+ signal\")\n",
    "plt.plot(sdata[\"signal\"][seq_num][1].values, label=\"- signal\")\n",
    "plt.plot(sdata[\"control\"][seq_num][0].values, label=\"+ control\")\n",
    "plt.plot(sdata[\"control\"][seq_num][1].values, label=\"- control\")\n",
    "plt.title(ser[\"chrom\"] + \":\" + ser[\"chromStart\"].astype(str) + \"-\" + ser[\"chromEnd\"].astype(str))\n",
    "plt.legend()\n",
    "np.isnan(sdata[\"signal\"][seq_num].values[0]).all()"
   ]
  },
  {
   "cell_type": "code",
   "execution_count": 17,
   "id": "3ed493a4-3edf-4373-97b2-ae7ad2a90498",
   "metadata": {
    "execution": {
     "iopub.execute_input": "2023-12-26T19:14:29.913815Z",
     "iopub.status.busy": "2023-12-26T19:14:29.913585Z",
     "iopub.status.idle": "2023-12-26T19:14:29.916140Z",
     "shell.execute_reply": "2023-12-26T19:14:29.915713Z",
     "shell.execute_reply.started": "2023-12-26T19:14:29.913798Z"
    },
    "tags": []
   },
   "outputs": [],
   "source": [
    "import pyBigWig"
   ]
  },
  {
   "cell_type": "code",
   "execution_count": 18,
   "id": "1c11dd17-f145-4344-bf62-ac712d7d9469",
   "metadata": {
    "execution": {
     "iopub.execute_input": "2023-12-26T19:14:29.916919Z",
     "iopub.status.busy": "2023-12-26T19:14:29.916749Z",
     "iopub.status.idle": "2023-12-26T19:14:30.289494Z",
     "shell.execute_reply": "2023-12-26T19:14:30.289032Z",
     "shell.execute_reply.started": "2023-12-26T19:14:29.916907Z"
    },
    "tags": []
   },
   "outputs": [
    {
     "data": {
      "text/plain": [
       "[<matplotlib.lines.Line2D at 0x1553cea42d90>]"
      ]
     },
     "execution_count": 18,
     "metadata": {},
     "output_type": "execute_result"
    },
    {
     "data": {
      "image/png": "[encoded data removed]",
      "text/plain": [
       "<Figure size 640x480 with 1 Axes>"
      ]
     },
     "metadata": {},
     "output_type": "display_data"
    }
   ],
   "source": [
    "file = pyBigWig.open(str(signals[0]))\n",
    "contig = ser[\"chrom\"]\n",
    "start = ser[\"chromStart\"]\n",
    "end = ser[\"chromEnd\"]\n",
    "vals = np.array(file.values(contig, start, end))\n",
    "vals[vals == np.nan] = 0\n",
    "plt.plot(vals, label=\"+ signal\")"
   ]
  },
  {
   "cell_type": "code",
   "execution_count": 19,
   "id": "9367de1b-62a4-455d-b126-4d346386954a",
   "metadata": {
    "execution": {
     "iopub.execute_input": "2023-12-26T19:14:30.913274Z",
     "iopub.status.busy": "2023-12-26T19:14:30.913067Z",
     "iopub.status.idle": "2023-12-26T19:14:31.270567Z",
     "shell.execute_reply": "2023-12-26T19:14:31.270088Z",
     "shell.execute_reply.started": "2023-12-26T19:14:30.913256Z"
    },
    "tags": []
   },
   "outputs": [
    {
     "name": "stderr",
     "output_type": "stream",
     "text": [
      "  0%|          | 0/1 [00:00<?, ?it/s]"
     ]
    },
    {
     "data": {
      "text/plain": [
       "[<matplotlib.lines.Line2D at 0x1553cea10520>]"
      ]
     },
     "execution_count": 19,
     "metadata": {},
     "output_type": "execute_result"
    },
    {
     "data": {
      "image/png": "[encoded data removed]",
      "text/plain": [
       "<Figure size 640x480 with 1 Axes>"
      ]
     },
     "metadata": {},
     "output_type": "display_data"
    }
   ],
   "source": [
    "bw_reader = sd.BigWig(\n",
    "    'test_cov',\n",
    "    bigwigs[0],\n",
    "    sample_names[0],\n",
    "    batch_size=2048,\n",
    "    n_jobs=4,\n",
    "    threads_per_job=2,\n",
    "    dtype=\"float32\",\n",
    ")\n",
    "bed = ser.to_frame().T.drop(\"name\", axis=1)\n",
    "gen = bw_reader._reader(\n",
    "    bed,\n",
    "    file,\n",
    "    file.chroms()\n",
    ")\n",
    "plt.plot(next(gen), label=\"+ signal\")"
   ]
  },
  {
   "cell_type": "code",
   "execution_count": 20,
   "id": "bc9bdb98-3a91-417e-bb35-28c8b283e209",
   "metadata": {
    "execution": {
     "iopub.execute_input": "2023-12-26T19:14:33.911621Z",
     "iopub.status.busy": "2023-12-26T19:14:33.911361Z",
     "iopub.status.idle": "2023-12-26T19:14:33.913946Z",
     "shell.execute_reply": "2023-12-26T19:14:33.913533Z",
     "shell.execute_reply.started": "2023-12-26T19:14:33.911605Z"
    },
    "tags": []
   },
   "outputs": [],
   "source": [
    "from typing import cast\n",
    "from numpy.typing import NDArray"
   ]
  },
  {
   "cell_type": "code",
   "execution_count": 21,
   "id": "ea535365-508c-4c14-83b5-e9333ccdca3e",
   "metadata": {
    "execution": {
     "iopub.execute_input": "2023-12-26T19:14:34.044061Z",
     "iopub.status.busy": "2023-12-26T19:14:34.043923Z",
     "iopub.status.idle": "2023-12-26T19:14:34.411841Z",
     "shell.execute_reply": "2023-12-26T19:14:34.411430Z",
     "shell.execute_reply.started": "2023-12-26T19:14:34.044048Z"
    },
    "tags": []
   },
   "outputs": [
    {
     "data": {
      "text/plain": [
       "[<matplotlib.lines.Line2D at 0x1553f54a05b0>]"
      ]
     },
     "execution_count": 21,
     "metadata": {},
     "output_type": "execute_result"
    },
    {
     "data": {
      "image/png": "[encoded data removed]",
      "text/plain": [
       "<Figure size 640x480 with 1 Axes>"
      ]
     },
     "metadata": {},
     "output_type": "display_data"
    }
   ],
   "source": [
    "values = cast(\n",
    "    NDArray,\n",
    "    file.values(\n",
    "        contig, max(0, start), min(100000000, end), numpy=True\n",
    "    ),\n",
    ")\n",
    "values = values.astype(np.dtype(np.float64))\n",
    "values[values == np.nan] = 0\n",
    "plt.plot(values, label=\"+ signal\")"
   ]
  },
  {
   "cell_type": "code",
   "execution_count": 7,
   "id": "92941a7e-bfe1-4094-b769-a1b0cf485b34",
   "metadata": {
    "execution": {
     "iopub.execute_input": "2023-12-26T18:08:35.610408Z",
     "iopub.status.busy": "2023-12-26T18:08:35.610251Z",
     "iopub.status.idle": "2023-12-26T18:08:46.560473Z",
     "shell.execute_reply": "2023-12-26T18:08:46.560055Z",
     "shell.execute_reply.started": "2023-12-26T18:08:35.610388Z"
    },
    "tags": []
   },
   "outputs": [],
   "source": [
    "import pygenometracks.tracks as pygtk\n",
    "import matplotlib.pyplot as plt\n",
    "import os\n",
    "import numpy as np\n",
    "import pandas as pd\n",
    "\n",
    "import os as _os\n",
    "import sys as _sys\n",
    "try:\n",
    "    _bin_dir = _os.path.dirname(_sys.executable)\n",
    "    _os.environ[\"PATH\"] += _os.pathsep + _bin_dir\n",
    "    from pybedtools import paths as _paths\n",
    "    _paths._set_bedtools_path(_bin_dir)\n",
    "except ImportError:\n",
    "    raise ImportError(\n",
    "        \"Please install pybedtools (pip install pybedtools)\"\n",
    "    )"
   ]
  },
  {
   "cell_type": "code",
   "execution_count": 8,
   "id": "b96a397b-44af-4e52-a6c9-c8a75e87bbb0",
   "metadata": {
    "execution": {
     "iopub.execute_input": "2023-12-26T18:08:46.561535Z",
     "iopub.status.busy": "2023-12-26T18:08:46.561371Z",
     "iopub.status.idle": "2023-12-26T18:08:46.563740Z",
     "shell.execute_reply": "2023-12-26T18:08:46.563446Z",
     "shell.execute_reply.started": "2023-12-26T18:08:46.561515Z"
    },
    "tags": []
   },
   "outputs": [],
   "source": [
    "# Region to plot\n",
    "extension = 0\n",
    "chrom, start, end = 'chr16', 89738949 , 89739513"
   ]
  },
  {
   "cell_type": "code",
   "execution_count": 9,
   "id": "ffe989bb-b7a4-43c5-85a6-7bde04d24f5c",
   "metadata": {
    "execution": {
     "iopub.execute_input": "2023-12-26T18:08:46.564302Z",
     "iopub.status.busy": "2023-12-26T18:08:46.564198Z",
     "iopub.status.idle": "2023-12-26T18:08:47.268114Z",
     "shell.execute_reply": "2023-12-26T18:08:47.267768Z",
     "shell.execute_reply.started": "2023-12-26T18:08:46.564288Z"
    },
    "tags": []
   },
   "outputs": [
    {
     "data": {
      "image/png": "[encoded data removed]",
      "text/plain": [
       "<Figure size 1152x648 with 4 Axes>"
      ]
     },
     "metadata": {
      "needs_background": "light"
     },
     "output_type": "display_data"
    }
   ],
   "source": [
    "fig, ax = plt.subplots(4, 1, figsize=(16, 9), sharex=True, sharey=False)\n",
    "config = dict(file=str(signals[0]), region=[(chrom, start, end)], color=\"blue\")\n",
    "track = pygtk.BigWigTrack(config)\n",
    "track.plot(ax[0], chrom, start, end)\n",
    "ax[0].set_ylabel(\"U2AF2 (+)\", color=\"orange\")\n",
    "ax[0].set_xlabel(\"\")\n",
    "ax[0].spines['right'].set_visible(False)\n",
    "ax[0].spines['top'].set_visible(False)\n",
    "ax[0].spines['bottom'].set_visible(False)\n",
    "ax[0].tick_params(axis='x', which='both', bottom=False, top=False, labelbottom=False)\n",
    "ax[0].xticklabels = []\n",
    "\n",
    "config = dict(file=str(signals[1]), region=[(chrom, start, end)], color=\"green\")\n",
    "track = pygtk.BigWigTrack(config)\n",
    "track.plot(ax[1], chrom, start, end)\n",
    "ax[1].set_ylabel(\"U2AF2 (-)\", color=\"blue\")\n",
    "ax[1].set_xlabel(\"\")\n",
    "ax[1].spines['right'].set_visible(False)\n",
    "ax[1].spines['top'].set_visible(False)\n",
    "ax[1].spines['bottom'].set_visible(False)\n",
    "ax[1].tick_params(axis='x', which='both', bottom=False, top=False, labelbottom=True)\n",
    "ax[1].xticklabels = []\n",
    "\n",
    "config = dict(file=str(controls[0]), region=[(chrom, start, end)], color=\"orange\")\n",
    "track = pygtk.BigWigTrack(config)\n",
    "track.plot(ax[2], chrom, start, end)\n",
    "ax[2].set_ylabel(\"Control (+)\", color=\"orange\")\n",
    "ax[2].set_xlabel(\"\")\n",
    "ax[2].spines['right'].set_visible(False)\n",
    "ax[2].spines['top'].set_visible(False)\n",
    "ax[2].spines['bottom'].set_visible(False)\n",
    "ax[2].tick_params(axis='x', which='both', bottom=False, top=False, labelbottom=True)\n",
    "ax[2].xticklabels = []\n",
    "\n",
    "config = dict(file=str(controls[1]), region=[(chrom, start, end)], color=\"red\")\n",
    "track = pygtk.BigWigTrack(config)\n",
    "track.plot(ax[3], chrom, start, end)\n",
    "ax[3].set_ylabel(\"Control (-)\", color=\"blue\")\n",
    "ax[3].set_xlabel(\"\")\n",
    "ax[3].spines['right'].set_visible(False)\n",
    "ax[3].spines['top'].set_visible(False)\n",
    "ax[3].spines['bottom'].set_visible(False)\n",
    "ax[3].tick_params(axis='x', which='both', bottom=False, top=False, labelbottom=True)\n",
    "ax[3].xticklabels = []"
   ]
  },
  {
   "cell_type": "code",
   "execution_count": 43,
   "id": "412121d9-fba4-4625-b9df-5cddd226246b",
   "metadata": {
    "execution": {
     "iopub.execute_input": "2023-12-26T17:22:55.651109Z",
     "iopub.status.busy": "2023-12-26T17:22:55.650888Z",
     "iopub.status.idle": "2023-12-26T17:22:55.659553Z",
     "shell.execute_reply": "2023-12-26T17:22:55.659092Z",
     "shell.execute_reply.started": "2023-12-26T17:22:55.651095Z"
    },
    "tags": []
   },
   "outputs": [],
   "source": [
    "pp.train_test_chrom_split(sdata, test_chroms=[\"chr1\", \"chr8\", \"chr15\"], train_var=\"train_test\")\n",
    "pp.train_test_chrom_split(sdata, test_chroms=[\"chr2\", \"chr9\", \"chr16\"], train_var=\"train_val\")"
   ]
  },
  {
   "cell_type": "code",
   "execution_count": 44,
   "id": "879da825-ee82-4a96-95c4-0a4175ee07e5",
   "metadata": {
    "execution": {
     "iopub.execute_input": "2023-12-26T17:22:56.272986Z",
     "iopub.status.busy": "2023-12-26T17:22:56.272814Z",
     "iopub.status.idle": "2023-12-26T17:22:56.324640Z",
     "shell.execute_reply": "2023-12-26T17:22:56.324206Z",
     "shell.execute_reply.started": "2023-12-26T17:22:56.272971Z"
    },
    "tags": []
   },
   "outputs": [],
   "source": [
    "train_sdata = sdata.sel(_sequence=(sdata[\"train_val\"] & sdata[\"train_test\"]))\n",
    "valid_sdata = sdata.sel(_sequence=~sdata[\"train_val\"])\n",
    "test_sdata = sdata.sel(_sequence=~sdata[\"train_test\"])"
   ]
  },
  {
   "cell_type": "code",
   "execution_count": 45,
   "id": "3d35645d-316d-495b-9380-f54bb4f93ae5",
   "metadata": {
    "execution": {
     "iopub.execute_input": "2023-12-26T17:22:56.877947Z",
     "iopub.status.busy": "2023-12-26T17:22:56.877755Z",
     "iopub.status.idle": "2023-12-26T17:22:56.881134Z",
     "shell.execute_reply": "2023-12-26T17:22:56.880775Z",
     "shell.execute_reply.started": "2023-12-26T17:22:56.877931Z"
    },
    "tags": []
   },
   "outputs": [
    {
     "data": {
      "text/plain": [
       "(40890, 14178, 7976)"
      ]
     },
     "execution_count": 45,
     "metadata": {},
     "output_type": "execute_result"
    }
   ],
   "source": [
    "train_sdata.dims[\"_sequence\"], valid_sdata.dims[\"_sequence\"], test_sdata.dims[\"_sequence\"]"
   ]
  },
  {
   "cell_type": "markdown",
   "id": "a2c2cd44-037e-4b10-8847-9a9a87e0c2e7",
   "metadata": {},
   "source": [
    "# Instantiate model"
   ]
  },
  {
   "cell_type": "code",
   "execution_count": 46,
   "id": "163c1ae0-6920-437d-a108-5a1336002910",
   "metadata": {
    "execution": {
     "iopub.execute_input": "2023-12-26T17:22:58.611639Z",
     "iopub.status.busy": "2023-12-26T17:22:58.611420Z",
     "iopub.status.idle": "2023-12-26T17:22:58.838104Z",
     "shell.execute_reply": "2023-12-26T17:22:58.837689Z",
     "shell.execute_reply.started": "2023-12-26T17:22:58.611624Z"
    },
    "tags": []
   },
   "outputs": [],
   "source": [
    "import torch\n",
    "import numpy as np\n",
    "from bpnetlite import BPNet"
   ]
  },
  {
   "cell_type": "code",
   "execution_count": 47,
   "id": "9a90d723-c753-473b-96d8-2b37c3f84ae2",
   "metadata": {
    "execution": {
     "iopub.execute_input": "2023-12-26T17:22:58.839453Z",
     "iopub.status.busy": "2023-12-26T17:22:58.839119Z",
     "iopub.status.idle": "2023-12-26T17:22:58.863772Z",
     "shell.execute_reply": "2023-12-26T17:22:58.863472Z",
     "shell.execute_reply.started": "2023-12-26T17:22:58.839431Z"
    },
    "tags": []
   },
   "outputs": [],
   "source": [
    "# Create the model, we need 2 channels for the control tracks, 2 channels for the signal tracks, and to trim to 1000 bp of input\n",
    "model = BPNet(n_outputs=2, n_control_tracks=2, trimming=100)"
   ]
  },
  {
   "cell_type": "markdown",
   "id": "0dde578d-7d2d-40ed-a846-8626f8ec9530",
   "metadata": {},
   "source": [
    "# Training data"
   ]
  },
  {
   "cell_type": "code",
   "execution_count": 48,
   "id": "4d4a3c07-72e2-4bd8-996b-8f5a882ee5e6",
   "metadata": {
    "execution": {
     "iopub.execute_input": "2023-12-26T17:22:58.864535Z",
     "iopub.status.busy": "2023-12-26T17:22:58.864338Z",
     "iopub.status.idle": "2023-12-26T17:22:58.867032Z",
     "shell.execute_reply": "2023-12-26T17:22:58.866595Z",
     "shell.execute_reply.started": "2023-12-26T17:22:58.864515Z"
    },
    "tags": []
   },
   "outputs": [],
   "source": [
    "import seqpro as sp"
   ]
  },
  {
   "cell_type": "code",
   "execution_count": 49,
   "id": "b205c425-666f-4397-b697-a460a90ef982",
   "metadata": {
    "execution": {
     "iopub.execute_input": "2023-12-26T17:22:59.071520Z",
     "iopub.status.busy": "2023-12-26T17:22:59.071386Z",
     "iopub.status.idle": "2023-12-26T17:22:59.089673Z",
     "shell.execute_reply": "2023-12-26T17:22:59.089378Z",
     "shell.execute_reply.started": "2023-12-26T17:22:59.071508Z"
    },
    "tags": []
   },
   "outputs": [],
   "source": [
    "# Define training transformations\n",
    "from eugene.dataload._augment import RandomRC\n",
    "\n",
    "def seq_trans(x):\n",
    "    x = np.char.upper(x)\n",
    "    x = sp.ohe(x, sp.alphabets.DNA)\n",
    "    x = x.swapaxes(1, 2)\n",
    "    return x\n",
    "\n",
    "def cov_dtype(x):\n",
    "    return tuple(arr.astype('f4') for arr in x)\n",
    "\n",
    "def jitter(x):\n",
    "    return sp.jitter(*x, max_jitter=32, length_axis=-1, jitter_axes=0)\n",
    "\n",
    "def to_tensor(x):\n",
    "    return tuple(torch.tensor(arr, dtype=torch.float32) for arr in x)\n",
    "\n",
    "def random_rc(x):\n",
    "    return RandomRC(rc_prob=0.5)(*x)\n",
    "\n",
    "# Get the train dataloader\n",
    "train_dl = sd.get_torch_dataloader(\n",
    "    train_sdata,\n",
    "    sample_dims=['_sequence'],\n",
    "    variables=['seq', 'control', 'signal'],\n",
    "    prefetch_factor=None,\n",
    "    batch_size=32,\n",
    "    transforms={\n",
    "        ('seq', 'control', 'signal'): jitter,\n",
    "        'seq': seq_trans,\n",
    "        'signal': lambda x: x[..., 100:-100],\n",
    "        ('control', 'signal'): cov_dtype,\n",
    "        ('control', 'seq', 'signal'): to_tensor,\n",
    "        ('signal', 'control', 'seq'): random_rc\n",
    "    },\n",
    "    return_tuples=True,\n",
    "    shuffle=True,\n",
    ")"
   ]
  },
  {
   "cell_type": "code",
   "execution_count": 50,
   "id": "fbba9cc1-e46b-44fe-8fa0-de40bf574ac8",
   "metadata": {
    "execution": {
     "iopub.execute_input": "2023-12-26T17:22:59.611403Z",
     "iopub.status.busy": "2023-12-26T17:22:59.611240Z",
     "iopub.status.idle": "2023-12-26T17:22:59.791573Z",
     "shell.execute_reply": "2023-12-26T17:22:59.791153Z",
     "shell.execute_reply.started": "2023-12-26T17:22:59.611391Z"
    },
    "tags": []
   },
   "outputs": [
    {
     "data": {
      "text/plain": [
       "(torch.Size([32, 4, 500]),\n",
       " torch.Size([32, 2, 500]),\n",
       " torch.Size([32, 2, 300]),\n",
       " torch.Size([32, 2, 300]),\n",
       " torch.Size([32, 1]))"
      ]
     },
     "execution_count": 50,
     "metadata": {},
     "output_type": "execute_result"
    }
   ],
   "source": [
    "# Test out a prediction batch\n",
    "batch = next(iter(train_dl))\n",
    "pred_ctl = model.forward(*batch[:2])\n",
    "batch[0].shape, batch[1].shape, batch[2].shape, pred_ctl[0].shape, pred_ctl[1].shape"
   ]
  },
  {
   "cell_type": "markdown",
   "id": "ddf310e1-b3f5-4de5-834a-da99a239c07d",
   "metadata": {},
   "source": [
    "# Validation data"
   ]
  },
  {
   "cell_type": "code",
   "execution_count": 51,
   "id": "c3b39654-f026-4f81-933d-cb336112e254",
   "metadata": {
    "execution": {
     "iopub.execute_input": "2023-12-26T17:23:00.938845Z",
     "iopub.status.busy": "2023-12-26T17:23:00.938609Z",
     "iopub.status.idle": "2023-12-26T17:23:01.441610Z",
     "shell.execute_reply": "2023-12-26T17:23:01.441213Z",
     "shell.execute_reply.started": "2023-12-26T17:23:00.938789Z"
    },
    "tags": []
   },
   "outputs": [
    {
     "data": {
      "text/plain": [
       "(torch.Size([14178, 4, 500]),\n",
       " torch.Size([14178, 2, 500]),\n",
       " torch.Size([14178, 2, 300]))"
      ]
     },
     "execution_count": 51,
     "metadata": {},
     "output_type": "execute_result"
    }
   ],
   "source": [
    "# Get the validation data\n",
    "def seq_trans(x):\n",
    "    x = x[..., 32:-32]\n",
    "    np.char.upper(x)\n",
    "    x = sp.ohe(x, sp.alphabets.DNA)\n",
    "    x = x.swapaxes(1, 2)\n",
    "    return torch.as_tensor(x.astype('f4'))\n",
    "\n",
    "def ctl_trans(x):\n",
    "    x = x[..., 32:-32]\n",
    "    return torch.as_tensor(x.astype('f4'))\n",
    "\n",
    "def cov_trans(x):\n",
    "    x = x[..., 32+100:-32-100]\n",
    "    return torch.as_tensor(x.astype('f4'))\n",
    "\n",
    "X_valid = seq_trans(valid_sdata[\"seq\"].values)\n",
    "X_ctl_valid = ctl_trans(valid_sdata[\"control\"].values)\n",
    "y_valid = cov_trans(valid_sdata[\"signal\"].values)\n",
    "X_valid.shape, X_ctl_valid.shape, y_valid.shape"
   ]
  },
  {
   "cell_type": "code",
   "execution_count": 53,
   "id": "c7520b03-5d52-46e2-827f-fe3dfe20cc86",
   "metadata": {
    "execution": {
     "iopub.execute_input": "2023-12-26T17:26:42.196645Z",
     "iopub.status.busy": "2023-12-26T17:26:42.196431Z",
     "iopub.status.idle": "2023-12-26T17:26:42.395090Z",
     "shell.execute_reply": "2023-12-26T17:26:42.394675Z",
     "shell.execute_reply.started": "2023-12-26T17:26:42.196630Z"
    },
    "tags": []
   },
   "outputs": [
    {
     "data": {
      "text/plain": [
       "(torch.Size([128, 2, 300]), torch.Size([128, 1]))"
      ]
     },
     "execution_count": 53,
     "metadata": {},
     "output_type": "execute_result"
    }
   ],
   "source": [
    "# Test out a prediction batch\n",
    "pred_ctl = model.forward(X=X_valid[:128], X_ctl=X_ctl_valid[:128])\n",
    "pred_ctl[0].shape, pred_ctl[1].shape"
   ]
  },
  {
   "cell_type": "markdown",
   "id": "76c1dbf4-a0fc-49b8-82d1-b1890dfb4a11",
   "metadata": {},
   "source": [
    "# Training"
   ]
  },
  {
   "cell_type": "code",
   "execution_count": 54,
   "id": "dd539a48-fda0-44d9-8736-9a77683b8d51",
   "metadata": {
    "execution": {
     "iopub.execute_input": "2023-12-26T17:26:44.659216Z",
     "iopub.status.busy": "2023-12-26T17:26:44.658875Z",
     "iopub.status.idle": "2023-12-26T17:26:45.849004Z",
     "shell.execute_reply": "2023-12-26T17:26:45.848497Z",
     "shell.execute_reply.started": "2023-12-26T17:26:44.659201Z"
    }
   },
   "outputs": [
    {
     "data": {
      "text/plain": [
       "BPNet(\n",
       "  (iconv): Conv1d(4, 64, kernel_size=(21,), stride=(1,), padding=(10,))\n",
       "  (irelu): ReLU()\n",
       "  (rconvs): ModuleList(\n",
       "    (0): Conv1d(64, 64, kernel_size=(3,), stride=(1,), padding=(2,), dilation=(2,))\n",
       "    (1): Conv1d(64, 64, kernel_size=(3,), stride=(1,), padding=(4,), dilation=(4,))\n",
       "    (2): Conv1d(64, 64, kernel_size=(3,), stride=(1,), padding=(8,), dilation=(8,))\n",
       "    (3): Conv1d(64, 64, kernel_size=(3,), stride=(1,), padding=(16,), dilation=(16,))\n",
       "    (4): Conv1d(64, 64, kernel_size=(3,), stride=(1,), padding=(32,), dilation=(32,))\n",
       "    (5): Conv1d(64, 64, kernel_size=(3,), stride=(1,), padding=(64,), dilation=(64,))\n",
       "    (6): Conv1d(64, 64, kernel_size=(3,), stride=(1,), padding=(128,), dilation=(128,))\n",
       "    (7): Conv1d(64, 64, kernel_size=(3,), stride=(1,), padding=(256,), dilation=(256,))\n",
       "  )\n",
       "  (rrelus): ModuleList(\n",
       "    (0-7): 8 x ReLU()\n",
       "  )\n",
       "  (fconv): Conv1d(66, 2, kernel_size=(75,), stride=(1,), padding=(37,))\n",
       "  (linear): Linear(in_features=65, out_features=1, bias=True)\n",
       ")"
      ]
     },
     "execution_count": 54,
     "metadata": {},
     "output_type": "execute_result"
    }
   ],
   "source": [
    "# Send the model to the GPU\n",
    "model.cuda()"
   ]
  },
  {
   "cell_type": "code",
   "execution_count": 55,
   "id": "882f4ef4-88fa-48f8-b1a8-2f9e0ab4bf62",
   "metadata": {
    "execution": {
     "iopub.execute_input": "2023-12-26T17:26:45.849959Z",
     "iopub.status.busy": "2023-12-26T17:26:45.849781Z",
     "iopub.status.idle": "2023-12-26T17:26:45.852431Z",
     "shell.execute_reply": "2023-12-26T17:26:45.851982Z",
     "shell.execute_reply.started": "2023-12-26T17:26:45.849945Z"
    },
    "tags": []
   },
   "outputs": [],
   "source": [
    "# Quickly define your optimizer\n",
    "optimizer = torch.optim.Adam(model.parameters(), lr=0.001)"
   ]
  },
  {
   "cell_type": "code",
   "execution_count": null,
   "id": "e8bcc798-d9a9-4ce0-8ae0-25dc29fdb9be",
   "metadata": {
    "execution": {
     "iopub.execute_input": "2023-12-26T17:26:55.277749Z",
     "iopub.status.busy": "2023-12-26T17:26:55.277529Z"
    },
    "tags": []
   },
   "outputs": [
    {
     "name": "stdout",
     "output_type": "stream",
     "text": [
      "Epoch\tIteration\tTraining Time\tValidation Time\tTraining MNLL\tTraining Count MSE\tValidation MNLL\tValidation Profile Pearson\tValidation Count Pearson\tValidation Count MSE\tSaved?\n",
      "0\t0\t2.3746\t0.5532\t1160.7222\t27.8777\t229879.5156\t-0.012643219\t-0.18675092\t13.3944\tTrue\n",
      "0\t100\t3.4461\t0.431\t607.5889\t26.0638\t240012.7969\t0.124300875\t-0.1571075\t12.5791\tFalse\n",
      "0\t200\t3.2612\t0.4132\t493.2613\t20.8513\t234491.0\t0.27317148\t0.19048934\t10.5214\tFalse\n",
      "0\t300\t3.2849\t0.4533\t411.7409\t6.5613\t880112.875\t0.2765224\t0.16013545\t7.1906\tFalse\n",
      "0\t400\t3.335\t0.4351\t437.8343\t9.9305\t287232.3125\t0.24513292\t0.19129437\t7.3861\tFalse\n",
      "0\t500\t3.6872\t0.4397\t281.9176\t6.6247\t1679219.125\t0.28449664\t0.18660541\t7.2549\tFalse\n",
      "0\t600\t3.5012\t0.44\t574.0652\t3.0818\t449330.5\t0.2878562\t0.19039442\t8.5202\tFalse\n",
      "0\t700\t3.3901\t0.4436\t2367.7051\t1.5017\t283723.5938\t0.2970449\t0.1918029\t10.8368\tFalse\n",
      "0\t800\t4.6254\t0.4576\t270.8389\t1.2235\t682598.1875\t0.32785782\t0.18716763\t10.6724\tFalse\n",
      "0\t900\t3.6481\t0.4371\t5567.3218\t18.616\t318607.1562\t0.020352028\t0.056073993\t49.6185\tFalse\n",
      "0\t1000\t4.2613\t0.4267\t366.05\t0.9952\t156394.3906\t0.25211892\t0.16151819\t13.4198\tTrue\n",
      "0\t1100\t4.0432\t0.4224\t715.1477\t11.3804\t238659.3281\t0.088371895\t0.18595526\t8.084\tFalse\n",
      "0\t1200\t3.3362\t0.4464\t460.2601\t0.9463\t408764.6562\t0.30066955\t0.18131666\t11.6647\tFalse\n",
      "1\t1300\t1.0474\t0.4108\t458.6274\t1.085\t442342.2188\t0.31357315\t0.18476208\t11.3779\tFalse\n",
      "1\t1400\t3.5815\t0.4338\t969.6005\t1.0951\t782001.1875\t0.3202424\t0.18332063\t12.6322\tFalse\n",
      "1\t1500\t4.0136\t0.4378\t435.2351\t0.8011\t124033.6875\t0.32216024\t0.18172961\t11.9589\tTrue\n",
      "1\t1600\t4.1772\t0.4501\t258.052\t1.0986\t321832.8438\t0.31963107\t0.17614388\t12.5737\tFalse\n",
      "1\t1700\t3.4083\t0.4616\t829.0737\t8.6972\t389123.4375\t0.15313673\t0.1837706\t7.6039\tFalse\n",
      "1\t1800\t4.1401\t0.4341\t2549.0352\t2.2187\t273953.25\t0.2817444\t0.1805037\t9.2479\tFalse\n",
      "1\t1900\t3.7906\t0.4306\t39269.3711\t7.1054\t888316.25\t0.15083764\t0.18308797\t7.7185\tFalse\n",
      "1\t2000\t4.1703\t0.4592\t62030.5312\t4.0735\t411925.125\t0.2297645\t0.17513768\t11.0808\tFalse\n",
      "1\t2100\t5.0251\t0.4599\t396.351\t2.543\t523531.5938\t0.27566296\t0.18466553\t8.7285\tFalse\n",
      "1\t2200\t6.1642\t0.4171\t394.245\t0.9534\t411570.3125\t0.297932\t0.17560093\t13.2205\tFalse\n",
      "1\t2300\t6.4331\t0.4143\t414.479\t1.137\t263061.0\t0.2861393\t0.17809463\t11.2228\tFalse\n",
      "1\t2400\t6.7257\t0.4455\t718.6367\t1.3393\t1429383.5\t0.25930378\t0.17007995\t14.7367\tFalse\n",
      "1\t2500\t6.4677\t0.4369\t415.98\t0.5912\t1018875.0625\t0.20960431\t0.16437948\t15.3603\tFalse\n"
     ]
    }
   ],
   "source": [
    "# Use the models fit_generator method to train the model\n",
    "res = model.fit(\n",
    "    train_dl,\n",
    "    optimizer,\n",
    "    X_valid=X_valid,\n",
    "    X_ctl_valid=X_ctl_valid,\n",
    "    y_valid=y_valid,\n",
    "    max_epochs=50,\n",
    "    batch_size=128,\n",
    "    early_stopping=10\n",
    ")"
   ]
  },
  {
   "cell_type": "markdown",
   "id": "084a1422-2b38-4169-9bf6-ed31c35f9427",
   "metadata": {},
   "source": [
    "# DONE!"
   ]
  },
  {
   "cell_type": "markdown",
   "id": "9abe8b53-9586-49aa-8e48-8984a42c406b",
   "metadata": {},
   "source": [
    "----"
   ]
  }
 ],
 "metadata": {
  "kernelspec": {
   "display_name": "Python 3.9 ml4gland",
   "language": "python",
   "name": "ml4gland"
  },
  "language_info": {
   "codemirror_mode": {
    "name": "ipython",
    "version": 3
   },
   "file_extension": ".py",
   "mimetype": "text/x-python",
   "name": "python",
   "nbconvert_exporter": "python",
   "pygments_lexer": "ipython3",
   "version": "3.9.16"
  }
 },
 "nbformat": 4,
 "nbformat_minor": 5
}
