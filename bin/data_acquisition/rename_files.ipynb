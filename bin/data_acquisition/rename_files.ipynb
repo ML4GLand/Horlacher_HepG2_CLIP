{
 "cells": [
  {
   "cell_type": "code",
   "execution_count": 41,
   "id": "68e51551-b462-496f-bff3-3bb02fc4d9f2",
   "metadata": {
    "execution": {
     "iopub.execute_input": "2023-12-26T15:59:44.150520Z",
     "iopub.status.busy": "2023-12-26T15:59:44.150097Z",
     "iopub.status.idle": "2023-12-26T15:59:44.152656Z",
     "shell.execute_reply": "2023-12-26T15:59:44.152336Z",
     "shell.execute_reply.started": "2023-12-26T15:59:44.150503Z"
    },
    "tags": []
   },
   "outputs": [],
   "source": [
    "import os\n",
    "import glob\n",
    "import numpy as np\n",
    "import pandas as pd"
   ]
  },
  {
   "cell_type": "code",
   "execution_count": 3,
   "id": "4e5497c4-554c-4e9f-af15-de7bbcb00305",
   "metadata": {
    "execution": {
     "iopub.execute_input": "2023-12-26T15:49:03.678384Z",
     "iopub.status.busy": "2023-12-26T15:49:03.678138Z",
     "iopub.status.idle": "2023-12-26T15:49:03.687654Z",
     "shell.execute_reply": "2023-12-26T15:49:03.687327Z",
     "shell.execute_reply.started": "2023-12-26T15:49:03.678366Z"
    },
    "tags": []
   },
   "outputs": [],
   "source": [
    "df = pd.read_csv(\"/cellar/users/aklie/data/datasets/Horlacher_HepG2_CLIP/processed/2023_12_25/encode/U2AF2/metadata.tsv\", sep=\"\\t\")"
   ]
  },
  {
   "cell_type": "code",
   "execution_count": 24,
   "id": "86207ad3-5031-4551-84e7-c13907b17d02",
   "metadata": {
    "execution": {
     "iopub.execute_input": "2023-12-26T15:55:34.272780Z",
     "iopub.status.busy": "2023-12-26T15:55:34.272314Z",
     "iopub.status.idle": "2023-12-26T15:55:34.277064Z",
     "shell.execute_reply": "2023-12-26T15:55:34.276746Z",
     "shell.execute_reply.started": "2023-12-26T15:55:34.272763Z"
    },
    "tags": []
   },
   "outputs": [
    {
     "data": {
      "text/plain": [
       "File accession\n",
       "ENCFF368XEI      U2AF2\n",
       "ENCFF159SPZ      U2AF2\n",
       "ENCFF536AFD      U2AF2\n",
       "ENCFF913WRH      U2AF2\n",
       "ENCFF721PWF      U2AF2\n",
       "ENCFF067JAD      U2AF2\n",
       "ENCFF243RQR      U2AF2\n",
       "ENCFF566CFJ    control\n",
       "ENCFF989JBA    control\n",
       "Name: Experiment target, dtype: object"
      ]
     },
     "execution_count": 24,
     "metadata": {},
     "output_type": "execute_result"
    }
   ],
   "source": [
    "target_map = df.set_index(\"File accession\")[\"Experiment target\"]\n",
    "target_map = target_map.replace({\"U2AF2-human\": \"U2AF2\", np.nan: \"control\"})\n",
    "target_map"
   ]
  },
  {
   "cell_type": "code",
   "execution_count": 28,
   "id": "d87f6d8a-3fad-44d8-8c37-c1e374460ddb",
   "metadata": {
    "execution": {
     "iopub.execute_input": "2023-12-26T15:56:18.801481Z",
     "iopub.status.busy": "2023-12-26T15:56:18.801231Z",
     "iopub.status.idle": "2023-12-26T15:56:18.806206Z",
     "shell.execute_reply": "2023-12-26T15:56:18.805806Z",
     "shell.execute_reply.started": "2023-12-26T15:56:18.801465Z"
    },
    "tags": []
   },
   "outputs": [
    {
     "data": {
      "text/plain": [
       "File accession\n",
       "ENCFF368XEI    minus\n",
       "ENCFF159SPZ    minus\n",
       "ENCFF536AFD     plus\n",
       "ENCFF913WRH     plus\n",
       "ENCFF721PWF    peaks\n",
       "ENCFF067JAD    peaks\n",
       "ENCFF243RQR    peaks\n",
       "ENCFF566CFJ    minus\n",
       "ENCFF989JBA     plus\n",
       "Name: Output type, dtype: object"
      ]
     },
     "execution_count": 28,
     "metadata": {},
     "output_type": "execute_result"
    }
   ],
   "source": [
    "output_map = df.set_index(\"File accession\")[\"Output type\"]\n",
    "output_map = output_map.str.split(\" \").str[0]\n",
    "output_map"
   ]
  },
  {
   "cell_type": "code",
   "execution_count": 30,
   "id": "f4081eb1-509c-42c6-89ad-2926346ace75",
   "metadata": {
    "execution": {
     "iopub.execute_input": "2023-12-26T15:56:48.274760Z",
     "iopub.status.busy": "2023-12-26T15:56:48.274297Z",
     "iopub.status.idle": "2023-12-26T15:56:48.278953Z",
     "shell.execute_reply": "2023-12-26T15:56:48.278644Z",
     "shell.execute_reply.started": "2023-12-26T15:56:48.274744Z"
    },
    "tags": []
   },
   "outputs": [
    {
     "data": {
      "text/plain": [
       "File accession\n",
       "ENCFF368XEI         1\n",
       "ENCFF159SPZ         2\n",
       "ENCFF536AFD         2\n",
       "ENCFF913WRH         1\n",
       "ENCFF721PWF    merged\n",
       "ENCFF067JAD         1\n",
       "ENCFF243RQR         2\n",
       "ENCFF566CFJ         1\n",
       "ENCFF989JBA         1\n",
       "Name: Biological replicate(s), dtype: object"
      ]
     },
     "execution_count": 30,
     "metadata": {},
     "output_type": "execute_result"
    }
   ],
   "source": [
    "rep_map = df.set_index(\"File accession\")[\"Biological replicate(s)\"]\n",
    "rep_map = rep_map.replace({\"1, 2\": \"merged\"})\n",
    "rep_map"
   ]
  },
  {
   "cell_type": "code",
   "execution_count": 37,
   "id": "c4b0f2fa-480e-434a-b478-a0b16e59db54",
   "metadata": {
    "execution": {
     "iopub.execute_input": "2023-12-26T15:58:39.760187Z",
     "iopub.status.busy": "2023-12-26T15:58:39.759973Z",
     "iopub.status.idle": "2023-12-26T15:58:39.764596Z",
     "shell.execute_reply": "2023-12-26T15:58:39.764308Z",
     "shell.execute_reply.started": "2023-12-26T15:58:39.760172Z"
    },
    "tags": []
   },
   "outputs": [
    {
     "data": {
      "text/plain": [
       "File accession\n",
       "/cellar/users/aklie/data/datasets/Horlacher_HepG2_CLIP/processed/2023_12_25/encode/U2AF2/ENCFF368XEI    /cellar/users/aklie/data/datasets/Horlacher_He...\n",
       "/cellar/users/aklie/data/datasets/Horlacher_HepG2_CLIP/processed/2023_12_25/encode/U2AF2/ENCFF159SPZ    /cellar/users/aklie/data/datasets/Horlacher_He...\n",
       "/cellar/users/aklie/data/datasets/Horlacher_HepG2_CLIP/processed/2023_12_25/encode/U2AF2/ENCFF536AFD    /cellar/users/aklie/data/datasets/Horlacher_He...\n",
       "/cellar/users/aklie/data/datasets/Horlacher_HepG2_CLIP/processed/2023_12_25/encode/U2AF2/ENCFF913WRH    /cellar/users/aklie/data/datasets/Horlacher_He...\n",
       "/cellar/users/aklie/data/datasets/Horlacher_HepG2_CLIP/processed/2023_12_25/encode/U2AF2/ENCFF721PWF    /cellar/users/aklie/data/datasets/Horlacher_He...\n",
       "/cellar/users/aklie/data/datasets/Horlacher_HepG2_CLIP/processed/2023_12_25/encode/U2AF2/ENCFF067JAD    /cellar/users/aklie/data/datasets/Horlacher_He...\n",
       "/cellar/users/aklie/data/datasets/Horlacher_HepG2_CLIP/processed/2023_12_25/encode/U2AF2/ENCFF243RQR    /cellar/users/aklie/data/datasets/Horlacher_He...\n",
       "/cellar/users/aklie/data/datasets/Horlacher_HepG2_CLIP/processed/2023_12_25/encode/U2AF2/ENCFF566CFJ    /cellar/users/aklie/data/datasets/Horlacher_He...\n",
       "/cellar/users/aklie/data/datasets/Horlacher_HepG2_CLIP/processed/2023_12_25/encode/U2AF2/ENCFF989JBA    /cellar/users/aklie/data/datasets/Horlacher_He...\n",
       "dtype: object"
      ]
     },
     "execution_count": 37,
     "metadata": {},
     "output_type": "execute_result"
    }
   ],
   "source": [
    "full_map = target_map + \"_\" + output_map + \"_\" + rep_map\n",
    "full_map.index = \"/cellar/users/aklie/data/datasets/Horlacher_HepG2_CLIP/processed/2023_12_25/encode/U2AF2/\" + full_map.index\n",
    "full_map = \"/cellar/users/aklie/data/datasets/Horlacher_HepG2_CLIP/processed/2023_12_25/encode/U2AF2/\" + full_map \n",
    "full_map"
   ]
  },
  {
   "cell_type": "code",
   "execution_count": 47,
   "id": "e7fa82a9-add3-4c84-b426-4e11e96ed1ac",
   "metadata": {
    "execution": {
     "iopub.execute_input": "2023-12-26T16:00:57.675999Z",
     "iopub.status.busy": "2023-12-26T16:00:57.675645Z",
     "iopub.status.idle": "2023-12-26T16:00:57.678827Z",
     "shell.execute_reply": "2023-12-26T16:00:57.678534Z",
     "shell.execute_reply.started": "2023-12-26T16:00:57.675982Z"
    },
    "tags": []
   },
   "outputs": [
    {
     "data": {
      "text/plain": [
       "{'/cellar/users/aklie/data/datasets/Horlacher_HepG2_CLIP/processed/2023_12_25/encode/U2AF2/ENCFF368XEI': '/cellar/users/aklie/data/datasets/Horlacher_HepG2_CLIP/processed/2023_12_25/encode/U2AF2/U2AF2_minus_1',\n",
       " '/cellar/users/aklie/data/datasets/Horlacher_HepG2_CLIP/processed/2023_12_25/encode/U2AF2/ENCFF159SPZ': '/cellar/users/aklie/data/datasets/Horlacher_HepG2_CLIP/processed/2023_12_25/encode/U2AF2/U2AF2_minus_2',\n",
       " '/cellar/users/aklie/data/datasets/Horlacher_HepG2_CLIP/processed/2023_12_25/encode/U2AF2/ENCFF536AFD': '/cellar/users/aklie/data/datasets/Horlacher_HepG2_CLIP/processed/2023_12_25/encode/U2AF2/U2AF2_plus_2',\n",
       " '/cellar/users/aklie/data/datasets/Horlacher_HepG2_CLIP/processed/2023_12_25/encode/U2AF2/ENCFF913WRH': '/cellar/users/aklie/data/datasets/Horlacher_HepG2_CLIP/processed/2023_12_25/encode/U2AF2/U2AF2_plus_1',\n",
       " '/cellar/users/aklie/data/datasets/Horlacher_HepG2_CLIP/processed/2023_12_25/encode/U2AF2/ENCFF721PWF': '/cellar/users/aklie/data/datasets/Horlacher_HepG2_CLIP/processed/2023_12_25/encode/U2AF2/U2AF2_peaks_merged',\n",
       " '/cellar/users/aklie/data/datasets/Horlacher_HepG2_CLIP/processed/2023_12_25/encode/U2AF2/ENCFF067JAD': '/cellar/users/aklie/data/datasets/Horlacher_HepG2_CLIP/processed/2023_12_25/encode/U2AF2/U2AF2_peaks_1',\n",
       " '/cellar/users/aklie/data/datasets/Horlacher_HepG2_CLIP/processed/2023_12_25/encode/U2AF2/ENCFF243RQR': '/cellar/users/aklie/data/datasets/Horlacher_HepG2_CLIP/processed/2023_12_25/encode/U2AF2/U2AF2_peaks_2',\n",
       " '/cellar/users/aklie/data/datasets/Horlacher_HepG2_CLIP/processed/2023_12_25/encode/U2AF2/ENCFF566CFJ': '/cellar/users/aklie/data/datasets/Horlacher_HepG2_CLIP/processed/2023_12_25/encode/U2AF2/control_minus_1',\n",
       " '/cellar/users/aklie/data/datasets/Horlacher_HepG2_CLIP/processed/2023_12_25/encode/U2AF2/ENCFF989JBA': '/cellar/users/aklie/data/datasets/Horlacher_HepG2_CLIP/processed/2023_12_25/encode/U2AF2/control_plus_1'}"
      ]
     },
     "execution_count": 47,
     "metadata": {},
     "output_type": "execute_result"
    }
   ],
   "source": [
    "full_map.to_dict()"
   ]
  },
  {
   "cell_type": "code",
   "execution_count": 55,
   "id": "d1b99ac8-693e-4547-8d1f-0752aac31966",
   "metadata": {
    "execution": {
     "iopub.execute_input": "2023-12-26T16:03:31.147080Z",
     "iopub.status.busy": "2023-12-26T16:03:31.146636Z",
     "iopub.status.idle": "2023-12-26T16:03:33.010885Z",
     "shell.execute_reply": "2023-12-26T16:03:33.010488Z",
     "shell.execute_reply.started": "2023-12-26T16:03:31.147064Z"
    },
    "tags": []
   },
   "outputs": [
    {
     "name": "stdout",
     "output_type": "stream",
     "text": [
      "/cellar/users/aklie/data/datasets/Horlacher_HepG2_CLIP/processed/2023_12_25/encode/U2AF2/ENCFF368XEI.bigWig /cellar/users/aklie/data/datasets/Horlacher_HepG2_CLIP/processed/2023_12_25/encode/U2AF2/U2AF2_minus_1.bigWig\n",
      "/cellar/users/aklie/data/datasets/Horlacher_HepG2_CLIP/processed/2023_12_25/encode/U2AF2/ENCFF159SPZ.bigWig /cellar/users/aklie/data/datasets/Horlacher_HepG2_CLIP/processed/2023_12_25/encode/U2AF2/U2AF2_minus_2.bigWig\n",
      "/cellar/users/aklie/data/datasets/Horlacher_HepG2_CLIP/processed/2023_12_25/encode/U2AF2/ENCFF536AFD.bigWig /cellar/users/aklie/data/datasets/Horlacher_HepG2_CLIP/processed/2023_12_25/encode/U2AF2/U2AF2_plus_2.bigWig\n",
      "/cellar/users/aklie/data/datasets/Horlacher_HepG2_CLIP/processed/2023_12_25/encode/U2AF2/ENCFF913WRH.bigWig /cellar/users/aklie/data/datasets/Horlacher_HepG2_CLIP/processed/2023_12_25/encode/U2AF2/U2AF2_plus_1.bigWig\n",
      "/cellar/users/aklie/data/datasets/Horlacher_HepG2_CLIP/processed/2023_12_25/encode/U2AF2/ENCFF721PWF.bed.gz /cellar/users/aklie/data/datasets/Horlacher_HepG2_CLIP/processed/2023_12_25/encode/U2AF2/U2AF2_peaks_merged.gz\n",
      "/cellar/users/aklie/data/datasets/Horlacher_HepG2_CLIP/processed/2023_12_25/encode/U2AF2/ENCFF067JAD.bed.gz /cellar/users/aklie/data/datasets/Horlacher_HepG2_CLIP/processed/2023_12_25/encode/U2AF2/U2AF2_peaks_1.gz\n",
      "/cellar/users/aklie/data/datasets/Horlacher_HepG2_CLIP/processed/2023_12_25/encode/U2AF2/ENCFF243RQR.bed.gz /cellar/users/aklie/data/datasets/Horlacher_HepG2_CLIP/processed/2023_12_25/encode/U2AF2/U2AF2_peaks_2.gz\n",
      "/cellar/users/aklie/data/datasets/Horlacher_HepG2_CLIP/processed/2023_12_25/encode/U2AF2/ENCFF566CFJ.bigWig /cellar/users/aklie/data/datasets/Horlacher_HepG2_CLIP/processed/2023_12_25/encode/U2AF2/control_minus_1.bigWig\n",
      "/cellar/users/aklie/data/datasets/Horlacher_HepG2_CLIP/processed/2023_12_25/encode/U2AF2/ENCFF989JBA.bigWig /cellar/users/aklie/data/datasets/Horlacher_HepG2_CLIP/processed/2023_12_25/encode/U2AF2/control_plus_1.bigWig\n"
     ]
    }
   ],
   "source": [
    "for from_file, to_file in full_map.to_dict().items():\n",
    "    from_file = glob.glob(from_file + \"*\")[0]\n",
    "    to_file = to_file + \".\" + from_file.split(\".\")[-1]\n",
    "    print(from_file, to_file)\n",
    "    os.system(f\"mv {from_file} {to_file}\")"
   ]
  },
  {
   "cell_type": "code",
   "execution_count": 53,
   "id": "8e9b1414-dc43-43ad-adde-feb1c6273388",
   "metadata": {
    "execution": {
     "iopub.execute_input": "2023-12-26T16:02:18.081354Z",
     "iopub.status.busy": "2023-12-26T16:02:18.080960Z",
     "iopub.status.idle": "2023-12-26T16:02:18.553553Z",
     "shell.execute_reply": "2023-12-26T16:02:18.552929Z",
     "shell.execute_reply.started": "2023-12-26T16:02:18.081338Z"
    }
   },
   "outputs": [
    {
     "name": "stdout",
     "output_type": "stream",
     "text": [
      "/cellar/users/aklie/data/datasets/Horlacher_HepG2_CLIP/processed/2023_12_25/encode/U2AF2/ENCFF368XEI.bigWig\n"
     ]
    }
   ],
   "source": [
    "!ls /cellar/users/aklie/data/datasets/Horlacher_HepG2_CLIP/processed/2023_12_25/encode/U2AF2/ENCFF368XEI.bigWig"
   ]
  },
  {
   "cell_type": "markdown",
   "id": "79ac62fc-03d3-40e7-8b68-4026d5ae7768",
   "metadata": {},
   "source": [
    "# Check correlation"
   ]
  },
  {
   "cell_type": "markdown",
   "id": "c0d6d580-e6b0-48d1-8cbe-70e3bd5cbd96",
   "metadata": {},
   "source": [
    "```bash\n",
    "script_path=/cellar/users/aklie/opt/rbpnet/scripts/replicate-bw-correlation.py\n",
    "rep_1_bw_pos=/cellar/users/aklie/data/datasets/Horlacher_HepG2_CLIP/processed/2023_12_25/encode/U2AF2/U2AF2_plus_1.bigWig\n",
    "rep_2_bw_pos=/cellar/users/aklie/data/datasets/Horlacher_HepG2_CLIP/processed/2023_12_25/encode/U2AF2/U2AF2_plus_2.bigWig\n",
    "rep_1_bw_neg=/cellar/users/aklie/data/datasets/Horlacher_HepG2_CLIP/processed/2023_12_25/encode/U2AF2/U2AF2_minus_1.bigWig\n",
    "rep_2_bw_neg=/cellar/users/aklie/data/datasets/Horlacher_HepG2_CLIP/processed/2023_12_25/encode/U2AF2/U2AF2_minus_2.bigWig\n",
    "cmd=\"python $script_path \\\n",
    "/cellar/users/aklie/data/datasets/Horlacher_HepG2_CLIP/processed/2023_12_25/encode/U2AF2/U2AF2_peaks_merged \\\n",
    "--rep-1-bw-pos ${rep_1_bw_pos} \\\n",
    "--rep-2-bw-pos ${rep_2_bw_pos} \\\n",
    "--rep-1-bw-neg ${rep_1_bw_neg} \\\n",
    "--rep-2-bw-neg ${rep_2_bw_neg} \\\n",
    "--window-size 100\"\n",
    "echo $cmd\n",
    "```"
   ]
  },
  {
   "cell_type": "markdown",
   "id": "ca12bf6b-5cf1-4a24-b038-2d0f0da3e900",
   "metadata": {},
   "source": [
    "# Run enrichment"
   ]
  },
  {
   "cell_type": "code",
   "execution_count": null,
   "id": "dd94a877-b340-4293-88ba-c8e0ebbced59",
   "metadata": {},
   "outputs": [],
   "source": [
    "--bigWigPlus TEXT\n",
    "  --bigWigMinus TEXT\n",
    "  -o, --output TEXT"
   ]
  },
  {
   "cell_type": "code",
   "execution_count": 59,
   "id": "f003a07d-e8ed-43af-adf3-10ac714b65e6",
   "metadata": {
    "execution": {
     "iopub.execute_input": "2023-12-26T16:50:11.781385Z",
     "iopub.status.busy": "2023-12-26T16:50:11.781125Z",
     "iopub.status.idle": "2023-12-26T16:50:12.363556Z",
     "shell.execute_reply": "2023-12-26T16:50:12.363158Z",
     "shell.execute_reply.started": "2023-12-26T16:50:11.781367Z"
    },
    "tags": []
   },
   "outputs": [
    {
     "name": "stdout",
     "output_type": "stream",
     "text": [
      "python /cellar/users/aklie/opt/rbpnet/scripts/enriched-windows.py /cellar/users/aklie/data/datasets/Horlacher_HepG2_CLIP/processed/2023_12_25/encode/U2AF2/gencode.v40.basic.annotation.bed --bigWigPlus /cellar/users/aklie/data/datasets/Horlacher_HepG2_CLIP/processed/2023_12_25/encode/U2AF2/U2AF2_plus_1.bigWig --bigWigMinus /cellar/users/aklie/data/datasets/Horlacher_HepG2_CLIP/processed/2023_12_25/encode/U2AF2/U2AF2_minus_1.bigWig --output /cellar/users/aklie/data/datasets/Horlacher_HepG2_CLIP/processed/2023_12_25/encode/U2AF2/U2AF2_gene_peaks_1.bed --threads 4\n"
     ]
    }
   ],
   "source": [
    "%%bash\n",
    "script_path=/cellar/users/aklie/opt/rbpnet/scripts/enriched-windows.py\n",
    "genes_bed=/cellar/users/aklie/data/datasets/Horlacher_HepG2_CLIP/processed/2023_12_25/encode/U2AF2/gencode.v40.basic.annotation.bed\n",
    "bw_pos=/cellar/users/aklie/data/datasets/Horlacher_HepG2_CLIP/processed/2023_12_25/encode/U2AF2/U2AF2_plus_1.bigWig\n",
    "bw_neg=/cellar/users/aklie/data/datasets/Horlacher_HepG2_CLIP/processed/2023_12_25/encode/U2AF2/U2AF2_minus_1.bigWig\n",
    "output=/cellar/users/aklie/data/datasets/Horlacher_HepG2_CLIP/processed/2023_12_25/encode/U2AF2/U2AF2_gene_peaks_1.bed\n",
    "cmd=\"python $script_path \\\n",
    "$genes_bed \\\n",
    "--bigWigPlus ${bw_pos} \\\n",
    "--bigWigMinus ${bw_neg} \\\n",
    "--output $output \\\n",
    "--threads 4\"\n",
    "echo $cmd"
   ]
  },
  {
   "cell_type": "code",
   "execution_count": null,
   "id": "4dbf086d-f12e-4107-8c93-62770f5d8c1f",
   "metadata": {},
   "outputs": [],
   "source": []
  },
  {
   "cell_type": "code",
   "execution_count": null,
   "id": "8c662fe8-e1e6-494d-bdef-48fad467ab3b",
   "metadata": {},
   "outputs": [],
   "source": []
  }
 ],
 "metadata": {
  "kernelspec": {
   "display_name": "Python 3.9 ml4gland",
   "language": "python",
   "name": "ml4gland"
  },
  "language_info": {
   "codemirror_mode": {
    "name": "ipython",
    "version": 3
   },
   "file_extension": ".py",
   "mimetype": "text/x-python",
   "name": "python",
   "nbconvert_exporter": "python",
   "pygments_lexer": "ipython3",
   "version": "3.9.16"
  }
 },
 "nbformat": 4,
 "nbformat_minor": 5
}
