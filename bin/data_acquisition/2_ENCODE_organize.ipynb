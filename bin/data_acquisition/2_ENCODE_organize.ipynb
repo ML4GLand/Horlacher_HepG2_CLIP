{
 "cells": [
  {
   "cell_type": "markdown",
   "id": "83b6eb42-e9b2-4ee2-9318-e550a4d15b15",
   "metadata": {},
   "source": [
    "# Set-up"
   ]
  },
  {
   "cell_type": "code",
   "execution_count": 3,
   "id": "3c88ddc7-801a-4a96-bf80-0c7d4e9d3524",
   "metadata": {
    "execution": {
     "iopub.execute_input": "2023-12-29T14:48:23.991729Z",
     "iopub.status.busy": "2023-12-29T14:48:23.991409Z",
     "iopub.status.idle": "2023-12-29T14:48:23.993571Z",
     "shell.execute_reply": "2023-12-29T14:48:23.993264Z",
     "shell.execute_reply.started": "2023-12-29T14:48:23.991712Z"
    },
    "tags": []
   },
   "outputs": [],
   "source": [
    "import os\n",
    "import pandas as pd"
   ]
  },
  {
   "cell_type": "code",
   "execution_count": 81,
   "id": "242767c4-898e-4f7a-9ea3-c8e039ad5c3a",
   "metadata": {
    "execution": {
     "iopub.execute_input": "2023-12-29T15:13:46.542832Z",
     "iopub.status.busy": "2023-12-29T15:13:46.542400Z",
     "iopub.status.idle": "2023-12-29T15:13:46.544997Z",
     "shell.execute_reply": "2023-12-29T15:13:46.544699Z",
     "shell.execute_reply.started": "2023-12-29T15:13:46.542813Z"
    },
    "tags": []
   },
   "outputs": [],
   "source": [
    "# Data dir\n",
    "download_dir = \"/cellar/users/aklie/data/datasets/Horlacher_HepG2_CLIP/processed/2023_12_29/encode\""
   ]
  },
  {
   "cell_type": "markdown",
   "id": "6136903e-d0fd-430d-9898-865f0236fb0e",
   "metadata": {},
   "source": [
    "# Open file metadata"
   ]
  },
  {
   "cell_type": "code",
   "execution_count": 82,
   "id": "6cbb0035-8fe3-4afd-966b-c130f8bf0df0",
   "metadata": {
    "execution": {
     "iopub.execute_input": "2023-12-29T15:13:47.155556Z",
     "iopub.status.busy": "2023-12-29T15:13:47.155410Z",
     "iopub.status.idle": "2023-12-29T15:13:47.166511Z",
     "shell.execute_reply": "2023-12-29T15:13:47.166224Z",
     "shell.execute_reply.started": "2023-12-29T15:13:47.155540Z"
    },
    "tags": []
   },
   "outputs": [],
   "source": [
    "# File metadata, does not include matching control info\n",
    "file_df = pd.read_csv(os.path.join(download_dir, \"metadata.tsv\"), sep=\"\\t\")"
   ]
  },
  {
   "cell_type": "markdown",
   "id": "9d3adeb9-5d9e-4108-8900-f7c88423a49a",
   "metadata": {},
   "source": [
    "# Add columns (target from experiment metadata)"
   ]
  },
  {
   "cell_type": "code",
   "execution_count": 83,
   "id": "0ed0e006-a5f0-44b0-ab16-e71ad44274b2",
   "metadata": {
    "execution": {
     "iopub.execute_input": "2023-12-29T15:13:47.167234Z",
     "iopub.status.busy": "2023-12-29T15:13:47.167110Z",
     "iopub.status.idle": "2023-12-29T15:13:47.174886Z",
     "shell.execute_reply": "2023-12-29T15:13:47.174576Z",
     "shell.execute_reply.started": "2023-12-29T15:13:47.167219Z"
    },
    "tags": []
   },
   "outputs": [],
   "source": [
    "# Does include matching control info\n",
    "experiment_df = pd.read_csv(os.path.join(download_dir, \"experiment_report_2023_12_29_14h_56m.tsv\"), sep=\"\\t\", skiprows=1)"
   ]
  },
  {
   "cell_type": "code",
   "execution_count": 84,
   "id": "fbbea3e4-aa26-4b39-b7d7-352d14533d55",
   "metadata": {
    "execution": {
     "iopub.execute_input": "2023-12-29T15:13:47.498880Z",
     "iopub.status.busy": "2023-12-29T15:13:47.498613Z",
     "iopub.status.idle": "2023-12-29T15:13:47.501663Z",
     "shell.execute_reply": "2023-12-29T15:13:47.501332Z",
     "shell.execute_reply.started": "2023-12-29T15:13:47.498864Z"
    },
    "tags": []
   },
   "outputs": [],
   "source": [
    "# Get experiment\n",
    "experiment_df[\"target\"] = experiment_df[\"Description\"].str.split(\" \").str[-1]"
   ]
  },
  {
   "cell_type": "code",
   "execution_count": 85,
   "id": "67532fc8-399e-4b07-b042-05a30b9ee8e5",
   "metadata": {
    "execution": {
     "iopub.execute_input": "2023-12-29T15:13:48.095559Z",
     "iopub.status.busy": "2023-12-29T15:13:48.095439Z",
     "iopub.status.idle": "2023-12-29T15:13:48.101578Z",
     "shell.execute_reply": "2023-12-29T15:13:48.101324Z",
     "shell.execute_reply.started": "2023-12-29T15:13:48.095545Z"
    },
    "tags": []
   },
   "outputs": [],
   "source": [
    "# Add target column\n",
    "file_df = file_df.merge(experiment_df[[\"Accession\", \"target\"]], left_on=\"Experiment accession\", right_on=\"Accession\")"
   ]
  },
  {
   "cell_type": "code",
   "execution_count": 86,
   "id": "0d658fac-eec9-438d-b936-cad687f4368f",
   "metadata": {
    "execution": {
     "iopub.execute_input": "2023-12-29T15:13:55.092874Z",
     "iopub.status.busy": "2023-12-29T15:13:55.092666Z",
     "iopub.status.idle": "2023-12-29T15:13:55.098037Z",
     "shell.execute_reply": "2023-12-29T15:13:55.097672Z",
     "shell.execute_reply.started": "2023-12-29T15:13:55.092858Z"
    },
    "tags": []
   },
   "outputs": [
    {
     "data": {
      "text/plain": [
       "0      /cellar/users/aklie/data/datasets/Horlacher_He...\n",
       "1      /cellar/users/aklie/data/datasets/Horlacher_He...\n",
       "2      /cellar/users/aklie/data/datasets/Horlacher_He...\n",
       "3      /cellar/users/aklie/data/datasets/Horlacher_He...\n",
       "4      /cellar/users/aklie/data/datasets/Horlacher_He...\n",
       "                             ...                        \n",
       "324    /cellar/users/aklie/data/datasets/Horlacher_He...\n",
       "325    /cellar/users/aklie/data/datasets/Horlacher_He...\n",
       "326    /cellar/users/aklie/data/datasets/Horlacher_He...\n",
       "327    /cellar/users/aklie/data/datasets/Horlacher_He...\n",
       "328    /cellar/users/aklie/data/datasets/Horlacher_He...\n",
       "Name: file_path, Length: 329, dtype: object"
      ]
     },
     "execution_count": 86,
     "metadata": {},
     "output_type": "execute_result"
    }
   ],
   "source": [
    "# Add file path\n",
    "file_df[\"file_path\"] = [os.path.join(download_dir, f\"{acc}.bam\") for acc in file_df[\"File accession\"]]"
   ]
  },
  {
   "cell_type": "markdown",
   "id": "d8186155-cffb-415f-a796-6d657ae3d6cf",
   "metadata": {},
   "source": [
    "# Create mappings"
   ]
  },
  {
   "cell_type": "code",
   "execution_count": 87,
   "id": "54784dcd-7a63-4174-a9e1-2e4e40fec883",
   "metadata": {
    "execution": {
     "iopub.execute_input": "2023-12-29T15:13:57.092701Z",
     "iopub.status.busy": "2023-12-29T15:13:57.092509Z",
     "iopub.status.idle": "2023-12-29T15:13:57.098216Z",
     "shell.execute_reply": "2023-12-29T15:13:57.097927Z",
     "shell.execute_reply.started": "2023-12-29T15:13:57.092677Z"
    },
    "tags": []
   },
   "outputs": [
    {
     "data": {
      "text/plain": [
       "file_path\n",
       "/cellar/users/aklie/data/datasets/Horlacher_HepG2_CLIP/processed/2023_12_29/encode/ENCFF700YZD.bam      G3BP1\n",
       "/cellar/users/aklie/data/datasets/Horlacher_HepG2_CLIP/processed/2023_12_29/encode/ENCFF637GMD.bam       NIP7\n",
       "/cellar/users/aklie/data/datasets/Horlacher_HepG2_CLIP/processed/2023_12_29/encode/ENCFF894HGK.bam     BCLAF1\n",
       "/cellar/users/aklie/data/datasets/Horlacher_HepG2_CLIP/processed/2023_12_29/encode/ENCFF162VKU.bam      AKAP1\n",
       "/cellar/users/aklie/data/datasets/Horlacher_HepG2_CLIP/processed/2023_12_29/encode/ENCFF127MXD.bam      AKAP1\n",
       "                                                                                                       ...   \n",
       "/cellar/users/aklie/data/datasets/Horlacher_HepG2_CLIP/processed/2023_12_29/encode/ENCFF099AXK.bam     RPL23A\n",
       "/cellar/users/aklie/data/datasets/Horlacher_HepG2_CLIP/processed/2023_12_29/encode/ENCFF369GNR.bam    SUPV3L1\n",
       "/cellar/users/aklie/data/datasets/Horlacher_HepG2_CLIP/processed/2023_12_29/encode/ENCFF895BNM.bam      PTBP1\n",
       "/cellar/users/aklie/data/datasets/Horlacher_HepG2_CLIP/processed/2023_12_29/encode/ENCFF794ILP.bam      MATR3\n",
       "/cellar/users/aklie/data/datasets/Horlacher_HepG2_CLIP/processed/2023_12_29/encode/ENCFF685EEV.bam       RPS5\n",
       "Name: target, Length: 329, dtype: object"
      ]
     },
     "execution_count": 87,
     "metadata": {},
     "output_type": "execute_result"
    }
   ],
   "source": [
    "# Create a map from file name to target\n",
    "target_map = file_df.set_index(\"file_path\")[\"target\"]\n",
    "target_map"
   ]
  },
  {
   "cell_type": "code",
   "execution_count": 88,
   "id": "b8bdc275-9b51-4e88-ac66-62a41da93e77",
   "metadata": {
    "execution": {
     "iopub.execute_input": "2023-12-29T15:13:57.105770Z",
     "iopub.status.busy": "2023-12-29T15:13:57.105529Z",
     "iopub.status.idle": "2023-12-29T15:13:57.110985Z",
     "shell.execute_reply": "2023-12-29T15:13:57.110686Z",
     "shell.execute_reply.started": "2023-12-29T15:13:57.105755Z"
    },
    "tags": []
   },
   "outputs": [
    {
     "data": {
      "text/plain": [
       "file_path\n",
       "/cellar/users/aklie/data/datasets/Horlacher_HepG2_CLIP/processed/2023_12_29/encode/ENCFF700YZD.bam    conrol\n",
       "/cellar/users/aklie/data/datasets/Horlacher_HepG2_CLIP/processed/2023_12_29/encode/ENCFF637GMD.bam    conrol\n",
       "/cellar/users/aklie/data/datasets/Horlacher_HepG2_CLIP/processed/2023_12_29/encode/ENCFF894HGK.bam    conrol\n",
       "/cellar/users/aklie/data/datasets/Horlacher_HepG2_CLIP/processed/2023_12_29/encode/ENCFF162VKU.bam    conrol\n",
       "/cellar/users/aklie/data/datasets/Horlacher_HepG2_CLIP/processed/2023_12_29/encode/ENCFF127MXD.bam     eCLIP\n",
       "                                                                                                       ...  \n",
       "/cellar/users/aklie/data/datasets/Horlacher_HepG2_CLIP/processed/2023_12_29/encode/ENCFF099AXK.bam    conrol\n",
       "/cellar/users/aklie/data/datasets/Horlacher_HepG2_CLIP/processed/2023_12_29/encode/ENCFF369GNR.bam    conrol\n",
       "/cellar/users/aklie/data/datasets/Horlacher_HepG2_CLIP/processed/2023_12_29/encode/ENCFF895BNM.bam    conrol\n",
       "/cellar/users/aklie/data/datasets/Horlacher_HepG2_CLIP/processed/2023_12_29/encode/ENCFF794ILP.bam    conrol\n",
       "/cellar/users/aklie/data/datasets/Horlacher_HepG2_CLIP/processed/2023_12_29/encode/ENCFF685EEV.bam    conrol\n",
       "Name: Assay, Length: 329, dtype: object"
      ]
     },
     "execution_count": 88,
     "metadata": {},
     "output_type": "execute_result"
    }
   ],
   "source": [
    "# Create a map from file name to type\n",
    "assay_map = file_df.set_index(\"file_path\")[\"Assay\"]\n",
    "assay_map = assay_map.replace({\"Control eCLIP\": \"control\"}).str.strip()\n",
    "assay_map"
   ]
  },
  {
   "cell_type": "code",
   "execution_count": 89,
   "id": "d0e66eb4-4a87-4d08-9eb5-0ce155fdf44c",
   "metadata": {
    "execution": {
     "iopub.execute_input": "2023-12-29T15:13:58.093664Z",
     "iopub.status.busy": "2023-12-29T15:13:58.093374Z",
     "iopub.status.idle": "2023-12-29T15:13:58.098448Z",
     "shell.execute_reply": "2023-12-29T15:13:58.098153Z",
     "shell.execute_reply.started": "2023-12-29T15:13:58.093647Z"
    },
    "tags": []
   },
   "outputs": [
    {
     "data": {
      "text/plain": [
       "file_path\n",
       "/cellar/users/aklie/data/datasets/Horlacher_HepG2_CLIP/processed/2023_12_29/encode/ENCFF700YZD.bam    1\n",
       "/cellar/users/aklie/data/datasets/Horlacher_HepG2_CLIP/processed/2023_12_29/encode/ENCFF637GMD.bam    1\n",
       "/cellar/users/aklie/data/datasets/Horlacher_HepG2_CLIP/processed/2023_12_29/encode/ENCFF894HGK.bam    1\n",
       "/cellar/users/aklie/data/datasets/Horlacher_HepG2_CLIP/processed/2023_12_29/encode/ENCFF162VKU.bam    1\n",
       "/cellar/users/aklie/data/datasets/Horlacher_HepG2_CLIP/processed/2023_12_29/encode/ENCFF127MXD.bam    2\n",
       "                                                                                                     ..\n",
       "/cellar/users/aklie/data/datasets/Horlacher_HepG2_CLIP/processed/2023_12_29/encode/ENCFF099AXK.bam    1\n",
       "/cellar/users/aklie/data/datasets/Horlacher_HepG2_CLIP/processed/2023_12_29/encode/ENCFF369GNR.bam    1\n",
       "/cellar/users/aklie/data/datasets/Horlacher_HepG2_CLIP/processed/2023_12_29/encode/ENCFF895BNM.bam    1\n",
       "/cellar/users/aklie/data/datasets/Horlacher_HepG2_CLIP/processed/2023_12_29/encode/ENCFF794ILP.bam    1\n",
       "/cellar/users/aklie/data/datasets/Horlacher_HepG2_CLIP/processed/2023_12_29/encode/ENCFF685EEV.bam    1\n",
       "Name: Biological replicate(s), Length: 329, dtype: object"
      ]
     },
     "execution_count": 93,
     "metadata": {},
     "output_type": "execute_result"
    }
   ],
   "source": [
    "# Create a map from file name to replicate\n",
    "rep_map = file_df.set_index(\"file_path\")[\"Biological replicate(s)\"].astype(str)\n",
    "rep_map = rep_map.replace({\"1, 2\": \"merged\"})\n",
    "rep_map"
   ]
  },
  {
   "cell_type": "code",
   "execution_count": 100,
   "id": "1d46b5c8-45c2-4642-aff4-9e555c4a0f88",
   "metadata": {
    "execution": {
     "iopub.execute_input": "2023-12-29T15:23:25.092266Z",
     "iopub.status.busy": "2023-12-29T15:23:25.092077Z",
     "iopub.status.idle": "2023-12-29T15:23:25.096173Z",
     "shell.execute_reply": "2023-12-29T15:23:25.095819Z",
     "shell.execute_reply.started": "2023-12-29T15:23:25.092250Z"
    },
    "tags": []
   },
   "outputs": [
    {
     "data": {
      "text/plain": [
       "'G3BP1_conrol_1.bam'"
      ]
     },
     "execution_count": 100,
     "metadata": {},
     "output_type": "execute_result"
    }
   ],
   "source": [
    "# Add them all together\n",
    "full_map = target_map + \"_\" + assay_map + \"_\" + rep_map\n",
    "full_map = full_map  + \".bam\"\n",
    "full_map.iloc[0]"
   ]
  },
  {
   "cell_type": "markdown",
   "id": "1a8cf176-1ce5-4014-a274-c6544c6ce037",
   "metadata": {},
   "source": [
    "# Move files"
   ]
  },
  {
   "cell_type": "code",
   "execution_count": 107,
   "id": "17b6f807-2037-4b55-8712-2b5fd4a37703",
   "metadata": {
    "collapsed": true,
    "execution": {
     "iopub.execute_input": "2023-12-29T15:39:49.063713Z",
     "iopub.status.busy": "2023-12-29T15:39:49.063361Z",
     "iopub.status.idle": "2023-12-29T15:40:48.123329Z",
     "shell.execute_reply": "2023-12-29T15:40:48.122836Z",
     "shell.execute_reply.started": "2023-12-29T15:39:49.063692Z"
    },
    "jupyter": {
     "outputs_hidden": true
    },
    "tags": []
   },
   "outputs": [
    {
     "name": "stdout",
     "output_type": "stream",
     "text": [
      "/cellar/users/aklie/data/datasets/Horlacher_HepG2_CLIP/processed/2023_12_29/encode/ENCFF700YZD.bam /cellar/users/aklie/data/datasets/Horlacher_HepG2_CLIP/processed/2023_12_29/encode/G3BP1/G3BP1_conrol_1.bam\n",
      "/cellar/users/aklie/data/datasets/Horlacher_HepG2_CLIP/processed/2023_12_29/encode/ENCFF637GMD.bam /cellar/users/aklie/data/datasets/Horlacher_HepG2_CLIP/processed/2023_12_29/encode/NIP7/NIP7_conrol_1.bam\n",
      "/cellar/users/aklie/data/datasets/Horlacher_HepG2_CLIP/processed/2023_12_29/encode/ENCFF894HGK.bam /cellar/users/aklie/data/datasets/Horlacher_HepG2_CLIP/processed/2023_12_29/encode/BCLAF1/BCLAF1_conrol_1.bam\n",
      "/cellar/users/aklie/data/datasets/Horlacher_HepG2_CLIP/processed/2023_12_29/encode/ENCFF162VKU.bam /cellar/users/aklie/data/datasets/Horlacher_HepG2_CLIP/processed/2023_12_29/encode/AKAP1/AKAP1_conrol_1.bam\n",
      "/cellar/users/aklie/data/datasets/Horlacher_HepG2_CLIP/processed/2023_12_29/encode/ENCFF127MXD.bam /cellar/users/aklie/data/datasets/Horlacher_HepG2_CLIP/processed/2023_12_29/encode/AKAP1/AKAP1_eCLIP_2.bam\n",
      "/cellar/users/aklie/data/datasets/Horlacher_HepG2_CLIP/processed/2023_12_29/encode/ENCFF780HTF.bam /cellar/users/aklie/data/datasets/Horlacher_HepG2_CLIP/processed/2023_12_29/encode/AKAP1/AKAP1_eCLIP_1.bam\n",
      "/cellar/users/aklie/data/datasets/Horlacher_HepG2_CLIP/processed/2023_12_29/encode/ENCFF811KHK.bam /cellar/users/aklie/data/datasets/Horlacher_HepG2_CLIP/processed/2023_12_29/encode/UPF1/UPF1_eCLIP_1.bam\n",
      "/cellar/users/aklie/data/datasets/Horlacher_HepG2_CLIP/processed/2023_12_29/encode/ENCFF699EEF.bam /cellar/users/aklie/data/datasets/Horlacher_HepG2_CLIP/processed/2023_12_29/encode/UPF1/UPF1_eCLIP_2.bam\n",
      "/cellar/users/aklie/data/datasets/Horlacher_HepG2_CLIP/processed/2023_12_29/encode/ENCFF112CRX.bam /cellar/users/aklie/data/datasets/Horlacher_HepG2_CLIP/processed/2023_12_29/encode/SAFB/SAFB_eCLIP_2.bam\n",
      "/cellar/users/aklie/data/datasets/Horlacher_HepG2_CLIP/processed/2023_12_29/encode/ENCFF535RVD.bam /cellar/users/aklie/data/datasets/Horlacher_HepG2_CLIP/processed/2023_12_29/encode/SAFB/SAFB_eCLIP_1.bam\n",
      "/cellar/users/aklie/data/datasets/Horlacher_HepG2_CLIP/processed/2023_12_29/encode/ENCFF413UKK.bam /cellar/users/aklie/data/datasets/Horlacher_HepG2_CLIP/processed/2023_12_29/encode/TIAL1/TIAL1_eCLIP_2.bam\n",
      "/cellar/users/aklie/data/datasets/Horlacher_HepG2_CLIP/processed/2023_12_29/encode/ENCFF902OZA.bam /cellar/users/aklie/data/datasets/Horlacher_HepG2_CLIP/processed/2023_12_29/encode/TIAL1/TIAL1_eCLIP_1.bam\n",
      "/cellar/users/aklie/data/datasets/Horlacher_HepG2_CLIP/processed/2023_12_29/encode/ENCFF117HXE.bam /cellar/users/aklie/data/datasets/Horlacher_HepG2_CLIP/processed/2023_12_29/encode/FUS/FUS_conrol_1.bam\n",
      "/cellar/users/aklie/data/datasets/Horlacher_HepG2_CLIP/processed/2023_12_29/encode/ENCFF882PEQ.bam /cellar/users/aklie/data/datasets/Horlacher_HepG2_CLIP/processed/2023_12_29/encode/AQR/AQR_eCLIP_1.bam\n",
      "/cellar/users/aklie/data/datasets/Horlacher_HepG2_CLIP/processed/2023_12_29/encode/ENCFF947JHV.bam /cellar/users/aklie/data/datasets/Horlacher_HepG2_CLIP/processed/2023_12_29/encode/AQR/AQR_eCLIP_2.bam\n",
      "/cellar/users/aklie/data/datasets/Horlacher_HepG2_CLIP/processed/2023_12_29/encode/ENCFF960IGR.bam /cellar/users/aklie/data/datasets/Horlacher_HepG2_CLIP/processed/2023_12_29/encode/NSUN2/NSUN2_eCLIP_2.bam\n",
      "/cellar/users/aklie/data/datasets/Horlacher_HepG2_CLIP/processed/2023_12_29/encode/ENCFF553TKS.bam /cellar/users/aklie/data/datasets/Horlacher_HepG2_CLIP/processed/2023_12_29/encode/NSUN2/NSUN2_eCLIP_1.bam\n",
      "/cellar/users/aklie/data/datasets/Horlacher_HepG2_CLIP/processed/2023_12_29/encode/ENCFF261FNR.bam /cellar/users/aklie/data/datasets/Horlacher_HepG2_CLIP/processed/2023_12_29/encode/NSUN2/NSUN2_eCLIP_2.bam\n",
      "/cellar/users/aklie/data/datasets/Horlacher_HepG2_CLIP/processed/2023_12_29/encode/ENCFF141HNK.bam /cellar/users/aklie/data/datasets/Horlacher_HepG2_CLIP/processed/2023_12_29/encode/NSUN2/NSUN2_eCLIP_1.bam\n",
      "/cellar/users/aklie/data/datasets/Horlacher_HepG2_CLIP/processed/2023_12_29/encode/ENCFF958TEE.bam /cellar/users/aklie/data/datasets/Horlacher_HepG2_CLIP/processed/2023_12_29/encode/TARDBP/TARDBP_eCLIP_2.bam\n",
      "/cellar/users/aklie/data/datasets/Horlacher_HepG2_CLIP/processed/2023_12_29/encode/ENCFF174CYH.bam /cellar/users/aklie/data/datasets/Horlacher_HepG2_CLIP/processed/2023_12_29/encode/TARDBP/TARDBP_eCLIP_1.bam\n",
      "/cellar/users/aklie/data/datasets/Horlacher_HepG2_CLIP/processed/2023_12_29/encode/ENCFF792QOH.bam /cellar/users/aklie/data/datasets/Horlacher_HepG2_CLIP/processed/2023_12_29/encode/TARDBP/TARDBP_eCLIP_2.bam\n",
      "/cellar/users/aklie/data/datasets/Horlacher_HepG2_CLIP/processed/2023_12_29/encode/ENCFF918MZV.bam /cellar/users/aklie/data/datasets/Horlacher_HepG2_CLIP/processed/2023_12_29/encode/TARDBP/TARDBP_eCLIP_1.bam\n",
      "/cellar/users/aklie/data/datasets/Horlacher_HepG2_CLIP/processed/2023_12_29/encode/ENCFF395MJO.bam /cellar/users/aklie/data/datasets/Horlacher_HepG2_CLIP/processed/2023_12_29/encode/G3BP1/G3BP1_eCLIP_1.bam\n",
      "/cellar/users/aklie/data/datasets/Horlacher_HepG2_CLIP/processed/2023_12_29/encode/ENCFF288LEG.bam /cellar/users/aklie/data/datasets/Horlacher_HepG2_CLIP/processed/2023_12_29/encode/G3BP1/G3BP1_eCLIP_2.bam\n",
      "/cellar/users/aklie/data/datasets/Horlacher_HepG2_CLIP/processed/2023_12_29/encode/ENCFF346NQQ.bam /cellar/users/aklie/data/datasets/Horlacher_HepG2_CLIP/processed/2023_12_29/encode/SDAD1/SDAD1_eCLIP_1.bam\n",
      "/cellar/users/aklie/data/datasets/Horlacher_HepG2_CLIP/processed/2023_12_29/encode/ENCFF079MBG.bam /cellar/users/aklie/data/datasets/Horlacher_HepG2_CLIP/processed/2023_12_29/encode/SDAD1/SDAD1_eCLIP_2.bam\n",
      "/cellar/users/aklie/data/datasets/Horlacher_HepG2_CLIP/processed/2023_12_29/encode/ENCFF474PGR.bam /cellar/users/aklie/data/datasets/Horlacher_HepG2_CLIP/processed/2023_12_29/encode/ZNF800/ZNF800_eCLIP_2.bam\n",
      "/cellar/users/aklie/data/datasets/Horlacher_HepG2_CLIP/processed/2023_12_29/encode/ENCFF265GVT.bam /cellar/users/aklie/data/datasets/Horlacher_HepG2_CLIP/processed/2023_12_29/encode/ZNF800/ZNF800_eCLIP_1.bam\n",
      "/cellar/users/aklie/data/datasets/Horlacher_HepG2_CLIP/processed/2023_12_29/encode/ENCFF181DXK.bam /cellar/users/aklie/data/datasets/Horlacher_HepG2_CLIP/processed/2023_12_29/encode/FUS/FUS_eCLIP_2.bam\n",
      "/cellar/users/aklie/data/datasets/Horlacher_HepG2_CLIP/processed/2023_12_29/encode/ENCFF177YJA.bam /cellar/users/aklie/data/datasets/Horlacher_HepG2_CLIP/processed/2023_12_29/encode/FUS/FUS_eCLIP_1.bam\n",
      "/cellar/users/aklie/data/datasets/Horlacher_HepG2_CLIP/processed/2023_12_29/encode/ENCFF559ATC.bam /cellar/users/aklie/data/datasets/Horlacher_HepG2_CLIP/processed/2023_12_29/encode/STAU2/STAU2_eCLIP_1.bam\n",
      "/cellar/users/aklie/data/datasets/Horlacher_HepG2_CLIP/processed/2023_12_29/encode/ENCFF202ITE.bam /cellar/users/aklie/data/datasets/Horlacher_HepG2_CLIP/processed/2023_12_29/encode/STAU2/STAU2_eCLIP_2.bam\n",
      "/cellar/users/aklie/data/datasets/Horlacher_HepG2_CLIP/processed/2023_12_29/encode/ENCFF444SAJ.bam /cellar/users/aklie/data/datasets/Horlacher_HepG2_CLIP/processed/2023_12_29/encode/UTP18/UTP18_conrol_1.bam\n",
      "/cellar/users/aklie/data/datasets/Horlacher_HepG2_CLIP/processed/2023_12_29/encode/ENCFF829ROW.bam /cellar/users/aklie/data/datasets/Horlacher_HepG2_CLIP/processed/2023_12_29/encode/SAFB/SAFB_conrol_1.bam\n",
      "/cellar/users/aklie/data/datasets/Horlacher_HepG2_CLIP/processed/2023_12_29/encode/ENCFF343FAD.bam /cellar/users/aklie/data/datasets/Horlacher_HepG2_CLIP/processed/2023_12_29/encode/SSB/SSB_eCLIP_2.bam\n",
      "/cellar/users/aklie/data/datasets/Horlacher_HepG2_CLIP/processed/2023_12_29/encode/ENCFF264DBW.bam /cellar/users/aklie/data/datasets/Horlacher_HepG2_CLIP/processed/2023_12_29/encode/SSB/SSB_eCLIP_1.bam\n",
      "/cellar/users/aklie/data/datasets/Horlacher_HepG2_CLIP/processed/2023_12_29/encode/ENCFF214XZG.bam /cellar/users/aklie/data/datasets/Horlacher_HepG2_CLIP/processed/2023_12_29/encode/FTO/FTO_conrol_1.bam\n",
      "/cellar/users/aklie/data/datasets/Horlacher_HepG2_CLIP/processed/2023_12_29/encode/ENCFF340WIB.bam /cellar/users/aklie/data/datasets/Horlacher_HepG2_CLIP/processed/2023_12_29/encode/DDX52/DDX52_eCLIP_1.bam\n",
      "/cellar/users/aklie/data/datasets/Horlacher_HepG2_CLIP/processed/2023_12_29/encode/ENCFF618EON.bam /cellar/users/aklie/data/datasets/Horlacher_HepG2_CLIP/processed/2023_12_29/encode/DDX52/DDX52_eCLIP_2.bam\n",
      "/cellar/users/aklie/data/datasets/Horlacher_HepG2_CLIP/processed/2023_12_29/encode/ENCFF510PFS.bam /cellar/users/aklie/data/datasets/Horlacher_HepG2_CLIP/processed/2023_12_29/encode/BCLAF1/BCLAF1_eCLIP_1.bam\n",
      "/cellar/users/aklie/data/datasets/Horlacher_HepG2_CLIP/processed/2023_12_29/encode/ENCFF673LOJ.bam /cellar/users/aklie/data/datasets/Horlacher_HepG2_CLIP/processed/2023_12_29/encode/BCLAF1/BCLAF1_eCLIP_2.bam\n",
      "/cellar/users/aklie/data/datasets/Horlacher_HepG2_CLIP/processed/2023_12_29/encode/ENCFF216MCK.bam /cellar/users/aklie/data/datasets/Horlacher_HepG2_CLIP/processed/2023_12_29/encode/NIP7/NIP7_eCLIP_1.bam\n",
      "/cellar/users/aklie/data/datasets/Horlacher_HepG2_CLIP/processed/2023_12_29/encode/ENCFF169ABN.bam /cellar/users/aklie/data/datasets/Horlacher_HepG2_CLIP/processed/2023_12_29/encode/NIP7/NIP7_eCLIP_2.bam\n",
      "/cellar/users/aklie/data/datasets/Horlacher_HepG2_CLIP/processed/2023_12_29/encode/ENCFF293ZZT.bam /cellar/users/aklie/data/datasets/Horlacher_HepG2_CLIP/processed/2023_12_29/encode/HLTF/HLTF_eCLIP_1.bam\n",
      "/cellar/users/aklie/data/datasets/Horlacher_HepG2_CLIP/processed/2023_12_29/encode/ENCFF757PDP.bam /cellar/users/aklie/data/datasets/Horlacher_HepG2_CLIP/processed/2023_12_29/encode/HLTF/HLTF_eCLIP_2.bam\n",
      "/cellar/users/aklie/data/datasets/Horlacher_HepG2_CLIP/processed/2023_12_29/encode/ENCFF155TML.bam /cellar/users/aklie/data/datasets/Horlacher_HepG2_CLIP/processed/2023_12_29/encode/PRPF4/PRPF4_conrol_1.bam\n",
      "/cellar/users/aklie/data/datasets/Horlacher_HepG2_CLIP/processed/2023_12_29/encode/ENCFF608WNY.bam /cellar/users/aklie/data/datasets/Horlacher_HepG2_CLIP/processed/2023_12_29/encode/EXOSC5/EXOSC5_conrol_1.bam\n",
      "/cellar/users/aklie/data/datasets/Horlacher_HepG2_CLIP/processed/2023_12_29/encode/ENCFF216VBT.bam /cellar/users/aklie/data/datasets/Horlacher_HepG2_CLIP/processed/2023_12_29/encode/EXOSC5/EXOSC5_eCLIP_1.bam\n",
      "/cellar/users/aklie/data/datasets/Horlacher_HepG2_CLIP/processed/2023_12_29/encode/ENCFF405ERW.bam /cellar/users/aklie/data/datasets/Horlacher_HepG2_CLIP/processed/2023_12_29/encode/EXOSC5/EXOSC5_eCLIP_2.bam\n",
      "/cellar/users/aklie/data/datasets/Horlacher_HepG2_CLIP/processed/2023_12_29/encode/ENCFF974NJE.bam /cellar/users/aklie/data/datasets/Horlacher_HepG2_CLIP/processed/2023_12_29/encode/UPF1/UPF1_conrol_1.bam\n",
      "/cellar/users/aklie/data/datasets/Horlacher_HepG2_CLIP/processed/2023_12_29/encode/ENCFF148DUH.bam /cellar/users/aklie/data/datasets/Horlacher_HepG2_CLIP/processed/2023_12_29/encode/YBX3/YBX3_eCLIP_1.bam\n",
      "/cellar/users/aklie/data/datasets/Horlacher_HepG2_CLIP/processed/2023_12_29/encode/ENCFF560ZTA.bam /cellar/users/aklie/data/datasets/Horlacher_HepG2_CLIP/processed/2023_12_29/encode/YBX3/YBX3_eCLIP_2.bam\n",
      "/cellar/users/aklie/data/datasets/Horlacher_HepG2_CLIP/processed/2023_12_29/encode/ENCFF732NGW.bam /cellar/users/aklie/data/datasets/Horlacher_HepG2_CLIP/processed/2023_12_29/encode/WDR43/WDR43_conrol_1.bam\n",
      "/cellar/users/aklie/data/datasets/Horlacher_HepG2_CLIP/processed/2023_12_29/encode/ENCFF404WOP.bam /cellar/users/aklie/data/datasets/Horlacher_HepG2_CLIP/processed/2023_12_29/encode/PRPF4/PRPF4_eCLIP_1.bam\n",
      "/cellar/users/aklie/data/datasets/Horlacher_HepG2_CLIP/processed/2023_12_29/encode/ENCFF080HMO.bam /cellar/users/aklie/data/datasets/Horlacher_HepG2_CLIP/processed/2023_12_29/encode/PRPF4/PRPF4_eCLIP_2.bam\n",
      "/cellar/users/aklie/data/datasets/Horlacher_HepG2_CLIP/processed/2023_12_29/encode/ENCFF961WNO.bam /cellar/users/aklie/data/datasets/Horlacher_HepG2_CLIP/processed/2023_12_29/encode/KHSRP/KHSRP_eCLIP_1.bam\n",
      "/cellar/users/aklie/data/datasets/Horlacher_HepG2_CLIP/processed/2023_12_29/encode/ENCFF701PJM.bam /cellar/users/aklie/data/datasets/Horlacher_HepG2_CLIP/processed/2023_12_29/encode/KHSRP/KHSRP_eCLIP_2.bam\n",
      "/cellar/users/aklie/data/datasets/Horlacher_HepG2_CLIP/processed/2023_12_29/encode/ENCFF847AOM.bam /cellar/users/aklie/data/datasets/Horlacher_HepG2_CLIP/processed/2023_12_29/encode/WDR43/WDR43_eCLIP_1.bam\n",
      "/cellar/users/aklie/data/datasets/Horlacher_HepG2_CLIP/processed/2023_12_29/encode/ENCFF060BRD.bam /cellar/users/aklie/data/datasets/Horlacher_HepG2_CLIP/processed/2023_12_29/encode/WDR43/WDR43_eCLIP_2.bam\n",
      "/cellar/users/aklie/data/datasets/Horlacher_HepG2_CLIP/processed/2023_12_29/encode/ENCFF759UTZ.bam /cellar/users/aklie/data/datasets/Horlacher_HepG2_CLIP/processed/2023_12_29/encode/PCBP1/PCBP1_conrol_1.bam\n",
      "/cellar/users/aklie/data/datasets/Horlacher_HepG2_CLIP/processed/2023_12_29/encode/ENCFF101VSR.bam /cellar/users/aklie/data/datasets/Horlacher_HepG2_CLIP/processed/2023_12_29/encode/YBX3/YBX3_conrol_1.bam\n",
      "/cellar/users/aklie/data/datasets/Horlacher_HepG2_CLIP/processed/2023_12_29/encode/ENCFF978BQG.bam /cellar/users/aklie/data/datasets/Horlacher_HepG2_CLIP/processed/2023_12_29/encode/UTP18/UTP18_eCLIP_2.bam\n",
      "/cellar/users/aklie/data/datasets/Horlacher_HepG2_CLIP/processed/2023_12_29/encode/ENCFF511WWE.bam /cellar/users/aklie/data/datasets/Horlacher_HepG2_CLIP/processed/2023_12_29/encode/UTP18/UTP18_eCLIP_1.bam\n",
      "/cellar/users/aklie/data/datasets/Horlacher_HepG2_CLIP/processed/2023_12_29/encode/ENCFF831VQE.bam /cellar/users/aklie/data/datasets/Horlacher_HepG2_CLIP/processed/2023_12_29/encode/SDAD1/SDAD1_conrol_1.bam\n",
      "/cellar/users/aklie/data/datasets/Horlacher_HepG2_CLIP/processed/2023_12_29/encode/ENCFF385LTB.bam /cellar/users/aklie/data/datasets/Horlacher_HepG2_CLIP/processed/2023_12_29/encode/FTO/FTO_eCLIP_1.bam\n",
      "/cellar/users/aklie/data/datasets/Horlacher_HepG2_CLIP/processed/2023_12_29/encode/ENCFF040XCG.bam /cellar/users/aklie/data/datasets/Horlacher_HepG2_CLIP/processed/2023_12_29/encode/FTO/FTO_eCLIP_2.bam\n",
      "/cellar/users/aklie/data/datasets/Horlacher_HepG2_CLIP/processed/2023_12_29/encode/ENCFF985TJF.bam /cellar/users/aklie/data/datasets/Horlacher_HepG2_CLIP/processed/2023_12_29/encode/FXR2/FXR2_conrol_1.bam\n",
      "/cellar/users/aklie/data/datasets/Horlacher_HepG2_CLIP/processed/2023_12_29/encode/ENCFF145LAD.bam /cellar/users/aklie/data/datasets/Horlacher_HepG2_CLIP/processed/2023_12_29/encode/PABPN1/PABPN1_eCLIP_2.bam\n",
      "/cellar/users/aklie/data/datasets/Horlacher_HepG2_CLIP/processed/2023_12_29/encode/ENCFF974AOE.bam /cellar/users/aklie/data/datasets/Horlacher_HepG2_CLIP/processed/2023_12_29/encode/PABPN1/PABPN1_eCLIP_1.bam\n",
      "/cellar/users/aklie/data/datasets/Horlacher_HepG2_CLIP/processed/2023_12_29/encode/ENCFF933ESS.bam /cellar/users/aklie/data/datasets/Horlacher_HepG2_CLIP/processed/2023_12_29/encode/PCBP1/PCBP1_eCLIP_2.bam\n",
      "/cellar/users/aklie/data/datasets/Horlacher_HepG2_CLIP/processed/2023_12_29/encode/ENCFF138HUE.bam /cellar/users/aklie/data/datasets/Horlacher_HepG2_CLIP/processed/2023_12_29/encode/PCBP1/PCBP1_eCLIP_1.bam\n",
      "/cellar/users/aklie/data/datasets/Horlacher_HepG2_CLIP/processed/2023_12_29/encode/ENCFF417RUN.bam /cellar/users/aklie/data/datasets/Horlacher_HepG2_CLIP/processed/2023_12_29/encode/SSB/SSB_conrol_1.bam\n",
      "/cellar/users/aklie/data/datasets/Horlacher_HepG2_CLIP/processed/2023_12_29/encode/ENCFF118WBK.bam /cellar/users/aklie/data/datasets/Horlacher_HepG2_CLIP/processed/2023_12_29/encode/STAU2/STAU2_conrol_1.bam\n",
      "/cellar/users/aklie/data/datasets/Horlacher_HepG2_CLIP/processed/2023_12_29/encode/ENCFF217IZI.bam /cellar/users/aklie/data/datasets/Horlacher_HepG2_CLIP/processed/2023_12_29/encode/AQR/AQR_conrol_1.bam\n",
      "/cellar/users/aklie/data/datasets/Horlacher_HepG2_CLIP/processed/2023_12_29/encode/ENCFF653PSU.bam /cellar/users/aklie/data/datasets/Horlacher_HepG2_CLIP/processed/2023_12_29/encode/ZNF800/ZNF800_conrol_1.bam\n",
      "/cellar/users/aklie/data/datasets/Horlacher_HepG2_CLIP/processed/2023_12_29/encode/ENCFF745DZH.bam /cellar/users/aklie/data/datasets/Horlacher_HepG2_CLIP/processed/2023_12_29/encode/HLTF/HLTF_conrol_1.bam\n",
      "/cellar/users/aklie/data/datasets/Horlacher_HepG2_CLIP/processed/2023_12_29/encode/ENCFF563EHM.bam /cellar/users/aklie/data/datasets/Horlacher_HepG2_CLIP/processed/2023_12_29/encode/TIAL1/TIAL1_conrol_1.bam\n",
      "/cellar/users/aklie/data/datasets/Horlacher_HepG2_CLIP/processed/2023_12_29/encode/ENCFF696LDT.bam /cellar/users/aklie/data/datasets/Horlacher_HepG2_CLIP/processed/2023_12_29/encode/KHSRP/KHSRP_conrol_1.bam\n",
      "/cellar/users/aklie/data/datasets/Horlacher_HepG2_CLIP/processed/2023_12_29/encode/ENCFF554TBF.bam /cellar/users/aklie/data/datasets/Horlacher_HepG2_CLIP/processed/2023_12_29/encode/PABPN1/PABPN1_conrol_1.bam\n",
      "/cellar/users/aklie/data/datasets/Horlacher_HepG2_CLIP/processed/2023_12_29/encode/ENCFF157JBC.bam /cellar/users/aklie/data/datasets/Horlacher_HepG2_CLIP/processed/2023_12_29/encode/FXR2/FXR2_eCLIP_1.bam\n",
      "/cellar/users/aklie/data/datasets/Horlacher_HepG2_CLIP/processed/2023_12_29/encode/ENCFF500VOG.bam /cellar/users/aklie/data/datasets/Horlacher_HepG2_CLIP/processed/2023_12_29/encode/FXR2/FXR2_eCLIP_2.bam\n",
      "/cellar/users/aklie/data/datasets/Horlacher_HepG2_CLIP/processed/2023_12_29/encode/ENCFF662MYI.bam /cellar/users/aklie/data/datasets/Horlacher_HepG2_CLIP/processed/2023_12_29/encode/DDX52/DDX52_conrol_1.bam\n",
      "/cellar/users/aklie/data/datasets/Horlacher_HepG2_CLIP/processed/2023_12_29/encode/ENCFF351KZM.bam /cellar/users/aklie/data/datasets/Horlacher_HepG2_CLIP/processed/2023_12_29/encode/TARDBP/TARDBP_conrol_1.bam\n",
      "/cellar/users/aklie/data/datasets/Horlacher_HepG2_CLIP/processed/2023_12_29/encode/ENCFF079ZVC.bam /cellar/users/aklie/data/datasets/Horlacher_HepG2_CLIP/processed/2023_12_29/encode/TARDBP/TARDBP_conrol_1.bam\n",
      "/cellar/users/aklie/data/datasets/Horlacher_HepG2_CLIP/processed/2023_12_29/encode/ENCFF527CXQ.bam /cellar/users/aklie/data/datasets/Horlacher_HepG2_CLIP/processed/2023_12_29/encode/TARDBP/TARDBP_conrol_2.bam\n",
      "/cellar/users/aklie/data/datasets/Horlacher_HepG2_CLIP/processed/2023_12_29/encode/ENCFF334XQN.bam /cellar/users/aklie/data/datasets/Horlacher_HepG2_CLIP/processed/2023_12_29/encode/TARDBP/TARDBP_conrol_2.bam\n",
      "/cellar/users/aklie/data/datasets/Horlacher_HepG2_CLIP/processed/2023_12_29/encode/ENCFF805WTC.bam /cellar/users/aklie/data/datasets/Horlacher_HepG2_CLIP/processed/2023_12_29/encode/NSUN2/NSUN2_conrol_1.bam\n",
      "/cellar/users/aklie/data/datasets/Horlacher_HepG2_CLIP/processed/2023_12_29/encode/ENCFF969GSW.bam /cellar/users/aklie/data/datasets/Horlacher_HepG2_CLIP/processed/2023_12_29/encode/NSUN2/NSUN2_conrol_2.bam\n",
      "/cellar/users/aklie/data/datasets/Horlacher_HepG2_CLIP/processed/2023_12_29/encode/ENCFF811IEB.bam /cellar/users/aklie/data/datasets/Horlacher_HepG2_CLIP/processed/2023_12_29/encode/NSUN2/NSUN2_conrol_1.bam\n",
      "/cellar/users/aklie/data/datasets/Horlacher_HepG2_CLIP/processed/2023_12_29/encode/ENCFF245SSX.bam /cellar/users/aklie/data/datasets/Horlacher_HepG2_CLIP/processed/2023_12_29/encode/NSUN2/NSUN2_conrol_2.bam\n",
      "/cellar/users/aklie/data/datasets/Horlacher_HepG2_CLIP/processed/2023_12_29/encode/ENCFF518JBW.bam /cellar/users/aklie/data/datasets/Horlacher_HepG2_CLIP/processed/2023_12_29/encode/HNRNPL/HNRNPL_eCLIP_1.bam\n",
      "/cellar/users/aklie/data/datasets/Horlacher_HepG2_CLIP/processed/2023_12_29/encode/ENCFF607WID.bam /cellar/users/aklie/data/datasets/Horlacher_HepG2_CLIP/processed/2023_12_29/encode/HNRNPL/HNRNPL_eCLIP_2.bam\n",
      "/cellar/users/aklie/data/datasets/Horlacher_HepG2_CLIP/processed/2023_12_29/encode/ENCFF438ULK.bam /cellar/users/aklie/data/datasets/Horlacher_HepG2_CLIP/processed/2023_12_29/encode/XRCC6/XRCC6_eCLIP_1.bam\n",
      "/cellar/users/aklie/data/datasets/Horlacher_HepG2_CLIP/processed/2023_12_29/encode/ENCFF474WKB.bam /cellar/users/aklie/data/datasets/Horlacher_HepG2_CLIP/processed/2023_12_29/encode/XRCC6/XRCC6_eCLIP_2.bam\n",
      "/cellar/users/aklie/data/datasets/Horlacher_HepG2_CLIP/processed/2023_12_29/encode/ENCFF553XCL.bam /cellar/users/aklie/data/datasets/Horlacher_HepG2_CLIP/processed/2023_12_29/encode/HNRNPK/HNRNPK_eCLIP_2.bam\n",
      "/cellar/users/aklie/data/datasets/Horlacher_HepG2_CLIP/processed/2023_12_29/encode/ENCFF198ISB.bam /cellar/users/aklie/data/datasets/Horlacher_HepG2_CLIP/processed/2023_12_29/encode/HNRNPK/HNRNPK_eCLIP_1.bam\n",
      "/cellar/users/aklie/data/datasets/Horlacher_HepG2_CLIP/processed/2023_12_29/encode/ENCFF233HCD.bam /cellar/users/aklie/data/datasets/Horlacher_HepG2_CLIP/processed/2023_12_29/encode/RPS3/RPS3_eCLIP_1.bam\n",
      "/cellar/users/aklie/data/datasets/Horlacher_HepG2_CLIP/processed/2023_12_29/encode/ENCFF959SXJ.bam /cellar/users/aklie/data/datasets/Horlacher_HepG2_CLIP/processed/2023_12_29/encode/RPS3/RPS3_eCLIP_2.bam\n",
      "/cellar/users/aklie/data/datasets/Horlacher_HepG2_CLIP/processed/2023_12_29/encode/ENCFF722JFH.bam /cellar/users/aklie/data/datasets/Horlacher_HepG2_CLIP/processed/2023_12_29/encode/NOL12/NOL12_eCLIP_1.bam\n",
      "/cellar/users/aklie/data/datasets/Horlacher_HepG2_CLIP/processed/2023_12_29/encode/ENCFF134IIH.bam /cellar/users/aklie/data/datasets/Horlacher_HepG2_CLIP/processed/2023_12_29/encode/NOL12/NOL12_eCLIP_2.bam\n",
      "/cellar/users/aklie/data/datasets/Horlacher_HepG2_CLIP/processed/2023_12_29/encode/ENCFF705YYZ.bam /cellar/users/aklie/data/datasets/Horlacher_HepG2_CLIP/processed/2023_12_29/encode/DHX30/DHX30_eCLIP_1.bam\n",
      "/cellar/users/aklie/data/datasets/Horlacher_HepG2_CLIP/processed/2023_12_29/encode/ENCFF809XHX.bam /cellar/users/aklie/data/datasets/Horlacher_HepG2_CLIP/processed/2023_12_29/encode/DHX30/DHX30_eCLIP_2.bam\n",
      "/cellar/users/aklie/data/datasets/Horlacher_HepG2_CLIP/processed/2023_12_29/encode/ENCFF162FHQ.bam /cellar/users/aklie/data/datasets/Horlacher_HepG2_CLIP/processed/2023_12_29/encode/HNRNPC/HNRNPC_eCLIP_2.bam\n",
      "/cellar/users/aklie/data/datasets/Horlacher_HepG2_CLIP/processed/2023_12_29/encode/ENCFF630YNF.bam /cellar/users/aklie/data/datasets/Horlacher_HepG2_CLIP/processed/2023_12_29/encode/HNRNPC/HNRNPC_eCLIP_1.bam\n",
      "/cellar/users/aklie/data/datasets/Horlacher_HepG2_CLIP/processed/2023_12_29/encode/ENCFF040BYE.bam /cellar/users/aklie/data/datasets/Horlacher_HepG2_CLIP/processed/2023_12_29/encode/SF3B4/SF3B4_eCLIP_1.bam\n",
      "/cellar/users/aklie/data/datasets/Horlacher_HepG2_CLIP/processed/2023_12_29/encode/ENCFF483VLR.bam /cellar/users/aklie/data/datasets/Horlacher_HepG2_CLIP/processed/2023_12_29/encode/SF3B4/SF3B4_eCLIP_2.bam\n",
      "/cellar/users/aklie/data/datasets/Horlacher_HepG2_CLIP/processed/2023_12_29/encode/ENCFF056KWN.bam /cellar/users/aklie/data/datasets/Horlacher_HepG2_CLIP/processed/2023_12_29/encode/SFPQ/SFPQ_eCLIP_2.bam\n",
      "/cellar/users/aklie/data/datasets/Horlacher_HepG2_CLIP/processed/2023_12_29/encode/ENCFF857OFG.bam /cellar/users/aklie/data/datasets/Horlacher_HepG2_CLIP/processed/2023_12_29/encode/SFPQ/SFPQ_eCLIP_1.bam\n",
      "/cellar/users/aklie/data/datasets/Horlacher_HepG2_CLIP/processed/2023_12_29/encode/ENCFF714YUM.bam /cellar/users/aklie/data/datasets/Horlacher_HepG2_CLIP/processed/2023_12_29/encode/DDX55/DDX55_eCLIP_2.bam\n",
      "/cellar/users/aklie/data/datasets/Horlacher_HepG2_CLIP/processed/2023_12_29/encode/ENCFF145NQB.bam /cellar/users/aklie/data/datasets/Horlacher_HepG2_CLIP/processed/2023_12_29/encode/DDX55/DDX55_eCLIP_1.bam\n",
      "/cellar/users/aklie/data/datasets/Horlacher_HepG2_CLIP/processed/2023_12_29/encode/ENCFF616EZQ.bam /cellar/users/aklie/data/datasets/Horlacher_HepG2_CLIP/processed/2023_12_29/encode/CSTF2/CSTF2_eCLIP_1.bam\n",
      "/cellar/users/aklie/data/datasets/Horlacher_HepG2_CLIP/processed/2023_12_29/encode/ENCFF399CRA.bam /cellar/users/aklie/data/datasets/Horlacher_HepG2_CLIP/processed/2023_12_29/encode/CSTF2/CSTF2_eCLIP_2.bam\n",
      "/cellar/users/aklie/data/datasets/Horlacher_HepG2_CLIP/processed/2023_12_29/encode/ENCFF702XFC.bam /cellar/users/aklie/data/datasets/Horlacher_HepG2_CLIP/processed/2023_12_29/encode/ILF3/ILF3_eCLIP_1.bam\n",
      "/cellar/users/aklie/data/datasets/Horlacher_HepG2_CLIP/processed/2023_12_29/encode/ENCFF245KXT.bam /cellar/users/aklie/data/datasets/Horlacher_HepG2_CLIP/processed/2023_12_29/encode/ILF3/ILF3_eCLIP_2.bam\n",
      "/cellar/users/aklie/data/datasets/Horlacher_HepG2_CLIP/processed/2023_12_29/encode/ENCFF867TIG.bam /cellar/users/aklie/data/datasets/Horlacher_HepG2_CLIP/processed/2023_12_29/encode/SRSF1/SRSF1_eCLIP_1.bam\n",
      "/cellar/users/aklie/data/datasets/Horlacher_HepG2_CLIP/processed/2023_12_29/encode/ENCFF418ZXO.bam /cellar/users/aklie/data/datasets/Horlacher_HepG2_CLIP/processed/2023_12_29/encode/SRSF1/SRSF1_eCLIP_2.bam\n",
      "/cellar/users/aklie/data/datasets/Horlacher_HepG2_CLIP/processed/2023_12_29/encode/ENCFF853HTH.bam /cellar/users/aklie/data/datasets/Horlacher_HepG2_CLIP/processed/2023_12_29/encode/SUPV3L1/SUPV3L1_eCLIP_1.bam\n",
      "/cellar/users/aklie/data/datasets/Horlacher_HepG2_CLIP/processed/2023_12_29/encode/ENCFF941QMM.bam /cellar/users/aklie/data/datasets/Horlacher_HepG2_CLIP/processed/2023_12_29/encode/SUPV3L1/SUPV3L1_eCLIP_2.bam\n",
      "/cellar/users/aklie/data/datasets/Horlacher_HepG2_CLIP/processed/2023_12_29/encode/ENCFF836HIK.bam /cellar/users/aklie/data/datasets/Horlacher_HepG2_CLIP/processed/2023_12_29/encode/FUBP3/FUBP3_eCLIP_2.bam\n",
      "/cellar/users/aklie/data/datasets/Horlacher_HepG2_CLIP/processed/2023_12_29/encode/ENCFF149SFF.bam /cellar/users/aklie/data/datasets/Horlacher_HepG2_CLIP/processed/2023_12_29/encode/FUBP3/FUBP3_eCLIP_1.bam\n",
      "/cellar/users/aklie/data/datasets/Horlacher_HepG2_CLIP/processed/2023_12_29/encode/ENCFF064QSN.bam /cellar/users/aklie/data/datasets/Horlacher_HepG2_CLIP/processed/2023_12_29/encode/FASTKD2/FASTKD2_eCLIP_1.bam\n",
      "/cellar/users/aklie/data/datasets/Horlacher_HepG2_CLIP/processed/2023_12_29/encode/ENCFF307ZHU.bam /cellar/users/aklie/data/datasets/Horlacher_HepG2_CLIP/processed/2023_12_29/encode/FASTKD2/FASTKD2_eCLIP_2.bam\n",
      "/cellar/users/aklie/data/datasets/Horlacher_HepG2_CLIP/processed/2023_12_29/encode/ENCFF690NVV.bam /cellar/users/aklie/data/datasets/Horlacher_HepG2_CLIP/processed/2023_12_29/encode/HNRNPA1/HNRNPA1_eCLIP_2.bam\n",
      "/cellar/users/aklie/data/datasets/Horlacher_HepG2_CLIP/processed/2023_12_29/encode/ENCFF330OFU.bam /cellar/users/aklie/data/datasets/Horlacher_HepG2_CLIP/processed/2023_12_29/encode/HNRNPA1/HNRNPA1_eCLIP_1.bam\n",
      "/cellar/users/aklie/data/datasets/Horlacher_HepG2_CLIP/processed/2023_12_29/encode/ENCFF601NWD.bam /cellar/users/aklie/data/datasets/Horlacher_HepG2_CLIP/processed/2023_12_29/encode/MATR3/MATR3_eCLIP_2.bam\n",
      "/cellar/users/aklie/data/datasets/Horlacher_HepG2_CLIP/processed/2023_12_29/encode/ENCFF619UHD.bam /cellar/users/aklie/data/datasets/Horlacher_HepG2_CLIP/processed/2023_12_29/encode/MATR3/MATR3_eCLIP_1.bam\n",
      "/cellar/users/aklie/data/datasets/Horlacher_HepG2_CLIP/processed/2023_12_29/encode/ENCFF807GZY.bam /cellar/users/aklie/data/datasets/Horlacher_HepG2_CLIP/processed/2023_12_29/encode/SF3A3/SF3A3_eCLIP_2.bam\n",
      "/cellar/users/aklie/data/datasets/Horlacher_HepG2_CLIP/processed/2023_12_29/encode/ENCFF410PJY.bam /cellar/users/aklie/data/datasets/Horlacher_HepG2_CLIP/processed/2023_12_29/encode/SF3A3/SF3A3_eCLIP_1.bam\n",
      "/cellar/users/aklie/data/datasets/Horlacher_HepG2_CLIP/processed/2023_12_29/encode/ENCFF681JJG.bam /cellar/users/aklie/data/datasets/Horlacher_HepG2_CLIP/processed/2023_12_29/encode/TIA1/TIA1_eCLIP_2.bam\n",
      "/cellar/users/aklie/data/datasets/Horlacher_HepG2_CLIP/processed/2023_12_29/encode/ENCFF258DPQ.bam /cellar/users/aklie/data/datasets/Horlacher_HepG2_CLIP/processed/2023_12_29/encode/TIA1/TIA1_eCLIP_1.bam\n",
      "/cellar/users/aklie/data/datasets/Horlacher_HepG2_CLIP/processed/2023_12_29/encode/ENCFF536XVW.bam /cellar/users/aklie/data/datasets/Horlacher_HepG2_CLIP/processed/2023_12_29/encode/HNRNPUL1/HNRNPUL1_eCLIP_1.bam\n",
      "/cellar/users/aklie/data/datasets/Horlacher_HepG2_CLIP/processed/2023_12_29/encode/ENCFF956ELY.bam /cellar/users/aklie/data/datasets/Horlacher_HepG2_CLIP/processed/2023_12_29/encode/HNRNPUL1/HNRNPUL1_eCLIP_2.bam\n",
      "/cellar/users/aklie/data/datasets/Horlacher_HepG2_CLIP/processed/2023_12_29/encode/ENCFF536HGU.bam /cellar/users/aklie/data/datasets/Horlacher_HepG2_CLIP/processed/2023_12_29/encode/BUD13/BUD13_eCLIP_1.bam\n",
      "/cellar/users/aklie/data/datasets/Horlacher_HepG2_CLIP/processed/2023_12_29/encode/ENCFF644DWW.bam /cellar/users/aklie/data/datasets/Horlacher_HepG2_CLIP/processed/2023_12_29/encode/BUD13/BUD13_eCLIP_2.bam\n",
      "/cellar/users/aklie/data/datasets/Horlacher_HepG2_CLIP/processed/2023_12_29/encode/ENCFF207XKP.bam /cellar/users/aklie/data/datasets/Horlacher_HepG2_CLIP/processed/2023_12_29/encode/XPO5/XPO5_eCLIP_1.bam\n",
      "/cellar/users/aklie/data/datasets/Horlacher_HepG2_CLIP/processed/2023_12_29/encode/ENCFF764UJQ.bam /cellar/users/aklie/data/datasets/Horlacher_HepG2_CLIP/processed/2023_12_29/encode/XPO5/XPO5_eCLIP_2.bam\n",
      "/cellar/users/aklie/data/datasets/Horlacher_HepG2_CLIP/processed/2023_12_29/encode/ENCFF770GEL.bam /cellar/users/aklie/data/datasets/Horlacher_HepG2_CLIP/processed/2023_12_29/encode/CDC40/CDC40_eCLIP_2.bam\n",
      "/cellar/users/aklie/data/datasets/Horlacher_HepG2_CLIP/processed/2023_12_29/encode/ENCFF416LFA.bam /cellar/users/aklie/data/datasets/Horlacher_HepG2_CLIP/processed/2023_12_29/encode/CDC40/CDC40_eCLIP_1.bam\n",
      "/cellar/users/aklie/data/datasets/Horlacher_HepG2_CLIP/processed/2023_12_29/encode/ENCFF402KOO.bam /cellar/users/aklie/data/datasets/Horlacher_HepG2_CLIP/processed/2023_12_29/encode/DDX3X/DDX3X_eCLIP_1.bam\n",
      "/cellar/users/aklie/data/datasets/Horlacher_HepG2_CLIP/processed/2023_12_29/encode/ENCFF957SIF.bam /cellar/users/aklie/data/datasets/Horlacher_HepG2_CLIP/processed/2023_12_29/encode/DDX3X/DDX3X_eCLIP_2.bam\n",
      "/cellar/users/aklie/data/datasets/Horlacher_HepG2_CLIP/processed/2023_12_29/encode/ENCFF655NIG.bam /cellar/users/aklie/data/datasets/Horlacher_HepG2_CLIP/processed/2023_12_29/encode/SND1/SND1_eCLIP_2.bam\n",
      "/cellar/users/aklie/data/datasets/Horlacher_HepG2_CLIP/processed/2023_12_29/encode/ENCFF296HGS.bam /cellar/users/aklie/data/datasets/Horlacher_HepG2_CLIP/processed/2023_12_29/encode/SND1/SND1_eCLIP_1.bam\n",
      "/cellar/users/aklie/data/datasets/Horlacher_HepG2_CLIP/processed/2023_12_29/encode/ENCFF591FGE.bam /cellar/users/aklie/data/datasets/Horlacher_HepG2_CLIP/processed/2023_12_29/encode/GRWD1/GRWD1_eCLIP_1.bam\n",
      "/cellar/users/aklie/data/datasets/Horlacher_HepG2_CLIP/processed/2023_12_29/encode/ENCFF869UTD.bam /cellar/users/aklie/data/datasets/Horlacher_HepG2_CLIP/processed/2023_12_29/encode/GRWD1/GRWD1_eCLIP_2.bam\n",
      "/cellar/users/aklie/data/datasets/Horlacher_HepG2_CLIP/processed/2023_12_29/encode/ENCFF189PHS.bam /cellar/users/aklie/data/datasets/Horlacher_HepG2_CLIP/processed/2023_12_29/encode/TBRG4/TBRG4_eCLIP_2.bam\n",
      "/cellar/users/aklie/data/datasets/Horlacher_HepG2_CLIP/processed/2023_12_29/encode/ENCFF061HNX.bam /cellar/users/aklie/data/datasets/Horlacher_HepG2_CLIP/processed/2023_12_29/encode/TBRG4/TBRG4_eCLIP_1.bam\n",
      "/cellar/users/aklie/data/datasets/Horlacher_HepG2_CLIP/processed/2023_12_29/encode/ENCFF427IMN.bam /cellar/users/aklie/data/datasets/Horlacher_HepG2_CLIP/processed/2023_12_29/encode/IGF2BP1/IGF2BP1_eCLIP_1.bam\n",
      "/cellar/users/aklie/data/datasets/Horlacher_HepG2_CLIP/processed/2023_12_29/encode/ENCFF777OWL.bam /cellar/users/aklie/data/datasets/Horlacher_HepG2_CLIP/processed/2023_12_29/encode/IGF2BP1/IGF2BP1_eCLIP_2.bam\n",
      "/cellar/users/aklie/data/datasets/Horlacher_HepG2_CLIP/processed/2023_12_29/encode/ENCFF651VGM.bam /cellar/users/aklie/data/datasets/Horlacher_HepG2_CLIP/processed/2023_12_29/encode/SRSF9/SRSF9_eCLIP_1.bam\n",
      "/cellar/users/aklie/data/datasets/Horlacher_HepG2_CLIP/processed/2023_12_29/encode/ENCFF460TAE.bam /cellar/users/aklie/data/datasets/Horlacher_HepG2_CLIP/processed/2023_12_29/encode/SRSF9/SRSF9_eCLIP_2.bam\n",
      "/cellar/users/aklie/data/datasets/Horlacher_HepG2_CLIP/processed/2023_12_29/encode/ENCFF420FTB.bam /cellar/users/aklie/data/datasets/Horlacher_HepG2_CLIP/processed/2023_12_29/encode/TAF15/TAF15_eCLIP_1.bam\n",
      "/cellar/users/aklie/data/datasets/Horlacher_HepG2_CLIP/processed/2023_12_29/encode/ENCFF701ZSE.bam /cellar/users/aklie/data/datasets/Horlacher_HepG2_CLIP/processed/2023_12_29/encode/TAF15/TAF15_eCLIP_2.bam\n",
      "/cellar/users/aklie/data/datasets/Horlacher_HepG2_CLIP/processed/2023_12_29/encode/ENCFF545KJU.bam /cellar/users/aklie/data/datasets/Horlacher_HepG2_CLIP/processed/2023_12_29/encode/RBM5/RBM5_eCLIP_1.bam\n",
      "/cellar/users/aklie/data/datasets/Horlacher_HepG2_CLIP/processed/2023_12_29/encode/ENCFF723UHT.bam /cellar/users/aklie/data/datasets/Horlacher_HepG2_CLIP/processed/2023_12_29/encode/RBM5/RBM5_eCLIP_2.bam\n",
      "/cellar/users/aklie/data/datasets/Horlacher_HepG2_CLIP/processed/2023_12_29/encode/ENCFF205BLM.bam /cellar/users/aklie/data/datasets/Horlacher_HepG2_CLIP/processed/2023_12_29/encode/PRPF8/PRPF8_eCLIP_1.bam\n",
      "/cellar/users/aklie/data/datasets/Horlacher_HepG2_CLIP/processed/2023_12_29/encode/ENCFF672HFP.bam /cellar/users/aklie/data/datasets/Horlacher_HepG2_CLIP/processed/2023_12_29/encode/PRPF8/PRPF8_eCLIP_2.bam\n",
      "/cellar/users/aklie/data/datasets/Horlacher_HepG2_CLIP/processed/2023_12_29/encode/ENCFF081LVD.bam /cellar/users/aklie/data/datasets/Horlacher_HepG2_CLIP/processed/2023_12_29/encode/BCCIP/BCCIP_eCLIP_2.bam\n",
      "/cellar/users/aklie/data/datasets/Horlacher_HepG2_CLIP/processed/2023_12_29/encode/ENCFF690EFW.bam /cellar/users/aklie/data/datasets/Horlacher_HepG2_CLIP/processed/2023_12_29/encode/BCCIP/BCCIP_eCLIP_1.bam\n",
      "/cellar/users/aklie/data/datasets/Horlacher_HepG2_CLIP/processed/2023_12_29/encode/ENCFF515BTB.bam /cellar/users/aklie/data/datasets/Horlacher_HepG2_CLIP/processed/2023_12_29/encode/RBFOX2/RBFOX2_conrol_1.bam\n",
      "/cellar/users/aklie/data/datasets/Horlacher_HepG2_CLIP/processed/2023_12_29/encode/ENCFF558CNE.bam /cellar/users/aklie/data/datasets/Horlacher_HepG2_CLIP/processed/2023_12_29/encode/SRSF7/SRSF7_eCLIP_2.bam\n",
      "/cellar/users/aklie/data/datasets/Horlacher_HepG2_CLIP/processed/2023_12_29/encode/ENCFF743ZXA.bam /cellar/users/aklie/data/datasets/Horlacher_HepG2_CLIP/processed/2023_12_29/encode/SRSF7/SRSF7_eCLIP_1.bam\n",
      "/cellar/users/aklie/data/datasets/Horlacher_HepG2_CLIP/processed/2023_12_29/encode/ENCFF345DPL.bam /cellar/users/aklie/data/datasets/Horlacher_HepG2_CLIP/processed/2023_12_29/encode/LARP7/LARP7_eCLIP_1.bam\n",
      "/cellar/users/aklie/data/datasets/Horlacher_HepG2_CLIP/processed/2023_12_29/encode/ENCFF086NCN.bam /cellar/users/aklie/data/datasets/Horlacher_HepG2_CLIP/processed/2023_12_29/encode/LARP7/LARP7_eCLIP_2.bam\n",
      "/cellar/users/aklie/data/datasets/Horlacher_HepG2_CLIP/processed/2023_12_29/encode/ENCFF051SNH.bam /cellar/users/aklie/data/datasets/Horlacher_HepG2_CLIP/processed/2023_12_29/encode/RBM22/RBM22_eCLIP_1.bam\n",
      "/cellar/users/aklie/data/datasets/Horlacher_HepG2_CLIP/processed/2023_12_29/encode/ENCFF169EKN.bam /cellar/users/aklie/data/datasets/Horlacher_HepG2_CLIP/processed/2023_12_29/encode/RBM22/RBM22_eCLIP_2.bam\n",
      "/cellar/users/aklie/data/datasets/Horlacher_HepG2_CLIP/processed/2023_12_29/encode/ENCFF413DZP.bam /cellar/users/aklie/data/datasets/Horlacher_HepG2_CLIP/processed/2023_12_29/encode/DROSHA/DROSHA_eCLIP_2.bam\n",
      "/cellar/users/aklie/data/datasets/Horlacher_HepG2_CLIP/processed/2023_12_29/encode/ENCFF401NJF.bam /cellar/users/aklie/data/datasets/Horlacher_HepG2_CLIP/processed/2023_12_29/encode/DROSHA/DROSHA_eCLIP_1.bam\n",
      "/cellar/users/aklie/data/datasets/Horlacher_HepG2_CLIP/processed/2023_12_29/encode/ENCFF249CVU.bam /cellar/users/aklie/data/datasets/Horlacher_HepG2_CLIP/processed/2023_12_29/encode/AGGF1/AGGF1_eCLIP_2.bam\n",
      "/cellar/users/aklie/data/datasets/Horlacher_HepG2_CLIP/processed/2023_12_29/encode/ENCFF302BJD.bam /cellar/users/aklie/data/datasets/Horlacher_HepG2_CLIP/processed/2023_12_29/encode/AGGF1/AGGF1_eCLIP_1.bam\n",
      "/cellar/users/aklie/data/datasets/Horlacher_HepG2_CLIP/processed/2023_12_29/encode/ENCFF358STL.bam /cellar/users/aklie/data/datasets/Horlacher_HepG2_CLIP/processed/2023_12_29/encode/U2AF2/U2AF2_eCLIP_1.bam\n",
      "/cellar/users/aklie/data/datasets/Horlacher_HepG2_CLIP/processed/2023_12_29/encode/ENCFF033XVX.bam /cellar/users/aklie/data/datasets/Horlacher_HepG2_CLIP/processed/2023_12_29/encode/U2AF2/U2AF2_eCLIP_2.bam\n",
      "/cellar/users/aklie/data/datasets/Horlacher_HepG2_CLIP/processed/2023_12_29/encode/ENCFF032OPL.bam /cellar/users/aklie/data/datasets/Horlacher_HepG2_CLIP/processed/2023_12_29/encode/IGF2BP1/IGF2BP1_conrol_1.bam\n",
      "/cellar/users/aklie/data/datasets/Horlacher_HepG2_CLIP/processed/2023_12_29/encode/ENCFF157WNL.bam /cellar/users/aklie/data/datasets/Horlacher_HepG2_CLIP/processed/2023_12_29/encode/GTF2F1/GTF2F1_eCLIP_2.bam\n",
      "/cellar/users/aklie/data/datasets/Horlacher_HepG2_CLIP/processed/2023_12_29/encode/ENCFF400HJB.bam /cellar/users/aklie/data/datasets/Horlacher_HepG2_CLIP/processed/2023_12_29/encode/GTF2F1/GTF2F1_eCLIP_1.bam\n",
      "/cellar/users/aklie/data/datasets/Horlacher_HepG2_CLIP/processed/2023_12_29/encode/ENCFF338LOF.bam /cellar/users/aklie/data/datasets/Horlacher_HepG2_CLIP/processed/2023_12_29/encode/GRSF1/GRSF1_eCLIP_2.bam\n",
      "/cellar/users/aklie/data/datasets/Horlacher_HepG2_CLIP/processed/2023_12_29/encode/ENCFF059PZS.bam /cellar/users/aklie/data/datasets/Horlacher_HepG2_CLIP/processed/2023_12_29/encode/GRSF1/GRSF1_eCLIP_1.bam\n",
      "/cellar/users/aklie/data/datasets/Horlacher_HepG2_CLIP/processed/2023_12_29/encode/ENCFF023GYY.bam /cellar/users/aklie/data/datasets/Horlacher_HepG2_CLIP/processed/2023_12_29/encode/ZC3H11A/ZC3H11A_eCLIP_2.bam\n",
      "/cellar/users/aklie/data/datasets/Horlacher_HepG2_CLIP/processed/2023_12_29/encode/ENCFF904WAE.bam /cellar/users/aklie/data/datasets/Horlacher_HepG2_CLIP/processed/2023_12_29/encode/ZC3H11A/ZC3H11A_eCLIP_1.bam\n",
      "/cellar/users/aklie/data/datasets/Horlacher_HepG2_CLIP/processed/2023_12_29/encode/ENCFF132YAO.bam /cellar/users/aklie/data/datasets/Horlacher_HepG2_CLIP/processed/2023_12_29/encode/UCHL5/UCHL5_eCLIP_1.bam\n",
      "/cellar/users/aklie/data/datasets/Horlacher_HepG2_CLIP/processed/2023_12_29/encode/ENCFF476CPQ.bam /cellar/users/aklie/data/datasets/Horlacher_HepG2_CLIP/processed/2023_12_29/encode/UCHL5/UCHL5_eCLIP_2.bam\n",
      "/cellar/users/aklie/data/datasets/Horlacher_HepG2_CLIP/processed/2023_12_29/encode/ENCFF144QQC.bam /cellar/users/aklie/data/datasets/Horlacher_HepG2_CLIP/processed/2023_12_29/encode/NKRF/NKRF_eCLIP_2.bam\n",
      "/cellar/users/aklie/data/datasets/Horlacher_HepG2_CLIP/processed/2023_12_29/encode/ENCFF391WTM.bam /cellar/users/aklie/data/datasets/Horlacher_HepG2_CLIP/processed/2023_12_29/encode/NKRF/NKRF_eCLIP_1.bam\n",
      "/cellar/users/aklie/data/datasets/Horlacher_HepG2_CLIP/processed/2023_12_29/encode/ENCFF499JDZ.bam /cellar/users/aklie/data/datasets/Horlacher_HepG2_CLIP/processed/2023_12_29/encode/EFTUD2/EFTUD2_eCLIP_1.bam\n",
      "/cellar/users/aklie/data/datasets/Horlacher_HepG2_CLIP/processed/2023_12_29/encode/ENCFF061QCD.bam /cellar/users/aklie/data/datasets/Horlacher_HepG2_CLIP/processed/2023_12_29/encode/EFTUD2/EFTUD2_eCLIP_2.bam\n",
      "/cellar/users/aklie/data/datasets/Horlacher_HepG2_CLIP/processed/2023_12_29/encode/ENCFF270FPU.bam /cellar/users/aklie/data/datasets/Horlacher_HepG2_CLIP/processed/2023_12_29/encode/IGF2BP3/IGF2BP3_eCLIP_1.bam\n",
      "/cellar/users/aklie/data/datasets/Horlacher_HepG2_CLIP/processed/2023_12_29/encode/ENCFF015NHN.bam /cellar/users/aklie/data/datasets/Horlacher_HepG2_CLIP/processed/2023_12_29/encode/IGF2BP3/IGF2BP3_eCLIP_2.bam\n",
      "/cellar/users/aklie/data/datasets/Horlacher_HepG2_CLIP/processed/2023_12_29/encode/ENCFF903KIZ.bam /cellar/users/aklie/data/datasets/Horlacher_HepG2_CLIP/processed/2023_12_29/encode/FKBP4/FKBP4_conrol_1.bam\n",
      "/cellar/users/aklie/data/datasets/Horlacher_HepG2_CLIP/processed/2023_12_29/encode/ENCFF576OQO.bam /cellar/users/aklie/data/datasets/Horlacher_HepG2_CLIP/processed/2023_12_29/encode/EIF3D/EIF3D_eCLIP_1.bam\n",
      "/cellar/users/aklie/data/datasets/Horlacher_HepG2_CLIP/processed/2023_12_29/encode/ENCFF678TXO.bam /cellar/users/aklie/data/datasets/Horlacher_HepG2_CLIP/processed/2023_12_29/encode/EIF3D/EIF3D_eCLIP_2.bam\n",
      "/cellar/users/aklie/data/datasets/Horlacher_HepG2_CLIP/processed/2023_12_29/encode/ENCFF239CML.bam /cellar/users/aklie/data/datasets/Horlacher_HepG2_CLIP/processed/2023_12_29/encode/RBFOX2/RBFOX2_eCLIP_1.bam\n",
      "/cellar/users/aklie/data/datasets/Horlacher_HepG2_CLIP/processed/2023_12_29/encode/ENCFF170YQV.bam /cellar/users/aklie/data/datasets/Horlacher_HepG2_CLIP/processed/2023_12_29/encode/RBFOX2/RBFOX2_eCLIP_2.bam\n",
      "/cellar/users/aklie/data/datasets/Horlacher_HepG2_CLIP/processed/2023_12_29/encode/ENCFF269QNL.bam /cellar/users/aklie/data/datasets/Horlacher_HepG2_CLIP/processed/2023_12_29/encode/TIA1/TIA1_conrol_1.bam\n",
      "/cellar/users/aklie/data/datasets/Horlacher_HepG2_CLIP/processed/2023_12_29/encode/ENCFF228FAK.bam /cellar/users/aklie/data/datasets/Horlacher_HepG2_CLIP/processed/2023_12_29/encode/SUB1/SUB1_eCLIP_2.bam\n",
      "/cellar/users/aklie/data/datasets/Horlacher_HepG2_CLIP/processed/2023_12_29/encode/ENCFF416HFS.bam /cellar/users/aklie/data/datasets/Horlacher_HepG2_CLIP/processed/2023_12_29/encode/SUB1/SUB1_eCLIP_1.bam\n",
      "/cellar/users/aklie/data/datasets/Horlacher_HepG2_CLIP/processed/2023_12_29/encode/ENCFF803QKO.bam /cellar/users/aklie/data/datasets/Horlacher_HepG2_CLIP/processed/2023_12_29/encode/PCBP2/PCBP2_eCLIP_1.bam\n",
      "/cellar/users/aklie/data/datasets/Horlacher_HepG2_CLIP/processed/2023_12_29/encode/ENCFF547AHN.bam /cellar/users/aklie/data/datasets/Horlacher_HepG2_CLIP/processed/2023_12_29/encode/PCBP2/PCBP2_eCLIP_2.bam\n",
      "/cellar/users/aklie/data/datasets/Horlacher_HepG2_CLIP/processed/2023_12_29/encode/ENCFF252SPM.bam /cellar/users/aklie/data/datasets/Horlacher_HepG2_CLIP/processed/2023_12_29/encode/LSM11/LSM11_eCLIP_1.bam\n",
      "/cellar/users/aklie/data/datasets/Horlacher_HepG2_CLIP/processed/2023_12_29/encode/ENCFF055MTP.bam /cellar/users/aklie/data/datasets/Horlacher_HepG2_CLIP/processed/2023_12_29/encode/LSM11/LSM11_eCLIP_2.bam\n",
      "/cellar/users/aklie/data/datasets/Horlacher_HepG2_CLIP/processed/2023_12_29/encode/ENCFF567ADV.bam /cellar/users/aklie/data/datasets/Horlacher_HepG2_CLIP/processed/2023_12_29/encode/QKI/QKI_eCLIP_1.bam\n",
      "/cellar/users/aklie/data/datasets/Horlacher_HepG2_CLIP/processed/2023_12_29/encode/ENCFF862YVK.bam /cellar/users/aklie/data/datasets/Horlacher_HepG2_CLIP/processed/2023_12_29/encode/QKI/QKI_eCLIP_2.bam\n",
      "/cellar/users/aklie/data/datasets/Horlacher_HepG2_CLIP/processed/2023_12_29/encode/ENCFF076WAG.bam /cellar/users/aklie/data/datasets/Horlacher_HepG2_CLIP/processed/2023_12_29/encode/U2AF1/U2AF1_conrol_1.bam\n",
      "/cellar/users/aklie/data/datasets/Horlacher_HepG2_CLIP/processed/2023_12_29/encode/ENCFF825YLL.bam /cellar/users/aklie/data/datasets/Horlacher_HepG2_CLIP/processed/2023_12_29/encode/U2AF2/U2AF2_conrol_1.bam\n",
      "/cellar/users/aklie/data/datasets/Horlacher_HepG2_CLIP/processed/2023_12_29/encode/ENCFF901JSX.bam /cellar/users/aklie/data/datasets/Horlacher_HepG2_CLIP/processed/2023_12_29/encode/DDX6/DDX6_eCLIP_1.bam\n",
      "/cellar/users/aklie/data/datasets/Horlacher_HepG2_CLIP/processed/2023_12_29/encode/ENCFF398FGK.bam /cellar/users/aklie/data/datasets/Horlacher_HepG2_CLIP/processed/2023_12_29/encode/DDX6/DDX6_eCLIP_2.bam\n",
      "/cellar/users/aklie/data/datasets/Horlacher_HepG2_CLIP/processed/2023_12_29/encode/ENCFF538KWA.bam /cellar/users/aklie/data/datasets/Horlacher_HepG2_CLIP/processed/2023_12_29/encode/DDX59/DDX59_eCLIP_1.bam\n",
      "/cellar/users/aklie/data/datasets/Horlacher_HepG2_CLIP/processed/2023_12_29/encode/ENCFF362KWY.bam /cellar/users/aklie/data/datasets/Horlacher_HepG2_CLIP/processed/2023_12_29/encode/DDX59/DDX59_eCLIP_2.bam\n",
      "/cellar/users/aklie/data/datasets/Horlacher_HepG2_CLIP/processed/2023_12_29/encode/ENCFF536WIF.bam /cellar/users/aklie/data/datasets/Horlacher_HepG2_CLIP/processed/2023_12_29/encode/HNRNPA1/HNRNPA1_conrol_1.bam\n",
      "/cellar/users/aklie/data/datasets/Horlacher_HepG2_CLIP/processed/2023_12_29/encode/ENCFF025VQL.bam /cellar/users/aklie/data/datasets/Horlacher_HepG2_CLIP/processed/2023_12_29/encode/NCBP2/NCBP2_eCLIP_2.bam\n",
      "/cellar/users/aklie/data/datasets/Horlacher_HepG2_CLIP/processed/2023_12_29/encode/ENCFF138FXS.bam /cellar/users/aklie/data/datasets/Horlacher_HepG2_CLIP/processed/2023_12_29/encode/NCBP2/NCBP2_eCLIP_1.bam\n",
      "/cellar/users/aklie/data/datasets/Horlacher_HepG2_CLIP/processed/2023_12_29/encode/ENCFF385AIL.bam /cellar/users/aklie/data/datasets/Horlacher_HepG2_CLIP/processed/2023_12_29/encode/POLR2G/POLR2G_eCLIP_2.bam\n",
      "/cellar/users/aklie/data/datasets/Horlacher_HepG2_CLIP/processed/2023_12_29/encode/ENCFF460SKC.bam /cellar/users/aklie/data/datasets/Horlacher_HepG2_CLIP/processed/2023_12_29/encode/POLR2G/POLR2G_eCLIP_1.bam\n",
      "/cellar/users/aklie/data/datasets/Horlacher_HepG2_CLIP/processed/2023_12_29/encode/ENCFF244QMW.bam /cellar/users/aklie/data/datasets/Horlacher_HepG2_CLIP/processed/2023_12_29/encode/LIN28B/LIN28B_conrol_1.bam\n",
      "/cellar/users/aklie/data/datasets/Horlacher_HepG2_CLIP/processed/2023_12_29/encode/ENCFF372BZV.bam /cellar/users/aklie/data/datasets/Horlacher_HepG2_CLIP/processed/2023_12_29/encode/TRA2A/TRA2A_eCLIP_2.bam\n",
      "/cellar/users/aklie/data/datasets/Horlacher_HepG2_CLIP/processed/2023_12_29/encode/ENCFF745EHU.bam /cellar/users/aklie/data/datasets/Horlacher_HepG2_CLIP/processed/2023_12_29/encode/TRA2A/TRA2A_eCLIP_1.bam\n",
      "/cellar/users/aklie/data/datasets/Horlacher_HepG2_CLIP/processed/2023_12_29/encode/ENCFF755DUB.bam /cellar/users/aklie/data/datasets/Horlacher_HepG2_CLIP/processed/2023_12_29/encode/U2AF1/U2AF1_eCLIP_1.bam\n",
      "/cellar/users/aklie/data/datasets/Horlacher_HepG2_CLIP/processed/2023_12_29/encode/ENCFF059KEP.bam /cellar/users/aklie/data/datasets/Horlacher_HepG2_CLIP/processed/2023_12_29/encode/U2AF1/U2AF1_eCLIP_2.bam\n",
      "/cellar/users/aklie/data/datasets/Horlacher_HepG2_CLIP/processed/2023_12_29/encode/ENCFF141QHH.bam /cellar/users/aklie/data/datasets/Horlacher_HepG2_CLIP/processed/2023_12_29/encode/FKBP4/FKBP4_eCLIP_2.bam\n",
      "/cellar/users/aklie/data/datasets/Horlacher_HepG2_CLIP/processed/2023_12_29/encode/ENCFF802VWZ.bam /cellar/users/aklie/data/datasets/Horlacher_HepG2_CLIP/processed/2023_12_29/encode/FKBP4/FKBP4_eCLIP_1.bam\n",
      "/cellar/users/aklie/data/datasets/Horlacher_HepG2_CLIP/processed/2023_12_29/encode/ENCFF732TFX.bam /cellar/users/aklie/data/datasets/Horlacher_HepG2_CLIP/processed/2023_12_29/encode/DKC1/DKC1_eCLIP_1.bam\n",
      "/cellar/users/aklie/data/datasets/Horlacher_HepG2_CLIP/processed/2023_12_29/encode/ENCFF252TQP.bam /cellar/users/aklie/data/datasets/Horlacher_HepG2_CLIP/processed/2023_12_29/encode/DKC1/DKC1_eCLIP_2.bam\n",
      "/cellar/users/aklie/data/datasets/Horlacher_HepG2_CLIP/processed/2023_12_29/encode/ENCFF527CKN.bam /cellar/users/aklie/data/datasets/Horlacher_HepG2_CLIP/processed/2023_12_29/encode/TROVE2/TROVE2_eCLIP_1.bam\n",
      "/cellar/users/aklie/data/datasets/Horlacher_HepG2_CLIP/processed/2023_12_29/encode/ENCFF580PEL.bam /cellar/users/aklie/data/datasets/Horlacher_HepG2_CLIP/processed/2023_12_29/encode/TROVE2/TROVE2_eCLIP_2.bam\n",
      "/cellar/users/aklie/data/datasets/Horlacher_HepG2_CLIP/processed/2023_12_29/encode/ENCFF723JLV.bam /cellar/users/aklie/data/datasets/Horlacher_HepG2_CLIP/processed/2023_12_29/encode/EFTUD2/EFTUD2_conrol_1.bam\n",
      "/cellar/users/aklie/data/datasets/Horlacher_HepG2_CLIP/processed/2023_12_29/encode/ENCFF562AZL.bam /cellar/users/aklie/data/datasets/Horlacher_HepG2_CLIP/processed/2023_12_29/encode/CSTF2T/CSTF2T_eCLIP_2.bam\n",
      "/cellar/users/aklie/data/datasets/Horlacher_HepG2_CLIP/processed/2023_12_29/encode/ENCFF208OVE.bam /cellar/users/aklie/data/datasets/Horlacher_HepG2_CLIP/processed/2023_12_29/encode/CSTF2T/CSTF2T_eCLIP_1.bam\n",
      "/cellar/users/aklie/data/datasets/Horlacher_HepG2_CLIP/processed/2023_12_29/encode/ENCFF021KOR.bam /cellar/users/aklie/data/datasets/Horlacher_HepG2_CLIP/processed/2023_12_29/encode/SLTM/SLTM_eCLIP_2.bam\n",
      "/cellar/users/aklie/data/datasets/Horlacher_HepG2_CLIP/processed/2023_12_29/encode/ENCFF201XIY.bam /cellar/users/aklie/data/datasets/Horlacher_HepG2_CLIP/processed/2023_12_29/encode/SLTM/SLTM_eCLIP_1.bam\n",
      "/cellar/users/aklie/data/datasets/Horlacher_HepG2_CLIP/processed/2023_12_29/encode/ENCFF600AXE.bam /cellar/users/aklie/data/datasets/Horlacher_HepG2_CLIP/processed/2023_12_29/encode/SUGP2/SUGP2_eCLIP_1.bam\n",
      "/cellar/users/aklie/data/datasets/Horlacher_HepG2_CLIP/processed/2023_12_29/encode/ENCFF699QMT.bam /cellar/users/aklie/data/datasets/Horlacher_HepG2_CLIP/processed/2023_12_29/encode/SUGP2/SUGP2_eCLIP_2.bam\n",
      "/cellar/users/aklie/data/datasets/Horlacher_HepG2_CLIP/processed/2023_12_29/encode/ENCFF414UFZ.bam /cellar/users/aklie/data/datasets/Horlacher_HepG2_CLIP/processed/2023_12_29/encode/DGCR8/DGCR8_eCLIP_1.bam\n",
      "/cellar/users/aklie/data/datasets/Horlacher_HepG2_CLIP/processed/2023_12_29/encode/ENCFF960NPN.bam /cellar/users/aklie/data/datasets/Horlacher_HepG2_CLIP/processed/2023_12_29/encode/DGCR8/DGCR8_eCLIP_2.bam\n",
      "/cellar/users/aklie/data/datasets/Horlacher_HepG2_CLIP/processed/2023_12_29/encode/ENCFF405PYI.bam /cellar/users/aklie/data/datasets/Horlacher_HepG2_CLIP/processed/2023_12_29/encode/NOLC1/NOLC1_eCLIP_2.bam\n",
      "/cellar/users/aklie/data/datasets/Horlacher_HepG2_CLIP/processed/2023_12_29/encode/ENCFF329FPZ.bam /cellar/users/aklie/data/datasets/Horlacher_HepG2_CLIP/processed/2023_12_29/encode/NOLC1/NOLC1_eCLIP_1.bam\n",
      "/cellar/users/aklie/data/datasets/Horlacher_HepG2_CLIP/processed/2023_12_29/encode/ENCFF810ZZO.bam /cellar/users/aklie/data/datasets/Horlacher_HepG2_CLIP/processed/2023_12_29/encode/EIF3H/EIF3H_eCLIP_1.bam\n",
      "/cellar/users/aklie/data/datasets/Horlacher_HepG2_CLIP/processed/2023_12_29/encode/ENCFF815GWX.bam /cellar/users/aklie/data/datasets/Horlacher_HepG2_CLIP/processed/2023_12_29/encode/EIF3H/EIF3H_eCLIP_2.bam\n",
      "/cellar/users/aklie/data/datasets/Horlacher_HepG2_CLIP/processed/2023_12_29/encode/ENCFF756VXR.bam /cellar/users/aklie/data/datasets/Horlacher_HepG2_CLIP/processed/2023_12_29/encode/Lin28B/Lin28B_eCLIP_1.bam\n",
      "/cellar/users/aklie/data/datasets/Horlacher_HepG2_CLIP/processed/2023_12_29/encode/ENCFF284RSI.bam /cellar/users/aklie/data/datasets/Horlacher_HepG2_CLIP/processed/2023_12_29/encode/Lin28B/Lin28B_eCLIP_2.bam\n",
      "/cellar/users/aklie/data/datasets/Horlacher_HepG2_CLIP/processed/2023_12_29/encode/ENCFF070DMZ.bam /cellar/users/aklie/data/datasets/Horlacher_HepG2_CLIP/processed/2023_12_29/encode/AGGF1/AGGF1_conrol_1.bam\n",
      "/cellar/users/aklie/data/datasets/Horlacher_HepG2_CLIP/processed/2023_12_29/encode/ENCFF038LJH.bam /cellar/users/aklie/data/datasets/Horlacher_HepG2_CLIP/processed/2023_12_29/encode/DKC1/DKC1_conrol_1.bam\n",
      "/cellar/users/aklie/data/datasets/Horlacher_HepG2_CLIP/processed/2023_12_29/encode/ENCFF889YGM.bam /cellar/users/aklie/data/datasets/Horlacher_HepG2_CLIP/processed/2023_12_29/encode/FAM120A/FAM120A_eCLIP_2.bam\n",
      "/cellar/users/aklie/data/datasets/Horlacher_HepG2_CLIP/processed/2023_12_29/encode/ENCFF704TQZ.bam /cellar/users/aklie/data/datasets/Horlacher_HepG2_CLIP/processed/2023_12_29/encode/FAM120A/FAM120A_eCLIP_1.bam\n",
      "/cellar/users/aklie/data/datasets/Horlacher_HepG2_CLIP/processed/2023_12_29/encode/ENCFF025DXI.bam /cellar/users/aklie/data/datasets/Horlacher_HepG2_CLIP/processed/2023_12_29/encode/ZC3H11A/ZC3H11A_conrol_1.bam\n",
      "/cellar/users/aklie/data/datasets/Horlacher_HepG2_CLIP/processed/2023_12_29/encode/ENCFF127GEV.bam /cellar/users/aklie/data/datasets/Horlacher_HepG2_CLIP/processed/2023_12_29/encode/CDC40/CDC40_conrol_1.bam\n",
      "/cellar/users/aklie/data/datasets/Horlacher_HepG2_CLIP/processed/2023_12_29/encode/ENCFF633FLY.bam /cellar/users/aklie/data/datasets/Horlacher_HepG2_CLIP/processed/2023_12_29/encode/HNRNPM/HNRNPM_eCLIP_2.bam\n",
      "/cellar/users/aklie/data/datasets/Horlacher_HepG2_CLIP/processed/2023_12_29/encode/ENCFF950RRY.bam /cellar/users/aklie/data/datasets/Horlacher_HepG2_CLIP/processed/2023_12_29/encode/HNRNPM/HNRNPM_eCLIP_1.bam\n",
      "/cellar/users/aklie/data/datasets/Horlacher_HepG2_CLIP/processed/2023_12_29/encode/ENCFF355NYZ.bam /cellar/users/aklie/data/datasets/Horlacher_HepG2_CLIP/processed/2023_12_29/encode/HNRNPM/HNRNPM_conrol_1.bam\n",
      "/cellar/users/aklie/data/datasets/Horlacher_HepG2_CLIP/processed/2023_12_29/encode/ENCFF060BMG.bam /cellar/users/aklie/data/datasets/Horlacher_HepG2_CLIP/processed/2023_12_29/encode/SRSF9/SRSF9_conrol_1.bam\n",
      "/cellar/users/aklie/data/datasets/Horlacher_HepG2_CLIP/processed/2023_12_29/encode/ENCFF202RTW.bam /cellar/users/aklie/data/datasets/Horlacher_HepG2_CLIP/processed/2023_12_29/encode/LARP4/LARP4_eCLIP_1.bam\n",
      "/cellar/users/aklie/data/datasets/Horlacher_HepG2_CLIP/processed/2023_12_29/encode/ENCFF259KVP.bam /cellar/users/aklie/data/datasets/Horlacher_HepG2_CLIP/processed/2023_12_29/encode/LARP4/LARP4_eCLIP_2.bam\n",
      "/cellar/users/aklie/data/datasets/Horlacher_HepG2_CLIP/processed/2023_12_29/encode/ENCFF019JFZ.bam /cellar/users/aklie/data/datasets/Horlacher_HepG2_CLIP/processed/2023_12_29/encode/HNRNPK/HNRNPK_conrol_1.bam\n",
      "/cellar/users/aklie/data/datasets/Horlacher_HepG2_CLIP/processed/2023_12_29/encode/ENCFF562QVD.bam /cellar/users/aklie/data/datasets/Horlacher_HepG2_CLIP/processed/2023_12_29/encode/RBM15/RBM15_eCLIP_1.bam\n",
      "/cellar/users/aklie/data/datasets/Horlacher_HepG2_CLIP/processed/2023_12_29/encode/ENCFF261SEG.bam /cellar/users/aklie/data/datasets/Horlacher_HepG2_CLIP/processed/2023_12_29/encode/RBM15/RBM15_eCLIP_2.bam\n",
      "/cellar/users/aklie/data/datasets/Horlacher_HepG2_CLIP/processed/2023_12_29/encode/ENCFF584DZW.bam /cellar/users/aklie/data/datasets/Horlacher_HepG2_CLIP/processed/2023_12_29/encode/XRN2/XRN2_eCLIP_2.bam\n",
      "/cellar/users/aklie/data/datasets/Horlacher_HepG2_CLIP/processed/2023_12_29/encode/ENCFF689OKB.bam /cellar/users/aklie/data/datasets/Horlacher_HepG2_CLIP/processed/2023_12_29/encode/XRN2/XRN2_eCLIP_1.bam\n",
      "/cellar/users/aklie/data/datasets/Horlacher_HepG2_CLIP/processed/2023_12_29/encode/ENCFF229LHL.bam /cellar/users/aklie/data/datasets/Horlacher_HepG2_CLIP/processed/2023_12_29/encode/GRSF1/GRSF1_conrol_1.bam\n",
      "/cellar/users/aklie/data/datasets/Horlacher_HepG2_CLIP/processed/2023_12_29/encode/ENCFF949QUQ.bam /cellar/users/aklie/data/datasets/Horlacher_HepG2_CLIP/processed/2023_12_29/encode/TBRG4/TBRG4_conrol_1.bam\n",
      "/cellar/users/aklie/data/datasets/Horlacher_HepG2_CLIP/processed/2023_12_29/encode/ENCFF125BMO.bam /cellar/users/aklie/data/datasets/Horlacher_HepG2_CLIP/processed/2023_12_29/encode/SMNDC1/SMNDC1_eCLIP_2.bam\n",
      "/cellar/users/aklie/data/datasets/Horlacher_HepG2_CLIP/processed/2023_12_29/encode/ENCFF110YDG.bam /cellar/users/aklie/data/datasets/Horlacher_HepG2_CLIP/processed/2023_12_29/encode/SMNDC1/SMNDC1_eCLIP_1.bam\n",
      "/cellar/users/aklie/data/datasets/Horlacher_HepG2_CLIP/processed/2023_12_29/encode/ENCFF125EPG.bam /cellar/users/aklie/data/datasets/Horlacher_HepG2_CLIP/processed/2023_12_29/encode/HNRNPU/HNRNPU_eCLIP_2.bam\n",
      "/cellar/users/aklie/data/datasets/Horlacher_HepG2_CLIP/processed/2023_12_29/encode/ENCFF587PLY.bam /cellar/users/aklie/data/datasets/Horlacher_HepG2_CLIP/processed/2023_12_29/encode/HNRNPU/HNRNPU_eCLIP_1.bam\n",
      "/cellar/users/aklie/data/datasets/Horlacher_HepG2_CLIP/processed/2023_12_29/encode/ENCFF015GLL.bam /cellar/users/aklie/data/datasets/Horlacher_HepG2_CLIP/processed/2023_12_29/encode/QKI/QKI_conrol_1.bam\n",
      "/cellar/users/aklie/data/datasets/Horlacher_HepG2_CLIP/processed/2023_12_29/encode/ENCFF156KLS.bam /cellar/users/aklie/data/datasets/Horlacher_HepG2_CLIP/processed/2023_12_29/encode/LSM11/LSM11_conrol_1.bam\n",
      "/cellar/users/aklie/data/datasets/Horlacher_HepG2_CLIP/processed/2023_12_29/encode/ENCFF756NJB.bam /cellar/users/aklie/data/datasets/Horlacher_HepG2_CLIP/processed/2023_12_29/encode/PPIG/PPIG_eCLIP_1.bam\n",
      "/cellar/users/aklie/data/datasets/Horlacher_HepG2_CLIP/processed/2023_12_29/encode/ENCFF555MNK.bam /cellar/users/aklie/data/datasets/Horlacher_HepG2_CLIP/processed/2023_12_29/encode/PPIG/PPIG_eCLIP_2.bam\n",
      "/cellar/users/aklie/data/datasets/Horlacher_HepG2_CLIP/processed/2023_12_29/encode/ENCFF977BAJ.bam /cellar/users/aklie/data/datasets/Horlacher_HepG2_CLIP/processed/2023_12_29/encode/BUD13/BUD13_conrol_1.bam\n",
      "/cellar/users/aklie/data/datasets/Horlacher_HepG2_CLIP/processed/2023_12_29/encode/ENCFF655LHZ.bam /cellar/users/aklie/data/datasets/Horlacher_HepG2_CLIP/processed/2023_12_29/encode/IGF2BP3/IGF2BP3_conrol_1.bam\n",
      "/cellar/users/aklie/data/datasets/Horlacher_HepG2_CLIP/processed/2023_12_29/encode/ENCFF883DQC.bam /cellar/users/aklie/data/datasets/Horlacher_HepG2_CLIP/processed/2023_12_29/encode/DGCR8/DGCR8_conrol_1.bam\n",
      "/cellar/users/aklie/data/datasets/Horlacher_HepG2_CLIP/processed/2023_12_29/encode/ENCFF635FQJ.bam /cellar/users/aklie/data/datasets/Horlacher_HepG2_CLIP/processed/2023_12_29/encode/HNRNPUL1/HNRNPUL1_conrol_1.bam\n",
      "/cellar/users/aklie/data/datasets/Horlacher_HepG2_CLIP/processed/2023_12_29/encode/ENCFF525BGY.bam /cellar/users/aklie/data/datasets/Horlacher_HepG2_CLIP/processed/2023_12_29/encode/DDX55/DDX55_conrol_1.bam\n",
      "/cellar/users/aklie/data/datasets/Horlacher_HepG2_CLIP/processed/2023_12_29/encode/ENCFF390FNJ.bam /cellar/users/aklie/data/datasets/Horlacher_HepG2_CLIP/processed/2023_12_29/encode/DDX59/DDX59_conrol_1.bam\n",
      "/cellar/users/aklie/data/datasets/Horlacher_HepG2_CLIP/processed/2023_12_29/encode/ENCFF539YZX.bam /cellar/users/aklie/data/datasets/Horlacher_HepG2_CLIP/processed/2023_12_29/encode/CSTF2T/CSTF2T_conrol_1.bam\n",
      "/cellar/users/aklie/data/datasets/Horlacher_HepG2_CLIP/processed/2023_12_29/encode/ENCFF903UGC.bam /cellar/users/aklie/data/datasets/Horlacher_HepG2_CLIP/processed/2023_12_29/encode/DDX20/DDX20_conrol_1.bam\n",
      "/cellar/users/aklie/data/datasets/Horlacher_HepG2_CLIP/processed/2023_12_29/encode/ENCFF867ISO.bam /cellar/users/aklie/data/datasets/Horlacher_HepG2_CLIP/processed/2023_12_29/encode/TRA2A/TRA2A_conrol_1.bam\n",
      "/cellar/users/aklie/data/datasets/Horlacher_HepG2_CLIP/processed/2023_12_29/encode/ENCFF561NXC.bam /cellar/users/aklie/data/datasets/Horlacher_HepG2_CLIP/processed/2023_12_29/encode/XRN2/XRN2_conrol_1.bam\n",
      "/cellar/users/aklie/data/datasets/Horlacher_HepG2_CLIP/processed/2023_12_29/encode/ENCFF228NIC.bam /cellar/users/aklie/data/datasets/Horlacher_HepG2_CLIP/processed/2023_12_29/encode/PPIG/PPIG_conrol_1.bam\n",
      "/cellar/users/aklie/data/datasets/Horlacher_HepG2_CLIP/processed/2023_12_29/encode/ENCFF881RZM.bam /cellar/users/aklie/data/datasets/Horlacher_HepG2_CLIP/processed/2023_12_29/encode/LARP4/LARP4_conrol_1.bam\n",
      "/cellar/users/aklie/data/datasets/Horlacher_HepG2_CLIP/processed/2023_12_29/encode/ENCFF204HYV.bam /cellar/users/aklie/data/datasets/Horlacher_HepG2_CLIP/processed/2023_12_29/encode/EIF3H/EIF3H_conrol_1.bam\n",
      "/cellar/users/aklie/data/datasets/Horlacher_HepG2_CLIP/processed/2023_12_29/encode/ENCFF615UKX.bam /cellar/users/aklie/data/datasets/Horlacher_HepG2_CLIP/processed/2023_12_29/encode/RBM22/RBM22_conrol_1.bam\n",
      "/cellar/users/aklie/data/datasets/Horlacher_HepG2_CLIP/processed/2023_12_29/encode/ENCFF026OKT.bam /cellar/users/aklie/data/datasets/Horlacher_HepG2_CLIP/processed/2023_12_29/encode/NOL12/NOL12_conrol_1.bam\n",
      "/cellar/users/aklie/data/datasets/Horlacher_HepG2_CLIP/processed/2023_12_29/encode/ENCFF949MMS.bam /cellar/users/aklie/data/datasets/Horlacher_HepG2_CLIP/processed/2023_12_29/encode/SFPQ/SFPQ_conrol_1.bam\n",
      "/cellar/users/aklie/data/datasets/Horlacher_HepG2_CLIP/processed/2023_12_29/encode/ENCFF160TWL.bam /cellar/users/aklie/data/datasets/Horlacher_HepG2_CLIP/processed/2023_12_29/encode/SRSF7/SRSF7_conrol_1.bam\n",
      "/cellar/users/aklie/data/datasets/Horlacher_HepG2_CLIP/processed/2023_12_29/encode/ENCFF885KNL.bam /cellar/users/aklie/data/datasets/Horlacher_HepG2_CLIP/processed/2023_12_29/encode/HNRNPC/HNRNPC_conrol_1.bam\n",
      "/cellar/users/aklie/data/datasets/Horlacher_HepG2_CLIP/processed/2023_12_29/encode/ENCFF062LCG.bam /cellar/users/aklie/data/datasets/Horlacher_HepG2_CLIP/processed/2023_12_29/encode/TAF15/TAF15_conrol_1.bam\n",
      "/cellar/users/aklie/data/datasets/Horlacher_HepG2_CLIP/processed/2023_12_29/encode/ENCFF986QCU.bam /cellar/users/aklie/data/datasets/Horlacher_HepG2_CLIP/processed/2023_12_29/encode/XPO5/XPO5_conrol_1.bam\n",
      "/cellar/users/aklie/data/datasets/Horlacher_HepG2_CLIP/processed/2023_12_29/encode/ENCFF240QBZ.bam /cellar/users/aklie/data/datasets/Horlacher_HepG2_CLIP/processed/2023_12_29/encode/LARP7/LARP7_conrol_1.bam\n",
      "/cellar/users/aklie/data/datasets/Horlacher_HepG2_CLIP/processed/2023_12_29/encode/ENCFF027WDY.bam /cellar/users/aklie/data/datasets/Horlacher_HepG2_CLIP/processed/2023_12_29/encode/HNRNPU/HNRNPU_conrol_1.bam\n",
      "/cellar/users/aklie/data/datasets/Horlacher_HepG2_CLIP/processed/2023_12_29/encode/ENCFF838MYV.bam /cellar/users/aklie/data/datasets/Horlacher_HepG2_CLIP/processed/2023_12_29/encode/NCBP2/NCBP2_conrol_1.bam\n",
      "/cellar/users/aklie/data/datasets/Horlacher_HepG2_CLIP/processed/2023_12_29/encode/ENCFF487PQZ.bam /cellar/users/aklie/data/datasets/Horlacher_HepG2_CLIP/processed/2023_12_29/encode/BCCIP/BCCIP_conrol_1.bam\n",
      "/cellar/users/aklie/data/datasets/Horlacher_HepG2_CLIP/processed/2023_12_29/encode/ENCFF336UXX.bam /cellar/users/aklie/data/datasets/Horlacher_HepG2_CLIP/processed/2023_12_29/encode/DHX30/DHX30_conrol_1.bam\n",
      "/cellar/users/aklie/data/datasets/Horlacher_HepG2_CLIP/processed/2023_12_29/encode/ENCFF818CAZ.bam /cellar/users/aklie/data/datasets/Horlacher_HepG2_CLIP/processed/2023_12_29/encode/PRPF8/PRPF8_conrol_1.bam\n",
      "/cellar/users/aklie/data/datasets/Horlacher_HepG2_CLIP/processed/2023_12_29/encode/ENCFF585BNE.bam /cellar/users/aklie/data/datasets/Horlacher_HepG2_CLIP/processed/2023_12_29/encode/FASTKD2/FASTKD2_conrol_1.bam\n",
      "/cellar/users/aklie/data/datasets/Horlacher_HepG2_CLIP/processed/2023_12_29/encode/ENCFF037LUF.bam /cellar/users/aklie/data/datasets/Horlacher_HepG2_CLIP/processed/2023_12_29/encode/SF3A3/SF3A3_conrol_1.bam\n",
      "/cellar/users/aklie/data/datasets/Horlacher_HepG2_CLIP/processed/2023_12_29/encode/ENCFF797RXZ.bam /cellar/users/aklie/data/datasets/Horlacher_HepG2_CLIP/processed/2023_12_29/encode/DROSHA/DROSHA_conrol_1.bam\n",
      "/cellar/users/aklie/data/datasets/Horlacher_HepG2_CLIP/processed/2023_12_29/encode/ENCFF255EGS.bam /cellar/users/aklie/data/datasets/Horlacher_HepG2_CLIP/processed/2023_12_29/encode/HNRNPL/HNRNPL_conrol_1.bam\n",
      "/cellar/users/aklie/data/datasets/Horlacher_HepG2_CLIP/processed/2023_12_29/encode/ENCFF231FYT.bam /cellar/users/aklie/data/datasets/Horlacher_HepG2_CLIP/processed/2023_12_29/encode/TNRC6A/TNRC6A_conrol_1.bam\n",
      "/cellar/users/aklie/data/datasets/Horlacher_HepG2_CLIP/processed/2023_12_29/encode/ENCFF852DRN.bam /cellar/users/aklie/data/datasets/Horlacher_HepG2_CLIP/processed/2023_12_29/encode/NOLC1/NOLC1_conrol_1.bam\n",
      "/cellar/users/aklie/data/datasets/Horlacher_HepG2_CLIP/processed/2023_12_29/encode/ENCFF190ITO.bam /cellar/users/aklie/data/datasets/Horlacher_HepG2_CLIP/processed/2023_12_29/encode/PCBP2/PCBP2_conrol_1.bam\n",
      "/cellar/users/aklie/data/datasets/Horlacher_HepG2_CLIP/processed/2023_12_29/encode/ENCFF723IPF.bam /cellar/users/aklie/data/datasets/Horlacher_HepG2_CLIP/processed/2023_12_29/encode/SUB1/SUB1_conrol_1.bam\n",
      "/cellar/users/aklie/data/datasets/Horlacher_HepG2_CLIP/processed/2023_12_29/encode/ENCFF734JUL.bam /cellar/users/aklie/data/datasets/Horlacher_HepG2_CLIP/processed/2023_12_29/encode/SUGP2/SUGP2_conrol_1.bam\n",
      "/cellar/users/aklie/data/datasets/Horlacher_HepG2_CLIP/processed/2023_12_29/encode/ENCFF774RKG.bam /cellar/users/aklie/data/datasets/Horlacher_HepG2_CLIP/processed/2023_12_29/encode/SND1/SND1_conrol_1.bam\n",
      "/cellar/users/aklie/data/datasets/Horlacher_HepG2_CLIP/processed/2023_12_29/encode/ENCFF072CLZ.bam /cellar/users/aklie/data/datasets/Horlacher_HepG2_CLIP/processed/2023_12_29/encode/SF3B4/SF3B4_conrol_1.bam\n",
      "/cellar/users/aklie/data/datasets/Horlacher_HepG2_CLIP/processed/2023_12_29/encode/ENCFF596UYR.bam /cellar/users/aklie/data/datasets/Horlacher_HepG2_CLIP/processed/2023_12_29/encode/SLTM/SLTM_conrol_1.bam\n",
      "/cellar/users/aklie/data/datasets/Horlacher_HepG2_CLIP/processed/2023_12_29/encode/ENCFF962TBZ.bam /cellar/users/aklie/data/datasets/Horlacher_HepG2_CLIP/processed/2023_12_29/encode/GTF2F1/GTF2F1_conrol_1.bam\n",
      "/cellar/users/aklie/data/datasets/Horlacher_HepG2_CLIP/processed/2023_12_29/encode/ENCFF160LFR.bam /cellar/users/aklie/data/datasets/Horlacher_HepG2_CLIP/processed/2023_12_29/encode/ILF3/ILF3_conrol_1.bam\n",
      "/cellar/users/aklie/data/datasets/Horlacher_HepG2_CLIP/processed/2023_12_29/encode/ENCFF807WFL.bam /cellar/users/aklie/data/datasets/Horlacher_HepG2_CLIP/processed/2023_12_29/encode/RBM15/RBM15_conrol_1.bam\n",
      "/cellar/users/aklie/data/datasets/Horlacher_HepG2_CLIP/processed/2023_12_29/encode/ENCFF594ZPR.bam /cellar/users/aklie/data/datasets/Horlacher_HepG2_CLIP/processed/2023_12_29/encode/XRCC6/XRCC6_conrol_1.bam\n",
      "/cellar/users/aklie/data/datasets/Horlacher_HepG2_CLIP/processed/2023_12_29/encode/ENCFF950JUB.bam /cellar/users/aklie/data/datasets/Horlacher_HepG2_CLIP/processed/2023_12_29/encode/GRWD1/GRWD1_conrol_1.bam\n",
      "/cellar/users/aklie/data/datasets/Horlacher_HepG2_CLIP/processed/2023_12_29/encode/ENCFF151VWF.bam /cellar/users/aklie/data/datasets/Horlacher_HepG2_CLIP/processed/2023_12_29/encode/UCHL5/UCHL5_conrol_1.bam\n",
      "/cellar/users/aklie/data/datasets/Horlacher_HepG2_CLIP/processed/2023_12_29/encode/ENCFF894PGH.bam /cellar/users/aklie/data/datasets/Horlacher_HepG2_CLIP/processed/2023_12_29/encode/TROVE2/TROVE2_conrol_1.bam\n",
      "/cellar/users/aklie/data/datasets/Horlacher_HepG2_CLIP/processed/2023_12_29/encode/ENCFF646LJL.bam /cellar/users/aklie/data/datasets/Horlacher_HepG2_CLIP/processed/2023_12_29/encode/RBM5/RBM5_conrol_1.bam\n",
      "/cellar/users/aklie/data/datasets/Horlacher_HepG2_CLIP/processed/2023_12_29/encode/ENCFF222TZU.bam /cellar/users/aklie/data/datasets/Horlacher_HepG2_CLIP/processed/2023_12_29/encode/EIF3D/EIF3D_conrol_1.bam\n",
      "/cellar/users/aklie/data/datasets/Horlacher_HepG2_CLIP/processed/2023_12_29/encode/ENCFF186RBL.bam /cellar/users/aklie/data/datasets/Horlacher_HepG2_CLIP/processed/2023_12_29/encode/FAM120A/FAM120A_conrol_1.bam\n",
      "/cellar/users/aklie/data/datasets/Horlacher_HepG2_CLIP/processed/2023_12_29/encode/ENCFF295MQP.bam /cellar/users/aklie/data/datasets/Horlacher_HepG2_CLIP/processed/2023_12_29/encode/PTBP1/PTBP1_eCLIP_1.bam\n",
      "/cellar/users/aklie/data/datasets/Horlacher_HepG2_CLIP/processed/2023_12_29/encode/ENCFF386UIG.bam /cellar/users/aklie/data/datasets/Horlacher_HepG2_CLIP/processed/2023_12_29/encode/PTBP1/PTBP1_eCLIP_2.bam\n",
      "/cellar/users/aklie/data/datasets/Horlacher_HepG2_CLIP/processed/2023_12_29/encode/ENCFF878TBN.bam /cellar/users/aklie/data/datasets/Horlacher_HepG2_CLIP/processed/2023_12_29/encode/FUBP3/FUBP3_conrol_1.bam\n",
      "/cellar/users/aklie/data/datasets/Horlacher_HepG2_CLIP/processed/2023_12_29/encode/ENCFF091VTP.bam /cellar/users/aklie/data/datasets/Horlacher_HepG2_CLIP/processed/2023_12_29/encode/CSTF2/CSTF2_conrol_1.bam\n",
      "/cellar/users/aklie/data/datasets/Horlacher_HepG2_CLIP/processed/2023_12_29/encode/ENCFF887TNO.bam /cellar/users/aklie/data/datasets/Horlacher_HepG2_CLIP/processed/2023_12_29/encode/DDX3X/DDX3X_conrol_1.bam\n",
      "/cellar/users/aklie/data/datasets/Horlacher_HepG2_CLIP/processed/2023_12_29/encode/ENCFF905UMJ.bam /cellar/users/aklie/data/datasets/Horlacher_HepG2_CLIP/processed/2023_12_29/encode/RPS3/RPS3_conrol_1.bam\n",
      "/cellar/users/aklie/data/datasets/Horlacher_HepG2_CLIP/processed/2023_12_29/encode/ENCFF273RFL.bam /cellar/users/aklie/data/datasets/Horlacher_HepG2_CLIP/processed/2023_12_29/encode/NKRF/NKRF_conrol_1.bam\n",
      "/cellar/users/aklie/data/datasets/Horlacher_HepG2_CLIP/processed/2023_12_29/encode/ENCFF463LHG.bam /cellar/users/aklie/data/datasets/Horlacher_HepG2_CLIP/processed/2023_12_29/encode/DDX6/DDX6_conrol_1.bam\n",
      "/cellar/users/aklie/data/datasets/Horlacher_HepG2_CLIP/processed/2023_12_29/encode/ENCFF263MRM.bam /cellar/users/aklie/data/datasets/Horlacher_HepG2_CLIP/processed/2023_12_29/encode/SMNDC1/SMNDC1_conrol_1.bam\n",
      "/cellar/users/aklie/data/datasets/Horlacher_HepG2_CLIP/processed/2023_12_29/encode/ENCFF431HUP.bam /cellar/users/aklie/data/datasets/Horlacher_HepG2_CLIP/processed/2023_12_29/encode/POLR2G/POLR2G_conrol_1.bam\n",
      "/cellar/users/aklie/data/datasets/Horlacher_HepG2_CLIP/processed/2023_12_29/encode/ENCFF467FPH.bam /cellar/users/aklie/data/datasets/Horlacher_HepG2_CLIP/processed/2023_12_29/encode/SRSF1/SRSF1_conrol_1.bam\n",
      "/cellar/users/aklie/data/datasets/Horlacher_HepG2_CLIP/processed/2023_12_29/encode/ENCFF099AXK.bam /cellar/users/aklie/data/datasets/Horlacher_HepG2_CLIP/processed/2023_12_29/encode/RPL23A/RPL23A_conrol_1.bam\n",
      "/cellar/users/aklie/data/datasets/Horlacher_HepG2_CLIP/processed/2023_12_29/encode/ENCFF369GNR.bam /cellar/users/aklie/data/datasets/Horlacher_HepG2_CLIP/processed/2023_12_29/encode/SUPV3L1/SUPV3L1_conrol_1.bam\n",
      "/cellar/users/aklie/data/datasets/Horlacher_HepG2_CLIP/processed/2023_12_29/encode/ENCFF895BNM.bam /cellar/users/aklie/data/datasets/Horlacher_HepG2_CLIP/processed/2023_12_29/encode/PTBP1/PTBP1_conrol_1.bam\n",
      "/cellar/users/aklie/data/datasets/Horlacher_HepG2_CLIP/processed/2023_12_29/encode/ENCFF794ILP.bam /cellar/users/aklie/data/datasets/Horlacher_HepG2_CLIP/processed/2023_12_29/encode/MATR3/MATR3_conrol_1.bam\n",
      "/cellar/users/aklie/data/datasets/Horlacher_HepG2_CLIP/processed/2023_12_29/encode/ENCFF685EEV.bam /cellar/users/aklie/data/datasets/Horlacher_HepG2_CLIP/processed/2023_12_29/encode/RPS5/RPS5_conrol_1.bam\n"
     ]
    }
   ],
   "source": [
    "for from_file, to_file in full_map.to_dict().items():\n",
    "    if not os.path.exists(from_file):\n",
    "        print(f\"{from_file} does not exist\")\n",
    "    target = to_file.split(\"/\")[-1].split(\"_\")[0]\n",
    "    target_dir = os.path.join(download_dir, target)\n",
    "    if not os.path.exists(target_dir):\n",
    "        os.makedirs(target_dir)\n",
    "    to_file = os.path.join(target_dir, to_file)\n",
    "    print(from_file, to_file)\n",
    "    os.system(f\"mv {from_file} {to_file}\")"
   ]
  },
  {
   "cell_type": "code",
   "execution_count": 110,
   "id": "de0bb6b5-9c12-4b41-a411-f1bf99976ff3",
   "metadata": {
    "execution": {
     "iopub.execute_input": "2023-12-29T15:44:41.183109Z",
     "iopub.status.busy": "2023-12-29T15:44:41.182909Z",
     "iopub.status.idle": "2023-12-29T15:45:43.831832Z",
     "shell.execute_reply": "2023-12-29T15:45:43.831401Z",
     "shell.execute_reply.started": "2023-12-29T15:44:41.183092Z"
    },
    "tags": []
   },
   "outputs": [
    {
     "name": "stdout",
     "output_type": "stream",
     "text": [
      "/cellar/users/aklie/data/datasets/Horlacher_HepG2_CLIP/processed/2023_12_29/encode/G3BP1/G3BP1_conrol_1.bam /cellar/users/aklie/data/datasets/Horlacher_HepG2_CLIP/processed/2023_12_29/encode/G3BP1/G3BP1_control_1.bam\n",
      "/cellar/users/aklie/data/datasets/Horlacher_HepG2_CLIP/processed/2023_12_29/encode/NIP7/NIP7_conrol_1.bam /cellar/users/aklie/data/datasets/Horlacher_HepG2_CLIP/processed/2023_12_29/encode/NIP7/NIP7_control_1.bam\n",
      "/cellar/users/aklie/data/datasets/Horlacher_HepG2_CLIP/processed/2023_12_29/encode/BCLAF1/BCLAF1_conrol_1.bam /cellar/users/aklie/data/datasets/Horlacher_HepG2_CLIP/processed/2023_12_29/encode/BCLAF1/BCLAF1_control_1.bam\n",
      "/cellar/users/aklie/data/datasets/Horlacher_HepG2_CLIP/processed/2023_12_29/encode/AKAP1/AKAP1_conrol_1.bam /cellar/users/aklie/data/datasets/Horlacher_HepG2_CLIP/processed/2023_12_29/encode/AKAP1/AKAP1_control_1.bam\n",
      "/cellar/users/aklie/data/datasets/Horlacher_HepG2_CLIP/processed/2023_12_29/encode/AKAP1/AKAP1_eCLIP_2.bam /cellar/users/aklie/data/datasets/Horlacher_HepG2_CLIP/processed/2023_12_29/encode/AKAP1/AKAP1_eCLIP_2.bam\n"
     ]
    },
    {
     "name": "stderr",
     "output_type": "stream",
     "text": [
      "mv: '/cellar/users/aklie/data/datasets/Horlacher_HepG2_CLIP/processed/2023_12_29/encode/AKAP1/AKAP1_eCLIP_2.bam' and '/cellar/users/aklie/data/datasets/Horlacher_HepG2_CLIP/processed/2023_12_29/encode/AKAP1/AKAP1_eCLIP_2.bam' are the same file\n",
      "mv: '/cellar/users/aklie/data/datasets/Horlacher_HepG2_CLIP/processed/2023_12_29/encode/AKAP1/AKAP1_eCLIP_1.bam' and '/cellar/users/aklie/data/datasets/Horlacher_HepG2_CLIP/processed/2023_12_29/encode/AKAP1/AKAP1_eCLIP_1.bam' are the same file\n"
     ]
    },
    {
     "name": "stdout",
     "output_type": "stream",
     "text": [
      "/cellar/users/aklie/data/datasets/Horlacher_HepG2_CLIP/processed/2023_12_29/encode/AKAP1/AKAP1_eCLIP_1.bam /cellar/users/aklie/data/datasets/Horlacher_HepG2_CLIP/processed/2023_12_29/encode/AKAP1/AKAP1_eCLIP_1.bam\n",
      "/cellar/users/aklie/data/datasets/Horlacher_HepG2_CLIP/processed/2023_12_29/encode/UPF1/UPF1_eCLIP_1.bam /cellar/users/aklie/data/datasets/Horlacher_HepG2_CLIP/processed/2023_12_29/encode/UPF1/UPF1_eCLIP_1.bam\n"
     ]
    },
    {
     "name": "stderr",
     "output_type": "stream",
     "text": [
      "mv: '/cellar/users/aklie/data/datasets/Horlacher_HepG2_CLIP/processed/2023_12_29/encode/UPF1/UPF1_eCLIP_1.bam' and '/cellar/users/aklie/data/datasets/Horlacher_HepG2_CLIP/processed/2023_12_29/encode/UPF1/UPF1_eCLIP_1.bam' are the same file\n",
      "mv: '/cellar/users/aklie/data/datasets/Horlacher_HepG2_CLIP/processed/2023_12_29/encode/UPF1/UPF1_eCLIP_2.bam' and '/cellar/users/aklie/data/datasets/Horlacher_HepG2_CLIP/processed/2023_12_29/encode/UPF1/UPF1_eCLIP_2.bam' are the same file\n"
     ]
    },
    {
     "name": "stdout",
     "output_type": "stream",
     "text": [
      "/cellar/users/aklie/data/datasets/Horlacher_HepG2_CLIP/processed/2023_12_29/encode/UPF1/UPF1_eCLIP_2.bam /cellar/users/aklie/data/datasets/Horlacher_HepG2_CLIP/processed/2023_12_29/encode/UPF1/UPF1_eCLIP_2.bam\n",
      "/cellar/users/aklie/data/datasets/Horlacher_HepG2_CLIP/processed/2023_12_29/encode/SAFB/SAFB_eCLIP_2.bam /cellar/users/aklie/data/datasets/Horlacher_HepG2_CLIP/processed/2023_12_29/encode/SAFB/SAFB_eCLIP_2.bam\n"
     ]
    },
    {
     "name": "stderr",
     "output_type": "stream",
     "text": [
      "mv: '/cellar/users/aklie/data/datasets/Horlacher_HepG2_CLIP/processed/2023_12_29/encode/SAFB/SAFB_eCLIP_2.bam' and '/cellar/users/aklie/data/datasets/Horlacher_HepG2_CLIP/processed/2023_12_29/encode/SAFB/SAFB_eCLIP_2.bam' are the same file\n",
      "mv: '/cellar/users/aklie/data/datasets/Horlacher_HepG2_CLIP/processed/2023_12_29/encode/SAFB/SAFB_eCLIP_1.bam' and '/cellar/users/aklie/data/datasets/Horlacher_HepG2_CLIP/processed/2023_12_29/encode/SAFB/SAFB_eCLIP_1.bam' are the same file\n"
     ]
    },
    {
     "name": "stdout",
     "output_type": "stream",
     "text": [
      "/cellar/users/aklie/data/datasets/Horlacher_HepG2_CLIP/processed/2023_12_29/encode/SAFB/SAFB_eCLIP_1.bam /cellar/users/aklie/data/datasets/Horlacher_HepG2_CLIP/processed/2023_12_29/encode/SAFB/SAFB_eCLIP_1.bam\n",
      "/cellar/users/aklie/data/datasets/Horlacher_HepG2_CLIP/processed/2023_12_29/encode/TIAL1/TIAL1_eCLIP_2.bam /cellar/users/aklie/data/datasets/Horlacher_HepG2_CLIP/processed/2023_12_29/encode/TIAL1/TIAL1_eCLIP_2.bam\n"
     ]
    },
    {
     "name": "stderr",
     "output_type": "stream",
     "text": [
      "mv: '/cellar/users/aklie/data/datasets/Horlacher_HepG2_CLIP/processed/2023_12_29/encode/TIAL1/TIAL1_eCLIP_2.bam' and '/cellar/users/aklie/data/datasets/Horlacher_HepG2_CLIP/processed/2023_12_29/encode/TIAL1/TIAL1_eCLIP_2.bam' are the same file\n",
      "mv: '/cellar/users/aklie/data/datasets/Horlacher_HepG2_CLIP/processed/2023_12_29/encode/TIAL1/TIAL1_eCLIP_1.bam' and '/cellar/users/aklie/data/datasets/Horlacher_HepG2_CLIP/processed/2023_12_29/encode/TIAL1/TIAL1_eCLIP_1.bam' are the same file\n"
     ]
    },
    {
     "name": "stdout",
     "output_type": "stream",
     "text": [
      "/cellar/users/aklie/data/datasets/Horlacher_HepG2_CLIP/processed/2023_12_29/encode/TIAL1/TIAL1_eCLIP_1.bam /cellar/users/aklie/data/datasets/Horlacher_HepG2_CLIP/processed/2023_12_29/encode/TIAL1/TIAL1_eCLIP_1.bam\n",
      "/cellar/users/aklie/data/datasets/Horlacher_HepG2_CLIP/processed/2023_12_29/encode/FUS/FUS_conrol_1.bam /cellar/users/aklie/data/datasets/Horlacher_HepG2_CLIP/processed/2023_12_29/encode/FUS/FUS_control_1.bam\n",
      "/cellar/users/aklie/data/datasets/Horlacher_HepG2_CLIP/processed/2023_12_29/encode/AQR/AQR_eCLIP_1.bam /cellar/users/aklie/data/datasets/Horlacher_HepG2_CLIP/processed/2023_12_29/encode/AQR/AQR_eCLIP_1.bam\n",
      "/cellar/users/aklie/data/datasets/Horlacher_HepG2_CLIP/processed/2023_12_29/encode/AQR/AQR_eCLIP_2.bam /cellar/users/aklie/data/datasets/Horlacher_HepG2_CLIP/processed/2023_12_29/encode/AQR/AQR_eCLIP_2.bam\n"
     ]
    },
    {
     "name": "stderr",
     "output_type": "stream",
     "text": [
      "mv: '/cellar/users/aklie/data/datasets/Horlacher_HepG2_CLIP/processed/2023_12_29/encode/AQR/AQR_eCLIP_1.bam' and '/cellar/users/aklie/data/datasets/Horlacher_HepG2_CLIP/processed/2023_12_29/encode/AQR/AQR_eCLIP_1.bam' are the same file\n",
      "mv: '/cellar/users/aklie/data/datasets/Horlacher_HepG2_CLIP/processed/2023_12_29/encode/AQR/AQR_eCLIP_2.bam' and '/cellar/users/aklie/data/datasets/Horlacher_HepG2_CLIP/processed/2023_12_29/encode/AQR/AQR_eCLIP_2.bam' are the same file\n"
     ]
    },
    {
     "name": "stdout",
     "output_type": "stream",
     "text": [
      "/cellar/users/aklie/data/datasets/Horlacher_HepG2_CLIP/processed/2023_12_29/encode/NSUN2/NSUN2_eCLIP_2.bam /cellar/users/aklie/data/datasets/Horlacher_HepG2_CLIP/processed/2023_12_29/encode/NSUN2/NSUN2_eCLIP_2.bam\n",
      "/cellar/users/aklie/data/datasets/Horlacher_HepG2_CLIP/processed/2023_12_29/encode/NSUN2/NSUN2_eCLIP_1.bam /cellar/users/aklie/data/datasets/Horlacher_HepG2_CLIP/processed/2023_12_29/encode/NSUN2/NSUN2_eCLIP_1.bam\n"
     ]
    },
    {
     "name": "stderr",
     "output_type": "stream",
     "text": [
      "mv: '/cellar/users/aklie/data/datasets/Horlacher_HepG2_CLIP/processed/2023_12_29/encode/NSUN2/NSUN2_eCLIP_2.bam' and '/cellar/users/aklie/data/datasets/Horlacher_HepG2_CLIP/processed/2023_12_29/encode/NSUN2/NSUN2_eCLIP_2.bam' are the same file\n",
      "mv: '/cellar/users/aklie/data/datasets/Horlacher_HepG2_CLIP/processed/2023_12_29/encode/NSUN2/NSUN2_eCLIP_1.bam' and '/cellar/users/aklie/data/datasets/Horlacher_HepG2_CLIP/processed/2023_12_29/encode/NSUN2/NSUN2_eCLIP_1.bam' are the same file\n"
     ]
    },
    {
     "name": "stdout",
     "output_type": "stream",
     "text": [
      "/cellar/users/aklie/data/datasets/Horlacher_HepG2_CLIP/processed/2023_12_29/encode/NSUN2/NSUN2_eCLIP_2.bam /cellar/users/aklie/data/datasets/Horlacher_HepG2_CLIP/processed/2023_12_29/encode/NSUN2/NSUN2_eCLIP_2.bam\n"
     ]
    },
    {
     "name": "stderr",
     "output_type": "stream",
     "text": [
      "mv: '/cellar/users/aklie/data/datasets/Horlacher_HepG2_CLIP/processed/2023_12_29/encode/NSUN2/NSUN2_eCLIP_2.bam' and '/cellar/users/aklie/data/datasets/Horlacher_HepG2_CLIP/processed/2023_12_29/encode/NSUN2/NSUN2_eCLIP_2.bam' are the same file\n",
      "mv: '/cellar/users/aklie/data/datasets/Horlacher_HepG2_CLIP/processed/2023_12_29/encode/NSUN2/NSUN2_eCLIP_1.bam' and '/cellar/users/aklie/data/datasets/Horlacher_HepG2_CLIP/processed/2023_12_29/encode/NSUN2/NSUN2_eCLIP_1.bam' are the same file\n"
     ]
    },
    {
     "name": "stdout",
     "output_type": "stream",
     "text": [
      "/cellar/users/aklie/data/datasets/Horlacher_HepG2_CLIP/processed/2023_12_29/encode/NSUN2/NSUN2_eCLIP_1.bam /cellar/users/aklie/data/datasets/Horlacher_HepG2_CLIP/processed/2023_12_29/encode/NSUN2/NSUN2_eCLIP_1.bam\n",
      "/cellar/users/aklie/data/datasets/Horlacher_HepG2_CLIP/processed/2023_12_29/encode/TARDBP/TARDBP_eCLIP_2.bam /cellar/users/aklie/data/datasets/Horlacher_HepG2_CLIP/processed/2023_12_29/encode/TARDBP/TARDBP_eCLIP_2.bam\n"
     ]
    },
    {
     "name": "stderr",
     "output_type": "stream",
     "text": [
      "mv: '/cellar/users/aklie/data/datasets/Horlacher_HepG2_CLIP/processed/2023_12_29/encode/TARDBP/TARDBP_eCLIP_2.bam' and '/cellar/users/aklie/data/datasets/Horlacher_HepG2_CLIP/processed/2023_12_29/encode/TARDBP/TARDBP_eCLIP_2.bam' are the same file\n",
      "mv: '/cellar/users/aklie/data/datasets/Horlacher_HepG2_CLIP/processed/2023_12_29/encode/TARDBP/TARDBP_eCLIP_1.bam' and '/cellar/users/aklie/data/datasets/Horlacher_HepG2_CLIP/processed/2023_12_29/encode/TARDBP/TARDBP_eCLIP_1.bam' are the same file\n"
     ]
    },
    {
     "name": "stdout",
     "output_type": "stream",
     "text": [
      "/cellar/users/aklie/data/datasets/Horlacher_HepG2_CLIP/processed/2023_12_29/encode/TARDBP/TARDBP_eCLIP_1.bam /cellar/users/aklie/data/datasets/Horlacher_HepG2_CLIP/processed/2023_12_29/encode/TARDBP/TARDBP_eCLIP_1.bam\n",
      "/cellar/users/aklie/data/datasets/Horlacher_HepG2_CLIP/processed/2023_12_29/encode/TARDBP/TARDBP_eCLIP_2.bam /cellar/users/aklie/data/datasets/Horlacher_HepG2_CLIP/processed/2023_12_29/encode/TARDBP/TARDBP_eCLIP_2.bam\n"
     ]
    },
    {
     "name": "stderr",
     "output_type": "stream",
     "text": [
      "mv: '/cellar/users/aklie/data/datasets/Horlacher_HepG2_CLIP/processed/2023_12_29/encode/TARDBP/TARDBP_eCLIP_2.bam' and '/cellar/users/aklie/data/datasets/Horlacher_HepG2_CLIP/processed/2023_12_29/encode/TARDBP/TARDBP_eCLIP_2.bam' are the same file\n",
      "mv: '/cellar/users/aklie/data/datasets/Horlacher_HepG2_CLIP/processed/2023_12_29/encode/TARDBP/TARDBP_eCLIP_1.bam' and '/cellar/users/aklie/data/datasets/Horlacher_HepG2_CLIP/processed/2023_12_29/encode/TARDBP/TARDBP_eCLIP_1.bam' are the same file\n"
     ]
    },
    {
     "name": "stdout",
     "output_type": "stream",
     "text": [
      "/cellar/users/aklie/data/datasets/Horlacher_HepG2_CLIP/processed/2023_12_29/encode/TARDBP/TARDBP_eCLIP_1.bam /cellar/users/aklie/data/datasets/Horlacher_HepG2_CLIP/processed/2023_12_29/encode/TARDBP/TARDBP_eCLIP_1.bam\n",
      "/cellar/users/aklie/data/datasets/Horlacher_HepG2_CLIP/processed/2023_12_29/encode/G3BP1/G3BP1_eCLIP_1.bam /cellar/users/aklie/data/datasets/Horlacher_HepG2_CLIP/processed/2023_12_29/encode/G3BP1/G3BP1_eCLIP_1.bam\n"
     ]
    },
    {
     "name": "stderr",
     "output_type": "stream",
     "text": [
      "mv: '/cellar/users/aklie/data/datasets/Horlacher_HepG2_CLIP/processed/2023_12_29/encode/G3BP1/G3BP1_eCLIP_1.bam' and '/cellar/users/aklie/data/datasets/Horlacher_HepG2_CLIP/processed/2023_12_29/encode/G3BP1/G3BP1_eCLIP_1.bam' are the same file\n",
      "mv: '/cellar/users/aklie/data/datasets/Horlacher_HepG2_CLIP/processed/2023_12_29/encode/G3BP1/G3BP1_eCLIP_2.bam' and '/cellar/users/aklie/data/datasets/Horlacher_HepG2_CLIP/processed/2023_12_29/encode/G3BP1/G3BP1_eCLIP_2.bam' are the same file\n"
     ]
    },
    {
     "name": "stdout",
     "output_type": "stream",
     "text": [
      "/cellar/users/aklie/data/datasets/Horlacher_HepG2_CLIP/processed/2023_12_29/encode/G3BP1/G3BP1_eCLIP_2.bam /cellar/users/aklie/data/datasets/Horlacher_HepG2_CLIP/processed/2023_12_29/encode/G3BP1/G3BP1_eCLIP_2.bam\n",
      "/cellar/users/aklie/data/datasets/Horlacher_HepG2_CLIP/processed/2023_12_29/encode/SDAD1/SDAD1_eCLIP_1.bam /cellar/users/aklie/data/datasets/Horlacher_HepG2_CLIP/processed/2023_12_29/encode/SDAD1/SDAD1_eCLIP_1.bam\n"
     ]
    },
    {
     "name": "stderr",
     "output_type": "stream",
     "text": [
      "mv: '/cellar/users/aklie/data/datasets/Horlacher_HepG2_CLIP/processed/2023_12_29/encode/SDAD1/SDAD1_eCLIP_1.bam' and '/cellar/users/aklie/data/datasets/Horlacher_HepG2_CLIP/processed/2023_12_29/encode/SDAD1/SDAD1_eCLIP_1.bam' are the same file\n",
      "mv: '/cellar/users/aklie/data/datasets/Horlacher_HepG2_CLIP/processed/2023_12_29/encode/SDAD1/SDAD1_eCLIP_2.bam' and '/cellar/users/aklie/data/datasets/Horlacher_HepG2_CLIP/processed/2023_12_29/encode/SDAD1/SDAD1_eCLIP_2.bam' are the same file\n"
     ]
    },
    {
     "name": "stdout",
     "output_type": "stream",
     "text": [
      "/cellar/users/aklie/data/datasets/Horlacher_HepG2_CLIP/processed/2023_12_29/encode/SDAD1/SDAD1_eCLIP_2.bam /cellar/users/aklie/data/datasets/Horlacher_HepG2_CLIP/processed/2023_12_29/encode/SDAD1/SDAD1_eCLIP_2.bam\n",
      "/cellar/users/aklie/data/datasets/Horlacher_HepG2_CLIP/processed/2023_12_29/encode/ZNF800/ZNF800_eCLIP_2.bam /cellar/users/aklie/data/datasets/Horlacher_HepG2_CLIP/processed/2023_12_29/encode/ZNF800/ZNF800_eCLIP_2.bam\n"
     ]
    },
    {
     "name": "stderr",
     "output_type": "stream",
     "text": [
      "mv: '/cellar/users/aklie/data/datasets/Horlacher_HepG2_CLIP/processed/2023_12_29/encode/ZNF800/ZNF800_eCLIP_2.bam' and '/cellar/users/aklie/data/datasets/Horlacher_HepG2_CLIP/processed/2023_12_29/encode/ZNF800/ZNF800_eCLIP_2.bam' are the same file\n",
      "mv: '/cellar/users/aklie/data/datasets/Horlacher_HepG2_CLIP/processed/2023_12_29/encode/ZNF800/ZNF800_eCLIP_1.bam' and '/cellar/users/aklie/data/datasets/Horlacher_HepG2_CLIP/processed/2023_12_29/encode/ZNF800/ZNF800_eCLIP_1.bam' are the same file\n"
     ]
    },
    {
     "name": "stdout",
     "output_type": "stream",
     "text": [
      "/cellar/users/aklie/data/datasets/Horlacher_HepG2_CLIP/processed/2023_12_29/encode/ZNF800/ZNF800_eCLIP_1.bam /cellar/users/aklie/data/datasets/Horlacher_HepG2_CLIP/processed/2023_12_29/encode/ZNF800/ZNF800_eCLIP_1.bam\n",
      "/cellar/users/aklie/data/datasets/Horlacher_HepG2_CLIP/processed/2023_12_29/encode/FUS/FUS_eCLIP_2.bam /cellar/users/aklie/data/datasets/Horlacher_HepG2_CLIP/processed/2023_12_29/encode/FUS/FUS_eCLIP_2.bam\n"
     ]
    },
    {
     "name": "stderr",
     "output_type": "stream",
     "text": [
      "mv: '/cellar/users/aklie/data/datasets/Horlacher_HepG2_CLIP/processed/2023_12_29/encode/FUS/FUS_eCLIP_2.bam' and '/cellar/users/aklie/data/datasets/Horlacher_HepG2_CLIP/processed/2023_12_29/encode/FUS/FUS_eCLIP_2.bam' are the same file\n",
      "mv: '/cellar/users/aklie/data/datasets/Horlacher_HepG2_CLIP/processed/2023_12_29/encode/FUS/FUS_eCLIP_1.bam' and '/cellar/users/aklie/data/datasets/Horlacher_HepG2_CLIP/processed/2023_12_29/encode/FUS/FUS_eCLIP_1.bam' are the same file\n"
     ]
    },
    {
     "name": "stdout",
     "output_type": "stream",
     "text": [
      "/cellar/users/aklie/data/datasets/Horlacher_HepG2_CLIP/processed/2023_12_29/encode/FUS/FUS_eCLIP_1.bam /cellar/users/aklie/data/datasets/Horlacher_HepG2_CLIP/processed/2023_12_29/encode/FUS/FUS_eCLIP_1.bam\n",
      "/cellar/users/aklie/data/datasets/Horlacher_HepG2_CLIP/processed/2023_12_29/encode/STAU2/STAU2_eCLIP_1.bam /cellar/users/aklie/data/datasets/Horlacher_HepG2_CLIP/processed/2023_12_29/encode/STAU2/STAU2_eCLIP_1.bam\n"
     ]
    },
    {
     "name": "stderr",
     "output_type": "stream",
     "text": [
      "mv: '/cellar/users/aklie/data/datasets/Horlacher_HepG2_CLIP/processed/2023_12_29/encode/STAU2/STAU2_eCLIP_1.bam' and '/cellar/users/aklie/data/datasets/Horlacher_HepG2_CLIP/processed/2023_12_29/encode/STAU2/STAU2_eCLIP_1.bam' are the same file\n"
     ]
    },
    {
     "name": "stdout",
     "output_type": "stream",
     "text": [
      "/cellar/users/aklie/data/datasets/Horlacher_HepG2_CLIP/processed/2023_12_29/encode/STAU2/STAU2_eCLIP_2.bam /cellar/users/aklie/data/datasets/Horlacher_HepG2_CLIP/processed/2023_12_29/encode/STAU2/STAU2_eCLIP_2.bam\n"
     ]
    },
    {
     "name": "stderr",
     "output_type": "stream",
     "text": [
      "mv: '/cellar/users/aklie/data/datasets/Horlacher_HepG2_CLIP/processed/2023_12_29/encode/STAU2/STAU2_eCLIP_2.bam' and '/cellar/users/aklie/data/datasets/Horlacher_HepG2_CLIP/processed/2023_12_29/encode/STAU2/STAU2_eCLIP_2.bam' are the same file\n"
     ]
    },
    {
     "name": "stdout",
     "output_type": "stream",
     "text": [
      "/cellar/users/aklie/data/datasets/Horlacher_HepG2_CLIP/processed/2023_12_29/encode/UTP18/UTP18_conrol_1.bam /cellar/users/aklie/data/datasets/Horlacher_HepG2_CLIP/processed/2023_12_29/encode/UTP18/UTP18_control_1.bam\n",
      "/cellar/users/aklie/data/datasets/Horlacher_HepG2_CLIP/processed/2023_12_29/encode/SAFB/SAFB_conrol_1.bam /cellar/users/aklie/data/datasets/Horlacher_HepG2_CLIP/processed/2023_12_29/encode/SAFB/SAFB_control_1.bam\n",
      "/cellar/users/aklie/data/datasets/Horlacher_HepG2_CLIP/processed/2023_12_29/encode/SSB/SSB_eCLIP_2.bam /cellar/users/aklie/data/datasets/Horlacher_HepG2_CLIP/processed/2023_12_29/encode/SSB/SSB_eCLIP_2.bam\n",
      "/cellar/users/aklie/data/datasets/Horlacher_HepG2_CLIP/processed/2023_12_29/encode/SSB/SSB_eCLIP_1.bam /cellar/users/aklie/data/datasets/Horlacher_HepG2_CLIP/processed/2023_12_29/encode/SSB/SSB_eCLIP_1.bam\n"
     ]
    },
    {
     "name": "stderr",
     "output_type": "stream",
     "text": [
      "mv: '/cellar/users/aklie/data/datasets/Horlacher_HepG2_CLIP/processed/2023_12_29/encode/SSB/SSB_eCLIP_2.bam' and '/cellar/users/aklie/data/datasets/Horlacher_HepG2_CLIP/processed/2023_12_29/encode/SSB/SSB_eCLIP_2.bam' are the same file\n",
      "mv: '/cellar/users/aklie/data/datasets/Horlacher_HepG2_CLIP/processed/2023_12_29/encode/SSB/SSB_eCLIP_1.bam' and '/cellar/users/aklie/data/datasets/Horlacher_HepG2_CLIP/processed/2023_12_29/encode/SSB/SSB_eCLIP_1.bam' are the same file\n"
     ]
    },
    {
     "name": "stdout",
     "output_type": "stream",
     "text": [
      "/cellar/users/aklie/data/datasets/Horlacher_HepG2_CLIP/processed/2023_12_29/encode/FTO/FTO_conrol_1.bam /cellar/users/aklie/data/datasets/Horlacher_HepG2_CLIP/processed/2023_12_29/encode/FTO/FTO_control_1.bam\n",
      "/cellar/users/aklie/data/datasets/Horlacher_HepG2_CLIP/processed/2023_12_29/encode/DDX52/DDX52_eCLIP_1.bam /cellar/users/aklie/data/datasets/Horlacher_HepG2_CLIP/processed/2023_12_29/encode/DDX52/DDX52_eCLIP_1.bam\n"
     ]
    },
    {
     "name": "stderr",
     "output_type": "stream",
     "text": [
      "mv: '/cellar/users/aklie/data/datasets/Horlacher_HepG2_CLIP/processed/2023_12_29/encode/DDX52/DDX52_eCLIP_1.bam' and '/cellar/users/aklie/data/datasets/Horlacher_HepG2_CLIP/processed/2023_12_29/encode/DDX52/DDX52_eCLIP_1.bam' are the same file\n",
      "mv: '/cellar/users/aklie/data/datasets/Horlacher_HepG2_CLIP/processed/2023_12_29/encode/DDX52/DDX52_eCLIP_2.bam' and '/cellar/users/aklie/data/datasets/Horlacher_HepG2_CLIP/processed/2023_12_29/encode/DDX52/DDX52_eCLIP_2.bam' are the same file\n"
     ]
    },
    {
     "name": "stdout",
     "output_type": "stream",
     "text": [
      "/cellar/users/aklie/data/datasets/Horlacher_HepG2_CLIP/processed/2023_12_29/encode/DDX52/DDX52_eCLIP_2.bam /cellar/users/aklie/data/datasets/Horlacher_HepG2_CLIP/processed/2023_12_29/encode/DDX52/DDX52_eCLIP_2.bam\n",
      "/cellar/users/aklie/data/datasets/Horlacher_HepG2_CLIP/processed/2023_12_29/encode/BCLAF1/BCLAF1_eCLIP_1.bam /cellar/users/aklie/data/datasets/Horlacher_HepG2_CLIP/processed/2023_12_29/encode/BCLAF1/BCLAF1_eCLIP_1.bam\n"
     ]
    },
    {
     "name": "stderr",
     "output_type": "stream",
     "text": [
      "mv: '/cellar/users/aklie/data/datasets/Horlacher_HepG2_CLIP/processed/2023_12_29/encode/BCLAF1/BCLAF1_eCLIP_1.bam' and '/cellar/users/aklie/data/datasets/Horlacher_HepG2_CLIP/processed/2023_12_29/encode/BCLAF1/BCLAF1_eCLIP_1.bam' are the same file\n",
      "mv: '/cellar/users/aklie/data/datasets/Horlacher_HepG2_CLIP/processed/2023_12_29/encode/BCLAF1/BCLAF1_eCLIP_2.bam' and '/cellar/users/aklie/data/datasets/Horlacher_HepG2_CLIP/processed/2023_12_29/encode/BCLAF1/BCLAF1_eCLIP_2.bam' are the same file\n"
     ]
    },
    {
     "name": "stdout",
     "output_type": "stream",
     "text": [
      "/cellar/users/aklie/data/datasets/Horlacher_HepG2_CLIP/processed/2023_12_29/encode/BCLAF1/BCLAF1_eCLIP_2.bam /cellar/users/aklie/data/datasets/Horlacher_HepG2_CLIP/processed/2023_12_29/encode/BCLAF1/BCLAF1_eCLIP_2.bam\n",
      "/cellar/users/aklie/data/datasets/Horlacher_HepG2_CLIP/processed/2023_12_29/encode/NIP7/NIP7_eCLIP_1.bam /cellar/users/aklie/data/datasets/Horlacher_HepG2_CLIP/processed/2023_12_29/encode/NIP7/NIP7_eCLIP_1.bam\n"
     ]
    },
    {
     "name": "stderr",
     "output_type": "stream",
     "text": [
      "mv: '/cellar/users/aklie/data/datasets/Horlacher_HepG2_CLIP/processed/2023_12_29/encode/NIP7/NIP7_eCLIP_1.bam' and '/cellar/users/aklie/data/datasets/Horlacher_HepG2_CLIP/processed/2023_12_29/encode/NIP7/NIP7_eCLIP_1.bam' are the same file\n",
      "mv: '/cellar/users/aklie/data/datasets/Horlacher_HepG2_CLIP/processed/2023_12_29/encode/NIP7/NIP7_eCLIP_2.bam' and '/cellar/users/aklie/data/datasets/Horlacher_HepG2_CLIP/processed/2023_12_29/encode/NIP7/NIP7_eCLIP_2.bam' are the same file\n"
     ]
    },
    {
     "name": "stdout",
     "output_type": "stream",
     "text": [
      "/cellar/users/aklie/data/datasets/Horlacher_HepG2_CLIP/processed/2023_12_29/encode/NIP7/NIP7_eCLIP_2.bam /cellar/users/aklie/data/datasets/Horlacher_HepG2_CLIP/processed/2023_12_29/encode/NIP7/NIP7_eCLIP_2.bam\n",
      "/cellar/users/aklie/data/datasets/Horlacher_HepG2_CLIP/processed/2023_12_29/encode/HLTF/HLTF_eCLIP_1.bam /cellar/users/aklie/data/datasets/Horlacher_HepG2_CLIP/processed/2023_12_29/encode/HLTF/HLTF_eCLIP_1.bam\n"
     ]
    },
    {
     "name": "stderr",
     "output_type": "stream",
     "text": [
      "mv: '/cellar/users/aklie/data/datasets/Horlacher_HepG2_CLIP/processed/2023_12_29/encode/HLTF/HLTF_eCLIP_1.bam' and '/cellar/users/aklie/data/datasets/Horlacher_HepG2_CLIP/processed/2023_12_29/encode/HLTF/HLTF_eCLIP_1.bam' are the same file\n",
      "mv: '/cellar/users/aklie/data/datasets/Horlacher_HepG2_CLIP/processed/2023_12_29/encode/HLTF/HLTF_eCLIP_2.bam' and '/cellar/users/aklie/data/datasets/Horlacher_HepG2_CLIP/processed/2023_12_29/encode/HLTF/HLTF_eCLIP_2.bam' are the same file\n"
     ]
    },
    {
     "name": "stdout",
     "output_type": "stream",
     "text": [
      "/cellar/users/aklie/data/datasets/Horlacher_HepG2_CLIP/processed/2023_12_29/encode/HLTF/HLTF_eCLIP_2.bam /cellar/users/aklie/data/datasets/Horlacher_HepG2_CLIP/processed/2023_12_29/encode/HLTF/HLTF_eCLIP_2.bam\n",
      "/cellar/users/aklie/data/datasets/Horlacher_HepG2_CLIP/processed/2023_12_29/encode/PRPF4/PRPF4_conrol_1.bam /cellar/users/aklie/data/datasets/Horlacher_HepG2_CLIP/processed/2023_12_29/encode/PRPF4/PRPF4_control_1.bam\n",
      "/cellar/users/aklie/data/datasets/Horlacher_HepG2_CLIP/processed/2023_12_29/encode/EXOSC5/EXOSC5_conrol_1.bam /cellar/users/aklie/data/datasets/Horlacher_HepG2_CLIP/processed/2023_12_29/encode/EXOSC5/EXOSC5_control_1.bam\n",
      "/cellar/users/aklie/data/datasets/Horlacher_HepG2_CLIP/processed/2023_12_29/encode/EXOSC5/EXOSC5_eCLIP_1.bam /cellar/users/aklie/data/datasets/Horlacher_HepG2_CLIP/processed/2023_12_29/encode/EXOSC5/EXOSC5_eCLIP_1.bam\n",
      "/cellar/users/aklie/data/datasets/Horlacher_HepG2_CLIP/processed/2023_12_29/encode/EXOSC5/EXOSC5_eCLIP_2.bam /cellar/users/aklie/data/datasets/Horlacher_HepG2_CLIP/processed/2023_12_29/encode/EXOSC5/EXOSC5_eCLIP_2.bam\n"
     ]
    },
    {
     "name": "stderr",
     "output_type": "stream",
     "text": [
      "mv: '/cellar/users/aklie/data/datasets/Horlacher_HepG2_CLIP/processed/2023_12_29/encode/EXOSC5/EXOSC5_eCLIP_1.bam' and '/cellar/users/aklie/data/datasets/Horlacher_HepG2_CLIP/processed/2023_12_29/encode/EXOSC5/EXOSC5_eCLIP_1.bam' are the same file\n",
      "mv: '/cellar/users/aklie/data/datasets/Horlacher_HepG2_CLIP/processed/2023_12_29/encode/EXOSC5/EXOSC5_eCLIP_2.bam' and '/cellar/users/aklie/data/datasets/Horlacher_HepG2_CLIP/processed/2023_12_29/encode/EXOSC5/EXOSC5_eCLIP_2.bam' are the same file\n"
     ]
    },
    {
     "name": "stdout",
     "output_type": "stream",
     "text": [
      "/cellar/users/aklie/data/datasets/Horlacher_HepG2_CLIP/processed/2023_12_29/encode/UPF1/UPF1_conrol_1.bam /cellar/users/aklie/data/datasets/Horlacher_HepG2_CLIP/processed/2023_12_29/encode/UPF1/UPF1_control_1.bam\n",
      "/cellar/users/aklie/data/datasets/Horlacher_HepG2_CLIP/processed/2023_12_29/encode/YBX3/YBX3_eCLIP_1.bam /cellar/users/aklie/data/datasets/Horlacher_HepG2_CLIP/processed/2023_12_29/encode/YBX3/YBX3_eCLIP_1.bam\n"
     ]
    },
    {
     "name": "stderr",
     "output_type": "stream",
     "text": [
      "mv: '/cellar/users/aklie/data/datasets/Horlacher_HepG2_CLIP/processed/2023_12_29/encode/YBX3/YBX3_eCLIP_1.bam' and '/cellar/users/aklie/data/datasets/Horlacher_HepG2_CLIP/processed/2023_12_29/encode/YBX3/YBX3_eCLIP_1.bam' are the same file\n",
      "mv: '/cellar/users/aklie/data/datasets/Horlacher_HepG2_CLIP/processed/2023_12_29/encode/YBX3/YBX3_eCLIP_2.bam' and '/cellar/users/aklie/data/datasets/Horlacher_HepG2_CLIP/processed/2023_12_29/encode/YBX3/YBX3_eCLIP_2.bam' are the same file\n"
     ]
    },
    {
     "name": "stdout",
     "output_type": "stream",
     "text": [
      "/cellar/users/aklie/data/datasets/Horlacher_HepG2_CLIP/processed/2023_12_29/encode/YBX3/YBX3_eCLIP_2.bam /cellar/users/aklie/data/datasets/Horlacher_HepG2_CLIP/processed/2023_12_29/encode/YBX3/YBX3_eCLIP_2.bam\n",
      "/cellar/users/aklie/data/datasets/Horlacher_HepG2_CLIP/processed/2023_12_29/encode/WDR43/WDR43_conrol_1.bam /cellar/users/aklie/data/datasets/Horlacher_HepG2_CLIP/processed/2023_12_29/encode/WDR43/WDR43_control_1.bam\n",
      "/cellar/users/aklie/data/datasets/Horlacher_HepG2_CLIP/processed/2023_12_29/encode/PRPF4/PRPF4_eCLIP_1.bam /cellar/users/aklie/data/datasets/Horlacher_HepG2_CLIP/processed/2023_12_29/encode/PRPF4/PRPF4_eCLIP_1.bam\n",
      "/cellar/users/aklie/data/datasets/Horlacher_HepG2_CLIP/processed/2023_12_29/encode/PRPF4/PRPF4_eCLIP_2.bam /cellar/users/aklie/data/datasets/Horlacher_HepG2_CLIP/processed/2023_12_29/encode/PRPF4/PRPF4_eCLIP_2.bam\n"
     ]
    },
    {
     "name": "stderr",
     "output_type": "stream",
     "text": [
      "mv: '/cellar/users/aklie/data/datasets/Horlacher_HepG2_CLIP/processed/2023_12_29/encode/PRPF4/PRPF4_eCLIP_1.bam' and '/cellar/users/aklie/data/datasets/Horlacher_HepG2_CLIP/processed/2023_12_29/encode/PRPF4/PRPF4_eCLIP_1.bam' are the same file\n",
      "mv: '/cellar/users/aklie/data/datasets/Horlacher_HepG2_CLIP/processed/2023_12_29/encode/PRPF4/PRPF4_eCLIP_2.bam' and '/cellar/users/aklie/data/datasets/Horlacher_HepG2_CLIP/processed/2023_12_29/encode/PRPF4/PRPF4_eCLIP_2.bam' are the same file\n"
     ]
    },
    {
     "name": "stdout",
     "output_type": "stream",
     "text": [
      "/cellar/users/aklie/data/datasets/Horlacher_HepG2_CLIP/processed/2023_12_29/encode/KHSRP/KHSRP_eCLIP_1.bam /cellar/users/aklie/data/datasets/Horlacher_HepG2_CLIP/processed/2023_12_29/encode/KHSRP/KHSRP_eCLIP_1.bam\n"
     ]
    },
    {
     "name": "stderr",
     "output_type": "stream",
     "text": [
      "mv: '/cellar/users/aklie/data/datasets/Horlacher_HepG2_CLIP/processed/2023_12_29/encode/KHSRP/KHSRP_eCLIP_1.bam' and '/cellar/users/aklie/data/datasets/Horlacher_HepG2_CLIP/processed/2023_12_29/encode/KHSRP/KHSRP_eCLIP_1.bam' are the same file\n",
      "mv: '/cellar/users/aklie/data/datasets/Horlacher_HepG2_CLIP/processed/2023_12_29/encode/KHSRP/KHSRP_eCLIP_2.bam' and '/cellar/users/aklie/data/datasets/Horlacher_HepG2_CLIP/processed/2023_12_29/encode/KHSRP/KHSRP_eCLIP_2.bam' are the same file\n"
     ]
    },
    {
     "name": "stdout",
     "output_type": "stream",
     "text": [
      "/cellar/users/aklie/data/datasets/Horlacher_HepG2_CLIP/processed/2023_12_29/encode/KHSRP/KHSRP_eCLIP_2.bam /cellar/users/aklie/data/datasets/Horlacher_HepG2_CLIP/processed/2023_12_29/encode/KHSRP/KHSRP_eCLIP_2.bam\n",
      "/cellar/users/aklie/data/datasets/Horlacher_HepG2_CLIP/processed/2023_12_29/encode/WDR43/WDR43_eCLIP_1.bam /cellar/users/aklie/data/datasets/Horlacher_HepG2_CLIP/processed/2023_12_29/encode/WDR43/WDR43_eCLIP_1.bam\n"
     ]
    },
    {
     "name": "stderr",
     "output_type": "stream",
     "text": [
      "mv: '/cellar/users/aklie/data/datasets/Horlacher_HepG2_CLIP/processed/2023_12_29/encode/WDR43/WDR43_eCLIP_1.bam' and '/cellar/users/aklie/data/datasets/Horlacher_HepG2_CLIP/processed/2023_12_29/encode/WDR43/WDR43_eCLIP_1.bam' are the same file\n",
      "mv: '/cellar/users/aklie/data/datasets/Horlacher_HepG2_CLIP/processed/2023_12_29/encode/WDR43/WDR43_eCLIP_2.bam' and '/cellar/users/aklie/data/datasets/Horlacher_HepG2_CLIP/processed/2023_12_29/encode/WDR43/WDR43_eCLIP_2.bam' are the same file\n"
     ]
    },
    {
     "name": "stdout",
     "output_type": "stream",
     "text": [
      "/cellar/users/aklie/data/datasets/Horlacher_HepG2_CLIP/processed/2023_12_29/encode/WDR43/WDR43_eCLIP_2.bam /cellar/users/aklie/data/datasets/Horlacher_HepG2_CLIP/processed/2023_12_29/encode/WDR43/WDR43_eCLIP_2.bam\n",
      "/cellar/users/aklie/data/datasets/Horlacher_HepG2_CLIP/processed/2023_12_29/encode/PCBP1/PCBP1_conrol_1.bam /cellar/users/aklie/data/datasets/Horlacher_HepG2_CLIP/processed/2023_12_29/encode/PCBP1/PCBP1_control_1.bam\n",
      "/cellar/users/aklie/data/datasets/Horlacher_HepG2_CLIP/processed/2023_12_29/encode/YBX3/YBX3_conrol_1.bam /cellar/users/aklie/data/datasets/Horlacher_HepG2_CLIP/processed/2023_12_29/encode/YBX3/YBX3_control_1.bam\n",
      "/cellar/users/aklie/data/datasets/Horlacher_HepG2_CLIP/processed/2023_12_29/encode/UTP18/UTP18_eCLIP_2.bam /cellar/users/aklie/data/datasets/Horlacher_HepG2_CLIP/processed/2023_12_29/encode/UTP18/UTP18_eCLIP_2.bam\n"
     ]
    },
    {
     "name": "stderr",
     "output_type": "stream",
     "text": [
      "mv: '/cellar/users/aklie/data/datasets/Horlacher_HepG2_CLIP/processed/2023_12_29/encode/UTP18/UTP18_eCLIP_2.bam' and '/cellar/users/aklie/data/datasets/Horlacher_HepG2_CLIP/processed/2023_12_29/encode/UTP18/UTP18_eCLIP_2.bam' are the same file\n",
      "mv: '/cellar/users/aklie/data/datasets/Horlacher_HepG2_CLIP/processed/2023_12_29/encode/UTP18/UTP18_eCLIP_1.bam' and '/cellar/users/aklie/data/datasets/Horlacher_HepG2_CLIP/processed/2023_12_29/encode/UTP18/UTP18_eCLIP_1.bam' are the same file\n"
     ]
    },
    {
     "name": "stdout",
     "output_type": "stream",
     "text": [
      "/cellar/users/aklie/data/datasets/Horlacher_HepG2_CLIP/processed/2023_12_29/encode/UTP18/UTP18_eCLIP_1.bam /cellar/users/aklie/data/datasets/Horlacher_HepG2_CLIP/processed/2023_12_29/encode/UTP18/UTP18_eCLIP_1.bam\n",
      "/cellar/users/aklie/data/datasets/Horlacher_HepG2_CLIP/processed/2023_12_29/encode/SDAD1/SDAD1_conrol_1.bam /cellar/users/aklie/data/datasets/Horlacher_HepG2_CLIP/processed/2023_12_29/encode/SDAD1/SDAD1_control_1.bam\n",
      "/cellar/users/aklie/data/datasets/Horlacher_HepG2_CLIP/processed/2023_12_29/encode/FTO/FTO_eCLIP_1.bam /cellar/users/aklie/data/datasets/Horlacher_HepG2_CLIP/processed/2023_12_29/encode/FTO/FTO_eCLIP_1.bam\n",
      "/cellar/users/aklie/data/datasets/Horlacher_HepG2_CLIP/processed/2023_12_29/encode/FTO/FTO_eCLIP_2.bam /cellar/users/aklie/data/datasets/Horlacher_HepG2_CLIP/processed/2023_12_29/encode/FTO/FTO_eCLIP_2.bam\n"
     ]
    },
    {
     "name": "stderr",
     "output_type": "stream",
     "text": [
      "mv: '/cellar/users/aklie/data/datasets/Horlacher_HepG2_CLIP/processed/2023_12_29/encode/FTO/FTO_eCLIP_1.bam' and '/cellar/users/aklie/data/datasets/Horlacher_HepG2_CLIP/processed/2023_12_29/encode/FTO/FTO_eCLIP_1.bam' are the same file\n",
      "mv: '/cellar/users/aklie/data/datasets/Horlacher_HepG2_CLIP/processed/2023_12_29/encode/FTO/FTO_eCLIP_2.bam' and '/cellar/users/aklie/data/datasets/Horlacher_HepG2_CLIP/processed/2023_12_29/encode/FTO/FTO_eCLIP_2.bam' are the same file\n"
     ]
    },
    {
     "name": "stdout",
     "output_type": "stream",
     "text": [
      "/cellar/users/aklie/data/datasets/Horlacher_HepG2_CLIP/processed/2023_12_29/encode/FXR2/FXR2_conrol_1.bam /cellar/users/aklie/data/datasets/Horlacher_HepG2_CLIP/processed/2023_12_29/encode/FXR2/FXR2_control_1.bam\n",
      "/cellar/users/aklie/data/datasets/Horlacher_HepG2_CLIP/processed/2023_12_29/encode/PABPN1/PABPN1_eCLIP_2.bam /cellar/users/aklie/data/datasets/Horlacher_HepG2_CLIP/processed/2023_12_29/encode/PABPN1/PABPN1_eCLIP_2.bam\n"
     ]
    },
    {
     "name": "stderr",
     "output_type": "stream",
     "text": [
      "mv: '/cellar/users/aklie/data/datasets/Horlacher_HepG2_CLIP/processed/2023_12_29/encode/PABPN1/PABPN1_eCLIP_2.bam' and '/cellar/users/aklie/data/datasets/Horlacher_HepG2_CLIP/processed/2023_12_29/encode/PABPN1/PABPN1_eCLIP_2.bam' are the same file\n",
      "mv: '/cellar/users/aklie/data/datasets/Horlacher_HepG2_CLIP/processed/2023_12_29/encode/PABPN1/PABPN1_eCLIP_1.bam' and '/cellar/users/aklie/data/datasets/Horlacher_HepG2_CLIP/processed/2023_12_29/encode/PABPN1/PABPN1_eCLIP_1.bam' are the same file\n"
     ]
    },
    {
     "name": "stdout",
     "output_type": "stream",
     "text": [
      "/cellar/users/aklie/data/datasets/Horlacher_HepG2_CLIP/processed/2023_12_29/encode/PABPN1/PABPN1_eCLIP_1.bam /cellar/users/aklie/data/datasets/Horlacher_HepG2_CLIP/processed/2023_12_29/encode/PABPN1/PABPN1_eCLIP_1.bam\n",
      "/cellar/users/aklie/data/datasets/Horlacher_HepG2_CLIP/processed/2023_12_29/encode/PCBP1/PCBP1_eCLIP_2.bam /cellar/users/aklie/data/datasets/Horlacher_HepG2_CLIP/processed/2023_12_29/encode/PCBP1/PCBP1_eCLIP_2.bam\n"
     ]
    },
    {
     "name": "stderr",
     "output_type": "stream",
     "text": [
      "mv: '/cellar/users/aklie/data/datasets/Horlacher_HepG2_CLIP/processed/2023_12_29/encode/PCBP1/PCBP1_eCLIP_2.bam' and '/cellar/users/aklie/data/datasets/Horlacher_HepG2_CLIP/processed/2023_12_29/encode/PCBP1/PCBP1_eCLIP_2.bam' are the same file\n",
      "mv: '/cellar/users/aklie/data/datasets/Horlacher_HepG2_CLIP/processed/2023_12_29/encode/PCBP1/PCBP1_eCLIP_1.bam' and '/cellar/users/aklie/data/datasets/Horlacher_HepG2_CLIP/processed/2023_12_29/encode/PCBP1/PCBP1_eCLIP_1.bam' are the same file\n"
     ]
    },
    {
     "name": "stdout",
     "output_type": "stream",
     "text": [
      "/cellar/users/aklie/data/datasets/Horlacher_HepG2_CLIP/processed/2023_12_29/encode/PCBP1/PCBP1_eCLIP_1.bam /cellar/users/aklie/data/datasets/Horlacher_HepG2_CLIP/processed/2023_12_29/encode/PCBP1/PCBP1_eCLIP_1.bam\n",
      "/cellar/users/aklie/data/datasets/Horlacher_HepG2_CLIP/processed/2023_12_29/encode/SSB/SSB_conrol_1.bam /cellar/users/aklie/data/datasets/Horlacher_HepG2_CLIP/processed/2023_12_29/encode/SSB/SSB_control_1.bam\n",
      "/cellar/users/aklie/data/datasets/Horlacher_HepG2_CLIP/processed/2023_12_29/encode/STAU2/STAU2_conrol_1.bam /cellar/users/aklie/data/datasets/Horlacher_HepG2_CLIP/processed/2023_12_29/encode/STAU2/STAU2_control_1.bam\n",
      "/cellar/users/aklie/data/datasets/Horlacher_HepG2_CLIP/processed/2023_12_29/encode/AQR/AQR_conrol_1.bam /cellar/users/aklie/data/datasets/Horlacher_HepG2_CLIP/processed/2023_12_29/encode/AQR/AQR_control_1.bam\n",
      "/cellar/users/aklie/data/datasets/Horlacher_HepG2_CLIP/processed/2023_12_29/encode/ZNF800/ZNF800_conrol_1.bam /cellar/users/aklie/data/datasets/Horlacher_HepG2_CLIP/processed/2023_12_29/encode/ZNF800/ZNF800_control_1.bam\n",
      "/cellar/users/aklie/data/datasets/Horlacher_HepG2_CLIP/processed/2023_12_29/encode/HLTF/HLTF_conrol_1.bam /cellar/users/aklie/data/datasets/Horlacher_HepG2_CLIP/processed/2023_12_29/encode/HLTF/HLTF_control_1.bam\n",
      "/cellar/users/aklie/data/datasets/Horlacher_HepG2_CLIP/processed/2023_12_29/encode/TIAL1/TIAL1_conrol_1.bam /cellar/users/aklie/data/datasets/Horlacher_HepG2_CLIP/processed/2023_12_29/encode/TIAL1/TIAL1_control_1.bam\n",
      "/cellar/users/aklie/data/datasets/Horlacher_HepG2_CLIP/processed/2023_12_29/encode/KHSRP/KHSRP_conrol_1.bam /cellar/users/aklie/data/datasets/Horlacher_HepG2_CLIP/processed/2023_12_29/encode/KHSRP/KHSRP_control_1.bam\n",
      "/cellar/users/aklie/data/datasets/Horlacher_HepG2_CLIP/processed/2023_12_29/encode/PABPN1/PABPN1_conrol_1.bam /cellar/users/aklie/data/datasets/Horlacher_HepG2_CLIP/processed/2023_12_29/encode/PABPN1/PABPN1_control_1.bam\n",
      "/cellar/users/aklie/data/datasets/Horlacher_HepG2_CLIP/processed/2023_12_29/encode/FXR2/FXR2_eCLIP_1.bam /cellar/users/aklie/data/datasets/Horlacher_HepG2_CLIP/processed/2023_12_29/encode/FXR2/FXR2_eCLIP_1.bam\n"
     ]
    },
    {
     "name": "stderr",
     "output_type": "stream",
     "text": [
      "mv: '/cellar/users/aklie/data/datasets/Horlacher_HepG2_CLIP/processed/2023_12_29/encode/FXR2/FXR2_eCLIP_1.bam' and '/cellar/users/aklie/data/datasets/Horlacher_HepG2_CLIP/processed/2023_12_29/encode/FXR2/FXR2_eCLIP_1.bam' are the same file\n",
      "mv: '/cellar/users/aklie/data/datasets/Horlacher_HepG2_CLIP/processed/2023_12_29/encode/FXR2/FXR2_eCLIP_2.bam' and '/cellar/users/aklie/data/datasets/Horlacher_HepG2_CLIP/processed/2023_12_29/encode/FXR2/FXR2_eCLIP_2.bam' are the same file\n"
     ]
    },
    {
     "name": "stdout",
     "output_type": "stream",
     "text": [
      "/cellar/users/aklie/data/datasets/Horlacher_HepG2_CLIP/processed/2023_12_29/encode/FXR2/FXR2_eCLIP_2.bam /cellar/users/aklie/data/datasets/Horlacher_HepG2_CLIP/processed/2023_12_29/encode/FXR2/FXR2_eCLIP_2.bam\n",
      "/cellar/users/aklie/data/datasets/Horlacher_HepG2_CLIP/processed/2023_12_29/encode/DDX52/DDX52_conrol_1.bam /cellar/users/aklie/data/datasets/Horlacher_HepG2_CLIP/processed/2023_12_29/encode/DDX52/DDX52_control_1.bam\n",
      "/cellar/users/aklie/data/datasets/Horlacher_HepG2_CLIP/processed/2023_12_29/encode/TARDBP/TARDBP_conrol_1.bam /cellar/users/aklie/data/datasets/Horlacher_HepG2_CLIP/processed/2023_12_29/encode/TARDBP/TARDBP_control_1.bam\n",
      "/cellar/users/aklie/data/datasets/Horlacher_HepG2_CLIP/processed/2023_12_29/encode/TARDBP/TARDBP_conrol_1.bam /cellar/users/aklie/data/datasets/Horlacher_HepG2_CLIP/processed/2023_12_29/encode/TARDBP/TARDBP_control_1.bam\n"
     ]
    },
    {
     "name": "stderr",
     "output_type": "stream",
     "text": [
      "mv: cannot stat '/cellar/users/aklie/data/datasets/Horlacher_HepG2_CLIP/processed/2023_12_29/encode/TARDBP/TARDBP_conrol_1.bam': No such file or directory\n"
     ]
    },
    {
     "name": "stdout",
     "output_type": "stream",
     "text": [
      "/cellar/users/aklie/data/datasets/Horlacher_HepG2_CLIP/processed/2023_12_29/encode/TARDBP/TARDBP_conrol_2.bam /cellar/users/aklie/data/datasets/Horlacher_HepG2_CLIP/processed/2023_12_29/encode/TARDBP/TARDBP_control_2.bam\n",
      "/cellar/users/aklie/data/datasets/Horlacher_HepG2_CLIP/processed/2023_12_29/encode/TARDBP/TARDBP_conrol_2.bam /cellar/users/aklie/data/datasets/Horlacher_HepG2_CLIP/processed/2023_12_29/encode/TARDBP/TARDBP_control_2.bam\n"
     ]
    },
    {
     "name": "stderr",
     "output_type": "stream",
     "text": [
      "mv: cannot stat '/cellar/users/aklie/data/datasets/Horlacher_HepG2_CLIP/processed/2023_12_29/encode/TARDBP/TARDBP_conrol_2.bam': No such file or directory\n"
     ]
    },
    {
     "name": "stdout",
     "output_type": "stream",
     "text": [
      "/cellar/users/aklie/data/datasets/Horlacher_HepG2_CLIP/processed/2023_12_29/encode/NSUN2/NSUN2_conrol_1.bam /cellar/users/aklie/data/datasets/Horlacher_HepG2_CLIP/processed/2023_12_29/encode/NSUN2/NSUN2_control_1.bam\n",
      "/cellar/users/aklie/data/datasets/Horlacher_HepG2_CLIP/processed/2023_12_29/encode/NSUN2/NSUN2_conrol_2.bam /cellar/users/aklie/data/datasets/Horlacher_HepG2_CLIP/processed/2023_12_29/encode/NSUN2/NSUN2_control_2.bam\n",
      "/cellar/users/aklie/data/datasets/Horlacher_HepG2_CLIP/processed/2023_12_29/encode/NSUN2/NSUN2_conrol_1.bam /cellar/users/aklie/data/datasets/Horlacher_HepG2_CLIP/processed/2023_12_29/encode/NSUN2/NSUN2_control_1.bam\n",
      "/cellar/users/aklie/data/datasets/Horlacher_HepG2_CLIP/processed/2023_12_29/encode/NSUN2/NSUN2_conrol_2.bam /cellar/users/aklie/data/datasets/Horlacher_HepG2_CLIP/processed/2023_12_29/encode/NSUN2/NSUN2_control_2.bam\n"
     ]
    },
    {
     "name": "stderr",
     "output_type": "stream",
     "text": [
      "mv: cannot stat '/cellar/users/aklie/data/datasets/Horlacher_HepG2_CLIP/processed/2023_12_29/encode/NSUN2/NSUN2_conrol_1.bam': No such file or directory\n",
      "mv: cannot stat '/cellar/users/aklie/data/datasets/Horlacher_HepG2_CLIP/processed/2023_12_29/encode/NSUN2/NSUN2_conrol_2.bam': No such file or directory\n"
     ]
    },
    {
     "name": "stdout",
     "output_type": "stream",
     "text": [
      "/cellar/users/aklie/data/datasets/Horlacher_HepG2_CLIP/processed/2023_12_29/encode/HNRNPL/HNRNPL_eCLIP_1.bam /cellar/users/aklie/data/datasets/Horlacher_HepG2_CLIP/processed/2023_12_29/encode/HNRNPL/HNRNPL_eCLIP_1.bam\n",
      "/cellar/users/aklie/data/datasets/Horlacher_HepG2_CLIP/processed/2023_12_29/encode/HNRNPL/HNRNPL_eCLIP_2.bam /cellar/users/aklie/data/datasets/Horlacher_HepG2_CLIP/processed/2023_12_29/encode/HNRNPL/HNRNPL_eCLIP_2.bam\n"
     ]
    },
    {
     "name": "stderr",
     "output_type": "stream",
     "text": [
      "mv: '/cellar/users/aklie/data/datasets/Horlacher_HepG2_CLIP/processed/2023_12_29/encode/HNRNPL/HNRNPL_eCLIP_1.bam' and '/cellar/users/aklie/data/datasets/Horlacher_HepG2_CLIP/processed/2023_12_29/encode/HNRNPL/HNRNPL_eCLIP_1.bam' are the same file\n",
      "mv: '/cellar/users/aklie/data/datasets/Horlacher_HepG2_CLIP/processed/2023_12_29/encode/HNRNPL/HNRNPL_eCLIP_2.bam' and '/cellar/users/aklie/data/datasets/Horlacher_HepG2_CLIP/processed/2023_12_29/encode/HNRNPL/HNRNPL_eCLIP_2.bam' are the same file\n"
     ]
    },
    {
     "name": "stdout",
     "output_type": "stream",
     "text": [
      "/cellar/users/aklie/data/datasets/Horlacher_HepG2_CLIP/processed/2023_12_29/encode/XRCC6/XRCC6_eCLIP_1.bam /cellar/users/aklie/data/datasets/Horlacher_HepG2_CLIP/processed/2023_12_29/encode/XRCC6/XRCC6_eCLIP_1.bam\n",
      "/cellar/users/aklie/data/datasets/Horlacher_HepG2_CLIP/processed/2023_12_29/encode/XRCC6/XRCC6_eCLIP_2.bam /cellar/users/aklie/data/datasets/Horlacher_HepG2_CLIP/processed/2023_12_29/encode/XRCC6/XRCC6_eCLIP_2.bam\n"
     ]
    },
    {
     "name": "stderr",
     "output_type": "stream",
     "text": [
      "mv: '/cellar/users/aklie/data/datasets/Horlacher_HepG2_CLIP/processed/2023_12_29/encode/XRCC6/XRCC6_eCLIP_1.bam' and '/cellar/users/aklie/data/datasets/Horlacher_HepG2_CLIP/processed/2023_12_29/encode/XRCC6/XRCC6_eCLIP_1.bam' are the same file\n",
      "mv: '/cellar/users/aklie/data/datasets/Horlacher_HepG2_CLIP/processed/2023_12_29/encode/XRCC6/XRCC6_eCLIP_2.bam' and '/cellar/users/aklie/data/datasets/Horlacher_HepG2_CLIP/processed/2023_12_29/encode/XRCC6/XRCC6_eCLIP_2.bam' are the same file\n"
     ]
    },
    {
     "name": "stdout",
     "output_type": "stream",
     "text": [
      "/cellar/users/aklie/data/datasets/Horlacher_HepG2_CLIP/processed/2023_12_29/encode/HNRNPK/HNRNPK_eCLIP_2.bam /cellar/users/aklie/data/datasets/Horlacher_HepG2_CLIP/processed/2023_12_29/encode/HNRNPK/HNRNPK_eCLIP_2.bam\n",
      "/cellar/users/aklie/data/datasets/Horlacher_HepG2_CLIP/processed/2023_12_29/encode/HNRNPK/HNRNPK_eCLIP_1.bam /cellar/users/aklie/data/datasets/Horlacher_HepG2_CLIP/processed/2023_12_29/encode/HNRNPK/HNRNPK_eCLIP_1.bam\n"
     ]
    },
    {
     "name": "stderr",
     "output_type": "stream",
     "text": [
      "mv: '/cellar/users/aklie/data/datasets/Horlacher_HepG2_CLIP/processed/2023_12_29/encode/HNRNPK/HNRNPK_eCLIP_2.bam' and '/cellar/users/aklie/data/datasets/Horlacher_HepG2_CLIP/processed/2023_12_29/encode/HNRNPK/HNRNPK_eCLIP_2.bam' are the same file\n",
      "mv: '/cellar/users/aklie/data/datasets/Horlacher_HepG2_CLIP/processed/2023_12_29/encode/HNRNPK/HNRNPK_eCLIP_1.bam' and '/cellar/users/aklie/data/datasets/Horlacher_HepG2_CLIP/processed/2023_12_29/encode/HNRNPK/HNRNPK_eCLIP_1.bam' are the same file\n"
     ]
    },
    {
     "name": "stdout",
     "output_type": "stream",
     "text": [
      "/cellar/users/aklie/data/datasets/Horlacher_HepG2_CLIP/processed/2023_12_29/encode/RPS3/RPS3_eCLIP_1.bam /cellar/users/aklie/data/datasets/Horlacher_HepG2_CLIP/processed/2023_12_29/encode/RPS3/RPS3_eCLIP_1.bam\n",
      "/cellar/users/aklie/data/datasets/Horlacher_HepG2_CLIP/processed/2023_12_29/encode/RPS3/RPS3_eCLIP_2.bam /cellar/users/aklie/data/datasets/Horlacher_HepG2_CLIP/processed/2023_12_29/encode/RPS3/RPS3_eCLIP_2.bam\n"
     ]
    },
    {
     "name": "stderr",
     "output_type": "stream",
     "text": [
      "mv: '/cellar/users/aklie/data/datasets/Horlacher_HepG2_CLIP/processed/2023_12_29/encode/RPS3/RPS3_eCLIP_1.bam' and '/cellar/users/aklie/data/datasets/Horlacher_HepG2_CLIP/processed/2023_12_29/encode/RPS3/RPS3_eCLIP_1.bam' are the same file\n",
      "mv: '/cellar/users/aklie/data/datasets/Horlacher_HepG2_CLIP/processed/2023_12_29/encode/RPS3/RPS3_eCLIP_2.bam' and '/cellar/users/aklie/data/datasets/Horlacher_HepG2_CLIP/processed/2023_12_29/encode/RPS3/RPS3_eCLIP_2.bam' are the same file\n"
     ]
    },
    {
     "name": "stdout",
     "output_type": "stream",
     "text": [
      "/cellar/users/aklie/data/datasets/Horlacher_HepG2_CLIP/processed/2023_12_29/encode/NOL12/NOL12_eCLIP_1.bam /cellar/users/aklie/data/datasets/Horlacher_HepG2_CLIP/processed/2023_12_29/encode/NOL12/NOL12_eCLIP_1.bam\n",
      "/cellar/users/aklie/data/datasets/Horlacher_HepG2_CLIP/processed/2023_12_29/encode/NOL12/NOL12_eCLIP_2.bam /cellar/users/aklie/data/datasets/Horlacher_HepG2_CLIP/processed/2023_12_29/encode/NOL12/NOL12_eCLIP_2.bam\n"
     ]
    },
    {
     "name": "stderr",
     "output_type": "stream",
     "text": [
      "mv: '/cellar/users/aklie/data/datasets/Horlacher_HepG2_CLIP/processed/2023_12_29/encode/NOL12/NOL12_eCLIP_1.bam' and '/cellar/users/aklie/data/datasets/Horlacher_HepG2_CLIP/processed/2023_12_29/encode/NOL12/NOL12_eCLIP_1.bam' are the same file\n",
      "mv: '/cellar/users/aklie/data/datasets/Horlacher_HepG2_CLIP/processed/2023_12_29/encode/NOL12/NOL12_eCLIP_2.bam' and '/cellar/users/aklie/data/datasets/Horlacher_HepG2_CLIP/processed/2023_12_29/encode/NOL12/NOL12_eCLIP_2.bam' are the same file\n"
     ]
    },
    {
     "name": "stdout",
     "output_type": "stream",
     "text": [
      "/cellar/users/aklie/data/datasets/Horlacher_HepG2_CLIP/processed/2023_12_29/encode/DHX30/DHX30_eCLIP_1.bam /cellar/users/aklie/data/datasets/Horlacher_HepG2_CLIP/processed/2023_12_29/encode/DHX30/DHX30_eCLIP_1.bam\n",
      "/cellar/users/aklie/data/datasets/Horlacher_HepG2_CLIP/processed/2023_12_29/encode/DHX30/DHX30_eCLIP_2.bam /cellar/users/aklie/data/datasets/Horlacher_HepG2_CLIP/processed/2023_12_29/encode/DHX30/DHX30_eCLIP_2.bam\n"
     ]
    },
    {
     "name": "stderr",
     "output_type": "stream",
     "text": [
      "mv: '/cellar/users/aklie/data/datasets/Horlacher_HepG2_CLIP/processed/2023_12_29/encode/DHX30/DHX30_eCLIP_1.bam' and '/cellar/users/aklie/data/datasets/Horlacher_HepG2_CLIP/processed/2023_12_29/encode/DHX30/DHX30_eCLIP_1.bam' are the same file\n",
      "mv: '/cellar/users/aklie/data/datasets/Horlacher_HepG2_CLIP/processed/2023_12_29/encode/DHX30/DHX30_eCLIP_2.bam' and '/cellar/users/aklie/data/datasets/Horlacher_HepG2_CLIP/processed/2023_12_29/encode/DHX30/DHX30_eCLIP_2.bam' are the same file\n"
     ]
    },
    {
     "name": "stdout",
     "output_type": "stream",
     "text": [
      "/cellar/users/aklie/data/datasets/Horlacher_HepG2_CLIP/processed/2023_12_29/encode/HNRNPC/HNRNPC_eCLIP_2.bam /cellar/users/aklie/data/datasets/Horlacher_HepG2_CLIP/processed/2023_12_29/encode/HNRNPC/HNRNPC_eCLIP_2.bam\n",
      "/cellar/users/aklie/data/datasets/Horlacher_HepG2_CLIP/processed/2023_12_29/encode/HNRNPC/HNRNPC_eCLIP_1.bam /cellar/users/aklie/data/datasets/Horlacher_HepG2_CLIP/processed/2023_12_29/encode/HNRNPC/HNRNPC_eCLIP_1.bam\n"
     ]
    },
    {
     "name": "stderr",
     "output_type": "stream",
     "text": [
      "mv: '/cellar/users/aklie/data/datasets/Horlacher_HepG2_CLIP/processed/2023_12_29/encode/HNRNPC/HNRNPC_eCLIP_2.bam' and '/cellar/users/aklie/data/datasets/Horlacher_HepG2_CLIP/processed/2023_12_29/encode/HNRNPC/HNRNPC_eCLIP_2.bam' are the same file\n",
      "mv: '/cellar/users/aklie/data/datasets/Horlacher_HepG2_CLIP/processed/2023_12_29/encode/HNRNPC/HNRNPC_eCLIP_1.bam' and '/cellar/users/aklie/data/datasets/Horlacher_HepG2_CLIP/processed/2023_12_29/encode/HNRNPC/HNRNPC_eCLIP_1.bam' are the same file\n"
     ]
    },
    {
     "name": "stdout",
     "output_type": "stream",
     "text": [
      "/cellar/users/aklie/data/datasets/Horlacher_HepG2_CLIP/processed/2023_12_29/encode/SF3B4/SF3B4_eCLIP_1.bam /cellar/users/aklie/data/datasets/Horlacher_HepG2_CLIP/processed/2023_12_29/encode/SF3B4/SF3B4_eCLIP_1.bam\n",
      "/cellar/users/aklie/data/datasets/Horlacher_HepG2_CLIP/processed/2023_12_29/encode/SF3B4/SF3B4_eCLIP_2.bam /cellar/users/aklie/data/datasets/Horlacher_HepG2_CLIP/processed/2023_12_29/encode/SF3B4/SF3B4_eCLIP_2.bam\n"
     ]
    },
    {
     "name": "stderr",
     "output_type": "stream",
     "text": [
      "mv: '/cellar/users/aklie/data/datasets/Horlacher_HepG2_CLIP/processed/2023_12_29/encode/SF3B4/SF3B4_eCLIP_1.bam' and '/cellar/users/aklie/data/datasets/Horlacher_HepG2_CLIP/processed/2023_12_29/encode/SF3B4/SF3B4_eCLIP_1.bam' are the same file\n",
      "mv: '/cellar/users/aklie/data/datasets/Horlacher_HepG2_CLIP/processed/2023_12_29/encode/SF3B4/SF3B4_eCLIP_2.bam' and '/cellar/users/aklie/data/datasets/Horlacher_HepG2_CLIP/processed/2023_12_29/encode/SF3B4/SF3B4_eCLIP_2.bam' are the same file\n"
     ]
    },
    {
     "name": "stdout",
     "output_type": "stream",
     "text": [
      "/cellar/users/aklie/data/datasets/Horlacher_HepG2_CLIP/processed/2023_12_29/encode/SFPQ/SFPQ_eCLIP_2.bam /cellar/users/aklie/data/datasets/Horlacher_HepG2_CLIP/processed/2023_12_29/encode/SFPQ/SFPQ_eCLIP_2.bam\n",
      "/cellar/users/aklie/data/datasets/Horlacher_HepG2_CLIP/processed/2023_12_29/encode/SFPQ/SFPQ_eCLIP_1.bam /cellar/users/aklie/data/datasets/Horlacher_HepG2_CLIP/processed/2023_12_29/encode/SFPQ/SFPQ_eCLIP_1.bam\n"
     ]
    },
    {
     "name": "stderr",
     "output_type": "stream",
     "text": [
      "mv: '/cellar/users/aklie/data/datasets/Horlacher_HepG2_CLIP/processed/2023_12_29/encode/SFPQ/SFPQ_eCLIP_2.bam' and '/cellar/users/aklie/data/datasets/Horlacher_HepG2_CLIP/processed/2023_12_29/encode/SFPQ/SFPQ_eCLIP_2.bam' are the same file\n",
      "mv: '/cellar/users/aklie/data/datasets/Horlacher_HepG2_CLIP/processed/2023_12_29/encode/SFPQ/SFPQ_eCLIP_1.bam' and '/cellar/users/aklie/data/datasets/Horlacher_HepG2_CLIP/processed/2023_12_29/encode/SFPQ/SFPQ_eCLIP_1.bam' are the same file\n"
     ]
    },
    {
     "name": "stdout",
     "output_type": "stream",
     "text": [
      "/cellar/users/aklie/data/datasets/Horlacher_HepG2_CLIP/processed/2023_12_29/encode/DDX55/DDX55_eCLIP_2.bam /cellar/users/aklie/data/datasets/Horlacher_HepG2_CLIP/processed/2023_12_29/encode/DDX55/DDX55_eCLIP_2.bam\n",
      "/cellar/users/aklie/data/datasets/Horlacher_HepG2_CLIP/processed/2023_12_29/encode/DDX55/DDX55_eCLIP_1.bam /cellar/users/aklie/data/datasets/Horlacher_HepG2_CLIP/processed/2023_12_29/encode/DDX55/DDX55_eCLIP_1.bam\n"
     ]
    },
    {
     "name": "stderr",
     "output_type": "stream",
     "text": [
      "mv: '/cellar/users/aklie/data/datasets/Horlacher_HepG2_CLIP/processed/2023_12_29/encode/DDX55/DDX55_eCLIP_2.bam' and '/cellar/users/aklie/data/datasets/Horlacher_HepG2_CLIP/processed/2023_12_29/encode/DDX55/DDX55_eCLIP_2.bam' are the same file\n",
      "mv: '/cellar/users/aklie/data/datasets/Horlacher_HepG2_CLIP/processed/2023_12_29/encode/DDX55/DDX55_eCLIP_1.bam' and '/cellar/users/aklie/data/datasets/Horlacher_HepG2_CLIP/processed/2023_12_29/encode/DDX55/DDX55_eCLIP_1.bam' are the same file\n"
     ]
    },
    {
     "name": "stdout",
     "output_type": "stream",
     "text": [
      "/cellar/users/aklie/data/datasets/Horlacher_HepG2_CLIP/processed/2023_12_29/encode/CSTF2/CSTF2_eCLIP_1.bam /cellar/users/aklie/data/datasets/Horlacher_HepG2_CLIP/processed/2023_12_29/encode/CSTF2/CSTF2_eCLIP_1.bam\n",
      "/cellar/users/aklie/data/datasets/Horlacher_HepG2_CLIP/processed/2023_12_29/encode/CSTF2/CSTF2_eCLIP_2.bam /cellar/users/aklie/data/datasets/Horlacher_HepG2_CLIP/processed/2023_12_29/encode/CSTF2/CSTF2_eCLIP_2.bam\n"
     ]
    },
    {
     "name": "stderr",
     "output_type": "stream",
     "text": [
      "mv: '/cellar/users/aklie/data/datasets/Horlacher_HepG2_CLIP/processed/2023_12_29/encode/CSTF2/CSTF2_eCLIP_1.bam' and '/cellar/users/aklie/data/datasets/Horlacher_HepG2_CLIP/processed/2023_12_29/encode/CSTF2/CSTF2_eCLIP_1.bam' are the same file\n",
      "mv: '/cellar/users/aklie/data/datasets/Horlacher_HepG2_CLIP/processed/2023_12_29/encode/CSTF2/CSTF2_eCLIP_2.bam' and '/cellar/users/aklie/data/datasets/Horlacher_HepG2_CLIP/processed/2023_12_29/encode/CSTF2/CSTF2_eCLIP_2.bam' are the same file\n"
     ]
    },
    {
     "name": "stdout",
     "output_type": "stream",
     "text": [
      "/cellar/users/aklie/data/datasets/Horlacher_HepG2_CLIP/processed/2023_12_29/encode/ILF3/ILF3_eCLIP_1.bam /cellar/users/aklie/data/datasets/Horlacher_HepG2_CLIP/processed/2023_12_29/encode/ILF3/ILF3_eCLIP_1.bam\n"
     ]
    },
    {
     "name": "stderr",
     "output_type": "stream",
     "text": [
      "mv: '/cellar/users/aklie/data/datasets/Horlacher_HepG2_CLIP/processed/2023_12_29/encode/ILF3/ILF3_eCLIP_1.bam' and '/cellar/users/aklie/data/datasets/Horlacher_HepG2_CLIP/processed/2023_12_29/encode/ILF3/ILF3_eCLIP_1.bam' are the same file\n",
      "mv: '/cellar/users/aklie/data/datasets/Horlacher_HepG2_CLIP/processed/2023_12_29/encode/ILF3/ILF3_eCLIP_2.bam' and '/cellar/users/aklie/data/datasets/Horlacher_HepG2_CLIP/processed/2023_12_29/encode/ILF3/ILF3_eCLIP_2.bam' are the same file\n"
     ]
    },
    {
     "name": "stdout",
     "output_type": "stream",
     "text": [
      "/cellar/users/aklie/data/datasets/Horlacher_HepG2_CLIP/processed/2023_12_29/encode/ILF3/ILF3_eCLIP_2.bam /cellar/users/aklie/data/datasets/Horlacher_HepG2_CLIP/processed/2023_12_29/encode/ILF3/ILF3_eCLIP_2.bam\n",
      "/cellar/users/aklie/data/datasets/Horlacher_HepG2_CLIP/processed/2023_12_29/encode/SRSF1/SRSF1_eCLIP_1.bam /cellar/users/aklie/data/datasets/Horlacher_HepG2_CLIP/processed/2023_12_29/encode/SRSF1/SRSF1_eCLIP_1.bam\n"
     ]
    },
    {
     "name": "stderr",
     "output_type": "stream",
     "text": [
      "mv: '/cellar/users/aklie/data/datasets/Horlacher_HepG2_CLIP/processed/2023_12_29/encode/SRSF1/SRSF1_eCLIP_1.bam' and '/cellar/users/aklie/data/datasets/Horlacher_HepG2_CLIP/processed/2023_12_29/encode/SRSF1/SRSF1_eCLIP_1.bam' are the same file\n"
     ]
    },
    {
     "name": "stdout",
     "output_type": "stream",
     "text": [
      "/cellar/users/aklie/data/datasets/Horlacher_HepG2_CLIP/processed/2023_12_29/encode/SRSF1/SRSF1_eCLIP_2.bam /cellar/users/aklie/data/datasets/Horlacher_HepG2_CLIP/processed/2023_12_29/encode/SRSF1/SRSF1_eCLIP_2.bam\n"
     ]
    },
    {
     "name": "stderr",
     "output_type": "stream",
     "text": [
      "mv: '/cellar/users/aklie/data/datasets/Horlacher_HepG2_CLIP/processed/2023_12_29/encode/SRSF1/SRSF1_eCLIP_2.bam' and '/cellar/users/aklie/data/datasets/Horlacher_HepG2_CLIP/processed/2023_12_29/encode/SRSF1/SRSF1_eCLIP_2.bam' are the same file\n"
     ]
    },
    {
     "name": "stdout",
     "output_type": "stream",
     "text": [
      "/cellar/users/aklie/data/datasets/Horlacher_HepG2_CLIP/processed/2023_12_29/encode/SUPV3L1/SUPV3L1_eCLIP_1.bam /cellar/users/aklie/data/datasets/Horlacher_HepG2_CLIP/processed/2023_12_29/encode/SUPV3L1/SUPV3L1_eCLIP_1.bam\n"
     ]
    },
    {
     "name": "stderr",
     "output_type": "stream",
     "text": [
      "mv: '/cellar/users/aklie/data/datasets/Horlacher_HepG2_CLIP/processed/2023_12_29/encode/SUPV3L1/SUPV3L1_eCLIP_1.bam' and '/cellar/users/aklie/data/datasets/Horlacher_HepG2_CLIP/processed/2023_12_29/encode/SUPV3L1/SUPV3L1_eCLIP_1.bam' are the same file\n"
     ]
    },
    {
     "name": "stdout",
     "output_type": "stream",
     "text": [
      "/cellar/users/aklie/data/datasets/Horlacher_HepG2_CLIP/processed/2023_12_29/encode/SUPV3L1/SUPV3L1_eCLIP_2.bam /cellar/users/aklie/data/datasets/Horlacher_HepG2_CLIP/processed/2023_12_29/encode/SUPV3L1/SUPV3L1_eCLIP_2.bam\n"
     ]
    },
    {
     "name": "stderr",
     "output_type": "stream",
     "text": [
      "mv: '/cellar/users/aklie/data/datasets/Horlacher_HepG2_CLIP/processed/2023_12_29/encode/SUPV3L1/SUPV3L1_eCLIP_2.bam' and '/cellar/users/aklie/data/datasets/Horlacher_HepG2_CLIP/processed/2023_12_29/encode/SUPV3L1/SUPV3L1_eCLIP_2.bam' are the same file\n"
     ]
    },
    {
     "name": "stdout",
     "output_type": "stream",
     "text": [
      "/cellar/users/aklie/data/datasets/Horlacher_HepG2_CLIP/processed/2023_12_29/encode/FUBP3/FUBP3_eCLIP_2.bam /cellar/users/aklie/data/datasets/Horlacher_HepG2_CLIP/processed/2023_12_29/encode/FUBP3/FUBP3_eCLIP_2.bam\n"
     ]
    },
    {
     "name": "stderr",
     "output_type": "stream",
     "text": [
      "mv: '/cellar/users/aklie/data/datasets/Horlacher_HepG2_CLIP/processed/2023_12_29/encode/FUBP3/FUBP3_eCLIP_2.bam' and '/cellar/users/aklie/data/datasets/Horlacher_HepG2_CLIP/processed/2023_12_29/encode/FUBP3/FUBP3_eCLIP_2.bam' are the same file\n",
      "mv: '/cellar/users/aklie/data/datasets/Horlacher_HepG2_CLIP/processed/2023_12_29/encode/FUBP3/FUBP3_eCLIP_1.bam' and '/cellar/users/aklie/data/datasets/Horlacher_HepG2_CLIP/processed/2023_12_29/encode/FUBP3/FUBP3_eCLIP_1.bam' are the same file\n"
     ]
    },
    {
     "name": "stdout",
     "output_type": "stream",
     "text": [
      "/cellar/users/aklie/data/datasets/Horlacher_HepG2_CLIP/processed/2023_12_29/encode/FUBP3/FUBP3_eCLIP_1.bam /cellar/users/aklie/data/datasets/Horlacher_HepG2_CLIP/processed/2023_12_29/encode/FUBP3/FUBP3_eCLIP_1.bam\n",
      "/cellar/users/aklie/data/datasets/Horlacher_HepG2_CLIP/processed/2023_12_29/encode/FASTKD2/FASTKD2_eCLIP_1.bam /cellar/users/aklie/data/datasets/Horlacher_HepG2_CLIP/processed/2023_12_29/encode/FASTKD2/FASTKD2_eCLIP_1.bam\n"
     ]
    },
    {
     "name": "stderr",
     "output_type": "stream",
     "text": [
      "mv: '/cellar/users/aklie/data/datasets/Horlacher_HepG2_CLIP/processed/2023_12_29/encode/FASTKD2/FASTKD2_eCLIP_1.bam' and '/cellar/users/aklie/data/datasets/Horlacher_HepG2_CLIP/processed/2023_12_29/encode/FASTKD2/FASTKD2_eCLIP_1.bam' are the same file\n",
      "mv: '/cellar/users/aklie/data/datasets/Horlacher_HepG2_CLIP/processed/2023_12_29/encode/FASTKD2/FASTKD2_eCLIP_2.bam' and '/cellar/users/aklie/data/datasets/Horlacher_HepG2_CLIP/processed/2023_12_29/encode/FASTKD2/FASTKD2_eCLIP_2.bam' are the same file\n"
     ]
    },
    {
     "name": "stdout",
     "output_type": "stream",
     "text": [
      "/cellar/users/aklie/data/datasets/Horlacher_HepG2_CLIP/processed/2023_12_29/encode/FASTKD2/FASTKD2_eCLIP_2.bam /cellar/users/aklie/data/datasets/Horlacher_HepG2_CLIP/processed/2023_12_29/encode/FASTKD2/FASTKD2_eCLIP_2.bam\n",
      "/cellar/users/aklie/data/datasets/Horlacher_HepG2_CLIP/processed/2023_12_29/encode/HNRNPA1/HNRNPA1_eCLIP_2.bam /cellar/users/aklie/data/datasets/Horlacher_HepG2_CLIP/processed/2023_12_29/encode/HNRNPA1/HNRNPA1_eCLIP_2.bam\n"
     ]
    },
    {
     "name": "stderr",
     "output_type": "stream",
     "text": [
      "mv: '/cellar/users/aklie/data/datasets/Horlacher_HepG2_CLIP/processed/2023_12_29/encode/HNRNPA1/HNRNPA1_eCLIP_2.bam' and '/cellar/users/aklie/data/datasets/Horlacher_HepG2_CLIP/processed/2023_12_29/encode/HNRNPA1/HNRNPA1_eCLIP_2.bam' are the same file\n",
      "mv: '/cellar/users/aklie/data/datasets/Horlacher_HepG2_CLIP/processed/2023_12_29/encode/HNRNPA1/HNRNPA1_eCLIP_1.bam' and '/cellar/users/aklie/data/datasets/Horlacher_HepG2_CLIP/processed/2023_12_29/encode/HNRNPA1/HNRNPA1_eCLIP_1.bam' are the same file\n"
     ]
    },
    {
     "name": "stdout",
     "output_type": "stream",
     "text": [
      "/cellar/users/aklie/data/datasets/Horlacher_HepG2_CLIP/processed/2023_12_29/encode/HNRNPA1/HNRNPA1_eCLIP_1.bam /cellar/users/aklie/data/datasets/Horlacher_HepG2_CLIP/processed/2023_12_29/encode/HNRNPA1/HNRNPA1_eCLIP_1.bam\n",
      "/cellar/users/aklie/data/datasets/Horlacher_HepG2_CLIP/processed/2023_12_29/encode/MATR3/MATR3_eCLIP_2.bam /cellar/users/aklie/data/datasets/Horlacher_HepG2_CLIP/processed/2023_12_29/encode/MATR3/MATR3_eCLIP_2.bam\n"
     ]
    },
    {
     "name": "stderr",
     "output_type": "stream",
     "text": [
      "mv: '/cellar/users/aklie/data/datasets/Horlacher_HepG2_CLIP/processed/2023_12_29/encode/MATR3/MATR3_eCLIP_2.bam' and '/cellar/users/aklie/data/datasets/Horlacher_HepG2_CLIP/processed/2023_12_29/encode/MATR3/MATR3_eCLIP_2.bam' are the same file\n"
     ]
    },
    {
     "name": "stdout",
     "output_type": "stream",
     "text": [
      "/cellar/users/aklie/data/datasets/Horlacher_HepG2_CLIP/processed/2023_12_29/encode/MATR3/MATR3_eCLIP_1.bam /cellar/users/aklie/data/datasets/Horlacher_HepG2_CLIP/processed/2023_12_29/encode/MATR3/MATR3_eCLIP_1.bam\n"
     ]
    },
    {
     "name": "stderr",
     "output_type": "stream",
     "text": [
      "mv: '/cellar/users/aklie/data/datasets/Horlacher_HepG2_CLIP/processed/2023_12_29/encode/MATR3/MATR3_eCLIP_1.bam' and '/cellar/users/aklie/data/datasets/Horlacher_HepG2_CLIP/processed/2023_12_29/encode/MATR3/MATR3_eCLIP_1.bam' are the same file\n",
      "mv: '/cellar/users/aklie/data/datasets/Horlacher_HepG2_CLIP/processed/2023_12_29/encode/SF3A3/SF3A3_eCLIP_2.bam' and '/cellar/users/aklie/data/datasets/Horlacher_HepG2_CLIP/processed/2023_12_29/encode/SF3A3/SF3A3_eCLIP_2.bam' are the same file\n"
     ]
    },
    {
     "name": "stdout",
     "output_type": "stream",
     "text": [
      "/cellar/users/aklie/data/datasets/Horlacher_HepG2_CLIP/processed/2023_12_29/encode/SF3A3/SF3A3_eCLIP_2.bam /cellar/users/aklie/data/datasets/Horlacher_HepG2_CLIP/processed/2023_12_29/encode/SF3A3/SF3A3_eCLIP_2.bam\n",
      "/cellar/users/aklie/data/datasets/Horlacher_HepG2_CLIP/processed/2023_12_29/encode/SF3A3/SF3A3_eCLIP_1.bam /cellar/users/aklie/data/datasets/Horlacher_HepG2_CLIP/processed/2023_12_29/encode/SF3A3/SF3A3_eCLIP_1.bam\n"
     ]
    },
    {
     "name": "stderr",
     "output_type": "stream",
     "text": [
      "mv: '/cellar/users/aklie/data/datasets/Horlacher_HepG2_CLIP/processed/2023_12_29/encode/SF3A3/SF3A3_eCLIP_1.bam' and '/cellar/users/aklie/data/datasets/Horlacher_HepG2_CLIP/processed/2023_12_29/encode/SF3A3/SF3A3_eCLIP_1.bam' are the same file\n"
     ]
    },
    {
     "name": "stdout",
     "output_type": "stream",
     "text": [
      "/cellar/users/aklie/data/datasets/Horlacher_HepG2_CLIP/processed/2023_12_29/encode/TIA1/TIA1_eCLIP_2.bam /cellar/users/aklie/data/datasets/Horlacher_HepG2_CLIP/processed/2023_12_29/encode/TIA1/TIA1_eCLIP_2.bam\n"
     ]
    },
    {
     "name": "stderr",
     "output_type": "stream",
     "text": [
      "mv: '/cellar/users/aklie/data/datasets/Horlacher_HepG2_CLIP/processed/2023_12_29/encode/TIA1/TIA1_eCLIP_2.bam' and '/cellar/users/aklie/data/datasets/Horlacher_HepG2_CLIP/processed/2023_12_29/encode/TIA1/TIA1_eCLIP_2.bam' are the same file\n"
     ]
    },
    {
     "name": "stdout",
     "output_type": "stream",
     "text": [
      "/cellar/users/aklie/data/datasets/Horlacher_HepG2_CLIP/processed/2023_12_29/encode/TIA1/TIA1_eCLIP_1.bam /cellar/users/aklie/data/datasets/Horlacher_HepG2_CLIP/processed/2023_12_29/encode/TIA1/TIA1_eCLIP_1.bam\n"
     ]
    },
    {
     "name": "stderr",
     "output_type": "stream",
     "text": [
      "mv: '/cellar/users/aklie/data/datasets/Horlacher_HepG2_CLIP/processed/2023_12_29/encode/TIA1/TIA1_eCLIP_1.bam' and '/cellar/users/aklie/data/datasets/Horlacher_HepG2_CLIP/processed/2023_12_29/encode/TIA1/TIA1_eCLIP_1.bam' are the same file\n",
      "mv: '/cellar/users/aklie/data/datasets/Horlacher_HepG2_CLIP/processed/2023_12_29/encode/HNRNPUL1/HNRNPUL1_eCLIP_1.bam' and '/cellar/users/aklie/data/datasets/Horlacher_HepG2_CLIP/processed/2023_12_29/encode/HNRNPUL1/HNRNPUL1_eCLIP_1.bam' are the same file\n"
     ]
    },
    {
     "name": "stdout",
     "output_type": "stream",
     "text": [
      "/cellar/users/aklie/data/datasets/Horlacher_HepG2_CLIP/processed/2023_12_29/encode/HNRNPUL1/HNRNPUL1_eCLIP_1.bam /cellar/users/aklie/data/datasets/Horlacher_HepG2_CLIP/processed/2023_12_29/encode/HNRNPUL1/HNRNPUL1_eCLIP_1.bam\n",
      "/cellar/users/aklie/data/datasets/Horlacher_HepG2_CLIP/processed/2023_12_29/encode/HNRNPUL1/HNRNPUL1_eCLIP_2.bam /cellar/users/aklie/data/datasets/Horlacher_HepG2_CLIP/processed/2023_12_29/encode/HNRNPUL1/HNRNPUL1_eCLIP_2.bam\n"
     ]
    },
    {
     "name": "stderr",
     "output_type": "stream",
     "text": [
      "mv: '/cellar/users/aklie/data/datasets/Horlacher_HepG2_CLIP/processed/2023_12_29/encode/HNRNPUL1/HNRNPUL1_eCLIP_2.bam' and '/cellar/users/aklie/data/datasets/Horlacher_HepG2_CLIP/processed/2023_12_29/encode/HNRNPUL1/HNRNPUL1_eCLIP_2.bam' are the same file\n",
      "mv: '/cellar/users/aklie/data/datasets/Horlacher_HepG2_CLIP/processed/2023_12_29/encode/BUD13/BUD13_eCLIP_1.bam' and '/cellar/users/aklie/data/datasets/Horlacher_HepG2_CLIP/processed/2023_12_29/encode/BUD13/BUD13_eCLIP_1.bam' are the same file\n"
     ]
    },
    {
     "name": "stdout",
     "output_type": "stream",
     "text": [
      "/cellar/users/aklie/data/datasets/Horlacher_HepG2_CLIP/processed/2023_12_29/encode/BUD13/BUD13_eCLIP_1.bam /cellar/users/aklie/data/datasets/Horlacher_HepG2_CLIP/processed/2023_12_29/encode/BUD13/BUD13_eCLIP_1.bam\n",
      "/cellar/users/aklie/data/datasets/Horlacher_HepG2_CLIP/processed/2023_12_29/encode/BUD13/BUD13_eCLIP_2.bam /cellar/users/aklie/data/datasets/Horlacher_HepG2_CLIP/processed/2023_12_29/encode/BUD13/BUD13_eCLIP_2.bam\n"
     ]
    },
    {
     "name": "stderr",
     "output_type": "stream",
     "text": [
      "mv: '/cellar/users/aklie/data/datasets/Horlacher_HepG2_CLIP/processed/2023_12_29/encode/BUD13/BUD13_eCLIP_2.bam' and '/cellar/users/aklie/data/datasets/Horlacher_HepG2_CLIP/processed/2023_12_29/encode/BUD13/BUD13_eCLIP_2.bam' are the same file\n"
     ]
    },
    {
     "name": "stdout",
     "output_type": "stream",
     "text": [
      "/cellar/users/aklie/data/datasets/Horlacher_HepG2_CLIP/processed/2023_12_29/encode/XPO5/XPO5_eCLIP_1.bam /cellar/users/aklie/data/datasets/Horlacher_HepG2_CLIP/processed/2023_12_29/encode/XPO5/XPO5_eCLIP_1.bam\n"
     ]
    },
    {
     "name": "stderr",
     "output_type": "stream",
     "text": [
      "mv: '/cellar/users/aklie/data/datasets/Horlacher_HepG2_CLIP/processed/2023_12_29/encode/XPO5/XPO5_eCLIP_1.bam' and '/cellar/users/aklie/data/datasets/Horlacher_HepG2_CLIP/processed/2023_12_29/encode/XPO5/XPO5_eCLIP_1.bam' are the same file\n",
      "mv: '/cellar/users/aklie/data/datasets/Horlacher_HepG2_CLIP/processed/2023_12_29/encode/XPO5/XPO5_eCLIP_2.bam' and '/cellar/users/aklie/data/datasets/Horlacher_HepG2_CLIP/processed/2023_12_29/encode/XPO5/XPO5_eCLIP_2.bam' are the same file\n"
     ]
    },
    {
     "name": "stdout",
     "output_type": "stream",
     "text": [
      "/cellar/users/aklie/data/datasets/Horlacher_HepG2_CLIP/processed/2023_12_29/encode/XPO5/XPO5_eCLIP_2.bam /cellar/users/aklie/data/datasets/Horlacher_HepG2_CLIP/processed/2023_12_29/encode/XPO5/XPO5_eCLIP_2.bam\n",
      "/cellar/users/aklie/data/datasets/Horlacher_HepG2_CLIP/processed/2023_12_29/encode/CDC40/CDC40_eCLIP_2.bam /cellar/users/aklie/data/datasets/Horlacher_HepG2_CLIP/processed/2023_12_29/encode/CDC40/CDC40_eCLIP_2.bam\n"
     ]
    },
    {
     "name": "stderr",
     "output_type": "stream",
     "text": [
      "mv: '/cellar/users/aklie/data/datasets/Horlacher_HepG2_CLIP/processed/2023_12_29/encode/CDC40/CDC40_eCLIP_2.bam' and '/cellar/users/aklie/data/datasets/Horlacher_HepG2_CLIP/processed/2023_12_29/encode/CDC40/CDC40_eCLIP_2.bam' are the same file\n",
      "mv: '/cellar/users/aklie/data/datasets/Horlacher_HepG2_CLIP/processed/2023_12_29/encode/CDC40/CDC40_eCLIP_1.bam' and '/cellar/users/aklie/data/datasets/Horlacher_HepG2_CLIP/processed/2023_12_29/encode/CDC40/CDC40_eCLIP_1.bam' are the same file\n"
     ]
    },
    {
     "name": "stdout",
     "output_type": "stream",
     "text": [
      "/cellar/users/aklie/data/datasets/Horlacher_HepG2_CLIP/processed/2023_12_29/encode/CDC40/CDC40_eCLIP_1.bam /cellar/users/aklie/data/datasets/Horlacher_HepG2_CLIP/processed/2023_12_29/encode/CDC40/CDC40_eCLIP_1.bam\n",
      "/cellar/users/aklie/data/datasets/Horlacher_HepG2_CLIP/processed/2023_12_29/encode/DDX3X/DDX3X_eCLIP_1.bam /cellar/users/aklie/data/datasets/Horlacher_HepG2_CLIP/processed/2023_12_29/encode/DDX3X/DDX3X_eCLIP_1.bam\n"
     ]
    },
    {
     "name": "stderr",
     "output_type": "stream",
     "text": [
      "mv: '/cellar/users/aklie/data/datasets/Horlacher_HepG2_CLIP/processed/2023_12_29/encode/DDX3X/DDX3X_eCLIP_1.bam' and '/cellar/users/aklie/data/datasets/Horlacher_HepG2_CLIP/processed/2023_12_29/encode/DDX3X/DDX3X_eCLIP_1.bam' are the same file\n"
     ]
    },
    {
     "name": "stdout",
     "output_type": "stream",
     "text": [
      "/cellar/users/aklie/data/datasets/Horlacher_HepG2_CLIP/processed/2023_12_29/encode/DDX3X/DDX3X_eCLIP_2.bam /cellar/users/aklie/data/datasets/Horlacher_HepG2_CLIP/processed/2023_12_29/encode/DDX3X/DDX3X_eCLIP_2.bam\n"
     ]
    },
    {
     "name": "stderr",
     "output_type": "stream",
     "text": [
      "mv: '/cellar/users/aklie/data/datasets/Horlacher_HepG2_CLIP/processed/2023_12_29/encode/DDX3X/DDX3X_eCLIP_2.bam' and '/cellar/users/aklie/data/datasets/Horlacher_HepG2_CLIP/processed/2023_12_29/encode/DDX3X/DDX3X_eCLIP_2.bam' are the same file\n"
     ]
    },
    {
     "name": "stdout",
     "output_type": "stream",
     "text": [
      "/cellar/users/aklie/data/datasets/Horlacher_HepG2_CLIP/processed/2023_12_29/encode/SND1/SND1_eCLIP_2.bam /cellar/users/aklie/data/datasets/Horlacher_HepG2_CLIP/processed/2023_12_29/encode/SND1/SND1_eCLIP_2.bam\n"
     ]
    },
    {
     "name": "stderr",
     "output_type": "stream",
     "text": [
      "mv: '/cellar/users/aklie/data/datasets/Horlacher_HepG2_CLIP/processed/2023_12_29/encode/SND1/SND1_eCLIP_2.bam' and '/cellar/users/aklie/data/datasets/Horlacher_HepG2_CLIP/processed/2023_12_29/encode/SND1/SND1_eCLIP_2.bam' are the same file\n"
     ]
    },
    {
     "name": "stdout",
     "output_type": "stream",
     "text": [
      "/cellar/users/aklie/data/datasets/Horlacher_HepG2_CLIP/processed/2023_12_29/encode/SND1/SND1_eCLIP_1.bam /cellar/users/aklie/data/datasets/Horlacher_HepG2_CLIP/processed/2023_12_29/encode/SND1/SND1_eCLIP_1.bam\n"
     ]
    },
    {
     "name": "stderr",
     "output_type": "stream",
     "text": [
      "mv: '/cellar/users/aklie/data/datasets/Horlacher_HepG2_CLIP/processed/2023_12_29/encode/SND1/SND1_eCLIP_1.bam' and '/cellar/users/aklie/data/datasets/Horlacher_HepG2_CLIP/processed/2023_12_29/encode/SND1/SND1_eCLIP_1.bam' are the same file\n",
      "mv: '/cellar/users/aklie/data/datasets/Horlacher_HepG2_CLIP/processed/2023_12_29/encode/GRWD1/GRWD1_eCLIP_1.bam' and '/cellar/users/aklie/data/datasets/Horlacher_HepG2_CLIP/processed/2023_12_29/encode/GRWD1/GRWD1_eCLIP_1.bam' are the same file\n"
     ]
    },
    {
     "name": "stdout",
     "output_type": "stream",
     "text": [
      "/cellar/users/aklie/data/datasets/Horlacher_HepG2_CLIP/processed/2023_12_29/encode/GRWD1/GRWD1_eCLIP_1.bam /cellar/users/aklie/data/datasets/Horlacher_HepG2_CLIP/processed/2023_12_29/encode/GRWD1/GRWD1_eCLIP_1.bam\n",
      "/cellar/users/aklie/data/datasets/Horlacher_HepG2_CLIP/processed/2023_12_29/encode/GRWD1/GRWD1_eCLIP_2.bam /cellar/users/aklie/data/datasets/Horlacher_HepG2_CLIP/processed/2023_12_29/encode/GRWD1/GRWD1_eCLIP_2.bam\n"
     ]
    },
    {
     "name": "stderr",
     "output_type": "stream",
     "text": [
      "mv: '/cellar/users/aklie/data/datasets/Horlacher_HepG2_CLIP/processed/2023_12_29/encode/GRWD1/GRWD1_eCLIP_2.bam' and '/cellar/users/aklie/data/datasets/Horlacher_HepG2_CLIP/processed/2023_12_29/encode/GRWD1/GRWD1_eCLIP_2.bam' are the same file\n"
     ]
    },
    {
     "name": "stdout",
     "output_type": "stream",
     "text": [
      "/cellar/users/aklie/data/datasets/Horlacher_HepG2_CLIP/processed/2023_12_29/encode/TBRG4/TBRG4_eCLIP_2.bam /cellar/users/aklie/data/datasets/Horlacher_HepG2_CLIP/processed/2023_12_29/encode/TBRG4/TBRG4_eCLIP_2.bam\n"
     ]
    },
    {
     "name": "stderr",
     "output_type": "stream",
     "text": [
      "mv: '/cellar/users/aklie/data/datasets/Horlacher_HepG2_CLIP/processed/2023_12_29/encode/TBRG4/TBRG4_eCLIP_2.bam' and '/cellar/users/aklie/data/datasets/Horlacher_HepG2_CLIP/processed/2023_12_29/encode/TBRG4/TBRG4_eCLIP_2.bam' are the same file\n"
     ]
    },
    {
     "name": "stdout",
     "output_type": "stream",
     "text": [
      "/cellar/users/aklie/data/datasets/Horlacher_HepG2_CLIP/processed/2023_12_29/encode/TBRG4/TBRG4_eCLIP_1.bam /cellar/users/aklie/data/datasets/Horlacher_HepG2_CLIP/processed/2023_12_29/encode/TBRG4/TBRG4_eCLIP_1.bam\n"
     ]
    },
    {
     "name": "stderr",
     "output_type": "stream",
     "text": [
      "mv: '/cellar/users/aklie/data/datasets/Horlacher_HepG2_CLIP/processed/2023_12_29/encode/TBRG4/TBRG4_eCLIP_1.bam' and '/cellar/users/aklie/data/datasets/Horlacher_HepG2_CLIP/processed/2023_12_29/encode/TBRG4/TBRG4_eCLIP_1.bam' are the same file\n"
     ]
    },
    {
     "name": "stdout",
     "output_type": "stream",
     "text": [
      "/cellar/users/aklie/data/datasets/Horlacher_HepG2_CLIP/processed/2023_12_29/encode/IGF2BP1/IGF2BP1_eCLIP_1.bam /cellar/users/aklie/data/datasets/Horlacher_HepG2_CLIP/processed/2023_12_29/encode/IGF2BP1/IGF2BP1_eCLIP_1.bam\n"
     ]
    },
    {
     "name": "stderr",
     "output_type": "stream",
     "text": [
      "mv: '/cellar/users/aklie/data/datasets/Horlacher_HepG2_CLIP/processed/2023_12_29/encode/IGF2BP1/IGF2BP1_eCLIP_1.bam' and '/cellar/users/aklie/data/datasets/Horlacher_HepG2_CLIP/processed/2023_12_29/encode/IGF2BP1/IGF2BP1_eCLIP_1.bam' are the same file\n",
      "mv: '/cellar/users/aklie/data/datasets/Horlacher_HepG2_CLIP/processed/2023_12_29/encode/IGF2BP1/IGF2BP1_eCLIP_2.bam' and '/cellar/users/aklie/data/datasets/Horlacher_HepG2_CLIP/processed/2023_12_29/encode/IGF2BP1/IGF2BP1_eCLIP_2.bam' are the same file\n"
     ]
    },
    {
     "name": "stdout",
     "output_type": "stream",
     "text": [
      "/cellar/users/aklie/data/datasets/Horlacher_HepG2_CLIP/processed/2023_12_29/encode/IGF2BP1/IGF2BP1_eCLIP_2.bam /cellar/users/aklie/data/datasets/Horlacher_HepG2_CLIP/processed/2023_12_29/encode/IGF2BP1/IGF2BP1_eCLIP_2.bam\n",
      "/cellar/users/aklie/data/datasets/Horlacher_HepG2_CLIP/processed/2023_12_29/encode/SRSF9/SRSF9_eCLIP_1.bam /cellar/users/aklie/data/datasets/Horlacher_HepG2_CLIP/processed/2023_12_29/encode/SRSF9/SRSF9_eCLIP_1.bam\n"
     ]
    },
    {
     "name": "stderr",
     "output_type": "stream",
     "text": [
      "mv: '/cellar/users/aklie/data/datasets/Horlacher_HepG2_CLIP/processed/2023_12_29/encode/SRSF9/SRSF9_eCLIP_1.bam' and '/cellar/users/aklie/data/datasets/Horlacher_HepG2_CLIP/processed/2023_12_29/encode/SRSF9/SRSF9_eCLIP_1.bam' are the same file\n"
     ]
    },
    {
     "name": "stdout",
     "output_type": "stream",
     "text": [
      "/cellar/users/aklie/data/datasets/Horlacher_HepG2_CLIP/processed/2023_12_29/encode/SRSF9/SRSF9_eCLIP_2.bam /cellar/users/aklie/data/datasets/Horlacher_HepG2_CLIP/processed/2023_12_29/encode/SRSF9/SRSF9_eCLIP_2.bam\n"
     ]
    },
    {
     "name": "stderr",
     "output_type": "stream",
     "text": [
      "mv: '/cellar/users/aklie/data/datasets/Horlacher_HepG2_CLIP/processed/2023_12_29/encode/SRSF9/SRSF9_eCLIP_2.bam' and '/cellar/users/aklie/data/datasets/Horlacher_HepG2_CLIP/processed/2023_12_29/encode/SRSF9/SRSF9_eCLIP_2.bam' are the same file\n",
      "mv: '/cellar/users/aklie/data/datasets/Horlacher_HepG2_CLIP/processed/2023_12_29/encode/TAF15/TAF15_eCLIP_1.bam' and '/cellar/users/aklie/data/datasets/Horlacher_HepG2_CLIP/processed/2023_12_29/encode/TAF15/TAF15_eCLIP_1.bam' are the same file\n"
     ]
    },
    {
     "name": "stdout",
     "output_type": "stream",
     "text": [
      "/cellar/users/aklie/data/datasets/Horlacher_HepG2_CLIP/processed/2023_12_29/encode/TAF15/TAF15_eCLIP_1.bam /cellar/users/aklie/data/datasets/Horlacher_HepG2_CLIP/processed/2023_12_29/encode/TAF15/TAF15_eCLIP_1.bam\n",
      "/cellar/users/aklie/data/datasets/Horlacher_HepG2_CLIP/processed/2023_12_29/encode/TAF15/TAF15_eCLIP_2.bam /cellar/users/aklie/data/datasets/Horlacher_HepG2_CLIP/processed/2023_12_29/encode/TAF15/TAF15_eCLIP_2.bam\n"
     ]
    },
    {
     "name": "stderr",
     "output_type": "stream",
     "text": [
      "mv: '/cellar/users/aklie/data/datasets/Horlacher_HepG2_CLIP/processed/2023_12_29/encode/TAF15/TAF15_eCLIP_2.bam' and '/cellar/users/aklie/data/datasets/Horlacher_HepG2_CLIP/processed/2023_12_29/encode/TAF15/TAF15_eCLIP_2.bam' are the same file\n"
     ]
    },
    {
     "name": "stdout",
     "output_type": "stream",
     "text": [
      "/cellar/users/aklie/data/datasets/Horlacher_HepG2_CLIP/processed/2023_12_29/encode/RBM5/RBM5_eCLIP_1.bam /cellar/users/aklie/data/datasets/Horlacher_HepG2_CLIP/processed/2023_12_29/encode/RBM5/RBM5_eCLIP_1.bam\n"
     ]
    },
    {
     "name": "stderr",
     "output_type": "stream",
     "text": [
      "mv: '/cellar/users/aklie/data/datasets/Horlacher_HepG2_CLIP/processed/2023_12_29/encode/RBM5/RBM5_eCLIP_1.bam' and '/cellar/users/aklie/data/datasets/Horlacher_HepG2_CLIP/processed/2023_12_29/encode/RBM5/RBM5_eCLIP_1.bam' are the same file\n"
     ]
    },
    {
     "name": "stdout",
     "output_type": "stream",
     "text": [
      "/cellar/users/aklie/data/datasets/Horlacher_HepG2_CLIP/processed/2023_12_29/encode/RBM5/RBM5_eCLIP_2.bam /cellar/users/aklie/data/datasets/Horlacher_HepG2_CLIP/processed/2023_12_29/encode/RBM5/RBM5_eCLIP_2.bam\n"
     ]
    },
    {
     "name": "stderr",
     "output_type": "stream",
     "text": [
      "mv: '/cellar/users/aklie/data/datasets/Horlacher_HepG2_CLIP/processed/2023_12_29/encode/RBM5/RBM5_eCLIP_2.bam' and '/cellar/users/aklie/data/datasets/Horlacher_HepG2_CLIP/processed/2023_12_29/encode/RBM5/RBM5_eCLIP_2.bam' are the same file\n",
      "mv: '/cellar/users/aklie/data/datasets/Horlacher_HepG2_CLIP/processed/2023_12_29/encode/PRPF8/PRPF8_eCLIP_1.bam' and '/cellar/users/aklie/data/datasets/Horlacher_HepG2_CLIP/processed/2023_12_29/encode/PRPF8/PRPF8_eCLIP_1.bam' are the same file\n"
     ]
    },
    {
     "name": "stdout",
     "output_type": "stream",
     "text": [
      "/cellar/users/aklie/data/datasets/Horlacher_HepG2_CLIP/processed/2023_12_29/encode/PRPF8/PRPF8_eCLIP_1.bam /cellar/users/aklie/data/datasets/Horlacher_HepG2_CLIP/processed/2023_12_29/encode/PRPF8/PRPF8_eCLIP_1.bam\n",
      "/cellar/users/aklie/data/datasets/Horlacher_HepG2_CLIP/processed/2023_12_29/encode/PRPF8/PRPF8_eCLIP_2.bam /cellar/users/aklie/data/datasets/Horlacher_HepG2_CLIP/processed/2023_12_29/encode/PRPF8/PRPF8_eCLIP_2.bam\n"
     ]
    },
    {
     "name": "stderr",
     "output_type": "stream",
     "text": [
      "mv: '/cellar/users/aklie/data/datasets/Horlacher_HepG2_CLIP/processed/2023_12_29/encode/PRPF8/PRPF8_eCLIP_2.bam' and '/cellar/users/aklie/data/datasets/Horlacher_HepG2_CLIP/processed/2023_12_29/encode/PRPF8/PRPF8_eCLIP_2.bam' are the same file\n"
     ]
    },
    {
     "name": "stdout",
     "output_type": "stream",
     "text": [
      "/cellar/users/aklie/data/datasets/Horlacher_HepG2_CLIP/processed/2023_12_29/encode/BCCIP/BCCIP_eCLIP_2.bam /cellar/users/aklie/data/datasets/Horlacher_HepG2_CLIP/processed/2023_12_29/encode/BCCIP/BCCIP_eCLIP_2.bam\n"
     ]
    },
    {
     "name": "stderr",
     "output_type": "stream",
     "text": [
      "mv: '/cellar/users/aklie/data/datasets/Horlacher_HepG2_CLIP/processed/2023_12_29/encode/BCCIP/BCCIP_eCLIP_2.bam' and '/cellar/users/aklie/data/datasets/Horlacher_HepG2_CLIP/processed/2023_12_29/encode/BCCIP/BCCIP_eCLIP_2.bam' are the same file\n",
      "mv: '/cellar/users/aklie/data/datasets/Horlacher_HepG2_CLIP/processed/2023_12_29/encode/BCCIP/BCCIP_eCLIP_1.bam' and '/cellar/users/aklie/data/datasets/Horlacher_HepG2_CLIP/processed/2023_12_29/encode/BCCIP/BCCIP_eCLIP_1.bam' are the same file\n"
     ]
    },
    {
     "name": "stdout",
     "output_type": "stream",
     "text": [
      "/cellar/users/aklie/data/datasets/Horlacher_HepG2_CLIP/processed/2023_12_29/encode/BCCIP/BCCIP_eCLIP_1.bam /cellar/users/aklie/data/datasets/Horlacher_HepG2_CLIP/processed/2023_12_29/encode/BCCIP/BCCIP_eCLIP_1.bam\n",
      "/cellar/users/aklie/data/datasets/Horlacher_HepG2_CLIP/processed/2023_12_29/encode/RBFOX2/RBFOX2_conrol_1.bam /cellar/users/aklie/data/datasets/Horlacher_HepG2_CLIP/processed/2023_12_29/encode/RBFOX2/RBFOX2_control_1.bam\n",
      "/cellar/users/aklie/data/datasets/Horlacher_HepG2_CLIP/processed/2023_12_29/encode/SRSF7/SRSF7_eCLIP_2.bam /cellar/users/aklie/data/datasets/Horlacher_HepG2_CLIP/processed/2023_12_29/encode/SRSF7/SRSF7_eCLIP_2.bam\n"
     ]
    },
    {
     "name": "stderr",
     "output_type": "stream",
     "text": [
      "mv: '/cellar/users/aklie/data/datasets/Horlacher_HepG2_CLIP/processed/2023_12_29/encode/SRSF7/SRSF7_eCLIP_2.bam' and '/cellar/users/aklie/data/datasets/Horlacher_HepG2_CLIP/processed/2023_12_29/encode/SRSF7/SRSF7_eCLIP_2.bam' are the same file\n",
      "mv: '/cellar/users/aklie/data/datasets/Horlacher_HepG2_CLIP/processed/2023_12_29/encode/SRSF7/SRSF7_eCLIP_1.bam' and '/cellar/users/aklie/data/datasets/Horlacher_HepG2_CLIP/processed/2023_12_29/encode/SRSF7/SRSF7_eCLIP_1.bam' are the same file\n"
     ]
    },
    {
     "name": "stdout",
     "output_type": "stream",
     "text": [
      "/cellar/users/aklie/data/datasets/Horlacher_HepG2_CLIP/processed/2023_12_29/encode/SRSF7/SRSF7_eCLIP_1.bam /cellar/users/aklie/data/datasets/Horlacher_HepG2_CLIP/processed/2023_12_29/encode/SRSF7/SRSF7_eCLIP_1.bam\n",
      "/cellar/users/aklie/data/datasets/Horlacher_HepG2_CLIP/processed/2023_12_29/encode/LARP7/LARP7_eCLIP_1.bam /cellar/users/aklie/data/datasets/Horlacher_HepG2_CLIP/processed/2023_12_29/encode/LARP7/LARP7_eCLIP_1.bam\n"
     ]
    },
    {
     "name": "stderr",
     "output_type": "stream",
     "text": [
      "mv: '/cellar/users/aklie/data/datasets/Horlacher_HepG2_CLIP/processed/2023_12_29/encode/LARP7/LARP7_eCLIP_1.bam' and '/cellar/users/aklie/data/datasets/Horlacher_HepG2_CLIP/processed/2023_12_29/encode/LARP7/LARP7_eCLIP_1.bam' are the same file\n"
     ]
    },
    {
     "name": "stdout",
     "output_type": "stream",
     "text": [
      "/cellar/users/aklie/data/datasets/Horlacher_HepG2_CLIP/processed/2023_12_29/encode/LARP7/LARP7_eCLIP_2.bam /cellar/users/aklie/data/datasets/Horlacher_HepG2_CLIP/processed/2023_12_29/encode/LARP7/LARP7_eCLIP_2.bam\n"
     ]
    },
    {
     "name": "stderr",
     "output_type": "stream",
     "text": [
      "mv: '/cellar/users/aklie/data/datasets/Horlacher_HepG2_CLIP/processed/2023_12_29/encode/LARP7/LARP7_eCLIP_2.bam' and '/cellar/users/aklie/data/datasets/Horlacher_HepG2_CLIP/processed/2023_12_29/encode/LARP7/LARP7_eCLIP_2.bam' are the same file\n"
     ]
    },
    {
     "name": "stdout",
     "output_type": "stream",
     "text": [
      "/cellar/users/aklie/data/datasets/Horlacher_HepG2_CLIP/processed/2023_12_29/encode/RBM22/RBM22_eCLIP_1.bam /cellar/users/aklie/data/datasets/Horlacher_HepG2_CLIP/processed/2023_12_29/encode/RBM22/RBM22_eCLIP_1.bam\n"
     ]
    },
    {
     "name": "stderr",
     "output_type": "stream",
     "text": [
      "mv: '/cellar/users/aklie/data/datasets/Horlacher_HepG2_CLIP/processed/2023_12_29/encode/RBM22/RBM22_eCLIP_1.bam' and '/cellar/users/aklie/data/datasets/Horlacher_HepG2_CLIP/processed/2023_12_29/encode/RBM22/RBM22_eCLIP_1.bam' are the same file\n"
     ]
    },
    {
     "name": "stdout",
     "output_type": "stream",
     "text": [
      "/cellar/users/aklie/data/datasets/Horlacher_HepG2_CLIP/processed/2023_12_29/encode/RBM22/RBM22_eCLIP_2.bam /cellar/users/aklie/data/datasets/Horlacher_HepG2_CLIP/processed/2023_12_29/encode/RBM22/RBM22_eCLIP_2.bam\n"
     ]
    },
    {
     "name": "stderr",
     "output_type": "stream",
     "text": [
      "mv: '/cellar/users/aklie/data/datasets/Horlacher_HepG2_CLIP/processed/2023_12_29/encode/RBM22/RBM22_eCLIP_2.bam' and '/cellar/users/aklie/data/datasets/Horlacher_HepG2_CLIP/processed/2023_12_29/encode/RBM22/RBM22_eCLIP_2.bam' are the same file\n",
      "mv: '/cellar/users/aklie/data/datasets/Horlacher_HepG2_CLIP/processed/2023_12_29/encode/DROSHA/DROSHA_eCLIP_2.bam' and '/cellar/users/aklie/data/datasets/Horlacher_HepG2_CLIP/processed/2023_12_29/encode/DROSHA/DROSHA_eCLIP_2.bam' are the same file\n"
     ]
    },
    {
     "name": "stdout",
     "output_type": "stream",
     "text": [
      "/cellar/users/aklie/data/datasets/Horlacher_HepG2_CLIP/processed/2023_12_29/encode/DROSHA/DROSHA_eCLIP_2.bam /cellar/users/aklie/data/datasets/Horlacher_HepG2_CLIP/processed/2023_12_29/encode/DROSHA/DROSHA_eCLIP_2.bam\n",
      "/cellar/users/aklie/data/datasets/Horlacher_HepG2_CLIP/processed/2023_12_29/encode/DROSHA/DROSHA_eCLIP_1.bam /cellar/users/aklie/data/datasets/Horlacher_HepG2_CLIP/processed/2023_12_29/encode/DROSHA/DROSHA_eCLIP_1.bam\n"
     ]
    },
    {
     "name": "stderr",
     "output_type": "stream",
     "text": [
      "mv: '/cellar/users/aklie/data/datasets/Horlacher_HepG2_CLIP/processed/2023_12_29/encode/DROSHA/DROSHA_eCLIP_1.bam' and '/cellar/users/aklie/data/datasets/Horlacher_HepG2_CLIP/processed/2023_12_29/encode/DROSHA/DROSHA_eCLIP_1.bam' are the same file\n"
     ]
    },
    {
     "name": "stdout",
     "output_type": "stream",
     "text": [
      "/cellar/users/aklie/data/datasets/Horlacher_HepG2_CLIP/processed/2023_12_29/encode/AGGF1/AGGF1_eCLIP_2.bam /cellar/users/aklie/data/datasets/Horlacher_HepG2_CLIP/processed/2023_12_29/encode/AGGF1/AGGF1_eCLIP_2.bam\n"
     ]
    },
    {
     "name": "stderr",
     "output_type": "stream",
     "text": [
      "mv: '/cellar/users/aklie/data/datasets/Horlacher_HepG2_CLIP/processed/2023_12_29/encode/AGGF1/AGGF1_eCLIP_2.bam' and '/cellar/users/aklie/data/datasets/Horlacher_HepG2_CLIP/processed/2023_12_29/encode/AGGF1/AGGF1_eCLIP_2.bam' are the same file\n",
      "mv: '/cellar/users/aklie/data/datasets/Horlacher_HepG2_CLIP/processed/2023_12_29/encode/AGGF1/AGGF1_eCLIP_1.bam' and '/cellar/users/aklie/data/datasets/Horlacher_HepG2_CLIP/processed/2023_12_29/encode/AGGF1/AGGF1_eCLIP_1.bam' are the same file\n"
     ]
    },
    {
     "name": "stdout",
     "output_type": "stream",
     "text": [
      "/cellar/users/aklie/data/datasets/Horlacher_HepG2_CLIP/processed/2023_12_29/encode/AGGF1/AGGF1_eCLIP_1.bam /cellar/users/aklie/data/datasets/Horlacher_HepG2_CLIP/processed/2023_12_29/encode/AGGF1/AGGF1_eCLIP_1.bam\n",
      "/cellar/users/aklie/data/datasets/Horlacher_HepG2_CLIP/processed/2023_12_29/encode/U2AF2/U2AF2_eCLIP_1.bam /cellar/users/aklie/data/datasets/Horlacher_HepG2_CLIP/processed/2023_12_29/encode/U2AF2/U2AF2_eCLIP_1.bam\n"
     ]
    },
    {
     "name": "stderr",
     "output_type": "stream",
     "text": [
      "mv: '/cellar/users/aklie/data/datasets/Horlacher_HepG2_CLIP/processed/2023_12_29/encode/U2AF2/U2AF2_eCLIP_1.bam' and '/cellar/users/aklie/data/datasets/Horlacher_HepG2_CLIP/processed/2023_12_29/encode/U2AF2/U2AF2_eCLIP_1.bam' are the same file\n",
      "mv: '/cellar/users/aklie/data/datasets/Horlacher_HepG2_CLIP/processed/2023_12_29/encode/U2AF2/U2AF2_eCLIP_2.bam' and '/cellar/users/aklie/data/datasets/Horlacher_HepG2_CLIP/processed/2023_12_29/encode/U2AF2/U2AF2_eCLIP_2.bam' are the same file\n"
     ]
    },
    {
     "name": "stdout",
     "output_type": "stream",
     "text": [
      "/cellar/users/aklie/data/datasets/Horlacher_HepG2_CLIP/processed/2023_12_29/encode/U2AF2/U2AF2_eCLIP_2.bam /cellar/users/aklie/data/datasets/Horlacher_HepG2_CLIP/processed/2023_12_29/encode/U2AF2/U2AF2_eCLIP_2.bam\n",
      "/cellar/users/aklie/data/datasets/Horlacher_HepG2_CLIP/processed/2023_12_29/encode/IGF2BP1/IGF2BP1_conrol_1.bam /cellar/users/aklie/data/datasets/Horlacher_HepG2_CLIP/processed/2023_12_29/encode/IGF2BP1/IGF2BP1_control_1.bam\n",
      "/cellar/users/aklie/data/datasets/Horlacher_HepG2_CLIP/processed/2023_12_29/encode/GTF2F1/GTF2F1_eCLIP_2.bam /cellar/users/aklie/data/datasets/Horlacher_HepG2_CLIP/processed/2023_12_29/encode/GTF2F1/GTF2F1_eCLIP_2.bam\n"
     ]
    },
    {
     "name": "stderr",
     "output_type": "stream",
     "text": [
      "mv: '/cellar/users/aklie/data/datasets/Horlacher_HepG2_CLIP/processed/2023_12_29/encode/GTF2F1/GTF2F1_eCLIP_2.bam' and '/cellar/users/aklie/data/datasets/Horlacher_HepG2_CLIP/processed/2023_12_29/encode/GTF2F1/GTF2F1_eCLIP_2.bam' are the same file\n",
      "mv: '/cellar/users/aklie/data/datasets/Horlacher_HepG2_CLIP/processed/2023_12_29/encode/GTF2F1/GTF2F1_eCLIP_1.bam' and '/cellar/users/aklie/data/datasets/Horlacher_HepG2_CLIP/processed/2023_12_29/encode/GTF2F1/GTF2F1_eCLIP_1.bam' are the same file\n"
     ]
    },
    {
     "name": "stdout",
     "output_type": "stream",
     "text": [
      "/cellar/users/aklie/data/datasets/Horlacher_HepG2_CLIP/processed/2023_12_29/encode/GTF2F1/GTF2F1_eCLIP_1.bam /cellar/users/aklie/data/datasets/Horlacher_HepG2_CLIP/processed/2023_12_29/encode/GTF2F1/GTF2F1_eCLIP_1.bam\n",
      "/cellar/users/aklie/data/datasets/Horlacher_HepG2_CLIP/processed/2023_12_29/encode/GRSF1/GRSF1_eCLIP_2.bam /cellar/users/aklie/data/datasets/Horlacher_HepG2_CLIP/processed/2023_12_29/encode/GRSF1/GRSF1_eCLIP_2.bam\n"
     ]
    },
    {
     "name": "stderr",
     "output_type": "stream",
     "text": [
      "mv: '/cellar/users/aklie/data/datasets/Horlacher_HepG2_CLIP/processed/2023_12_29/encode/GRSF1/GRSF1_eCLIP_2.bam' and '/cellar/users/aklie/data/datasets/Horlacher_HepG2_CLIP/processed/2023_12_29/encode/GRSF1/GRSF1_eCLIP_2.bam' are the same file\n"
     ]
    },
    {
     "name": "stdout",
     "output_type": "stream",
     "text": [
      "/cellar/users/aklie/data/datasets/Horlacher_HepG2_CLIP/processed/2023_12_29/encode/GRSF1/GRSF1_eCLIP_1.bam /cellar/users/aklie/data/datasets/Horlacher_HepG2_CLIP/processed/2023_12_29/encode/GRSF1/GRSF1_eCLIP_1.bam\n"
     ]
    },
    {
     "name": "stderr",
     "output_type": "stream",
     "text": [
      "mv: '/cellar/users/aklie/data/datasets/Horlacher_HepG2_CLIP/processed/2023_12_29/encode/GRSF1/GRSF1_eCLIP_1.bam' and '/cellar/users/aklie/data/datasets/Horlacher_HepG2_CLIP/processed/2023_12_29/encode/GRSF1/GRSF1_eCLIP_1.bam' are the same file\n"
     ]
    },
    {
     "name": "stdout",
     "output_type": "stream",
     "text": [
      "/cellar/users/aklie/data/datasets/Horlacher_HepG2_CLIP/processed/2023_12_29/encode/ZC3H11A/ZC3H11A_eCLIP_2.bam /cellar/users/aklie/data/datasets/Horlacher_HepG2_CLIP/processed/2023_12_29/encode/ZC3H11A/ZC3H11A_eCLIP_2.bam\n"
     ]
    },
    {
     "name": "stderr",
     "output_type": "stream",
     "text": [
      "mv: '/cellar/users/aklie/data/datasets/Horlacher_HepG2_CLIP/processed/2023_12_29/encode/ZC3H11A/ZC3H11A_eCLIP_2.bam' and '/cellar/users/aklie/data/datasets/Horlacher_HepG2_CLIP/processed/2023_12_29/encode/ZC3H11A/ZC3H11A_eCLIP_2.bam' are the same file\n",
      "mv: '/cellar/users/aklie/data/datasets/Horlacher_HepG2_CLIP/processed/2023_12_29/encode/ZC3H11A/ZC3H11A_eCLIP_1.bam' and '/cellar/users/aklie/data/datasets/Horlacher_HepG2_CLIP/processed/2023_12_29/encode/ZC3H11A/ZC3H11A_eCLIP_1.bam' are the same file\n"
     ]
    },
    {
     "name": "stdout",
     "output_type": "stream",
     "text": [
      "/cellar/users/aklie/data/datasets/Horlacher_HepG2_CLIP/processed/2023_12_29/encode/ZC3H11A/ZC3H11A_eCLIP_1.bam /cellar/users/aklie/data/datasets/Horlacher_HepG2_CLIP/processed/2023_12_29/encode/ZC3H11A/ZC3H11A_eCLIP_1.bam\n",
      "/cellar/users/aklie/data/datasets/Horlacher_HepG2_CLIP/processed/2023_12_29/encode/UCHL5/UCHL5_eCLIP_1.bam /cellar/users/aklie/data/datasets/Horlacher_HepG2_CLIP/processed/2023_12_29/encode/UCHL5/UCHL5_eCLIP_1.bam\n",
      "/cellar/users/aklie/data/datasets/Horlacher_HepG2_CLIP/processed/2023_12_29/encode/UCHL5/UCHL5_eCLIP_2.bam /cellar/users/aklie/data/datasets/Horlacher_HepG2_CLIP/processed/2023_12_29/encode/UCHL5/UCHL5_eCLIP_2.bam\n"
     ]
    },
    {
     "name": "stderr",
     "output_type": "stream",
     "text": [
      "mv: '/cellar/users/aklie/data/datasets/Horlacher_HepG2_CLIP/processed/2023_12_29/encode/UCHL5/UCHL5_eCLIP_1.bam' and '/cellar/users/aklie/data/datasets/Horlacher_HepG2_CLIP/processed/2023_12_29/encode/UCHL5/UCHL5_eCLIP_1.bam' are the same file\n",
      "mv: '/cellar/users/aklie/data/datasets/Horlacher_HepG2_CLIP/processed/2023_12_29/encode/UCHL5/UCHL5_eCLIP_2.bam' and '/cellar/users/aklie/data/datasets/Horlacher_HepG2_CLIP/processed/2023_12_29/encode/UCHL5/UCHL5_eCLIP_2.bam' are the same file\n"
     ]
    },
    {
     "name": "stdout",
     "output_type": "stream",
     "text": [
      "/cellar/users/aklie/data/datasets/Horlacher_HepG2_CLIP/processed/2023_12_29/encode/NKRF/NKRF_eCLIP_2.bam /cellar/users/aklie/data/datasets/Horlacher_HepG2_CLIP/processed/2023_12_29/encode/NKRF/NKRF_eCLIP_2.bam\n"
     ]
    },
    {
     "name": "stderr",
     "output_type": "stream",
     "text": [
      "mv: '/cellar/users/aklie/data/datasets/Horlacher_HepG2_CLIP/processed/2023_12_29/encode/NKRF/NKRF_eCLIP_2.bam' and '/cellar/users/aklie/data/datasets/Horlacher_HepG2_CLIP/processed/2023_12_29/encode/NKRF/NKRF_eCLIP_2.bam' are the same file\n"
     ]
    },
    {
     "name": "stdout",
     "output_type": "stream",
     "text": [
      "/cellar/users/aklie/data/datasets/Horlacher_HepG2_CLIP/processed/2023_12_29/encode/NKRF/NKRF_eCLIP_1.bam /cellar/users/aklie/data/datasets/Horlacher_HepG2_CLIP/processed/2023_12_29/encode/NKRF/NKRF_eCLIP_1.bam\n"
     ]
    },
    {
     "name": "stderr",
     "output_type": "stream",
     "text": [
      "mv: '/cellar/users/aklie/data/datasets/Horlacher_HepG2_CLIP/processed/2023_12_29/encode/NKRF/NKRF_eCLIP_1.bam' and '/cellar/users/aklie/data/datasets/Horlacher_HepG2_CLIP/processed/2023_12_29/encode/NKRF/NKRF_eCLIP_1.bam' are the same file\n"
     ]
    },
    {
     "name": "stdout",
     "output_type": "stream",
     "text": [
      "/cellar/users/aklie/data/datasets/Horlacher_HepG2_CLIP/processed/2023_12_29/encode/EFTUD2/EFTUD2_eCLIP_1.bam /cellar/users/aklie/data/datasets/Horlacher_HepG2_CLIP/processed/2023_12_29/encode/EFTUD2/EFTUD2_eCLIP_1.bam\n"
     ]
    },
    {
     "name": "stderr",
     "output_type": "stream",
     "text": [
      "mv: '/cellar/users/aklie/data/datasets/Horlacher_HepG2_CLIP/processed/2023_12_29/encode/EFTUD2/EFTUD2_eCLIP_1.bam' and '/cellar/users/aklie/data/datasets/Horlacher_HepG2_CLIP/processed/2023_12_29/encode/EFTUD2/EFTUD2_eCLIP_1.bam' are the same file\n"
     ]
    },
    {
     "name": "stdout",
     "output_type": "stream",
     "text": [
      "/cellar/users/aklie/data/datasets/Horlacher_HepG2_CLIP/processed/2023_12_29/encode/EFTUD2/EFTUD2_eCLIP_2.bam /cellar/users/aklie/data/datasets/Horlacher_HepG2_CLIP/processed/2023_12_29/encode/EFTUD2/EFTUD2_eCLIP_2.bam\n"
     ]
    },
    {
     "name": "stderr",
     "output_type": "stream",
     "text": [
      "mv: '/cellar/users/aklie/data/datasets/Horlacher_HepG2_CLIP/processed/2023_12_29/encode/EFTUD2/EFTUD2_eCLIP_2.bam' and '/cellar/users/aklie/data/datasets/Horlacher_HepG2_CLIP/processed/2023_12_29/encode/EFTUD2/EFTUD2_eCLIP_2.bam' are the same file\n"
     ]
    },
    {
     "name": "stdout",
     "output_type": "stream",
     "text": [
      "/cellar/users/aklie/data/datasets/Horlacher_HepG2_CLIP/processed/2023_12_29/encode/IGF2BP3/IGF2BP3_eCLIP_1.bam /cellar/users/aklie/data/datasets/Horlacher_HepG2_CLIP/processed/2023_12_29/encode/IGF2BP3/IGF2BP3_eCLIP_1.bam\n"
     ]
    },
    {
     "name": "stderr",
     "output_type": "stream",
     "text": [
      "mv: '/cellar/users/aklie/data/datasets/Horlacher_HepG2_CLIP/processed/2023_12_29/encode/IGF2BP3/IGF2BP3_eCLIP_1.bam' and '/cellar/users/aklie/data/datasets/Horlacher_HepG2_CLIP/processed/2023_12_29/encode/IGF2BP3/IGF2BP3_eCLIP_1.bam' are the same file\n"
     ]
    },
    {
     "name": "stdout",
     "output_type": "stream",
     "text": [
      "/cellar/users/aklie/data/datasets/Horlacher_HepG2_CLIP/processed/2023_12_29/encode/IGF2BP3/IGF2BP3_eCLIP_2.bam /cellar/users/aklie/data/datasets/Horlacher_HepG2_CLIP/processed/2023_12_29/encode/IGF2BP3/IGF2BP3_eCLIP_2.bam\n"
     ]
    },
    {
     "name": "stderr",
     "output_type": "stream",
     "text": [
      "mv: '/cellar/users/aklie/data/datasets/Horlacher_HepG2_CLIP/processed/2023_12_29/encode/IGF2BP3/IGF2BP3_eCLIP_2.bam' and '/cellar/users/aklie/data/datasets/Horlacher_HepG2_CLIP/processed/2023_12_29/encode/IGF2BP3/IGF2BP3_eCLIP_2.bam' are the same file\n"
     ]
    },
    {
     "name": "stdout",
     "output_type": "stream",
     "text": [
      "/cellar/users/aklie/data/datasets/Horlacher_HepG2_CLIP/processed/2023_12_29/encode/FKBP4/FKBP4_conrol_1.bam /cellar/users/aklie/data/datasets/Horlacher_HepG2_CLIP/processed/2023_12_29/encode/FKBP4/FKBP4_control_1.bam\n",
      "/cellar/users/aklie/data/datasets/Horlacher_HepG2_CLIP/processed/2023_12_29/encode/EIF3D/EIF3D_eCLIP_1.bam /cellar/users/aklie/data/datasets/Horlacher_HepG2_CLIP/processed/2023_12_29/encode/EIF3D/EIF3D_eCLIP_1.bam\n",
      "/cellar/users/aklie/data/datasets/Horlacher_HepG2_CLIP/processed/2023_12_29/encode/EIF3D/EIF3D_eCLIP_2.bam /cellar/users/aklie/data/datasets/Horlacher_HepG2_CLIP/processed/2023_12_29/encode/EIF3D/EIF3D_eCLIP_2.bam\n"
     ]
    },
    {
     "name": "stderr",
     "output_type": "stream",
     "text": [
      "mv: '/cellar/users/aklie/data/datasets/Horlacher_HepG2_CLIP/processed/2023_12_29/encode/EIF3D/EIF3D_eCLIP_1.bam' and '/cellar/users/aklie/data/datasets/Horlacher_HepG2_CLIP/processed/2023_12_29/encode/EIF3D/EIF3D_eCLIP_1.bam' are the same file\n",
      "mv: '/cellar/users/aklie/data/datasets/Horlacher_HepG2_CLIP/processed/2023_12_29/encode/EIF3D/EIF3D_eCLIP_2.bam' and '/cellar/users/aklie/data/datasets/Horlacher_HepG2_CLIP/processed/2023_12_29/encode/EIF3D/EIF3D_eCLIP_2.bam' are the same file\n"
     ]
    },
    {
     "name": "stdout",
     "output_type": "stream",
     "text": [
      "/cellar/users/aklie/data/datasets/Horlacher_HepG2_CLIP/processed/2023_12_29/encode/RBFOX2/RBFOX2_eCLIP_1.bam /cellar/users/aklie/data/datasets/Horlacher_HepG2_CLIP/processed/2023_12_29/encode/RBFOX2/RBFOX2_eCLIP_1.bam\n",
      "/cellar/users/aklie/data/datasets/Horlacher_HepG2_CLIP/processed/2023_12_29/encode/RBFOX2/RBFOX2_eCLIP_2.bam /cellar/users/aklie/data/datasets/Horlacher_HepG2_CLIP/processed/2023_12_29/encode/RBFOX2/RBFOX2_eCLIP_2.bam\n"
     ]
    },
    {
     "name": "stderr",
     "output_type": "stream",
     "text": [
      "mv: '/cellar/users/aklie/data/datasets/Horlacher_HepG2_CLIP/processed/2023_12_29/encode/RBFOX2/RBFOX2_eCLIP_1.bam' and '/cellar/users/aklie/data/datasets/Horlacher_HepG2_CLIP/processed/2023_12_29/encode/RBFOX2/RBFOX2_eCLIP_1.bam' are the same file\n",
      "mv: '/cellar/users/aklie/data/datasets/Horlacher_HepG2_CLIP/processed/2023_12_29/encode/RBFOX2/RBFOX2_eCLIP_2.bam' and '/cellar/users/aklie/data/datasets/Horlacher_HepG2_CLIP/processed/2023_12_29/encode/RBFOX2/RBFOX2_eCLIP_2.bam' are the same file\n"
     ]
    },
    {
     "name": "stdout",
     "output_type": "stream",
     "text": [
      "/cellar/users/aklie/data/datasets/Horlacher_HepG2_CLIP/processed/2023_12_29/encode/TIA1/TIA1_conrol_1.bam /cellar/users/aklie/data/datasets/Horlacher_HepG2_CLIP/processed/2023_12_29/encode/TIA1/TIA1_control_1.bam\n",
      "/cellar/users/aklie/data/datasets/Horlacher_HepG2_CLIP/processed/2023_12_29/encode/SUB1/SUB1_eCLIP_2.bam /cellar/users/aklie/data/datasets/Horlacher_HepG2_CLIP/processed/2023_12_29/encode/SUB1/SUB1_eCLIP_2.bam\n",
      "/cellar/users/aklie/data/datasets/Horlacher_HepG2_CLIP/processed/2023_12_29/encode/SUB1/SUB1_eCLIP_1.bam /cellar/users/aklie/data/datasets/Horlacher_HepG2_CLIP/processed/2023_12_29/encode/SUB1/SUB1_eCLIP_1.bam\n"
     ]
    },
    {
     "name": "stderr",
     "output_type": "stream",
     "text": [
      "mv: '/cellar/users/aklie/data/datasets/Horlacher_HepG2_CLIP/processed/2023_12_29/encode/SUB1/SUB1_eCLIP_2.bam' and '/cellar/users/aklie/data/datasets/Horlacher_HepG2_CLIP/processed/2023_12_29/encode/SUB1/SUB1_eCLIP_2.bam' are the same file\n"
     ]
    },
    {
     "name": "stdout",
     "output_type": "stream",
     "text": [
      "/cellar/users/aklie/data/datasets/Horlacher_HepG2_CLIP/processed/2023_12_29/encode/PCBP2/PCBP2_eCLIP_1.bam /cellar/users/aklie/data/datasets/Horlacher_HepG2_CLIP/processed/2023_12_29/encode/PCBP2/PCBP2_eCLIP_1.bam\n"
     ]
    },
    {
     "name": "stderr",
     "output_type": "stream",
     "text": [
      "mv: '/cellar/users/aklie/data/datasets/Horlacher_HepG2_CLIP/processed/2023_12_29/encode/SUB1/SUB1_eCLIP_1.bam' and '/cellar/users/aklie/data/datasets/Horlacher_HepG2_CLIP/processed/2023_12_29/encode/SUB1/SUB1_eCLIP_1.bam' are the same file\n",
      "mv: '/cellar/users/aklie/data/datasets/Horlacher_HepG2_CLIP/processed/2023_12_29/encode/PCBP2/PCBP2_eCLIP_1.bam' and '/cellar/users/aklie/data/datasets/Horlacher_HepG2_CLIP/processed/2023_12_29/encode/PCBP2/PCBP2_eCLIP_1.bam' are the same file\n"
     ]
    },
    {
     "name": "stdout",
     "output_type": "stream",
     "text": [
      "/cellar/users/aklie/data/datasets/Horlacher_HepG2_CLIP/processed/2023_12_29/encode/PCBP2/PCBP2_eCLIP_2.bam /cellar/users/aklie/data/datasets/Horlacher_HepG2_CLIP/processed/2023_12_29/encode/PCBP2/PCBP2_eCLIP_2.bam\n"
     ]
    },
    {
     "name": "stderr",
     "output_type": "stream",
     "text": [
      "mv: '/cellar/users/aklie/data/datasets/Horlacher_HepG2_CLIP/processed/2023_12_29/encode/PCBP2/PCBP2_eCLIP_2.bam' and '/cellar/users/aklie/data/datasets/Horlacher_HepG2_CLIP/processed/2023_12_29/encode/PCBP2/PCBP2_eCLIP_2.bam' are the same file\n"
     ]
    },
    {
     "name": "stdout",
     "output_type": "stream",
     "text": [
      "/cellar/users/aklie/data/datasets/Horlacher_HepG2_CLIP/processed/2023_12_29/encode/LSM11/LSM11_eCLIP_1.bam /cellar/users/aklie/data/datasets/Horlacher_HepG2_CLIP/processed/2023_12_29/encode/LSM11/LSM11_eCLIP_1.bam\n"
     ]
    },
    {
     "name": "stderr",
     "output_type": "stream",
     "text": [
      "mv: '/cellar/users/aklie/data/datasets/Horlacher_HepG2_CLIP/processed/2023_12_29/encode/LSM11/LSM11_eCLIP_1.bam' and '/cellar/users/aklie/data/datasets/Horlacher_HepG2_CLIP/processed/2023_12_29/encode/LSM11/LSM11_eCLIP_1.bam' are the same file\n"
     ]
    },
    {
     "name": "stdout",
     "output_type": "stream",
     "text": [
      "/cellar/users/aklie/data/datasets/Horlacher_HepG2_CLIP/processed/2023_12_29/encode/LSM11/LSM11_eCLIP_2.bam /cellar/users/aklie/data/datasets/Horlacher_HepG2_CLIP/processed/2023_12_29/encode/LSM11/LSM11_eCLIP_2.bam\n"
     ]
    },
    {
     "name": "stderr",
     "output_type": "stream",
     "text": [
      "mv: '/cellar/users/aklie/data/datasets/Horlacher_HepG2_CLIP/processed/2023_12_29/encode/LSM11/LSM11_eCLIP_2.bam' and '/cellar/users/aklie/data/datasets/Horlacher_HepG2_CLIP/processed/2023_12_29/encode/LSM11/LSM11_eCLIP_2.bam' are the same file\n"
     ]
    },
    {
     "name": "stdout",
     "output_type": "stream",
     "text": [
      "/cellar/users/aklie/data/datasets/Horlacher_HepG2_CLIP/processed/2023_12_29/encode/QKI/QKI_eCLIP_1.bam /cellar/users/aklie/data/datasets/Horlacher_HepG2_CLIP/processed/2023_12_29/encode/QKI/QKI_eCLIP_1.bam\n"
     ]
    },
    {
     "name": "stderr",
     "output_type": "stream",
     "text": [
      "mv: '/cellar/users/aklie/data/datasets/Horlacher_HepG2_CLIP/processed/2023_12_29/encode/QKI/QKI_eCLIP_1.bam' and '/cellar/users/aklie/data/datasets/Horlacher_HepG2_CLIP/processed/2023_12_29/encode/QKI/QKI_eCLIP_1.bam' are the same file\n"
     ]
    },
    {
     "name": "stdout",
     "output_type": "stream",
     "text": [
      "/cellar/users/aklie/data/datasets/Horlacher_HepG2_CLIP/processed/2023_12_29/encode/QKI/QKI_eCLIP_2.bam /cellar/users/aklie/data/datasets/Horlacher_HepG2_CLIP/processed/2023_12_29/encode/QKI/QKI_eCLIP_2.bam\n"
     ]
    },
    {
     "name": "stderr",
     "output_type": "stream",
     "text": [
      "mv: "
     ]
    },
    {
     "name": "stdout",
     "output_type": "stream",
     "text": [
      "/cellar/users/aklie/data/datasets/Horlacher_HepG2_CLIP/processed/2023_12_29/encode/U2AF1/U2AF1_conrol_1.bam /cellar/users/aklie/data/datasets/Horlacher_HepG2_CLIP/processed/2023_12_29/encode/U2AF1/U2AF1_control_1.bam\n"
     ]
    },
    {
     "name": "stderr",
     "output_type": "stream",
     "text": [
      "'/cellar/users/aklie/data/datasets/Horlacher_HepG2_CLIP/processed/2023_12_29/encode/QKI/QKI_eCLIP_2.bam' and '/cellar/users/aklie/data/datasets/Horlacher_HepG2_CLIP/processed/2023_12_29/encode/QKI/QKI_eCLIP_2.bam' are the same file\n"
     ]
    },
    {
     "name": "stdout",
     "output_type": "stream",
     "text": [
      "/cellar/users/aklie/data/datasets/Horlacher_HepG2_CLIP/processed/2023_12_29/encode/U2AF2/U2AF2_conrol_1.bam /cellar/users/aklie/data/datasets/Horlacher_HepG2_CLIP/processed/2023_12_29/encode/U2AF2/U2AF2_control_1.bam\n",
      "/cellar/users/aklie/data/datasets/Horlacher_HepG2_CLIP/processed/2023_12_29/encode/DDX6/DDX6_eCLIP_1.bam /cellar/users/aklie/data/datasets/Horlacher_HepG2_CLIP/processed/2023_12_29/encode/DDX6/DDX6_eCLIP_1.bam\n",
      "/cellar/users/aklie/data/datasets/Horlacher_HepG2_CLIP/processed/2023_12_29/encode/DDX6/DDX6_eCLIP_2.bam /cellar/users/aklie/data/datasets/Horlacher_HepG2_CLIP/processed/2023_12_29/encode/DDX6/DDX6_eCLIP_2.bam\n"
     ]
    },
    {
     "name": "stderr",
     "output_type": "stream",
     "text": [
      "mv: '/cellar/users/aklie/data/datasets/Horlacher_HepG2_CLIP/processed/2023_12_29/encode/DDX6/DDX6_eCLIP_1.bam' and '/cellar/users/aklie/data/datasets/Horlacher_HepG2_CLIP/processed/2023_12_29/encode/DDX6/DDX6_eCLIP_1.bam' are the same file\n",
      "mv: '/cellar/users/aklie/data/datasets/Horlacher_HepG2_CLIP/processed/2023_12_29/encode/DDX6/DDX6_eCLIP_2.bam' and '/cellar/users/aklie/data/datasets/Horlacher_HepG2_CLIP/processed/2023_12_29/encode/DDX6/DDX6_eCLIP_2.bam' are the same file\n"
     ]
    },
    {
     "name": "stdout",
     "output_type": "stream",
     "text": [
      "/cellar/users/aklie/data/datasets/Horlacher_HepG2_CLIP/processed/2023_12_29/encode/DDX59/DDX59_eCLIP_1.bam /cellar/users/aklie/data/datasets/Horlacher_HepG2_CLIP/processed/2023_12_29/encode/DDX59/DDX59_eCLIP_1.bam\n"
     ]
    },
    {
     "name": "stderr",
     "output_type": "stream",
     "text": [
      "mv: '/cellar/users/aklie/data/datasets/Horlacher_HepG2_CLIP/processed/2023_12_29/encode/DDX59/DDX59_eCLIP_1.bam' and '/cellar/users/aklie/data/datasets/Horlacher_HepG2_CLIP/processed/2023_12_29/encode/DDX59/DDX59_eCLIP_1.bam' are the same file\n"
     ]
    },
    {
     "name": "stdout",
     "output_type": "stream",
     "text": [
      "/cellar/users/aklie/data/datasets/Horlacher_HepG2_CLIP/processed/2023_12_29/encode/DDX59/DDX59_eCLIP_2.bam /cellar/users/aklie/data/datasets/Horlacher_HepG2_CLIP/processed/2023_12_29/encode/DDX59/DDX59_eCLIP_2.bam\n"
     ]
    },
    {
     "name": "stderr",
     "output_type": "stream",
     "text": [
      "mv: '/cellar/users/aklie/data/datasets/Horlacher_HepG2_CLIP/processed/2023_12_29/encode/DDX59/DDX59_eCLIP_2.bam' and '/cellar/users/aklie/data/datasets/Horlacher_HepG2_CLIP/processed/2023_12_29/encode/DDX59/DDX59_eCLIP_2.bam' are the same file\n"
     ]
    },
    {
     "name": "stdout",
     "output_type": "stream",
     "text": [
      "/cellar/users/aklie/data/datasets/Horlacher_HepG2_CLIP/processed/2023_12_29/encode/HNRNPA1/HNRNPA1_conrol_1.bam /cellar/users/aklie/data/datasets/Horlacher_HepG2_CLIP/processed/2023_12_29/encode/HNRNPA1/HNRNPA1_control_1.bam\n",
      "/cellar/users/aklie/data/datasets/Horlacher_HepG2_CLIP/processed/2023_12_29/encode/NCBP2/NCBP2_eCLIP_2.bam /cellar/users/aklie/data/datasets/Horlacher_HepG2_CLIP/processed/2023_12_29/encode/NCBP2/NCBP2_eCLIP_2.bam\n"
     ]
    },
    {
     "name": "stderr",
     "output_type": "stream",
     "text": [
      "mv: '/cellar/users/aklie/data/datasets/Horlacher_HepG2_CLIP/processed/2023_12_29/encode/NCBP2/NCBP2_eCLIP_2.bam' and '/cellar/users/aklie/data/datasets/Horlacher_HepG2_CLIP/processed/2023_12_29/encode/NCBP2/NCBP2_eCLIP_2.bam' are the same file\n",
      "mv: "
     ]
    },
    {
     "name": "stdout",
     "output_type": "stream",
     "text": [
      "/cellar/users/aklie/data/datasets/Horlacher_HepG2_CLIP/processed/2023_12_29/encode/NCBP2/NCBP2_eCLIP_1.bam /cellar/users/aklie/data/datasets/Horlacher_HepG2_CLIP/processed/2023_12_29/encode/NCBP2/NCBP2_eCLIP_1.bam\n"
     ]
    },
    {
     "name": "stderr",
     "output_type": "stream",
     "text": [
      "'/cellar/users/aklie/data/datasets/Horlacher_HepG2_CLIP/processed/2023_12_29/encode/NCBP2/NCBP2_eCLIP_1.bam' and '/cellar/users/aklie/data/datasets/Horlacher_HepG2_CLIP/processed/2023_12_29/encode/NCBP2/NCBP2_eCLIP_1.bam' are the same file\n",
      "mv: '/cellar/users/aklie/data/datasets/Horlacher_HepG2_CLIP/processed/2023_12_29/encode/POLR2G/POLR2G_eCLIP_2.bam' and '/cellar/users/aklie/data/datasets/Horlacher_HepG2_CLIP/processed/2023_12_29/encode/POLR2G/POLR2G_eCLIP_2.bam' are the same file\n"
     ]
    },
    {
     "name": "stdout",
     "output_type": "stream",
     "text": [
      "/cellar/users/aklie/data/datasets/Horlacher_HepG2_CLIP/processed/2023_12_29/encode/POLR2G/POLR2G_eCLIP_2.bam /cellar/users/aklie/data/datasets/Horlacher_HepG2_CLIP/processed/2023_12_29/encode/POLR2G/POLR2G_eCLIP_2.bam\n",
      "/cellar/users/aklie/data/datasets/Horlacher_HepG2_CLIP/processed/2023_12_29/encode/POLR2G/POLR2G_eCLIP_1.bam /cellar/users/aklie/data/datasets/Horlacher_HepG2_CLIP/processed/2023_12_29/encode/POLR2G/POLR2G_eCLIP_1.bam\n",
      "/cellar/users/aklie/data/datasets/Horlacher_HepG2_CLIP/processed/2023_12_29/encode/LIN28B/LIN28B_conrol_1.bam /cellar/users/aklie/data/datasets/Horlacher_HepG2_CLIP/processed/2023_12_29/encode/LIN28B/LIN28B_control_1.bam\n",
      "/cellar/users/aklie/data/datasets/Horlacher_HepG2_CLIP/processed/2023_12_29/encode/TRA2A/TRA2A_eCLIP_2.bam /cellar/users/aklie/data/datasets/Horlacher_HepG2_CLIP/processed/2023_12_29/encode/TRA2A/TRA2A_eCLIP_2.bam\n"
     ]
    },
    {
     "name": "stderr",
     "output_type": "stream",
     "text": [
      "mv: '/cellar/users/aklie/data/datasets/Horlacher_HepG2_CLIP/processed/2023_12_29/encode/POLR2G/POLR2G_eCLIP_1.bam' and '/cellar/users/aklie/data/datasets/Horlacher_HepG2_CLIP/processed/2023_12_29/encode/POLR2G/POLR2G_eCLIP_1.bam' are the same file\n"
     ]
    },
    {
     "name": "stdout",
     "output_type": "stream",
     "text": [
      "/cellar/users/aklie/data/datasets/Horlacher_HepG2_CLIP/processed/2023_12_29/encode/TRA2A/TRA2A_eCLIP_1.bam /cellar/users/aklie/data/datasets/Horlacher_HepG2_CLIP/processed/2023_12_29/encode/TRA2A/TRA2A_eCLIP_1.bam\n"
     ]
    },
    {
     "name": "stderr",
     "output_type": "stream",
     "text": [
      "mv: '/cellar/users/aklie/data/datasets/Horlacher_HepG2_CLIP/processed/2023_12_29/encode/TRA2A/TRA2A_eCLIP_2.bam' and '/cellar/users/aklie/data/datasets/Horlacher_HepG2_CLIP/processed/2023_12_29/encode/TRA2A/TRA2A_eCLIP_2.bam' are the same file\n",
      "mv: '/cellar/users/aklie/data/datasets/Horlacher_HepG2_CLIP/processed/2023_12_29/encode/TRA2A/TRA2A_eCLIP_1.bam' and '/cellar/users/aklie/data/datasets/Horlacher_HepG2_CLIP/processed/2023_12_29/encode/TRA2A/TRA2A_eCLIP_1.bam' are the same file\n"
     ]
    },
    {
     "name": "stdout",
     "output_type": "stream",
     "text": [
      "/cellar/users/aklie/data/datasets/Horlacher_HepG2_CLIP/processed/2023_12_29/encode/U2AF1/U2AF1_eCLIP_1.bam /cellar/users/aklie/data/datasets/Horlacher_HepG2_CLIP/processed/2023_12_29/encode/U2AF1/U2AF1_eCLIP_1.bam\n",
      "/cellar/users/aklie/data/datasets/Horlacher_HepG2_CLIP/processed/2023_12_29/encode/U2AF1/U2AF1_eCLIP_2.bam /cellar/users/aklie/data/datasets/Horlacher_HepG2_CLIP/processed/2023_12_29/encode/U2AF1/U2AF1_eCLIP_2.bam\n"
     ]
    },
    {
     "name": "stderr",
     "output_type": "stream",
     "text": [
      "mv: '/cellar/users/aklie/data/datasets/Horlacher_HepG2_CLIP/processed/2023_12_29/encode/U2AF1/U2AF1_eCLIP_1.bam' and '/cellar/users/aklie/data/datasets/Horlacher_HepG2_CLIP/processed/2023_12_29/encode/U2AF1/U2AF1_eCLIP_1.bam' are the same file\n"
     ]
    },
    {
     "name": "stdout",
     "output_type": "stream",
     "text": [
      "/cellar/users/aklie/data/datasets/Horlacher_HepG2_CLIP/processed/2023_12_29/encode/FKBP4/FKBP4_eCLIP_2.bam /cellar/users/aklie/data/datasets/Horlacher_HepG2_CLIP/processed/2023_12_29/encode/FKBP4/FKBP4_eCLIP_2.bam\n"
     ]
    },
    {
     "name": "stderr",
     "output_type": "stream",
     "text": [
      "mv: '/cellar/users/aklie/data/datasets/Horlacher_HepG2_CLIP/processed/2023_12_29/encode/U2AF1/U2AF1_eCLIP_2.bam' and '/cellar/users/aklie/data/datasets/Horlacher_HepG2_CLIP/processed/2023_12_29/encode/U2AF1/U2AF1_eCLIP_2.bam' are the same file\n",
      "mv: '/cellar/users/aklie/data/datasets/Horlacher_HepG2_CLIP/processed/2023_12_29/encode/FKBP4/FKBP4_eCLIP_2.bam' and '/cellar/users/aklie/data/datasets/Horlacher_HepG2_CLIP/processed/2023_12_29/encode/FKBP4/FKBP4_eCLIP_2.bam' are the same file\n"
     ]
    },
    {
     "name": "stdout",
     "output_type": "stream",
     "text": [
      "/cellar/users/aklie/data/datasets/Horlacher_HepG2_CLIP/processed/2023_12_29/encode/FKBP4/FKBP4_eCLIP_1.bam /cellar/users/aklie/data/datasets/Horlacher_HepG2_CLIP/processed/2023_12_29/encode/FKBP4/FKBP4_eCLIP_1.bam\n"
     ]
    },
    {
     "name": "stderr",
     "output_type": "stream",
     "text": [
      "mv: '/cellar/users/aklie/data/datasets/Horlacher_HepG2_CLIP/processed/2023_12_29/encode/FKBP4/FKBP4_eCLIP_1.bam' and '/cellar/users/aklie/data/datasets/Horlacher_HepG2_CLIP/processed/2023_12_29/encode/FKBP4/FKBP4_eCLIP_1.bam' are the same file\n",
      "mv: '/cellar/users/aklie/data/datasets/Horlacher_HepG2_CLIP/processed/2023_12_29/encode/DKC1/DKC1_eCLIP_1.bam' and '/cellar/users/aklie/data/datasets/Horlacher_HepG2_CLIP/processed/2023_12_29/encode/DKC1/DKC1_eCLIP_1.bam' are the same file\n"
     ]
    },
    {
     "name": "stdout",
     "output_type": "stream",
     "text": [
      "/cellar/users/aklie/data/datasets/Horlacher_HepG2_CLIP/processed/2023_12_29/encode/DKC1/DKC1_eCLIP_1.bam /cellar/users/aklie/data/datasets/Horlacher_HepG2_CLIP/processed/2023_12_29/encode/DKC1/DKC1_eCLIP_1.bam\n",
      "/cellar/users/aklie/data/datasets/Horlacher_HepG2_CLIP/processed/2023_12_29/encode/DKC1/DKC1_eCLIP_2.bam /cellar/users/aklie/data/datasets/Horlacher_HepG2_CLIP/processed/2023_12_29/encode/DKC1/DKC1_eCLIP_2.bam\n",
      "/cellar/users/aklie/data/datasets/Horlacher_HepG2_CLIP/processed/2023_12_29/encode/TROVE2/TROVE2_eCLIP_1.bam /cellar/users/aklie/data/datasets/Horlacher_HepG2_CLIP/processed/2023_12_29/encode/TROVE2/TROVE2_eCLIP_1.bam\n"
     ]
    },
    {
     "name": "stderr",
     "output_type": "stream",
     "text": [
      "mv: '/cellar/users/aklie/data/datasets/Horlacher_HepG2_CLIP/processed/2023_12_29/encode/DKC1/DKC1_eCLIP_2.bam' and '/cellar/users/aklie/data/datasets/Horlacher_HepG2_CLIP/processed/2023_12_29/encode/DKC1/DKC1_eCLIP_2.bam' are the same file\n",
      "mv: '/cellar/users/aklie/data/datasets/Horlacher_HepG2_CLIP/processed/2023_12_29/encode/TROVE2/TROVE2_eCLIP_1.bam' and '/cellar/users/aklie/data/datasets/Horlacher_HepG2_CLIP/processed/2023_12_29/encode/TROVE2/TROVE2_eCLIP_1.bam' are the same file\n"
     ]
    },
    {
     "name": "stdout",
     "output_type": "stream",
     "text": [
      "/cellar/users/aklie/data/datasets/Horlacher_HepG2_CLIP/processed/2023_12_29/encode/TROVE2/TROVE2_eCLIP_2.bam /cellar/users/aklie/data/datasets/Horlacher_HepG2_CLIP/processed/2023_12_29/encode/TROVE2/TROVE2_eCLIP_2.bam\n"
     ]
    },
    {
     "name": "stderr",
     "output_type": "stream",
     "text": [
      "mv: '/cellar/users/aklie/data/datasets/Horlacher_HepG2_CLIP/processed/2023_12_29/encode/TROVE2/TROVE2_eCLIP_2.bam' and '/cellar/users/aklie/data/datasets/Horlacher_HepG2_CLIP/processed/2023_12_29/encode/TROVE2/TROVE2_eCLIP_2.bam' are the same file\n"
     ]
    },
    {
     "name": "stdout",
     "output_type": "stream",
     "text": [
      "/cellar/users/aklie/data/datasets/Horlacher_HepG2_CLIP/processed/2023_12_29/encode/EFTUD2/EFTUD2_conrol_1.bam /cellar/users/aklie/data/datasets/Horlacher_HepG2_CLIP/processed/2023_12_29/encode/EFTUD2/EFTUD2_control_1.bam\n",
      "/cellar/users/aklie/data/datasets/Horlacher_HepG2_CLIP/processed/2023_12_29/encode/CSTF2T/CSTF2T_eCLIP_2.bam /cellar/users/aklie/data/datasets/Horlacher_HepG2_CLIP/processed/2023_12_29/encode/CSTF2T/CSTF2T_eCLIP_2.bam\n"
     ]
    },
    {
     "name": "stderr",
     "output_type": "stream",
     "text": [
      "mv: '/cellar/users/aklie/data/datasets/Horlacher_HepG2_CLIP/processed/2023_12_29/encode/CSTF2T/CSTF2T_eCLIP_2.bam' and '/cellar/users/aklie/data/datasets/Horlacher_HepG2_CLIP/processed/2023_12_29/encode/CSTF2T/CSTF2T_eCLIP_2.bam' are the same file\n",
      "mv: '/cellar/users/aklie/data/datasets/Horlacher_HepG2_CLIP/processed/2023_12_29/encode/CSTF2T/CSTF2T_eCLIP_1.bam' and '/cellar/users/aklie/data/datasets/Horlacher_HepG2_CLIP/processed/2023_12_29/encode/CSTF2T/CSTF2T_eCLIP_1.bam' are the same file\n"
     ]
    },
    {
     "name": "stdout",
     "output_type": "stream",
     "text": [
      "/cellar/users/aklie/data/datasets/Horlacher_HepG2_CLIP/processed/2023_12_29/encode/CSTF2T/CSTF2T_eCLIP_1.bam /cellar/users/aklie/data/datasets/Horlacher_HepG2_CLIP/processed/2023_12_29/encode/CSTF2T/CSTF2T_eCLIP_1.bam\n",
      "/cellar/users/aklie/data/datasets/Horlacher_HepG2_CLIP/processed/2023_12_29/encode/SLTM/SLTM_eCLIP_2.bam /cellar/users/aklie/data/datasets/Horlacher_HepG2_CLIP/processed/2023_12_29/encode/SLTM/SLTM_eCLIP_2.bam\n"
     ]
    },
    {
     "name": "stderr",
     "output_type": "stream",
     "text": [
      "mv: '/cellar/users/aklie/data/datasets/Horlacher_HepG2_CLIP/processed/2023_12_29/encode/SLTM/SLTM_eCLIP_2.bam' and '/cellar/users/aklie/data/datasets/Horlacher_HepG2_CLIP/processed/2023_12_29/encode/SLTM/SLTM_eCLIP_2.bam' are the same file\n"
     ]
    },
    {
     "name": "stdout",
     "output_type": "stream",
     "text": [
      "/cellar/users/aklie/data/datasets/Horlacher_HepG2_CLIP/processed/2023_12_29/encode/SLTM/SLTM_eCLIP_1.bam /cellar/users/aklie/data/datasets/Horlacher_HepG2_CLIP/processed/2023_12_29/encode/SLTM/SLTM_eCLIP_1.bam\n"
     ]
    },
    {
     "name": "stderr",
     "output_type": "stream",
     "text": [
      "mv: '/cellar/users/aklie/data/datasets/Horlacher_HepG2_CLIP/processed/2023_12_29/encode/SLTM/SLTM_eCLIP_1.bam' and '/cellar/users/aklie/data/datasets/Horlacher_HepG2_CLIP/processed/2023_12_29/encode/SLTM/SLTM_eCLIP_1.bam' are the same file\n"
     ]
    },
    {
     "name": "stdout",
     "output_type": "stream",
     "text": [
      "/cellar/users/aklie/data/datasets/Horlacher_HepG2_CLIP/processed/2023_12_29/encode/SUGP2/SUGP2_eCLIP_1.bam /cellar/users/aklie/data/datasets/Horlacher_HepG2_CLIP/processed/2023_12_29/encode/SUGP2/SUGP2_eCLIP_1.bam\n"
     ]
    },
    {
     "name": "stderr",
     "output_type": "stream",
     "text": [
      "mv: '/cellar/users/aklie/data/datasets/Horlacher_HepG2_CLIP/processed/2023_12_29/encode/SUGP2/SUGP2_eCLIP_1.bam' and '/cellar/users/aklie/data/datasets/Horlacher_HepG2_CLIP/processed/2023_12_29/encode/SUGP2/SUGP2_eCLIP_1.bam' are the same file\n",
      "mv: '/cellar/users/aklie/data/datasets/Horlacher_HepG2_CLIP/processed/2023_12_29/encode/SUGP2/SUGP2_eCLIP_2.bam' and '/cellar/users/aklie/data/datasets/Horlacher_HepG2_CLIP/processed/2023_12_29/encode/SUGP2/SUGP2_eCLIP_2.bam' are the same file\n"
     ]
    },
    {
     "name": "stdout",
     "output_type": "stream",
     "text": [
      "/cellar/users/aklie/data/datasets/Horlacher_HepG2_CLIP/processed/2023_12_29/encode/SUGP2/SUGP2_eCLIP_2.bam /cellar/users/aklie/data/datasets/Horlacher_HepG2_CLIP/processed/2023_12_29/encode/SUGP2/SUGP2_eCLIP_2.bam\n",
      "/cellar/users/aklie/data/datasets/Horlacher_HepG2_CLIP/processed/2023_12_29/encode/DGCR8/DGCR8_eCLIP_1.bam /cellar/users/aklie/data/datasets/Horlacher_HepG2_CLIP/processed/2023_12_29/encode/DGCR8/DGCR8_eCLIP_1.bam\n"
     ]
    },
    {
     "name": "stderr",
     "output_type": "stream",
     "text": [
      "mv: '/cellar/users/aklie/data/datasets/Horlacher_HepG2_CLIP/processed/2023_12_29/encode/DGCR8/DGCR8_eCLIP_1.bam' and '/cellar/users/aklie/data/datasets/Horlacher_HepG2_CLIP/processed/2023_12_29/encode/DGCR8/DGCR8_eCLIP_1.bam' are the same file\n",
      "mv: '/cellar/users/aklie/data/datasets/Horlacher_HepG2_CLIP/processed/2023_12_29/encode/DGCR8/DGCR8_eCLIP_2.bam' and '/cellar/users/aklie/data/datasets/Horlacher_HepG2_CLIP/processed/2023_12_29/encode/DGCR8/DGCR8_eCLIP_2.bam' are the same file\n"
     ]
    },
    {
     "name": "stdout",
     "output_type": "stream",
     "text": [
      "/cellar/users/aklie/data/datasets/Horlacher_HepG2_CLIP/processed/2023_12_29/encode/DGCR8/DGCR8_eCLIP_2.bam /cellar/users/aklie/data/datasets/Horlacher_HepG2_CLIP/processed/2023_12_29/encode/DGCR8/DGCR8_eCLIP_2.bam\n",
      "/cellar/users/aklie/data/datasets/Horlacher_HepG2_CLIP/processed/2023_12_29/encode/NOLC1/NOLC1_eCLIP_2.bam /cellar/users/aklie/data/datasets/Horlacher_HepG2_CLIP/processed/2023_12_29/encode/NOLC1/NOLC1_eCLIP_2.bam\n"
     ]
    },
    {
     "name": "stderr",
     "output_type": "stream",
     "text": [
      "mv: '/cellar/users/aklie/data/datasets/Horlacher_HepG2_CLIP/processed/2023_12_29/encode/NOLC1/NOLC1_eCLIP_2.bam' and '/cellar/users/aklie/data/datasets/Horlacher_HepG2_CLIP/processed/2023_12_29/encode/NOLC1/NOLC1_eCLIP_2.bam' are the same file\n"
     ]
    },
    {
     "name": "stdout",
     "output_type": "stream",
     "text": [
      "/cellar/users/aklie/data/datasets/Horlacher_HepG2_CLIP/processed/2023_12_29/encode/NOLC1/NOLC1_eCLIP_1.bam /cellar/users/aklie/data/datasets/Horlacher_HepG2_CLIP/processed/2023_12_29/encode/NOLC1/NOLC1_eCLIP_1.bam\n"
     ]
    },
    {
     "name": "stderr",
     "output_type": "stream",
     "text": [
      "mv: '/cellar/users/aklie/data/datasets/Horlacher_HepG2_CLIP/processed/2023_12_29/encode/NOLC1/NOLC1_eCLIP_1.bam' and '/cellar/users/aklie/data/datasets/Horlacher_HepG2_CLIP/processed/2023_12_29/encode/NOLC1/NOLC1_eCLIP_1.bam' are the same file\n",
      "mv: '/cellar/users/aklie/data/datasets/Horlacher_HepG2_CLIP/processed/2023_12_29/encode/EIF3H/EIF3H_eCLIP_1.bam' and '/cellar/users/aklie/data/datasets/Horlacher_HepG2_CLIP/processed/2023_12_29/encode/EIF3H/EIF3H_eCLIP_1.bam' are the same file\n"
     ]
    },
    {
     "name": "stdout",
     "output_type": "stream",
     "text": [
      "/cellar/users/aklie/data/datasets/Horlacher_HepG2_CLIP/processed/2023_12_29/encode/EIF3H/EIF3H_eCLIP_1.bam /cellar/users/aklie/data/datasets/Horlacher_HepG2_CLIP/processed/2023_12_29/encode/EIF3H/EIF3H_eCLIP_1.bam\n",
      "/cellar/users/aklie/data/datasets/Horlacher_HepG2_CLIP/processed/2023_12_29/encode/EIF3H/EIF3H_eCLIP_2.bam /cellar/users/aklie/data/datasets/Horlacher_HepG2_CLIP/processed/2023_12_29/encode/EIF3H/EIF3H_eCLIP_2.bam\n"
     ]
    },
    {
     "name": "stderr",
     "output_type": "stream",
     "text": [
      "mv: '/cellar/users/aklie/data/datasets/Horlacher_HepG2_CLIP/processed/2023_12_29/encode/EIF3H/EIF3H_eCLIP_2.bam' and '/cellar/users/aklie/data/datasets/Horlacher_HepG2_CLIP/processed/2023_12_29/encode/EIF3H/EIF3H_eCLIP_2.bam' are the same file\n",
      "mv: '/cellar/users/aklie/data/datasets/Horlacher_HepG2_CLIP/processed/2023_12_29/encode/Lin28B/Lin28B_eCLIP_1.bam' and '/cellar/users/aklie/data/datasets/Horlacher_HepG2_CLIP/processed/2023_12_29/encode/Lin28B/Lin28B_eCLIP_1.bam' are the same file\n"
     ]
    },
    {
     "name": "stdout",
     "output_type": "stream",
     "text": [
      "/cellar/users/aklie/data/datasets/Horlacher_HepG2_CLIP/processed/2023_12_29/encode/Lin28B/Lin28B_eCLIP_1.bam /cellar/users/aklie/data/datasets/Horlacher_HepG2_CLIP/processed/2023_12_29/encode/Lin28B/Lin28B_eCLIP_1.bam\n",
      "/cellar/users/aklie/data/datasets/Horlacher_HepG2_CLIP/processed/2023_12_29/encode/Lin28B/Lin28B_eCLIP_2.bam /cellar/users/aklie/data/datasets/Horlacher_HepG2_CLIP/processed/2023_12_29/encode/Lin28B/Lin28B_eCLIP_2.bam\n"
     ]
    },
    {
     "name": "stderr",
     "output_type": "stream",
     "text": [
      "mv: '/cellar/users/aklie/data/datasets/Horlacher_HepG2_CLIP/processed/2023_12_29/encode/Lin28B/Lin28B_eCLIP_2.bam' and '/cellar/users/aklie/data/datasets/Horlacher_HepG2_CLIP/processed/2023_12_29/encode/Lin28B/Lin28B_eCLIP_2.bam' are the same file\n"
     ]
    },
    {
     "name": "stdout",
     "output_type": "stream",
     "text": [
      "/cellar/users/aklie/data/datasets/Horlacher_HepG2_CLIP/processed/2023_12_29/encode/AGGF1/AGGF1_conrol_1.bam /cellar/users/aklie/data/datasets/Horlacher_HepG2_CLIP/processed/2023_12_29/encode/AGGF1/AGGF1_control_1.bam\n",
      "/cellar/users/aklie/data/datasets/Horlacher_HepG2_CLIP/processed/2023_12_29/encode/DKC1/DKC1_conrol_1.bam /cellar/users/aklie/data/datasets/Horlacher_HepG2_CLIP/processed/2023_12_29/encode/DKC1/DKC1_control_1.bam\n",
      "/cellar/users/aklie/data/datasets/Horlacher_HepG2_CLIP/processed/2023_12_29/encode/FAM120A/FAM120A_eCLIP_2.bam /cellar/users/aklie/data/datasets/Horlacher_HepG2_CLIP/processed/2023_12_29/encode/FAM120A/FAM120A_eCLIP_2.bam\n",
      "/cellar/users/aklie/data/datasets/Horlacher_HepG2_CLIP/processed/2023_12_29/encode/FAM120A/FAM120A_eCLIP_1.bam /cellar/users/aklie/data/datasets/Horlacher_HepG2_CLIP/processed/2023_12_29/encode/FAM120A/FAM120A_eCLIP_1.bam\n"
     ]
    },
    {
     "name": "stderr",
     "output_type": "stream",
     "text": [
      "mv: '/cellar/users/aklie/data/datasets/Horlacher_HepG2_CLIP/processed/2023_12_29/encode/FAM120A/FAM120A_eCLIP_2.bam' and '/cellar/users/aklie/data/datasets/Horlacher_HepG2_CLIP/processed/2023_12_29/encode/FAM120A/FAM120A_eCLIP_2.bam' are the same file\n",
      "mv: '/cellar/users/aklie/data/datasets/Horlacher_HepG2_CLIP/processed/2023_12_29/encode/FAM120A/FAM120A_eCLIP_1.bam' and '/cellar/users/aklie/data/datasets/Horlacher_HepG2_CLIP/processed/2023_12_29/encode/FAM120A/FAM120A_eCLIP_1.bam' are the same file\n"
     ]
    },
    {
     "name": "stdout",
     "output_type": "stream",
     "text": [
      "/cellar/users/aklie/data/datasets/Horlacher_HepG2_CLIP/processed/2023_12_29/encode/ZC3H11A/ZC3H11A_conrol_1.bam /cellar/users/aklie/data/datasets/Horlacher_HepG2_CLIP/processed/2023_12_29/encode/ZC3H11A/ZC3H11A_control_1.bam\n",
      "/cellar/users/aklie/data/datasets/Horlacher_HepG2_CLIP/processed/2023_12_29/encode/CDC40/CDC40_conrol_1.bam /cellar/users/aklie/data/datasets/Horlacher_HepG2_CLIP/processed/2023_12_29/encode/CDC40/CDC40_control_1.bam\n",
      "/cellar/users/aklie/data/datasets/Horlacher_HepG2_CLIP/processed/2023_12_29/encode/HNRNPM/HNRNPM_eCLIP_2.bam /cellar/users/aklie/data/datasets/Horlacher_HepG2_CLIP/processed/2023_12_29/encode/HNRNPM/HNRNPM_eCLIP_2.bam\n",
      "/cellar/users/aklie/data/datasets/Horlacher_HepG2_CLIP/processed/2023_12_29/encode/HNRNPM/HNRNPM_eCLIP_1.bam /cellar/users/aklie/data/datasets/Horlacher_HepG2_CLIP/processed/2023_12_29/encode/HNRNPM/HNRNPM_eCLIP_1.bam\n"
     ]
    },
    {
     "name": "stderr",
     "output_type": "stream",
     "text": [
      "mv: '/cellar/users/aklie/data/datasets/Horlacher_HepG2_CLIP/processed/2023_12_29/encode/HNRNPM/HNRNPM_eCLIP_2.bam' and '/cellar/users/aklie/data/datasets/Horlacher_HepG2_CLIP/processed/2023_12_29/encode/HNRNPM/HNRNPM_eCLIP_2.bam' are the same file\n",
      "mv: '/cellar/users/aklie/data/datasets/Horlacher_HepG2_CLIP/processed/2023_12_29/encode/HNRNPM/HNRNPM_eCLIP_1.bam' and '/cellar/users/aklie/data/datasets/Horlacher_HepG2_CLIP/processed/2023_12_29/encode/HNRNPM/HNRNPM_eCLIP_1.bam' are the same file\n"
     ]
    },
    {
     "name": "stdout",
     "output_type": "stream",
     "text": [
      "/cellar/users/aklie/data/datasets/Horlacher_HepG2_CLIP/processed/2023_12_29/encode/HNRNPM/HNRNPM_conrol_1.bam /cellar/users/aklie/data/datasets/Horlacher_HepG2_CLIP/processed/2023_12_29/encode/HNRNPM/HNRNPM_control_1.bam\n",
      "/cellar/users/aklie/data/datasets/Horlacher_HepG2_CLIP/processed/2023_12_29/encode/SRSF9/SRSF9_conrol_1.bam /cellar/users/aklie/data/datasets/Horlacher_HepG2_CLIP/processed/2023_12_29/encode/SRSF9/SRSF9_control_1.bam\n",
      "/cellar/users/aklie/data/datasets/Horlacher_HepG2_CLIP/processed/2023_12_29/encode/LARP4/LARP4_eCLIP_1.bam /cellar/users/aklie/data/datasets/Horlacher_HepG2_CLIP/processed/2023_12_29/encode/LARP4/LARP4_eCLIP_1.bam\n",
      "/cellar/users/aklie/data/datasets/Horlacher_HepG2_CLIP/processed/2023_12_29/encode/LARP4/LARP4_eCLIP_2.bam /cellar/users/aklie/data/datasets/Horlacher_HepG2_CLIP/processed/2023_12_29/encode/LARP4/LARP4_eCLIP_2.bam\n"
     ]
    },
    {
     "name": "stderr",
     "output_type": "stream",
     "text": [
      "mv: '/cellar/users/aklie/data/datasets/Horlacher_HepG2_CLIP/processed/2023_12_29/encode/LARP4/LARP4_eCLIP_1.bam' and '/cellar/users/aklie/data/datasets/Horlacher_HepG2_CLIP/processed/2023_12_29/encode/LARP4/LARP4_eCLIP_1.bam' are the same file\n",
      "mv: '/cellar/users/aklie/data/datasets/Horlacher_HepG2_CLIP/processed/2023_12_29/encode/LARP4/LARP4_eCLIP_2.bam' and '/cellar/users/aklie/data/datasets/Horlacher_HepG2_CLIP/processed/2023_12_29/encode/LARP4/LARP4_eCLIP_2.bam' are the same file\n"
     ]
    },
    {
     "name": "stdout",
     "output_type": "stream",
     "text": [
      "/cellar/users/aklie/data/datasets/Horlacher_HepG2_CLIP/processed/2023_12_29/encode/HNRNPK/HNRNPK_conrol_1.bam /cellar/users/aklie/data/datasets/Horlacher_HepG2_CLIP/processed/2023_12_29/encode/HNRNPK/HNRNPK_control_1.bam\n",
      "/cellar/users/aklie/data/datasets/Horlacher_HepG2_CLIP/processed/2023_12_29/encode/RBM15/RBM15_eCLIP_1.bam /cellar/users/aklie/data/datasets/Horlacher_HepG2_CLIP/processed/2023_12_29/encode/RBM15/RBM15_eCLIP_1.bam\n",
      "/cellar/users/aklie/data/datasets/Horlacher_HepG2_CLIP/processed/2023_12_29/encode/RBM15/RBM15_eCLIP_2.bam /cellar/users/aklie/data/datasets/Horlacher_HepG2_CLIP/processed/2023_12_29/encode/RBM15/RBM15_eCLIP_2.bam\n"
     ]
    },
    {
     "name": "stderr",
     "output_type": "stream",
     "text": [
      "mv: '/cellar/users/aklie/data/datasets/Horlacher_HepG2_CLIP/processed/2023_12_29/encode/RBM15/RBM15_eCLIP_1.bam' and '/cellar/users/aklie/data/datasets/Horlacher_HepG2_CLIP/processed/2023_12_29/encode/RBM15/RBM15_eCLIP_1.bam' are the same file\n",
      "mv: '/cellar/users/aklie/data/datasets/Horlacher_HepG2_CLIP/processed/2023_12_29/encode/RBM15/RBM15_eCLIP_2.bam' and '/cellar/users/aklie/data/datasets/Horlacher_HepG2_CLIP/processed/2023_12_29/encode/RBM15/RBM15_eCLIP_2.bam' are the same file\n"
     ]
    },
    {
     "name": "stdout",
     "output_type": "stream",
     "text": [
      "/cellar/users/aklie/data/datasets/Horlacher_HepG2_CLIP/processed/2023_12_29/encode/XRN2/XRN2_eCLIP_2.bam /cellar/users/aklie/data/datasets/Horlacher_HepG2_CLIP/processed/2023_12_29/encode/XRN2/XRN2_eCLIP_2.bam\n",
      "/cellar/users/aklie/data/datasets/Horlacher_HepG2_CLIP/processed/2023_12_29/encode/XRN2/XRN2_eCLIP_1.bam /cellar/users/aklie/data/datasets/Horlacher_HepG2_CLIP/processed/2023_12_29/encode/XRN2/XRN2_eCLIP_1.bam\n"
     ]
    },
    {
     "name": "stderr",
     "output_type": "stream",
     "text": [
      "mv: '/cellar/users/aklie/data/datasets/Horlacher_HepG2_CLIP/processed/2023_12_29/encode/XRN2/XRN2_eCLIP_2.bam' and '/cellar/users/aklie/data/datasets/Horlacher_HepG2_CLIP/processed/2023_12_29/encode/XRN2/XRN2_eCLIP_2.bam' are the same file\n",
      "mv: '/cellar/users/aklie/data/datasets/Horlacher_HepG2_CLIP/processed/2023_12_29/encode/XRN2/XRN2_eCLIP_1.bam' and '/cellar/users/aklie/data/datasets/Horlacher_HepG2_CLIP/processed/2023_12_29/encode/XRN2/XRN2_eCLIP_1.bam' are the same file\n"
     ]
    },
    {
     "name": "stdout",
     "output_type": "stream",
     "text": [
      "/cellar/users/aklie/data/datasets/Horlacher_HepG2_CLIP/processed/2023_12_29/encode/GRSF1/GRSF1_conrol_1.bam /cellar/users/aklie/data/datasets/Horlacher_HepG2_CLIP/processed/2023_12_29/encode/GRSF1/GRSF1_control_1.bam\n",
      "/cellar/users/aklie/data/datasets/Horlacher_HepG2_CLIP/processed/2023_12_29/encode/TBRG4/TBRG4_conrol_1.bam /cellar/users/aklie/data/datasets/Horlacher_HepG2_CLIP/processed/2023_12_29/encode/TBRG4/TBRG4_control_1.bam\n",
      "/cellar/users/aklie/data/datasets/Horlacher_HepG2_CLIP/processed/2023_12_29/encode/SMNDC1/SMNDC1_eCLIP_2.bam /cellar/users/aklie/data/datasets/Horlacher_HepG2_CLIP/processed/2023_12_29/encode/SMNDC1/SMNDC1_eCLIP_2.bam\n",
      "/cellar/users/aklie/data/datasets/Horlacher_HepG2_CLIP/processed/2023_12_29/encode/SMNDC1/SMNDC1_eCLIP_1.bam /cellar/users/aklie/data/datasets/Horlacher_HepG2_CLIP/processed/2023_12_29/encode/SMNDC1/SMNDC1_eCLIP_1.bam\n"
     ]
    },
    {
     "name": "stderr",
     "output_type": "stream",
     "text": [
      "mv: '/cellar/users/aklie/data/datasets/Horlacher_HepG2_CLIP/processed/2023_12_29/encode/SMNDC1/SMNDC1_eCLIP_2.bam' and '/cellar/users/aklie/data/datasets/Horlacher_HepG2_CLIP/processed/2023_12_29/encode/SMNDC1/SMNDC1_eCLIP_2.bam' are the same file\n",
      "mv: '/cellar/users/aklie/data/datasets/Horlacher_HepG2_CLIP/processed/2023_12_29/encode/SMNDC1/SMNDC1_eCLIP_1.bam' and '/cellar/users/aklie/data/datasets/Horlacher_HepG2_CLIP/processed/2023_12_29/encode/SMNDC1/SMNDC1_eCLIP_1.bam' are the same file\n"
     ]
    },
    {
     "name": "stdout",
     "output_type": "stream",
     "text": [
      "/cellar/users/aklie/data/datasets/Horlacher_HepG2_CLIP/processed/2023_12_29/encode/HNRNPU/HNRNPU_eCLIP_2.bam /cellar/users/aklie/data/datasets/Horlacher_HepG2_CLIP/processed/2023_12_29/encode/HNRNPU/HNRNPU_eCLIP_2.bam\n"
     ]
    },
    {
     "name": "stderr",
     "output_type": "stream",
     "text": [
      "mv: '/cellar/users/aklie/data/datasets/Horlacher_HepG2_CLIP/processed/2023_12_29/encode/HNRNPU/HNRNPU_eCLIP_2.bam' and '/cellar/users/aklie/data/datasets/Horlacher_HepG2_CLIP/processed/2023_12_29/encode/HNRNPU/HNRNPU_eCLIP_2.bam' are the same file\n",
      "mv: '/cellar/users/aklie/data/datasets/Horlacher_HepG2_CLIP/processed/2023_12_29/encode/HNRNPU/HNRNPU_eCLIP_1.bam' and '/cellar/users/aklie/data/datasets/Horlacher_HepG2_CLIP/processed/2023_12_29/encode/HNRNPU/HNRNPU_eCLIP_1.bam' are the same file\n"
     ]
    },
    {
     "name": "stdout",
     "output_type": "stream",
     "text": [
      "/cellar/users/aklie/data/datasets/Horlacher_HepG2_CLIP/processed/2023_12_29/encode/HNRNPU/HNRNPU_eCLIP_1.bam /cellar/users/aklie/data/datasets/Horlacher_HepG2_CLIP/processed/2023_12_29/encode/HNRNPU/HNRNPU_eCLIP_1.bam\n",
      "/cellar/users/aklie/data/datasets/Horlacher_HepG2_CLIP/processed/2023_12_29/encode/QKI/QKI_conrol_1.bam /cellar/users/aklie/data/datasets/Horlacher_HepG2_CLIP/processed/2023_12_29/encode/QKI/QKI_control_1.bam\n",
      "/cellar/users/aklie/data/datasets/Horlacher_HepG2_CLIP/processed/2023_12_29/encode/LSM11/LSM11_conrol_1.bam /cellar/users/aklie/data/datasets/Horlacher_HepG2_CLIP/processed/2023_12_29/encode/LSM11/LSM11_control_1.bam\n",
      "/cellar/users/aklie/data/datasets/Horlacher_HepG2_CLIP/processed/2023_12_29/encode/PPIG/PPIG_eCLIP_1.bam /cellar/users/aklie/data/datasets/Horlacher_HepG2_CLIP/processed/2023_12_29/encode/PPIG/PPIG_eCLIP_1.bam\n"
     ]
    },
    {
     "name": "stderr",
     "output_type": "stream",
     "text": [
      "mv: '/cellar/users/aklie/data/datasets/Horlacher_HepG2_CLIP/processed/2023_12_29/encode/PPIG/PPIG_eCLIP_1.bam' and '/cellar/users/aklie/data/datasets/Horlacher_HepG2_CLIP/processed/2023_12_29/encode/PPIG/PPIG_eCLIP_1.bam' are the same file\n",
      "mv: '/cellar/users/aklie/data/datasets/Horlacher_HepG2_CLIP/processed/2023_12_29/encode/PPIG/PPIG_eCLIP_2.bam' and '/cellar/users/aklie/data/datasets/Horlacher_HepG2_CLIP/processed/2023_12_29/encode/PPIG/PPIG_eCLIP_2.bam' are the same file\n"
     ]
    },
    {
     "name": "stdout",
     "output_type": "stream",
     "text": [
      "/cellar/users/aklie/data/datasets/Horlacher_HepG2_CLIP/processed/2023_12_29/encode/PPIG/PPIG_eCLIP_2.bam /cellar/users/aklie/data/datasets/Horlacher_HepG2_CLIP/processed/2023_12_29/encode/PPIG/PPIG_eCLIP_2.bam\n",
      "/cellar/users/aklie/data/datasets/Horlacher_HepG2_CLIP/processed/2023_12_29/encode/BUD13/BUD13_conrol_1.bam /cellar/users/aklie/data/datasets/Horlacher_HepG2_CLIP/processed/2023_12_29/encode/BUD13/BUD13_control_1.bam\n",
      "/cellar/users/aklie/data/datasets/Horlacher_HepG2_CLIP/processed/2023_12_29/encode/IGF2BP3/IGF2BP3_conrol_1.bam /cellar/users/aklie/data/datasets/Horlacher_HepG2_CLIP/processed/2023_12_29/encode/IGF2BP3/IGF2BP3_control_1.bam\n",
      "/cellar/users/aklie/data/datasets/Horlacher_HepG2_CLIP/processed/2023_12_29/encode/DGCR8/DGCR8_conrol_1.bam /cellar/users/aklie/data/datasets/Horlacher_HepG2_CLIP/processed/2023_12_29/encode/DGCR8/DGCR8_control_1.bam\n",
      "/cellar/users/aklie/data/datasets/Horlacher_HepG2_CLIP/processed/2023_12_29/encode/HNRNPUL1/HNRNPUL1_conrol_1.bam /cellar/users/aklie/data/datasets/Horlacher_HepG2_CLIP/processed/2023_12_29/encode/HNRNPUL1/HNRNPUL1_control_1.bam\n",
      "/cellar/users/aklie/data/datasets/Horlacher_HepG2_CLIP/processed/2023_12_29/encode/DDX55/DDX55_conrol_1.bam /cellar/users/aklie/data/datasets/Horlacher_HepG2_CLIP/processed/2023_12_29/encode/DDX55/DDX55_control_1.bam\n",
      "/cellar/users/aklie/data/datasets/Horlacher_HepG2_CLIP/processed/2023_12_29/encode/DDX59/DDX59_conrol_1.bam /cellar/users/aklie/data/datasets/Horlacher_HepG2_CLIP/processed/2023_12_29/encode/DDX59/DDX59_control_1.bam\n",
      "/cellar/users/aklie/data/datasets/Horlacher_HepG2_CLIP/processed/2023_12_29/encode/CSTF2T/CSTF2T_conrol_1.bam /cellar/users/aklie/data/datasets/Horlacher_HepG2_CLIP/processed/2023_12_29/encode/CSTF2T/CSTF2T_control_1.bam\n",
      "/cellar/users/aklie/data/datasets/Horlacher_HepG2_CLIP/processed/2023_12_29/encode/DDX20/DDX20_conrol_1.bam /cellar/users/aklie/data/datasets/Horlacher_HepG2_CLIP/processed/2023_12_29/encode/DDX20/DDX20_control_1.bam\n",
      "/cellar/users/aklie/data/datasets/Horlacher_HepG2_CLIP/processed/2023_12_29/encode/TRA2A/TRA2A_conrol_1.bam /cellar/users/aklie/data/datasets/Horlacher_HepG2_CLIP/processed/2023_12_29/encode/TRA2A/TRA2A_control_1.bam\n",
      "/cellar/users/aklie/data/datasets/Horlacher_HepG2_CLIP/processed/2023_12_29/encode/XRN2/XRN2_conrol_1.bam /cellar/users/aklie/data/datasets/Horlacher_HepG2_CLIP/processed/2023_12_29/encode/XRN2/XRN2_control_1.bam\n",
      "/cellar/users/aklie/data/datasets/Horlacher_HepG2_CLIP/processed/2023_12_29/encode/PPIG/PPIG_conrol_1.bam /cellar/users/aklie/data/datasets/Horlacher_HepG2_CLIP/processed/2023_12_29/encode/PPIG/PPIG_control_1.bam\n",
      "/cellar/users/aklie/data/datasets/Horlacher_HepG2_CLIP/processed/2023_12_29/encode/LARP4/LARP4_conrol_1.bam /cellar/users/aklie/data/datasets/Horlacher_HepG2_CLIP/processed/2023_12_29/encode/LARP4/LARP4_control_1.bam\n",
      "/cellar/users/aklie/data/datasets/Horlacher_HepG2_CLIP/processed/2023_12_29/encode/EIF3H/EIF3H_conrol_1.bam /cellar/users/aklie/data/datasets/Horlacher_HepG2_CLIP/processed/2023_12_29/encode/EIF3H/EIF3H_control_1.bam\n",
      "/cellar/users/aklie/data/datasets/Horlacher_HepG2_CLIP/processed/2023_12_29/encode/RBM22/RBM22_conrol_1.bam /cellar/users/aklie/data/datasets/Horlacher_HepG2_CLIP/processed/2023_12_29/encode/RBM22/RBM22_control_1.bam\n",
      "/cellar/users/aklie/data/datasets/Horlacher_HepG2_CLIP/processed/2023_12_29/encode/NOL12/NOL12_conrol_1.bam /cellar/users/aklie/data/datasets/Horlacher_HepG2_CLIP/processed/2023_12_29/encode/NOL12/NOL12_control_1.bam\n",
      "/cellar/users/aklie/data/datasets/Horlacher_HepG2_CLIP/processed/2023_12_29/encode/SFPQ/SFPQ_conrol_1.bam /cellar/users/aklie/data/datasets/Horlacher_HepG2_CLIP/processed/2023_12_29/encode/SFPQ/SFPQ_control_1.bam\n",
      "/cellar/users/aklie/data/datasets/Horlacher_HepG2_CLIP/processed/2023_12_29/encode/SRSF7/SRSF7_conrol_1.bam /cellar/users/aklie/data/datasets/Horlacher_HepG2_CLIP/processed/2023_12_29/encode/SRSF7/SRSF7_control_1.bam\n",
      "/cellar/users/aklie/data/datasets/Horlacher_HepG2_CLIP/processed/2023_12_29/encode/HNRNPC/HNRNPC_conrol_1.bam /cellar/users/aklie/data/datasets/Horlacher_HepG2_CLIP/processed/2023_12_29/encode/HNRNPC/HNRNPC_control_1.bam\n",
      "/cellar/users/aklie/data/datasets/Horlacher_HepG2_CLIP/processed/2023_12_29/encode/TAF15/TAF15_conrol_1.bam /cellar/users/aklie/data/datasets/Horlacher_HepG2_CLIP/processed/2023_12_29/encode/TAF15/TAF15_control_1.bam\n",
      "/cellar/users/aklie/data/datasets/Horlacher_HepG2_CLIP/processed/2023_12_29/encode/XPO5/XPO5_conrol_1.bam /cellar/users/aklie/data/datasets/Horlacher_HepG2_CLIP/processed/2023_12_29/encode/XPO5/XPO5_control_1.bam\n",
      "/cellar/users/aklie/data/datasets/Horlacher_HepG2_CLIP/processed/2023_12_29/encode/LARP7/LARP7_conrol_1.bam /cellar/users/aklie/data/datasets/Horlacher_HepG2_CLIP/processed/2023_12_29/encode/LARP7/LARP7_control_1.bam\n",
      "/cellar/users/aklie/data/datasets/Horlacher_HepG2_CLIP/processed/2023_12_29/encode/HNRNPU/HNRNPU_conrol_1.bam /cellar/users/aklie/data/datasets/Horlacher_HepG2_CLIP/processed/2023_12_29/encode/HNRNPU/HNRNPU_control_1.bam\n",
      "/cellar/users/aklie/data/datasets/Horlacher_HepG2_CLIP/processed/2023_12_29/encode/NCBP2/NCBP2_conrol_1.bam /cellar/users/aklie/data/datasets/Horlacher_HepG2_CLIP/processed/2023_12_29/encode/NCBP2/NCBP2_control_1.bam\n",
      "/cellar/users/aklie/data/datasets/Horlacher_HepG2_CLIP/processed/2023_12_29/encode/BCCIP/BCCIP_conrol_1.bam /cellar/users/aklie/data/datasets/Horlacher_HepG2_CLIP/processed/2023_12_29/encode/BCCIP/BCCIP_control_1.bam\n",
      "/cellar/users/aklie/data/datasets/Horlacher_HepG2_CLIP/processed/2023_12_29/encode/DHX30/DHX30_conrol_1.bam /cellar/users/aklie/data/datasets/Horlacher_HepG2_CLIP/processed/2023_12_29/encode/DHX30/DHX30_control_1.bam\n",
      "/cellar/users/aklie/data/datasets/Horlacher_HepG2_CLIP/processed/2023_12_29/encode/PRPF8/PRPF8_conrol_1.bam /cellar/users/aklie/data/datasets/Horlacher_HepG2_CLIP/processed/2023_12_29/encode/PRPF8/PRPF8_control_1.bam\n",
      "/cellar/users/aklie/data/datasets/Horlacher_HepG2_CLIP/processed/2023_12_29/encode/FASTKD2/FASTKD2_conrol_1.bam /cellar/users/aklie/data/datasets/Horlacher_HepG2_CLIP/processed/2023_12_29/encode/FASTKD2/FASTKD2_control_1.bam\n",
      "/cellar/users/aklie/data/datasets/Horlacher_HepG2_CLIP/processed/2023_12_29/encode/SF3A3/SF3A3_conrol_1.bam /cellar/users/aklie/data/datasets/Horlacher_HepG2_CLIP/processed/2023_12_29/encode/SF3A3/SF3A3_control_1.bam\n",
      "/cellar/users/aklie/data/datasets/Horlacher_HepG2_CLIP/processed/2023_12_29/encode/DROSHA/DROSHA_conrol_1.bam /cellar/users/aklie/data/datasets/Horlacher_HepG2_CLIP/processed/2023_12_29/encode/DROSHA/DROSHA_control_1.bam\n",
      "/cellar/users/aklie/data/datasets/Horlacher_HepG2_CLIP/processed/2023_12_29/encode/HNRNPL/HNRNPL_conrol_1.bam /cellar/users/aklie/data/datasets/Horlacher_HepG2_CLIP/processed/2023_12_29/encode/HNRNPL/HNRNPL_control_1.bam\n",
      "/cellar/users/aklie/data/datasets/Horlacher_HepG2_CLIP/processed/2023_12_29/encode/TNRC6A/TNRC6A_conrol_1.bam /cellar/users/aklie/data/datasets/Horlacher_HepG2_CLIP/processed/2023_12_29/encode/TNRC6A/TNRC6A_control_1.bam\n",
      "/cellar/users/aklie/data/datasets/Horlacher_HepG2_CLIP/processed/2023_12_29/encode/NOLC1/NOLC1_conrol_1.bam /cellar/users/aklie/data/datasets/Horlacher_HepG2_CLIP/processed/2023_12_29/encode/NOLC1/NOLC1_control_1.bam\n",
      "/cellar/users/aklie/data/datasets/Horlacher_HepG2_CLIP/processed/2023_12_29/encode/PCBP2/PCBP2_conrol_1.bam /cellar/users/aklie/data/datasets/Horlacher_HepG2_CLIP/processed/2023_12_29/encode/PCBP2/PCBP2_control_1.bam\n",
      "/cellar/users/aklie/data/datasets/Horlacher_HepG2_CLIP/processed/2023_12_29/encode/SUB1/SUB1_conrol_1.bam /cellar/users/aklie/data/datasets/Horlacher_HepG2_CLIP/processed/2023_12_29/encode/SUB1/SUB1_control_1.bam\n",
      "/cellar/users/aklie/data/datasets/Horlacher_HepG2_CLIP/processed/2023_12_29/encode/SUGP2/SUGP2_conrol_1.bam /cellar/users/aklie/data/datasets/Horlacher_HepG2_CLIP/processed/2023_12_29/encode/SUGP2/SUGP2_control_1.bam\n",
      "/cellar/users/aklie/data/datasets/Horlacher_HepG2_CLIP/processed/2023_12_29/encode/SND1/SND1_conrol_1.bam /cellar/users/aklie/data/datasets/Horlacher_HepG2_CLIP/processed/2023_12_29/encode/SND1/SND1_control_1.bam\n",
      "/cellar/users/aklie/data/datasets/Horlacher_HepG2_CLIP/processed/2023_12_29/encode/SF3B4/SF3B4_conrol_1.bam /cellar/users/aklie/data/datasets/Horlacher_HepG2_CLIP/processed/2023_12_29/encode/SF3B4/SF3B4_control_1.bam\n",
      "/cellar/users/aklie/data/datasets/Horlacher_HepG2_CLIP/processed/2023_12_29/encode/SLTM/SLTM_conrol_1.bam /cellar/users/aklie/data/datasets/Horlacher_HepG2_CLIP/processed/2023_12_29/encode/SLTM/SLTM_control_1.bam\n",
      "/cellar/users/aklie/data/datasets/Horlacher_HepG2_CLIP/processed/2023_12_29/encode/GTF2F1/GTF2F1_conrol_1.bam /cellar/users/aklie/data/datasets/Horlacher_HepG2_CLIP/processed/2023_12_29/encode/GTF2F1/GTF2F1_control_1.bam\n",
      "/cellar/users/aklie/data/datasets/Horlacher_HepG2_CLIP/processed/2023_12_29/encode/ILF3/ILF3_conrol_1.bam /cellar/users/aklie/data/datasets/Horlacher_HepG2_CLIP/processed/2023_12_29/encode/ILF3/ILF3_control_1.bam\n",
      "/cellar/users/aklie/data/datasets/Horlacher_HepG2_CLIP/processed/2023_12_29/encode/RBM15/RBM15_conrol_1.bam /cellar/users/aklie/data/datasets/Horlacher_HepG2_CLIP/processed/2023_12_29/encode/RBM15/RBM15_control_1.bam\n",
      "/cellar/users/aklie/data/datasets/Horlacher_HepG2_CLIP/processed/2023_12_29/encode/XRCC6/XRCC6_conrol_1.bam /cellar/users/aklie/data/datasets/Horlacher_HepG2_CLIP/processed/2023_12_29/encode/XRCC6/XRCC6_control_1.bam\n",
      "/cellar/users/aklie/data/datasets/Horlacher_HepG2_CLIP/processed/2023_12_29/encode/GRWD1/GRWD1_conrol_1.bam /cellar/users/aklie/data/datasets/Horlacher_HepG2_CLIP/processed/2023_12_29/encode/GRWD1/GRWD1_control_1.bam\n",
      "/cellar/users/aklie/data/datasets/Horlacher_HepG2_CLIP/processed/2023_12_29/encode/UCHL5/UCHL5_conrol_1.bam /cellar/users/aklie/data/datasets/Horlacher_HepG2_CLIP/processed/2023_12_29/encode/UCHL5/UCHL5_control_1.bam\n",
      "/cellar/users/aklie/data/datasets/Horlacher_HepG2_CLIP/processed/2023_12_29/encode/TROVE2/TROVE2_conrol_1.bam /cellar/users/aklie/data/datasets/Horlacher_HepG2_CLIP/processed/2023_12_29/encode/TROVE2/TROVE2_control_1.bam\n",
      "/cellar/users/aklie/data/datasets/Horlacher_HepG2_CLIP/processed/2023_12_29/encode/RBM5/RBM5_conrol_1.bam /cellar/users/aklie/data/datasets/Horlacher_HepG2_CLIP/processed/2023_12_29/encode/RBM5/RBM5_control_1.bam\n",
      "/cellar/users/aklie/data/datasets/Horlacher_HepG2_CLIP/processed/2023_12_29/encode/EIF3D/EIF3D_conrol_1.bam /cellar/users/aklie/data/datasets/Horlacher_HepG2_CLIP/processed/2023_12_29/encode/EIF3D/EIF3D_control_1.bam\n",
      "/cellar/users/aklie/data/datasets/Horlacher_HepG2_CLIP/processed/2023_12_29/encode/FAM120A/FAM120A_conrol_1.bam /cellar/users/aklie/data/datasets/Horlacher_HepG2_CLIP/processed/2023_12_29/encode/FAM120A/FAM120A_control_1.bam\n",
      "/cellar/users/aklie/data/datasets/Horlacher_HepG2_CLIP/processed/2023_12_29/encode/PTBP1/PTBP1_eCLIP_1.bam /cellar/users/aklie/data/datasets/Horlacher_HepG2_CLIP/processed/2023_12_29/encode/PTBP1/PTBP1_eCLIP_1.bam\n"
     ]
    },
    {
     "name": "stderr",
     "output_type": "stream",
     "text": [
      "mv: '/cellar/users/aklie/data/datasets/Horlacher_HepG2_CLIP/processed/2023_12_29/encode/PTBP1/PTBP1_eCLIP_1.bam' and '/cellar/users/aklie/data/datasets/Horlacher_HepG2_CLIP/processed/2023_12_29/encode/PTBP1/PTBP1_eCLIP_1.bam' are the same file\n",
      "mv: '/cellar/users/aklie/data/datasets/Horlacher_HepG2_CLIP/processed/2023_12_29/encode/PTBP1/PTBP1_eCLIP_2.bam' and '/cellar/users/aklie/data/datasets/Horlacher_HepG2_CLIP/processed/2023_12_29/encode/PTBP1/PTBP1_eCLIP_2.bam' are the same file\n"
     ]
    },
    {
     "name": "stdout",
     "output_type": "stream",
     "text": [
      "/cellar/users/aklie/data/datasets/Horlacher_HepG2_CLIP/processed/2023_12_29/encode/PTBP1/PTBP1_eCLIP_2.bam /cellar/users/aklie/data/datasets/Horlacher_HepG2_CLIP/processed/2023_12_29/encode/PTBP1/PTBP1_eCLIP_2.bam\n",
      "/cellar/users/aklie/data/datasets/Horlacher_HepG2_CLIP/processed/2023_12_29/encode/FUBP3/FUBP3_conrol_1.bam /cellar/users/aklie/data/datasets/Horlacher_HepG2_CLIP/processed/2023_12_29/encode/FUBP3/FUBP3_control_1.bam\n",
      "/cellar/users/aklie/data/datasets/Horlacher_HepG2_CLIP/processed/2023_12_29/encode/CSTF2/CSTF2_conrol_1.bam /cellar/users/aklie/data/datasets/Horlacher_HepG2_CLIP/processed/2023_12_29/encode/CSTF2/CSTF2_control_1.bam\n",
      "/cellar/users/aklie/data/datasets/Horlacher_HepG2_CLIP/processed/2023_12_29/encode/DDX3X/DDX3X_conrol_1.bam /cellar/users/aklie/data/datasets/Horlacher_HepG2_CLIP/processed/2023_12_29/encode/DDX3X/DDX3X_control_1.bam\n",
      "/cellar/users/aklie/data/datasets/Horlacher_HepG2_CLIP/processed/2023_12_29/encode/RPS3/RPS3_conrol_1.bam /cellar/users/aklie/data/datasets/Horlacher_HepG2_CLIP/processed/2023_12_29/encode/RPS3/RPS3_control_1.bam\n",
      "/cellar/users/aklie/data/datasets/Horlacher_HepG2_CLIP/processed/2023_12_29/encode/NKRF/NKRF_conrol_1.bam /cellar/users/aklie/data/datasets/Horlacher_HepG2_CLIP/processed/2023_12_29/encode/NKRF/NKRF_control_1.bam\n",
      "/cellar/users/aklie/data/datasets/Horlacher_HepG2_CLIP/processed/2023_12_29/encode/DDX6/DDX6_conrol_1.bam /cellar/users/aklie/data/datasets/Horlacher_HepG2_CLIP/processed/2023_12_29/encode/DDX6/DDX6_control_1.bam\n",
      "/cellar/users/aklie/data/datasets/Horlacher_HepG2_CLIP/processed/2023_12_29/encode/SMNDC1/SMNDC1_conrol_1.bam /cellar/users/aklie/data/datasets/Horlacher_HepG2_CLIP/processed/2023_12_29/encode/SMNDC1/SMNDC1_control_1.bam\n",
      "/cellar/users/aklie/data/datasets/Horlacher_HepG2_CLIP/processed/2023_12_29/encode/POLR2G/POLR2G_conrol_1.bam /cellar/users/aklie/data/datasets/Horlacher_HepG2_CLIP/processed/2023_12_29/encode/POLR2G/POLR2G_control_1.bam\n",
      "/cellar/users/aklie/data/datasets/Horlacher_HepG2_CLIP/processed/2023_12_29/encode/SRSF1/SRSF1_conrol_1.bam /cellar/users/aklie/data/datasets/Horlacher_HepG2_CLIP/processed/2023_12_29/encode/SRSF1/SRSF1_control_1.bam\n",
      "/cellar/users/aklie/data/datasets/Horlacher_HepG2_CLIP/processed/2023_12_29/encode/RPL23A/RPL23A_conrol_1.bam /cellar/users/aklie/data/datasets/Horlacher_HepG2_CLIP/processed/2023_12_29/encode/RPL23A/RPL23A_control_1.bam\n",
      "/cellar/users/aklie/data/datasets/Horlacher_HepG2_CLIP/processed/2023_12_29/encode/SUPV3L1/SUPV3L1_conrol_1.bam /cellar/users/aklie/data/datasets/Horlacher_HepG2_CLIP/processed/2023_12_29/encode/SUPV3L1/SUPV3L1_control_1.bam\n",
      "/cellar/users/aklie/data/datasets/Horlacher_HepG2_CLIP/processed/2023_12_29/encode/PTBP1/PTBP1_conrol_1.bam /cellar/users/aklie/data/datasets/Horlacher_HepG2_CLIP/processed/2023_12_29/encode/PTBP1/PTBP1_control_1.bam\n",
      "/cellar/users/aklie/data/datasets/Horlacher_HepG2_CLIP/processed/2023_12_29/encode/MATR3/MATR3_conrol_1.bam /cellar/users/aklie/data/datasets/Horlacher_HepG2_CLIP/processed/2023_12_29/encode/MATR3/MATR3_control_1.bam\n",
      "/cellar/users/aklie/data/datasets/Horlacher_HepG2_CLIP/processed/2023_12_29/encode/RPS5/RPS5_conrol_1.bam /cellar/users/aklie/data/datasets/Horlacher_HepG2_CLIP/processed/2023_12_29/encode/RPS5/RPS5_control_1.bam\n"
     ]
    }
   ],
   "source": [
    "for _, from_file in full_map.to_dict().items():\n",
    "    target = from_file.split(\"/\")[-1].split(\"_\")[0]\n",
    "    target_dir = os.path.join(download_dir, target)\n",
    "    from_file = os.path.join(target_dir, from_file)\n",
    "    to_file = from_file.replace(\"conrol\", \"control\")\n",
    "    print(from_file, to_file)\n",
    "    os.system(f\"mv {from_file} {to_file}\")"
   ]
  },
  {
   "cell_type": "markdown",
   "id": "b83aaa20-6736-4c12-838c-a9906a97f382",
   "metadata": {},
   "source": [
    "# DONE!"
   ]
  },
  {
   "cell_type": "markdown",
   "id": "a4d1c78b-9990-486c-8823-76a264f64a6c",
   "metadata": {
    "execution": {
     "iopub.execute_input": "2023-12-29T15:45:43.943765Z",
     "iopub.status.busy": "2023-12-29T15:45:43.943474Z",
     "iopub.status.idle": "2023-12-29T15:45:43.946264Z",
     "shell.execute_reply": "2023-12-29T15:45:43.945824Z",
     "shell.execute_reply.started": "2023-12-29T15:45:43.943746Z"
    }
   },
   "source": [
    "---"
   ]
  }
 ],
 "metadata": {
  "kernelspec": {
   "display_name": "Python 3.7 get_data",
   "language": "python",
   "name": "get_data"
  },
  "language_info": {
   "codemirror_mode": {
    "name": "ipython",
    "version": 3
   },
   "file_extension": ".py",
   "mimetype": "text/x-python",
   "name": "python",
   "nbconvert_exporter": "python",
   "pygments_lexer": "ipython3",
   "version": "3.7.12"
  }
 },
 "nbformat": 4,
 "nbformat_minor": 5
}
