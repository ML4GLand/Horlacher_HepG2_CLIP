{
 "cells": [
  {
   "cell_type": "markdown",
   "id": "9610c9a8-36f1-4c74-924a-120ae50c2820",
   "metadata": {},
   "source": [
    "# Download and preprocess an example U2AF2 dataset"
   ]
  },
  {
   "cell_type": "code",
   "execution_count": 2,
   "id": "cb39d6b0-7cf4-484e-a133-1efadd86600d",
   "metadata": {
    "execution": {
     "iopub.execute_input": "2023-12-29T14:45:07.294768Z",
     "iopub.status.busy": "2023-12-29T14:45:07.294206Z",
     "iopub.status.idle": "2023-12-29T14:45:07.297318Z",
     "shell.execute_reply": "2023-12-29T14:45:07.296988Z",
     "shell.execute_reply.started": "2023-12-29T14:45:07.294745Z"
    },
    "tags": []
   },
   "outputs": [],
   "source": [
    "download_dir = \"/cellar/users/aklie/data/datasets/Horlacher_HepG2_CLIP/processed/2023_12_27/encode/U2AF2\""
   ]
  },
  {
   "cell_type": "code",
   "execution_count": null,
   "id": "9bf9b2c5-a396-4e56-8bde-195479a32ad2",
   "metadata": {},
   "outputs": [],
   "source": [
    "%%bash\n",
    "cd /cellar/users/aklie/opt\n",
    "wget https://hgdownload.soe.ucsc.edu/admin/exe/linux.x86_64/bedGraphToBigWig"
   ]
  },
  {
   "cell_type": "markdown",
   "id": "f2c91cf1-0cec-478f-b41e-504984777700",
   "metadata": {},
   "source": [
    "# Download BAMs"
   ]
  },
  {
   "cell_type": "markdown",
   "id": "5ecbae1a-9614-4087-95c7-66112700553f",
   "metadata": {},
   "source": [
    "Go to ENCODE and create a cart for U2AF2 CLIP-seq and it's matched control. Save the cart as files.txt and put that in `download_dir`"
   ]
  },
  {
   "cell_type": "code",
   "execution_count": 6,
   "id": "059c3fb7-ba44-497d-a454-b5e4fdb94ff7",
   "metadata": {
    "execution": {
     "iopub.execute_input": "2023-12-27T15:18:00.125576Z",
     "iopub.status.busy": "2023-12-27T15:18:00.125378Z",
     "iopub.status.idle": "2023-12-27T15:18:43.860912Z",
     "shell.execute_reply": "2023-12-27T15:18:43.860609Z",
     "shell.execute_reply.started": "2023-12-27T15:18:00.125559Z"
    },
    "tags": []
   },
   "outputs": [
    {
     "name": "stdout",
     "output_type": "stream",
     "text": [
      "curl: Saved to filename 'metadata.tsv'\n",
      "curl: Saved to filename 'ENCFF358STL.bam'\n",
      "curl: Saved to filename 'ENCFF033XVX.bam'\n",
      "curl: Saved to filename 'ENCFF825YLL.bam'\n"
     ]
    },
    {
     "name": "stderr",
     "output_type": "stream",
     "text": [
      "  % Total    % Received % Xferd  Average Speed   Time    Time     Time  Current\n",
      "                                 Dload  Upload   Total   Spent    Left  Speed\n",
      "100  3393    0  3393    0     0   7607      0 --:--:-- --:--:-- --:--:--  7590\n",
      "  % Total    % Received % Xferd  Average Speed   Time    Time     Time  Current\n",
      "                                 Dload  Upload   Total   Spent    Left  Speed\n",
      "100  1927  100  1927    0     0  11203      0 --:--:-- --:--:-- --:--:-- 11203\n",
      "100  507M  100  507M    0     0  41.5M      0  0:00:12  0:00:12 --:--:-- 44.6M\n",
      "  % Total    % Received % Xferd  Average Speed   Time    Time     Time  Current\n",
      "                                 Dload  Upload   Total   Spent    Left  Speed\n",
      "100  1929  100  1929    0     0  10960      0 --:--:-- --:--:-- --:--:-- 10898\n",
      "100  344M  100  344M    0     0  37.0M      0  0:00:09  0:00:09 --:--:-- 40.5M\n",
      "  % Total    % Received % Xferd  Average Speed   Time    Time     Time  Current\n",
      "                                 Dload  Upload   Total   Spent    Left  Speed\n",
      "100  1925  100  1925    0     0  11666      0 --:--:-- --:--:-- --:--:-- 11666\n",
      "100  729M  100  729M    0     0  35.3M      0  0:00:20  0:00:20 --:--:-- 37.4M\n"
     ]
    }
   ],
   "source": [
    "%%bash -s \"$download_dir\"\n",
    "cd $1\n",
    "xargs -L 1 curl -O -J -L < files.txt"
   ]
  },
  {
   "cell_type": "markdown",
   "id": "05965807-57a7-4b5d-9e3b-82f216155eb1",
   "metadata": {},
   "source": [
    "# DONE!"
   ]
  },
  {
   "cell_type": "markdown",
   "id": "42e874c9-a549-4061-b8e0-33358facae00",
   "metadata": {},
   "source": [
    "---"
   ]
  }
 ],
 "metadata": {
  "kernelspec": {
   "display_name": "Python 3.7 get_data",
   "language": "python",
   "name": "get_data"
  },
  "language_info": {
   "codemirror_mode": {
    "name": "ipython",
    "version": 3
   },
   "file_extension": ".py",
   "mimetype": "text/x-python",
   "name": "python",
   "nbconvert_exporter": "python",
   "pygments_lexer": "ipython3",
   "version": "3.7.12"
  }
 },
 "nbformat": 4,
 "nbformat_minor": 5
}
