{
 "cells": [
  {
   "cell_type": "code",
   "execution_count": 1,
   "id": "5ffe8b95-d313-44f8-86b9-1d199882ced8",
   "metadata": {
    "execution": {
     "iopub.execute_input": "2023-12-28T15:48:31.168828Z",
     "iopub.status.busy": "2023-12-28T15:48:31.168539Z",
     "iopub.status.idle": "2023-12-28T15:48:32.218431Z",
     "shell.execute_reply": "2023-12-28T15:48:32.217975Z",
     "shell.execute_reply.started": "2023-12-28T15:48:31.168810Z"
    },
    "tags": []
   },
   "outputs": [],
   "source": [
    "import pyBigWig\n",
    "import numpy as np\n",
    "import matplotlib.pyplot as plt"
   ]
  },
  {
   "cell_type": "markdown",
   "id": "3085a231-8528-400a-a4fd-d294d3b4cfaa",
   "metadata": {},
   "source": [
    "# BigWig comparison"
   ]
  },
  {
   "cell_type": "code",
   "execution_count": 2,
   "id": "01f324ec-4d89-436b-98c6-016e40776185",
   "metadata": {
    "execution": {
     "iopub.execute_input": "2023-12-28T15:48:36.042211Z",
     "iopub.status.busy": "2023-12-28T15:48:36.041934Z",
     "iopub.status.idle": "2023-12-28T15:48:36.045092Z",
     "shell.execute_reply": "2023-12-28T15:48:36.044703Z",
     "shell.execute_reply.started": "2023-12-28T15:48:36.042193Z"
    },
    "tags": []
   },
   "outputs": [],
   "source": [
    "my_files = [\n",
    "    \"/cellar/users/aklie/data/datasets/Horlacher_HepG2_CLIP/processed/2023_12_27/encode/U2AF2/signal.pos.bw\",\n",
    "    \"/cellar/users/aklie/data/datasets/Horlacher_HepG2_CLIP/processed/2023_12_27/encode/U2AF2/signal.neg.bw\",\n",
    "    \"/cellar/users/aklie/data/datasets/Horlacher_HepG2_CLIP/processed/2023_12_27/encode/U2AF2/control.pos.bw\",\n",
    "    \"/cellar/users/aklie/data/datasets/Horlacher_HepG2_CLIP/processed/2023_12_27/encode/U2AF2/control.neg.bw\"\n",
    "]\n",
    "rbpnet_files = [\n",
    "    \"/cellar/users/aklie/opt/rbpnet/examples/data/signal/U2AF2_HepG2/eCLIP/counts.pos.bw\",\n",
    "    \"/cellar/users/aklie/opt/rbpnet/examples/data/signal/U2AF2_HepG2/eCLIP/counts.neg.bw\",\n",
    "    \"/cellar/users/aklie/opt/rbpnet/examples/data/signal/U2AF2_HepG2/control/counts.pos.bw\",\n",
    "    \"/cellar/users/aklie/opt/rbpnet/examples/data/signal/U2AF2_HepG2/control/counts.neg.bw\"\n",
    "]"
   ]
  },
  {
   "cell_type": "code",
   "execution_count": 8,
   "id": "13283fa0-32bf-4eec-9a4f-27e9cc77f00c",
   "metadata": {
    "execution": {
     "iopub.execute_input": "2023-12-28T15:48:59.471819Z",
     "iopub.status.busy": "2023-12-28T15:48:59.471586Z",
     "iopub.status.idle": "2023-12-28T15:48:59.751109Z",
     "shell.execute_reply": "2023-12-28T15:48:59.750700Z",
     "shell.execute_reply.started": "2023-12-28T15:48:59.471803Z"
    },
    "tags": []
   },
   "outputs": [
    {
     "data": {
      "text/plain": [
       "[<matplotlib.lines.Line2D at 0x15551d4dc2b0>]"
      ]
     },
     "execution_count": 8,
     "metadata": {},
     "output_type": "execute_result"
    },
    {
     "data": {
      "image/png": "[encoded data removed]",
      "text/plain": [
       "<Figure size 640x480 with 1 Axes>"
      ]
     },
     "metadata": {},
     "output_type": "display_data"
    }
   ],
   "source": [
    "file = pyBigWig.open(str(rbpnet_files[0]))\n",
    "contig = \"chr19\"\n",
    "start = 581156\n",
    "end = 600000\n",
    "vals = np.array(file.values(contig, start, end))\n",
    "vals[vals == np.nan] = 0\n",
    "plt.plot(vals, label=\"+ signal\")"
   ]
  },
  {
   "cell_type": "code",
   "execution_count": 9,
   "id": "aa1eda6e-efc7-4216-ae66-68573b44ca1e",
   "metadata": {
    "execution": {
     "iopub.execute_input": "2023-12-28T15:49:00.065256Z",
     "iopub.status.busy": "2023-12-28T15:49:00.065094Z",
     "iopub.status.idle": "2023-12-28T15:49:00.316305Z",
     "shell.execute_reply": "2023-12-28T15:49:00.315895Z",
     "shell.execute_reply.started": "2023-12-28T15:49:00.065242Z"
    },
    "tags": []
   },
   "outputs": [
    {
     "data": {
      "text/plain": [
       "[<matplotlib.lines.Line2D at 0x15551d4dc370>]"
      ]
     },
     "execution_count": 9,
     "metadata": {},
     "output_type": "execute_result"
    },
    {
     "data": {
      "image/png": "[encoded data removed]",
      "text/plain": [
       "<Figure size 640x480 with 1 Axes>"
      ]
     },
     "metadata": {},
     "output_type": "display_data"
    }
   ],
   "source": [
    "file = pyBigWig.open(str(my_files[0]))\n",
    "contig = \"chr19\"\n",
    "start = 581156\n",
    "end = 600000\n",
    "vals = np.array(file.values(contig, start, end))\n",
    "vals[vals == np.nan] = 0\n",
    "plt.plot(vals, label=\"+ signal\")"
   ]
  },
  {
   "cell_type": "markdown",
   "id": "9cb111b3-5bc9-4836-9d48-2d0bb0548f48",
   "metadata": {},
   "source": [
    "# Peaks"
   ]
  },
  {
   "cell_type": "code",
   "execution_count": 12,
   "id": "93091ff0-4855-413d-955a-02d67ab4aaee",
   "metadata": {
    "execution": {
     "iopub.execute_input": "2023-12-28T15:53:16.050304Z",
     "iopub.status.busy": "2023-12-28T15:53:16.049896Z",
     "iopub.status.idle": "2023-12-28T15:53:17.418498Z",
     "shell.execute_reply": "2023-12-28T15:53:17.418048Z",
     "shell.execute_reply.started": "2023-12-28T15:53:16.050287Z"
    }
   },
   "outputs": [],
   "source": [
    "import pandas as pd"
   ]
  },
  {
   "cell_type": "code",
   "execution_count": 10,
   "id": "3a2e22ad-7d68-4b4d-a183-54958afe26a6",
   "metadata": {
    "execution": {
     "iopub.execute_input": "2023-12-28T15:53:00.167694Z",
     "iopub.status.busy": "2023-12-28T15:53:00.167438Z",
     "iopub.status.idle": "2023-12-28T15:53:00.170259Z",
     "shell.execute_reply": "2023-12-28T15:53:00.169814Z",
     "shell.execute_reply.started": "2023-12-28T15:53:00.167667Z"
    }
   },
   "outputs": [],
   "source": [
    "my_file = \"/cellar/users/aklie/data/datasets/Horlacher_HepG2_CLIP/processed/2023_12_27/encode/U2AF2/peaks.crosslink.chr19.bed\"\n",
    "rbpnet_file = \"/cellar/users/aklie/opt/rbpnet/examples/data/peaks/U2AF2_HepG2/peaks.crosslink.chr19.bed\""
   ]
  },
  {
   "cell_type": "code",
   "execution_count": 24,
   "id": "148d729e-f8f7-47ec-98bd-c5b85493fcb2",
   "metadata": {
    "execution": {
     "iopub.execute_input": "2023-12-28T15:56:13.413148Z",
     "iopub.status.busy": "2023-12-28T15:56:13.412910Z",
     "iopub.status.idle": "2023-12-28T15:56:13.436412Z",
     "shell.execute_reply": "2023-12-28T15:56:13.436042Z",
     "shell.execute_reply.started": "2023-12-28T15:56:13.413133Z"
    },
    "tags": []
   },
   "outputs": [],
   "source": [
    "my_peaks = pd.read_csv(my_file, sep=\"\\t\", header=None)\n",
    "my_peaks.columns = [\"chrom\", \"chromStart\", \"chromEnd\", \"name\", \"score\", \"strand\", \"counts\", \"p_val\"]\n",
    "rbpnet_peaks = pd.read_csv(rbpnet_file, sep=\"\\t\", header=None)\n",
    "rbpnet_peaks.columns = [\"chrom\", \"chromStart\", \"chromEnd\", \"name\", \"score\", \"strand\"]"
   ]
  },
  {
   "cell_type": "code",
   "execution_count": 27,
   "id": "78c0281a-b723-42a0-a373-68fb5629e4bf",
   "metadata": {
    "execution": {
     "iopub.execute_input": "2023-12-28T16:01:08.581973Z",
     "iopub.status.busy": "2023-12-28T16:01:08.581741Z",
     "iopub.status.idle": "2023-12-28T16:01:08.584227Z",
     "shell.execute_reply": "2023-12-28T16:01:08.583899Z",
     "shell.execute_reply.started": "2023-12-28T16:01:08.581956Z"
    }
   },
   "outputs": [],
   "source": [
    "import numpy as np"
   ]
  },
  {
   "cell_type": "code",
   "execution_count": 34,
   "id": "dbf708a7-6d07-4dcf-a933-559c3e76c493",
   "metadata": {
    "execution": {
     "iopub.execute_input": "2023-12-28T16:01:51.448164Z",
     "iopub.status.busy": "2023-12-28T16:01:51.447812Z",
     "iopub.status.idle": "2023-12-28T16:01:51.456143Z",
     "shell.execute_reply": "2023-12-28T16:01:51.455834Z",
     "shell.execute_reply.started": "2023-12-28T16:01:51.448147Z"
    },
    "tags": []
   },
   "outputs": [
    {
     "data": {
      "text/html": [
       "<div>\n",
       "<style scoped>\n",
       "    .dataframe tbody tr th:only-of-type {\n",
       "        vertical-align: middle;\n",
       "    }\n",
       "\n",
       "    .dataframe tbody tr th {\n",
       "        vertical-align: top;\n",
       "    }\n",
       "\n",
       "    .dataframe thead th {\n",
       "        text-align: right;\n",
       "    }\n",
       "</style>\n",
       "<table border=\"1\" class=\"dataframe\">\n",
       "  <thead>\n",
       "    <tr style=\"text-align: right;\">\n",
       "      <th></th>\n",
       "      <th>chrom</th>\n",
       "      <th>chromStart</th>\n",
       "      <th>chromEnd</th>\n",
       "      <th>name</th>\n",
       "      <th>score</th>\n",
       "      <th>strand</th>\n",
       "    </tr>\n",
       "  </thead>\n",
       "  <tbody>\n",
       "    <tr>\n",
       "      <th>1456</th>\n",
       "      <td>chr19</td>\n",
       "      <td>201662</td>\n",
       "      <td>201663</td>\n",
       "      <td>U2AF2_HepG2_rep02</td>\n",
       "      <td>2.356501</td>\n",
       "      <td>-</td>\n",
       "    </tr>\n",
       "    <tr>\n",
       "      <th>559</th>\n",
       "      <td>chr19</td>\n",
       "      <td>327241</td>\n",
       "      <td>327242</td>\n",
       "      <td>U2AF2_HepG2_rep01</td>\n",
       "      <td>3.210056</td>\n",
       "      <td>-</td>\n",
       "    </tr>\n",
       "    <tr>\n",
       "      <th>170</th>\n",
       "      <td>chr19</td>\n",
       "      <td>327263</td>\n",
       "      <td>327264</td>\n",
       "      <td>U2AF2_HepG2_rep02</td>\n",
       "      <td>3.941464</td>\n",
       "      <td>-</td>\n",
       "    </tr>\n",
       "    <tr>\n",
       "      <th>964</th>\n",
       "      <td>chr19</td>\n",
       "      <td>334556</td>\n",
       "      <td>334557</td>\n",
       "      <td>U2AF2_HepG2_rep02</td>\n",
       "      <td>2.748819</td>\n",
       "      <td>-</td>\n",
       "    </tr>\n",
       "    <tr>\n",
       "      <th>1694</th>\n",
       "      <td>chr19</td>\n",
       "      <td>336182</td>\n",
       "      <td>336183</td>\n",
       "      <td>U2AF2_HepG2_rep02</td>\n",
       "      <td>2.163856</td>\n",
       "      <td>-</td>\n",
       "    </tr>\n",
       "    <tr>\n",
       "      <th>...</th>\n",
       "      <td>...</td>\n",
       "      <td>...</td>\n",
       "      <td>...</td>\n",
       "      <td>...</td>\n",
       "      <td>...</td>\n",
       "      <td>...</td>\n",
       "    </tr>\n",
       "    <tr>\n",
       "      <th>414</th>\n",
       "      <td>chr19</td>\n",
       "      <td>58557200</td>\n",
       "      <td>58557201</td>\n",
       "      <td>U2AF2_HepG2_rep01</td>\n",
       "      <td>3.402701</td>\n",
       "      <td>-</td>\n",
       "    </tr>\n",
       "    <tr>\n",
       "      <th>783</th>\n",
       "      <td>chr19</td>\n",
       "      <td>58569585</td>\n",
       "      <td>58569586</td>\n",
       "      <td>U2AF2_HepG2_rep02</td>\n",
       "      <td>2.941464</td>\n",
       "      <td>-</td>\n",
       "    </tr>\n",
       "    <tr>\n",
       "      <th>1356</th>\n",
       "      <td>chr19</td>\n",
       "      <td>58569591</td>\n",
       "      <td>58569592</td>\n",
       "      <td>U2AF2_HepG2_rep01</td>\n",
       "      <td>2.402701</td>\n",
       "      <td>-</td>\n",
       "    </tr>\n",
       "    <tr>\n",
       "      <th>1588</th>\n",
       "      <td>chr19</td>\n",
       "      <td>58571440</td>\n",
       "      <td>58571441</td>\n",
       "      <td>U2AF2_HepG2_rep02</td>\n",
       "      <td>2.263392</td>\n",
       "      <td>-</td>\n",
       "    </tr>\n",
       "    <tr>\n",
       "      <th>683</th>\n",
       "      <td>chr19</td>\n",
       "      <td>58571441</td>\n",
       "      <td>58571442</td>\n",
       "      <td>U2AF2_HepG2_rep01</td>\n",
       "      <td>2.987664</td>\n",
       "      <td>-</td>\n",
       "    </tr>\n",
       "  </tbody>\n",
       "</table>\n",
       "<p>1788 rows × 6 columns</p>\n",
       "</div>"
      ],
      "text/plain": [
       "      chrom  chromStart  chromEnd               name     score strand\n",
       "1456  chr19      201662    201663  U2AF2_HepG2_rep02  2.356501      -\n",
       "559   chr19      327241    327242  U2AF2_HepG2_rep01  3.210056      -\n",
       "170   chr19      327263    327264  U2AF2_HepG2_rep02  3.941464      -\n",
       "964   chr19      334556    334557  U2AF2_HepG2_rep02  2.748819      -\n",
       "1694  chr19      336182    336183  U2AF2_HepG2_rep02  2.163856      -\n",
       "...     ...         ...       ...                ...       ...    ...\n",
       "414   chr19    58557200  58557201  U2AF2_HepG2_rep01  3.402701      -\n",
       "783   chr19    58569585  58569586  U2AF2_HepG2_rep02  2.941464      -\n",
       "1356  chr19    58569591  58569592  U2AF2_HepG2_rep01  2.402701      -\n",
       "1588  chr19    58571440  58571441  U2AF2_HepG2_rep02  2.263392      -\n",
       "683   chr19    58571441  58571442  U2AF2_HepG2_rep01  2.987664      -\n",
       "\n",
       "[1788 rows x 6 columns]"
      ]
     },
     "execution_count": 34,
     "metadata": {},
     "output_type": "execute_result"
    }
   ],
   "source": [
    "rbpnet_peaks.sort_values(\"chromStart\")"
   ]
  },
  {
   "cell_type": "markdown",
   "id": "5699895b-3d0c-40bc-9f31-1a73384e3ab7",
   "metadata": {},
   "source": [
    "# DONE!"
   ]
  },
  {
   "cell_type": "markdown",
   "id": "124fbbc1-9d42-41ed-b405-6682de303cb6",
   "metadata": {},
   "source": [
    "---"
   ]
  }
 ],
 "metadata": {
  "kernelspec": {
   "display_name": "Python 3.9 ml4gland",
   "language": "python",
   "name": "ml4gland"
  },
  "language_info": {
   "codemirror_mode": {
    "name": "ipython",
    "version": 3
   },
   "file_extension": ".py",
   "mimetype": "text/x-python",
   "name": "python",
   "nbconvert_exporter": "python",
   "pygments_lexer": "ipython3",
   "version": "3.9.16"
  }
 },
 "nbformat": 4,
 "nbformat_minor": 5
}
